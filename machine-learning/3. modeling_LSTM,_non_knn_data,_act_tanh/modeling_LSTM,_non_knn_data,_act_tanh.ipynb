{
  "cells": [
    {
      "cell_type": "code",
      "execution_count": 1,
      "metadata": {
        "id": "K31lYtpQlehr"
      },
      "outputs": [],
      "source": [
        "import pandas as pd\n",
        "import numpy as np\n",
        "import seaborn as sns\n",
        "import keras\n",
        "import tensorflow as tf\n",
        "import matplotlib.pyplot as plt\n",
        "%matplotlib inline\n",
        "from matplotlib.pylab import rcParams\n",
        "rcParams['figure.figsize']=20,10\n",
        "from keras.models import Sequential\n",
        "from keras.layers import LSTM,Dropout,Dense\n",
        "from sklearn.preprocessing import MinMaxScaler"
      ]
    },
    {
      "cell_type": "code",
      "execution_count": 2,
      "metadata": {
        "colab": {
          "base_uri": "https://localhost:8080/",
          "height": 424
        },
        "id": "UwMQWUtFlehv",
        "outputId": "1a928a57-f6a0-4a47-fac4-101897a55830"
      },
      "outputs": [
        {
          "output_type": "execute_result",
          "data": {
            "text/plain": [
              "      Unnamed: 0     tanggal  pm10   so2    co    o3   no2    max  critical  \\\n",
              "0              0  2010-01-01   NaN   NaN   NaN   NaN   NaN    0.0       NaN   \n",
              "1              1  2010-01-02   NaN   NaN   NaN   NaN   NaN    0.0       NaN   \n",
              "2              2  2010-01-03   NaN   NaN   NaN   NaN   NaN    0.0       NaN   \n",
              "3              3  2010-01-04   NaN   NaN   NaN   NaN   NaN    0.0       NaN   \n",
              "4              4  2010-01-05   NaN   NaN   NaN   NaN   NaN    0.0       NaN   \n",
              "...          ...         ...   ...   ...   ...   ...   ...    ...       ...   \n",
              "4378        4378  2021-12-27  75.0  35.0  23.0  38.0  21.0  116.0       1.0   \n",
              "4379        4379  2021-12-28  51.0   NaN  13.0  17.0  18.0   74.0       1.0   \n",
              "4380        4380  2021-12-29  47.0  21.0  12.0  20.0   9.0   54.0       1.0   \n",
              "4381        4381  2021-12-30  60.0  21.0  15.0  19.0  13.0   60.0       3.0   \n",
              "4382        4382  2021-12-31  64.0  21.0  44.0  17.0   NaN   64.0       3.0   \n",
              "\n",
              "      categori  \n",
              "0          NaN  \n",
              "1          NaN  \n",
              "2          NaN  \n",
              "3          NaN  \n",
              "4          NaN  \n",
              "...        ...  \n",
              "4378       3.0  \n",
              "4379       1.0  \n",
              "4380       1.0  \n",
              "4381       1.0  \n",
              "4382       1.0  \n",
              "\n",
              "[4383 rows x 10 columns]"
            ],
            "text/html": [
              "\n",
              "  <div id=\"df-ae207365-6e6e-4573-9ce1-3603ae324e58\">\n",
              "    <div class=\"colab-df-container\">\n",
              "      <div>\n",
              "<style scoped>\n",
              "    .dataframe tbody tr th:only-of-type {\n",
              "        vertical-align: middle;\n",
              "    }\n",
              "\n",
              "    .dataframe tbody tr th {\n",
              "        vertical-align: top;\n",
              "    }\n",
              "\n",
              "    .dataframe thead th {\n",
              "        text-align: right;\n",
              "    }\n",
              "</style>\n",
              "<table border=\"1\" class=\"dataframe\">\n",
              "  <thead>\n",
              "    <tr style=\"text-align: right;\">\n",
              "      <th></th>\n",
              "      <th>Unnamed: 0</th>\n",
              "      <th>tanggal</th>\n",
              "      <th>pm10</th>\n",
              "      <th>so2</th>\n",
              "      <th>co</th>\n",
              "      <th>o3</th>\n",
              "      <th>no2</th>\n",
              "      <th>max</th>\n",
              "      <th>critical</th>\n",
              "      <th>categori</th>\n",
              "    </tr>\n",
              "  </thead>\n",
              "  <tbody>\n",
              "    <tr>\n",
              "      <th>0</th>\n",
              "      <td>0</td>\n",
              "      <td>2010-01-01</td>\n",
              "      <td>NaN</td>\n",
              "      <td>NaN</td>\n",
              "      <td>NaN</td>\n",
              "      <td>NaN</td>\n",
              "      <td>NaN</td>\n",
              "      <td>0.0</td>\n",
              "      <td>NaN</td>\n",
              "      <td>NaN</td>\n",
              "    </tr>\n",
              "    <tr>\n",
              "      <th>1</th>\n",
              "      <td>1</td>\n",
              "      <td>2010-01-02</td>\n",
              "      <td>NaN</td>\n",
              "      <td>NaN</td>\n",
              "      <td>NaN</td>\n",
              "      <td>NaN</td>\n",
              "      <td>NaN</td>\n",
              "      <td>0.0</td>\n",
              "      <td>NaN</td>\n",
              "      <td>NaN</td>\n",
              "    </tr>\n",
              "    <tr>\n",
              "      <th>2</th>\n",
              "      <td>2</td>\n",
              "      <td>2010-01-03</td>\n",
              "      <td>NaN</td>\n",
              "      <td>NaN</td>\n",
              "      <td>NaN</td>\n",
              "      <td>NaN</td>\n",
              "      <td>NaN</td>\n",
              "      <td>0.0</td>\n",
              "      <td>NaN</td>\n",
              "      <td>NaN</td>\n",
              "    </tr>\n",
              "    <tr>\n",
              "      <th>3</th>\n",
              "      <td>3</td>\n",
              "      <td>2010-01-04</td>\n",
              "      <td>NaN</td>\n",
              "      <td>NaN</td>\n",
              "      <td>NaN</td>\n",
              "      <td>NaN</td>\n",
              "      <td>NaN</td>\n",
              "      <td>0.0</td>\n",
              "      <td>NaN</td>\n",
              "      <td>NaN</td>\n",
              "    </tr>\n",
              "    <tr>\n",
              "      <th>4</th>\n",
              "      <td>4</td>\n",
              "      <td>2010-01-05</td>\n",
              "      <td>NaN</td>\n",
              "      <td>NaN</td>\n",
              "      <td>NaN</td>\n",
              "      <td>NaN</td>\n",
              "      <td>NaN</td>\n",
              "      <td>0.0</td>\n",
              "      <td>NaN</td>\n",
              "      <td>NaN</td>\n",
              "    </tr>\n",
              "    <tr>\n",
              "      <th>...</th>\n",
              "      <td>...</td>\n",
              "      <td>...</td>\n",
              "      <td>...</td>\n",
              "      <td>...</td>\n",
              "      <td>...</td>\n",
              "      <td>...</td>\n",
              "      <td>...</td>\n",
              "      <td>...</td>\n",
              "      <td>...</td>\n",
              "      <td>...</td>\n",
              "    </tr>\n",
              "    <tr>\n",
              "      <th>4378</th>\n",
              "      <td>4378</td>\n",
              "      <td>2021-12-27</td>\n",
              "      <td>75.0</td>\n",
              "      <td>35.0</td>\n",
              "      <td>23.0</td>\n",
              "      <td>38.0</td>\n",
              "      <td>21.0</td>\n",
              "      <td>116.0</td>\n",
              "      <td>1.0</td>\n",
              "      <td>3.0</td>\n",
              "    </tr>\n",
              "    <tr>\n",
              "      <th>4379</th>\n",
              "      <td>4379</td>\n",
              "      <td>2021-12-28</td>\n",
              "      <td>51.0</td>\n",
              "      <td>NaN</td>\n",
              "      <td>13.0</td>\n",
              "      <td>17.0</td>\n",
              "      <td>18.0</td>\n",
              "      <td>74.0</td>\n",
              "      <td>1.0</td>\n",
              "      <td>1.0</td>\n",
              "    </tr>\n",
              "    <tr>\n",
              "      <th>4380</th>\n",
              "      <td>4380</td>\n",
              "      <td>2021-12-29</td>\n",
              "      <td>47.0</td>\n",
              "      <td>21.0</td>\n",
              "      <td>12.0</td>\n",
              "      <td>20.0</td>\n",
              "      <td>9.0</td>\n",
              "      <td>54.0</td>\n",
              "      <td>1.0</td>\n",
              "      <td>1.0</td>\n",
              "    </tr>\n",
              "    <tr>\n",
              "      <th>4381</th>\n",
              "      <td>4381</td>\n",
              "      <td>2021-12-30</td>\n",
              "      <td>60.0</td>\n",
              "      <td>21.0</td>\n",
              "      <td>15.0</td>\n",
              "      <td>19.0</td>\n",
              "      <td>13.0</td>\n",
              "      <td>60.0</td>\n",
              "      <td>3.0</td>\n",
              "      <td>1.0</td>\n",
              "    </tr>\n",
              "    <tr>\n",
              "      <th>4382</th>\n",
              "      <td>4382</td>\n",
              "      <td>2021-12-31</td>\n",
              "      <td>64.0</td>\n",
              "      <td>21.0</td>\n",
              "      <td>44.0</td>\n",
              "      <td>17.0</td>\n",
              "      <td>NaN</td>\n",
              "      <td>64.0</td>\n",
              "      <td>3.0</td>\n",
              "      <td>1.0</td>\n",
              "    </tr>\n",
              "  </tbody>\n",
              "</table>\n",
              "<p>4383 rows × 10 columns</p>\n",
              "</div>\n",
              "      <button class=\"colab-df-convert\" onclick=\"convertToInteractive('df-ae207365-6e6e-4573-9ce1-3603ae324e58')\"\n",
              "              title=\"Convert this dataframe to an interactive table.\"\n",
              "              style=\"display:none;\">\n",
              "        \n",
              "  <svg xmlns=\"http://www.w3.org/2000/svg\" height=\"24px\"viewBox=\"0 0 24 24\"\n",
              "       width=\"24px\">\n",
              "    <path d=\"M0 0h24v24H0V0z\" fill=\"none\"/>\n",
              "    <path d=\"M18.56 5.44l.94 2.06.94-2.06 2.06-.94-2.06-.94-.94-2.06-.94 2.06-2.06.94zm-11 1L8.5 8.5l.94-2.06 2.06-.94-2.06-.94L8.5 2.5l-.94 2.06-2.06.94zm10 10l.94 2.06.94-2.06 2.06-.94-2.06-.94-.94-2.06-.94 2.06-2.06.94z\"/><path d=\"M17.41 7.96l-1.37-1.37c-.4-.4-.92-.59-1.43-.59-.52 0-1.04.2-1.43.59L10.3 9.45l-7.72 7.72c-.78.78-.78 2.05 0 2.83L4 21.41c.39.39.9.59 1.41.59.51 0 1.02-.2 1.41-.59l7.78-7.78 2.81-2.81c.8-.78.8-2.07 0-2.86zM5.41 20L4 18.59l7.72-7.72 1.47 1.35L5.41 20z\"/>\n",
              "  </svg>\n",
              "      </button>\n",
              "      \n",
              "  <style>\n",
              "    .colab-df-container {\n",
              "      display:flex;\n",
              "      flex-wrap:wrap;\n",
              "      gap: 12px;\n",
              "    }\n",
              "\n",
              "    .colab-df-convert {\n",
              "      background-color: #E8F0FE;\n",
              "      border: none;\n",
              "      border-radius: 50%;\n",
              "      cursor: pointer;\n",
              "      display: none;\n",
              "      fill: #1967D2;\n",
              "      height: 32px;\n",
              "      padding: 0 0 0 0;\n",
              "      width: 32px;\n",
              "    }\n",
              "\n",
              "    .colab-df-convert:hover {\n",
              "      background-color: #E2EBFA;\n",
              "      box-shadow: 0px 1px 2px rgba(60, 64, 67, 0.3), 0px 1px 3px 1px rgba(60, 64, 67, 0.15);\n",
              "      fill: #174EA6;\n",
              "    }\n",
              "\n",
              "    [theme=dark] .colab-df-convert {\n",
              "      background-color: #3B4455;\n",
              "      fill: #D2E3FC;\n",
              "    }\n",
              "\n",
              "    [theme=dark] .colab-df-convert:hover {\n",
              "      background-color: #434B5C;\n",
              "      box-shadow: 0px 1px 3px 1px rgba(0, 0, 0, 0.15);\n",
              "      filter: drop-shadow(0px 1px 2px rgba(0, 0, 0, 0.3));\n",
              "      fill: #FFFFFF;\n",
              "    }\n",
              "  </style>\n",
              "\n",
              "      <script>\n",
              "        const buttonEl =\n",
              "          document.querySelector('#df-ae207365-6e6e-4573-9ce1-3603ae324e58 button.colab-df-convert');\n",
              "        buttonEl.style.display =\n",
              "          google.colab.kernel.accessAllowed ? 'block' : 'none';\n",
              "\n",
              "        async function convertToInteractive(key) {\n",
              "          const element = document.querySelector('#df-ae207365-6e6e-4573-9ce1-3603ae324e58');\n",
              "          const dataTable =\n",
              "            await google.colab.kernel.invokeFunction('convertToInteractive',\n",
              "                                                     [key], {});\n",
              "          if (!dataTable) return;\n",
              "\n",
              "          const docLinkHtml = 'Like what you see? Visit the ' +\n",
              "            '<a target=\"_blank\" href=https://colab.research.google.com/notebooks/data_table.ipynb>data table notebook</a>'\n",
              "            + ' to learn more about interactive tables.';\n",
              "          element.innerHTML = '';\n",
              "          dataTable['output_type'] = 'display_data';\n",
              "          await google.colab.output.renderOutput(dataTable, element);\n",
              "          const docLink = document.createElement('div');\n",
              "          docLink.innerHTML = docLinkHtml;\n",
              "          element.appendChild(docLink);\n",
              "        }\n",
              "      </script>\n",
              "    </div>\n",
              "  </div>\n",
              "  "
            ]
          },
          "metadata": {},
          "execution_count": 2
        }
      ],
      "source": [
        "df = pd.read_csv('polusi-jaksel-2010-2021-no-knn.csv')\n",
        "df"
      ]
    },
    {
      "cell_type": "code",
      "execution_count": 3,
      "metadata": {
        "colab": {
          "base_uri": "https://localhost:8080/",
          "height": 206
        },
        "id": "mMM0DX0Llehx",
        "outputId": "11ecc834-1d22-428f-dafd-a7ccbb57b23b"
      },
      "outputs": [
        {
          "output_type": "execute_result",
          "data": {
            "text/plain": [
              "      tanggal  categori\n",
              "0  2010-01-01       NaN\n",
              "1  2010-01-02       NaN\n",
              "2  2010-01-03       NaN\n",
              "3  2010-01-04       NaN\n",
              "4  2010-01-05       NaN"
            ],
            "text/html": [
              "\n",
              "  <div id=\"df-504507fa-093d-435b-8bce-f31e886be93f\">\n",
              "    <div class=\"colab-df-container\">\n",
              "      <div>\n",
              "<style scoped>\n",
              "    .dataframe tbody tr th:only-of-type {\n",
              "        vertical-align: middle;\n",
              "    }\n",
              "\n",
              "    .dataframe tbody tr th {\n",
              "        vertical-align: top;\n",
              "    }\n",
              "\n",
              "    .dataframe thead th {\n",
              "        text-align: right;\n",
              "    }\n",
              "</style>\n",
              "<table border=\"1\" class=\"dataframe\">\n",
              "  <thead>\n",
              "    <tr style=\"text-align: right;\">\n",
              "      <th></th>\n",
              "      <th>tanggal</th>\n",
              "      <th>categori</th>\n",
              "    </tr>\n",
              "  </thead>\n",
              "  <tbody>\n",
              "    <tr>\n",
              "      <th>0</th>\n",
              "      <td>2010-01-01</td>\n",
              "      <td>NaN</td>\n",
              "    </tr>\n",
              "    <tr>\n",
              "      <th>1</th>\n",
              "      <td>2010-01-02</td>\n",
              "      <td>NaN</td>\n",
              "    </tr>\n",
              "    <tr>\n",
              "      <th>2</th>\n",
              "      <td>2010-01-03</td>\n",
              "      <td>NaN</td>\n",
              "    </tr>\n",
              "    <tr>\n",
              "      <th>3</th>\n",
              "      <td>2010-01-04</td>\n",
              "      <td>NaN</td>\n",
              "    </tr>\n",
              "    <tr>\n",
              "      <th>4</th>\n",
              "      <td>2010-01-05</td>\n",
              "      <td>NaN</td>\n",
              "    </tr>\n",
              "  </tbody>\n",
              "</table>\n",
              "</div>\n",
              "      <button class=\"colab-df-convert\" onclick=\"convertToInteractive('df-504507fa-093d-435b-8bce-f31e886be93f')\"\n",
              "              title=\"Convert this dataframe to an interactive table.\"\n",
              "              style=\"display:none;\">\n",
              "        \n",
              "  <svg xmlns=\"http://www.w3.org/2000/svg\" height=\"24px\"viewBox=\"0 0 24 24\"\n",
              "       width=\"24px\">\n",
              "    <path d=\"M0 0h24v24H0V0z\" fill=\"none\"/>\n",
              "    <path d=\"M18.56 5.44l.94 2.06.94-2.06 2.06-.94-2.06-.94-.94-2.06-.94 2.06-2.06.94zm-11 1L8.5 8.5l.94-2.06 2.06-.94-2.06-.94L8.5 2.5l-.94 2.06-2.06.94zm10 10l.94 2.06.94-2.06 2.06-.94-2.06-.94-.94-2.06-.94 2.06-2.06.94z\"/><path d=\"M17.41 7.96l-1.37-1.37c-.4-.4-.92-.59-1.43-.59-.52 0-1.04.2-1.43.59L10.3 9.45l-7.72 7.72c-.78.78-.78 2.05 0 2.83L4 21.41c.39.39.9.59 1.41.59.51 0 1.02-.2 1.41-.59l7.78-7.78 2.81-2.81c.8-.78.8-2.07 0-2.86zM5.41 20L4 18.59l7.72-7.72 1.47 1.35L5.41 20z\"/>\n",
              "  </svg>\n",
              "      </button>\n",
              "      \n",
              "  <style>\n",
              "    .colab-df-container {\n",
              "      display:flex;\n",
              "      flex-wrap:wrap;\n",
              "      gap: 12px;\n",
              "    }\n",
              "\n",
              "    .colab-df-convert {\n",
              "      background-color: #E8F0FE;\n",
              "      border: none;\n",
              "      border-radius: 50%;\n",
              "      cursor: pointer;\n",
              "      display: none;\n",
              "      fill: #1967D2;\n",
              "      height: 32px;\n",
              "      padding: 0 0 0 0;\n",
              "      width: 32px;\n",
              "    }\n",
              "\n",
              "    .colab-df-convert:hover {\n",
              "      background-color: #E2EBFA;\n",
              "      box-shadow: 0px 1px 2px rgba(60, 64, 67, 0.3), 0px 1px 3px 1px rgba(60, 64, 67, 0.15);\n",
              "      fill: #174EA6;\n",
              "    }\n",
              "\n",
              "    [theme=dark] .colab-df-convert {\n",
              "      background-color: #3B4455;\n",
              "      fill: #D2E3FC;\n",
              "    }\n",
              "\n",
              "    [theme=dark] .colab-df-convert:hover {\n",
              "      background-color: #434B5C;\n",
              "      box-shadow: 0px 1px 3px 1px rgba(0, 0, 0, 0.15);\n",
              "      filter: drop-shadow(0px 1px 2px rgba(0, 0, 0, 0.3));\n",
              "      fill: #FFFFFF;\n",
              "    }\n",
              "  </style>\n",
              "\n",
              "      <script>\n",
              "        const buttonEl =\n",
              "          document.querySelector('#df-504507fa-093d-435b-8bce-f31e886be93f button.colab-df-convert');\n",
              "        buttonEl.style.display =\n",
              "          google.colab.kernel.accessAllowed ? 'block' : 'none';\n",
              "\n",
              "        async function convertToInteractive(key) {\n",
              "          const element = document.querySelector('#df-504507fa-093d-435b-8bce-f31e886be93f');\n",
              "          const dataTable =\n",
              "            await google.colab.kernel.invokeFunction('convertToInteractive',\n",
              "                                                     [key], {});\n",
              "          if (!dataTable) return;\n",
              "\n",
              "          const docLinkHtml = 'Like what you see? Visit the ' +\n",
              "            '<a target=\"_blank\" href=https://colab.research.google.com/notebooks/data_table.ipynb>data table notebook</a>'\n",
              "            + ' to learn more about interactive tables.';\n",
              "          element.innerHTML = '';\n",
              "          dataTable['output_type'] = 'display_data';\n",
              "          await google.colab.output.renderOutput(dataTable, element);\n",
              "          const docLink = document.createElement('div');\n",
              "          docLink.innerHTML = docLinkHtml;\n",
              "          element.appendChild(docLink);\n",
              "        }\n",
              "      </script>\n",
              "    </div>\n",
              "  </div>\n",
              "  "
            ]
          },
          "metadata": {},
          "execution_count": 3
        }
      ],
      "source": [
        "df = df[['tanggal', 'categori']]\n",
        "df.head()"
      ]
    },
    {
      "cell_type": "code",
      "execution_count": 4,
      "metadata": {
        "colab": {
          "base_uri": "https://localhost:8080/",
          "height": 206
        },
        "id": "hfx2_m5Slehy",
        "outputId": "9a3471ff-ae33-4c2e-f923-0e56634e6afd"
      },
      "outputs": [
        {
          "output_type": "execute_result",
          "data": {
            "text/plain": [
              "         tanggal  categori\n",
              "4378  2021-12-27       3.0\n",
              "4379  2021-12-28       1.0\n",
              "4380  2021-12-29       1.0\n",
              "4381  2021-12-30       1.0\n",
              "4382  2021-12-31       1.0"
            ],
            "text/html": [
              "\n",
              "  <div id=\"df-4e1ad8cb-9e7c-4394-ab44-03fa3835a0ca\">\n",
              "    <div class=\"colab-df-container\">\n",
              "      <div>\n",
              "<style scoped>\n",
              "    .dataframe tbody tr th:only-of-type {\n",
              "        vertical-align: middle;\n",
              "    }\n",
              "\n",
              "    .dataframe tbody tr th {\n",
              "        vertical-align: top;\n",
              "    }\n",
              "\n",
              "    .dataframe thead th {\n",
              "        text-align: right;\n",
              "    }\n",
              "</style>\n",
              "<table border=\"1\" class=\"dataframe\">\n",
              "  <thead>\n",
              "    <tr style=\"text-align: right;\">\n",
              "      <th></th>\n",
              "      <th>tanggal</th>\n",
              "      <th>categori</th>\n",
              "    </tr>\n",
              "  </thead>\n",
              "  <tbody>\n",
              "    <tr>\n",
              "      <th>4378</th>\n",
              "      <td>2021-12-27</td>\n",
              "      <td>3.0</td>\n",
              "    </tr>\n",
              "    <tr>\n",
              "      <th>4379</th>\n",
              "      <td>2021-12-28</td>\n",
              "      <td>1.0</td>\n",
              "    </tr>\n",
              "    <tr>\n",
              "      <th>4380</th>\n",
              "      <td>2021-12-29</td>\n",
              "      <td>1.0</td>\n",
              "    </tr>\n",
              "    <tr>\n",
              "      <th>4381</th>\n",
              "      <td>2021-12-30</td>\n",
              "      <td>1.0</td>\n",
              "    </tr>\n",
              "    <tr>\n",
              "      <th>4382</th>\n",
              "      <td>2021-12-31</td>\n",
              "      <td>1.0</td>\n",
              "    </tr>\n",
              "  </tbody>\n",
              "</table>\n",
              "</div>\n",
              "      <button class=\"colab-df-convert\" onclick=\"convertToInteractive('df-4e1ad8cb-9e7c-4394-ab44-03fa3835a0ca')\"\n",
              "              title=\"Convert this dataframe to an interactive table.\"\n",
              "              style=\"display:none;\">\n",
              "        \n",
              "  <svg xmlns=\"http://www.w3.org/2000/svg\" height=\"24px\"viewBox=\"0 0 24 24\"\n",
              "       width=\"24px\">\n",
              "    <path d=\"M0 0h24v24H0V0z\" fill=\"none\"/>\n",
              "    <path d=\"M18.56 5.44l.94 2.06.94-2.06 2.06-.94-2.06-.94-.94-2.06-.94 2.06-2.06.94zm-11 1L8.5 8.5l.94-2.06 2.06-.94-2.06-.94L8.5 2.5l-.94 2.06-2.06.94zm10 10l.94 2.06.94-2.06 2.06-.94-2.06-.94-.94-2.06-.94 2.06-2.06.94z\"/><path d=\"M17.41 7.96l-1.37-1.37c-.4-.4-.92-.59-1.43-.59-.52 0-1.04.2-1.43.59L10.3 9.45l-7.72 7.72c-.78.78-.78 2.05 0 2.83L4 21.41c.39.39.9.59 1.41.59.51 0 1.02-.2 1.41-.59l7.78-7.78 2.81-2.81c.8-.78.8-2.07 0-2.86zM5.41 20L4 18.59l7.72-7.72 1.47 1.35L5.41 20z\"/>\n",
              "  </svg>\n",
              "      </button>\n",
              "      \n",
              "  <style>\n",
              "    .colab-df-container {\n",
              "      display:flex;\n",
              "      flex-wrap:wrap;\n",
              "      gap: 12px;\n",
              "    }\n",
              "\n",
              "    .colab-df-convert {\n",
              "      background-color: #E8F0FE;\n",
              "      border: none;\n",
              "      border-radius: 50%;\n",
              "      cursor: pointer;\n",
              "      display: none;\n",
              "      fill: #1967D2;\n",
              "      height: 32px;\n",
              "      padding: 0 0 0 0;\n",
              "      width: 32px;\n",
              "    }\n",
              "\n",
              "    .colab-df-convert:hover {\n",
              "      background-color: #E2EBFA;\n",
              "      box-shadow: 0px 1px 2px rgba(60, 64, 67, 0.3), 0px 1px 3px 1px rgba(60, 64, 67, 0.15);\n",
              "      fill: #174EA6;\n",
              "    }\n",
              "\n",
              "    [theme=dark] .colab-df-convert {\n",
              "      background-color: #3B4455;\n",
              "      fill: #D2E3FC;\n",
              "    }\n",
              "\n",
              "    [theme=dark] .colab-df-convert:hover {\n",
              "      background-color: #434B5C;\n",
              "      box-shadow: 0px 1px 3px 1px rgba(0, 0, 0, 0.15);\n",
              "      filter: drop-shadow(0px 1px 2px rgba(0, 0, 0, 0.3));\n",
              "      fill: #FFFFFF;\n",
              "    }\n",
              "  </style>\n",
              "\n",
              "      <script>\n",
              "        const buttonEl =\n",
              "          document.querySelector('#df-4e1ad8cb-9e7c-4394-ab44-03fa3835a0ca button.colab-df-convert');\n",
              "        buttonEl.style.display =\n",
              "          google.colab.kernel.accessAllowed ? 'block' : 'none';\n",
              "\n",
              "        async function convertToInteractive(key) {\n",
              "          const element = document.querySelector('#df-4e1ad8cb-9e7c-4394-ab44-03fa3835a0ca');\n",
              "          const dataTable =\n",
              "            await google.colab.kernel.invokeFunction('convertToInteractive',\n",
              "                                                     [key], {});\n",
              "          if (!dataTable) return;\n",
              "\n",
              "          const docLinkHtml = 'Like what you see? Visit the ' +\n",
              "            '<a target=\"_blank\" href=https://colab.research.google.com/notebooks/data_table.ipynb>data table notebook</a>'\n",
              "            + ' to learn more about interactive tables.';\n",
              "          element.innerHTML = '';\n",
              "          dataTable['output_type'] = 'display_data';\n",
              "          await google.colab.output.renderOutput(dataTable, element);\n",
              "          const docLink = document.createElement('div');\n",
              "          docLink.innerHTML = docLinkHtml;\n",
              "          element.appendChild(docLink);\n",
              "        }\n",
              "      </script>\n",
              "    </div>\n",
              "  </div>\n",
              "  "
            ]
          },
          "metadata": {},
          "execution_count": 4
        }
      ],
      "source": [
        "df.tail()"
      ]
    },
    {
      "cell_type": "code",
      "execution_count": 5,
      "metadata": {
        "colab": {
          "base_uri": "https://localhost:8080/"
        },
        "id": "6rkP3E5Gleh1",
        "outputId": "2d39f1ce-7b32-4c9b-d837-9f67a9e8b831"
      },
      "outputs": [
        {
          "output_type": "execute_result",
          "data": {
            "text/plain": [
              "tanggal      object\n",
              "categori    float64\n",
              "dtype: object"
            ]
          },
          "metadata": {},
          "execution_count": 5
        }
      ],
      "source": [
        "df.dtypes"
      ]
    },
    {
      "cell_type": "code",
      "source": [
        "df = df.dropna()\n",
        "df.head()"
      ],
      "metadata": {
        "colab": {
          "base_uri": "https://localhost:8080/",
          "height": 206
        },
        "id": "XhfZPxHVReLq",
        "outputId": "b92b708e-c616-4282-f4d9-ec07d1c3cfe4"
      },
      "execution_count": 6,
      "outputs": [
        {
          "output_type": "execute_result",
          "data": {
            "text/plain": [
              "        tanggal  categori\n",
              "310  2010-11-07       1.0\n",
              "311  2010-11-08       1.0\n",
              "312  2010-11-09       1.0\n",
              "313  2010-11-10       4.0\n",
              "314  2010-11-11       3.0"
            ],
            "text/html": [
              "\n",
              "  <div id=\"df-cc37cd5d-a073-4293-a093-fa46dfdbfef5\">\n",
              "    <div class=\"colab-df-container\">\n",
              "      <div>\n",
              "<style scoped>\n",
              "    .dataframe tbody tr th:only-of-type {\n",
              "        vertical-align: middle;\n",
              "    }\n",
              "\n",
              "    .dataframe tbody tr th {\n",
              "        vertical-align: top;\n",
              "    }\n",
              "\n",
              "    .dataframe thead th {\n",
              "        text-align: right;\n",
              "    }\n",
              "</style>\n",
              "<table border=\"1\" class=\"dataframe\">\n",
              "  <thead>\n",
              "    <tr style=\"text-align: right;\">\n",
              "      <th></th>\n",
              "      <th>tanggal</th>\n",
              "      <th>categori</th>\n",
              "    </tr>\n",
              "  </thead>\n",
              "  <tbody>\n",
              "    <tr>\n",
              "      <th>310</th>\n",
              "      <td>2010-11-07</td>\n",
              "      <td>1.0</td>\n",
              "    </tr>\n",
              "    <tr>\n",
              "      <th>311</th>\n",
              "      <td>2010-11-08</td>\n",
              "      <td>1.0</td>\n",
              "    </tr>\n",
              "    <tr>\n",
              "      <th>312</th>\n",
              "      <td>2010-11-09</td>\n",
              "      <td>1.0</td>\n",
              "    </tr>\n",
              "    <tr>\n",
              "      <th>313</th>\n",
              "      <td>2010-11-10</td>\n",
              "      <td>4.0</td>\n",
              "    </tr>\n",
              "    <tr>\n",
              "      <th>314</th>\n",
              "      <td>2010-11-11</td>\n",
              "      <td>3.0</td>\n",
              "    </tr>\n",
              "  </tbody>\n",
              "</table>\n",
              "</div>\n",
              "      <button class=\"colab-df-convert\" onclick=\"convertToInteractive('df-cc37cd5d-a073-4293-a093-fa46dfdbfef5')\"\n",
              "              title=\"Convert this dataframe to an interactive table.\"\n",
              "              style=\"display:none;\">\n",
              "        \n",
              "  <svg xmlns=\"http://www.w3.org/2000/svg\" height=\"24px\"viewBox=\"0 0 24 24\"\n",
              "       width=\"24px\">\n",
              "    <path d=\"M0 0h24v24H0V0z\" fill=\"none\"/>\n",
              "    <path d=\"M18.56 5.44l.94 2.06.94-2.06 2.06-.94-2.06-.94-.94-2.06-.94 2.06-2.06.94zm-11 1L8.5 8.5l.94-2.06 2.06-.94-2.06-.94L8.5 2.5l-.94 2.06-2.06.94zm10 10l.94 2.06.94-2.06 2.06-.94-2.06-.94-.94-2.06-.94 2.06-2.06.94z\"/><path d=\"M17.41 7.96l-1.37-1.37c-.4-.4-.92-.59-1.43-.59-.52 0-1.04.2-1.43.59L10.3 9.45l-7.72 7.72c-.78.78-.78 2.05 0 2.83L4 21.41c.39.39.9.59 1.41.59.51 0 1.02-.2 1.41-.59l7.78-7.78 2.81-2.81c.8-.78.8-2.07 0-2.86zM5.41 20L4 18.59l7.72-7.72 1.47 1.35L5.41 20z\"/>\n",
              "  </svg>\n",
              "      </button>\n",
              "      \n",
              "  <style>\n",
              "    .colab-df-container {\n",
              "      display:flex;\n",
              "      flex-wrap:wrap;\n",
              "      gap: 12px;\n",
              "    }\n",
              "\n",
              "    .colab-df-convert {\n",
              "      background-color: #E8F0FE;\n",
              "      border: none;\n",
              "      border-radius: 50%;\n",
              "      cursor: pointer;\n",
              "      display: none;\n",
              "      fill: #1967D2;\n",
              "      height: 32px;\n",
              "      padding: 0 0 0 0;\n",
              "      width: 32px;\n",
              "    }\n",
              "\n",
              "    .colab-df-convert:hover {\n",
              "      background-color: #E2EBFA;\n",
              "      box-shadow: 0px 1px 2px rgba(60, 64, 67, 0.3), 0px 1px 3px 1px rgba(60, 64, 67, 0.15);\n",
              "      fill: #174EA6;\n",
              "    }\n",
              "\n",
              "    [theme=dark] .colab-df-convert {\n",
              "      background-color: #3B4455;\n",
              "      fill: #D2E3FC;\n",
              "    }\n",
              "\n",
              "    [theme=dark] .colab-df-convert:hover {\n",
              "      background-color: #434B5C;\n",
              "      box-shadow: 0px 1px 3px 1px rgba(0, 0, 0, 0.15);\n",
              "      filter: drop-shadow(0px 1px 2px rgba(0, 0, 0, 0.3));\n",
              "      fill: #FFFFFF;\n",
              "    }\n",
              "  </style>\n",
              "\n",
              "      <script>\n",
              "        const buttonEl =\n",
              "          document.querySelector('#df-cc37cd5d-a073-4293-a093-fa46dfdbfef5 button.colab-df-convert');\n",
              "        buttonEl.style.display =\n",
              "          google.colab.kernel.accessAllowed ? 'block' : 'none';\n",
              "\n",
              "        async function convertToInteractive(key) {\n",
              "          const element = document.querySelector('#df-cc37cd5d-a073-4293-a093-fa46dfdbfef5');\n",
              "          const dataTable =\n",
              "            await google.colab.kernel.invokeFunction('convertToInteractive',\n",
              "                                                     [key], {});\n",
              "          if (!dataTable) return;\n",
              "\n",
              "          const docLinkHtml = 'Like what you see? Visit the ' +\n",
              "            '<a target=\"_blank\" href=https://colab.research.google.com/notebooks/data_table.ipynb>data table notebook</a>'\n",
              "            + ' to learn more about interactive tables.';\n",
              "          element.innerHTML = '';\n",
              "          dataTable['output_type'] = 'display_data';\n",
              "          await google.colab.output.renderOutput(dataTable, element);\n",
              "          const docLink = document.createElement('div');\n",
              "          docLink.innerHTML = docLinkHtml;\n",
              "          element.appendChild(docLink);\n",
              "        }\n",
              "      </script>\n",
              "    </div>\n",
              "  </div>\n",
              "  "
            ]
          },
          "metadata": {},
          "execution_count": 6
        }
      ]
    },
    {
      "cell_type": "code",
      "source": [
        "df.shape"
      ],
      "metadata": {
        "colab": {
          "base_uri": "https://localhost:8080/"
        },
        "id": "ad5ne8mjRmCZ",
        "outputId": "60c861ab-8674-4a9a-ab9b-167aaaf01bc0"
      },
      "execution_count": 7,
      "outputs": [
        {
          "output_type": "execute_result",
          "data": {
            "text/plain": [
              "(3980, 2)"
            ]
          },
          "metadata": {},
          "execution_count": 7
        }
      ]
    },
    {
      "cell_type": "code",
      "execution_count": 8,
      "metadata": {
        "colab": {
          "base_uri": "https://localhost:8080/",
          "height": 424
        },
        "id": "piTjCiM2leh3",
        "outputId": "82424745-0e44-4fe6-cf7d-3fb85a1f1a6d"
      },
      "outputs": [
        {
          "output_type": "execute_result",
          "data": {
            "text/plain": [
              "         tanggal  categori\n",
              "310   2010-11-07       1.0\n",
              "311   2010-11-08       1.0\n",
              "312   2010-11-09       1.0\n",
              "313   2010-11-10       4.0\n",
              "314   2010-11-11       3.0\n",
              "...          ...       ...\n",
              "4378  2021-12-27       3.0\n",
              "4379  2021-12-28       1.0\n",
              "4380  2021-12-29       1.0\n",
              "4381  2021-12-30       1.0\n",
              "4382  2021-12-31       1.0\n",
              "\n",
              "[3980 rows x 2 columns]"
            ],
            "text/html": [
              "\n",
              "  <div id=\"df-460e2ff2-eef5-49f7-8b3d-17ab83c81705\">\n",
              "    <div class=\"colab-df-container\">\n",
              "      <div>\n",
              "<style scoped>\n",
              "    .dataframe tbody tr th:only-of-type {\n",
              "        vertical-align: middle;\n",
              "    }\n",
              "\n",
              "    .dataframe tbody tr th {\n",
              "        vertical-align: top;\n",
              "    }\n",
              "\n",
              "    .dataframe thead th {\n",
              "        text-align: right;\n",
              "    }\n",
              "</style>\n",
              "<table border=\"1\" class=\"dataframe\">\n",
              "  <thead>\n",
              "    <tr style=\"text-align: right;\">\n",
              "      <th></th>\n",
              "      <th>tanggal</th>\n",
              "      <th>categori</th>\n",
              "    </tr>\n",
              "  </thead>\n",
              "  <tbody>\n",
              "    <tr>\n",
              "      <th>310</th>\n",
              "      <td>2010-11-07</td>\n",
              "      <td>1.0</td>\n",
              "    </tr>\n",
              "    <tr>\n",
              "      <th>311</th>\n",
              "      <td>2010-11-08</td>\n",
              "      <td>1.0</td>\n",
              "    </tr>\n",
              "    <tr>\n",
              "      <th>312</th>\n",
              "      <td>2010-11-09</td>\n",
              "      <td>1.0</td>\n",
              "    </tr>\n",
              "    <tr>\n",
              "      <th>313</th>\n",
              "      <td>2010-11-10</td>\n",
              "      <td>4.0</td>\n",
              "    </tr>\n",
              "    <tr>\n",
              "      <th>314</th>\n",
              "      <td>2010-11-11</td>\n",
              "      <td>3.0</td>\n",
              "    </tr>\n",
              "    <tr>\n",
              "      <th>...</th>\n",
              "      <td>...</td>\n",
              "      <td>...</td>\n",
              "    </tr>\n",
              "    <tr>\n",
              "      <th>4378</th>\n",
              "      <td>2021-12-27</td>\n",
              "      <td>3.0</td>\n",
              "    </tr>\n",
              "    <tr>\n",
              "      <th>4379</th>\n",
              "      <td>2021-12-28</td>\n",
              "      <td>1.0</td>\n",
              "    </tr>\n",
              "    <tr>\n",
              "      <th>4380</th>\n",
              "      <td>2021-12-29</td>\n",
              "      <td>1.0</td>\n",
              "    </tr>\n",
              "    <tr>\n",
              "      <th>4381</th>\n",
              "      <td>2021-12-30</td>\n",
              "      <td>1.0</td>\n",
              "    </tr>\n",
              "    <tr>\n",
              "      <th>4382</th>\n",
              "      <td>2021-12-31</td>\n",
              "      <td>1.0</td>\n",
              "    </tr>\n",
              "  </tbody>\n",
              "</table>\n",
              "<p>3980 rows × 2 columns</p>\n",
              "</div>\n",
              "      <button class=\"colab-df-convert\" onclick=\"convertToInteractive('df-460e2ff2-eef5-49f7-8b3d-17ab83c81705')\"\n",
              "              title=\"Convert this dataframe to an interactive table.\"\n",
              "              style=\"display:none;\">\n",
              "        \n",
              "  <svg xmlns=\"http://www.w3.org/2000/svg\" height=\"24px\"viewBox=\"0 0 24 24\"\n",
              "       width=\"24px\">\n",
              "    <path d=\"M0 0h24v24H0V0z\" fill=\"none\"/>\n",
              "    <path d=\"M18.56 5.44l.94 2.06.94-2.06 2.06-.94-2.06-.94-.94-2.06-.94 2.06-2.06.94zm-11 1L8.5 8.5l.94-2.06 2.06-.94-2.06-.94L8.5 2.5l-.94 2.06-2.06.94zm10 10l.94 2.06.94-2.06 2.06-.94-2.06-.94-.94-2.06-.94 2.06-2.06.94z\"/><path d=\"M17.41 7.96l-1.37-1.37c-.4-.4-.92-.59-1.43-.59-.52 0-1.04.2-1.43.59L10.3 9.45l-7.72 7.72c-.78.78-.78 2.05 0 2.83L4 21.41c.39.39.9.59 1.41.59.51 0 1.02-.2 1.41-.59l7.78-7.78 2.81-2.81c.8-.78.8-2.07 0-2.86zM5.41 20L4 18.59l7.72-7.72 1.47 1.35L5.41 20z\"/>\n",
              "  </svg>\n",
              "      </button>\n",
              "      \n",
              "  <style>\n",
              "    .colab-df-container {\n",
              "      display:flex;\n",
              "      flex-wrap:wrap;\n",
              "      gap: 12px;\n",
              "    }\n",
              "\n",
              "    .colab-df-convert {\n",
              "      background-color: #E8F0FE;\n",
              "      border: none;\n",
              "      border-radius: 50%;\n",
              "      cursor: pointer;\n",
              "      display: none;\n",
              "      fill: #1967D2;\n",
              "      height: 32px;\n",
              "      padding: 0 0 0 0;\n",
              "      width: 32px;\n",
              "    }\n",
              "\n",
              "    .colab-df-convert:hover {\n",
              "      background-color: #E2EBFA;\n",
              "      box-shadow: 0px 1px 2px rgba(60, 64, 67, 0.3), 0px 1px 3px 1px rgba(60, 64, 67, 0.15);\n",
              "      fill: #174EA6;\n",
              "    }\n",
              "\n",
              "    [theme=dark] .colab-df-convert {\n",
              "      background-color: #3B4455;\n",
              "      fill: #D2E3FC;\n",
              "    }\n",
              "\n",
              "    [theme=dark] .colab-df-convert:hover {\n",
              "      background-color: #434B5C;\n",
              "      box-shadow: 0px 1px 3px 1px rgba(0, 0, 0, 0.15);\n",
              "      filter: drop-shadow(0px 1px 2px rgba(0, 0, 0, 0.3));\n",
              "      fill: #FFFFFF;\n",
              "    }\n",
              "  </style>\n",
              "\n",
              "      <script>\n",
              "        const buttonEl =\n",
              "          document.querySelector('#df-460e2ff2-eef5-49f7-8b3d-17ab83c81705 button.colab-df-convert');\n",
              "        buttonEl.style.display =\n",
              "          google.colab.kernel.accessAllowed ? 'block' : 'none';\n",
              "\n",
              "        async function convertToInteractive(key) {\n",
              "          const element = document.querySelector('#df-460e2ff2-eef5-49f7-8b3d-17ab83c81705');\n",
              "          const dataTable =\n",
              "            await google.colab.kernel.invokeFunction('convertToInteractive',\n",
              "                                                     [key], {});\n",
              "          if (!dataTable) return;\n",
              "\n",
              "          const docLinkHtml = 'Like what you see? Visit the ' +\n",
              "            '<a target=\"_blank\" href=https://colab.research.google.com/notebooks/data_table.ipynb>data table notebook</a>'\n",
              "            + ' to learn more about interactive tables.';\n",
              "          element.innerHTML = '';\n",
              "          dataTable['output_type'] = 'display_data';\n",
              "          await google.colab.output.renderOutput(dataTable, element);\n",
              "          const docLink = document.createElement('div');\n",
              "          docLink.innerHTML = docLinkHtml;\n",
              "          element.appendChild(docLink);\n",
              "        }\n",
              "      </script>\n",
              "    </div>\n",
              "  </div>\n",
              "  "
            ]
          },
          "metadata": {},
          "execution_count": 8
        }
      ],
      "source": [
        "df.replace({'SEDANG':2, 'BAIK':1, 'TIDAK SEHAT':3, 'SANGAT TIDAK SEHAT':4,'BERBAHAYA':5}, inplace=True)\n",
        "df.astype({\"categori\":float})\n",
        "df"
      ]
    },
    {
      "cell_type": "code",
      "source": [
        "df.dtypes"
      ],
      "metadata": {
        "colab": {
          "base_uri": "https://localhost:8080/"
        },
        "id": "5sJW8SedHZKd",
        "outputId": "743dae05-b056-4a32-8a2b-55f19406e3df"
      },
      "execution_count": 9,
      "outputs": [
        {
          "output_type": "execute_result",
          "data": {
            "text/plain": [
              "tanggal      object\n",
              "categori    float64\n",
              "dtype: object"
            ]
          },
          "metadata": {},
          "execution_count": 9
        }
      ]
    },
    {
      "cell_type": "code",
      "execution_count": 10,
      "metadata": {
        "colab": {
          "base_uri": "https://localhost:8080/"
        },
        "id": "u_TQWYReleh4",
        "outputId": "d660f7ba-ce93-475f-b233-2a0bcbd23f69"
      },
      "outputs": [
        {
          "output_type": "execute_result",
          "data": {
            "text/plain": [
              "tanggal     datetime64[ns]\n",
              "categori           float64\n",
              "dtype: object"
            ]
          },
          "metadata": {},
          "execution_count": 10
        }
      ],
      "source": [
        "df = df.astype({\"categori\": float})\n",
        "df[\"tanggal\"] = pd.to_datetime(df.tanggal, format=\"%Y-%m-%d\")\n",
        "\n",
        "df.dtypes"
      ]
    },
    {
      "cell_type": "code",
      "execution_count": 11,
      "metadata": {
        "id": "6Vhbw90dleh5"
      },
      "outputs": [],
      "source": [
        "df.index = df['tanggal']"
      ]
    },
    {
      "cell_type": "code",
      "execution_count": 12,
      "metadata": {
        "colab": {
          "base_uri": "https://localhost:8080/",
          "height": 455
        },
        "id": "9LB-R6gIleh7",
        "outputId": "9f671783-8c79-41cf-db29-3a4247ef92a2"
      },
      "outputs": [
        {
          "output_type": "execute_result",
          "data": {
            "text/plain": [
              "              tanggal  categori\n",
              "tanggal                        \n",
              "2010-11-07 2010-11-07       1.0\n",
              "2010-11-08 2010-11-08       1.0\n",
              "2010-11-09 2010-11-09       1.0\n",
              "2010-11-10 2010-11-10       4.0\n",
              "2010-11-11 2010-11-11       3.0\n",
              "...               ...       ...\n",
              "2021-12-27 2021-12-27       3.0\n",
              "2021-12-28 2021-12-28       1.0\n",
              "2021-12-29 2021-12-29       1.0\n",
              "2021-12-30 2021-12-30       1.0\n",
              "2021-12-31 2021-12-31       1.0\n",
              "\n",
              "[3980 rows x 2 columns]"
            ],
            "text/html": [
              "\n",
              "  <div id=\"df-1495dc7e-fbda-4225-83f1-ecb9fc55568d\">\n",
              "    <div class=\"colab-df-container\">\n",
              "      <div>\n",
              "<style scoped>\n",
              "    .dataframe tbody tr th:only-of-type {\n",
              "        vertical-align: middle;\n",
              "    }\n",
              "\n",
              "    .dataframe tbody tr th {\n",
              "        vertical-align: top;\n",
              "    }\n",
              "\n",
              "    .dataframe thead th {\n",
              "        text-align: right;\n",
              "    }\n",
              "</style>\n",
              "<table border=\"1\" class=\"dataframe\">\n",
              "  <thead>\n",
              "    <tr style=\"text-align: right;\">\n",
              "      <th></th>\n",
              "      <th>tanggal</th>\n",
              "      <th>categori</th>\n",
              "    </tr>\n",
              "    <tr>\n",
              "      <th>tanggal</th>\n",
              "      <th></th>\n",
              "      <th></th>\n",
              "    </tr>\n",
              "  </thead>\n",
              "  <tbody>\n",
              "    <tr>\n",
              "      <th>2010-11-07</th>\n",
              "      <td>2010-11-07</td>\n",
              "      <td>1.0</td>\n",
              "    </tr>\n",
              "    <tr>\n",
              "      <th>2010-11-08</th>\n",
              "      <td>2010-11-08</td>\n",
              "      <td>1.0</td>\n",
              "    </tr>\n",
              "    <tr>\n",
              "      <th>2010-11-09</th>\n",
              "      <td>2010-11-09</td>\n",
              "      <td>1.0</td>\n",
              "    </tr>\n",
              "    <tr>\n",
              "      <th>2010-11-10</th>\n",
              "      <td>2010-11-10</td>\n",
              "      <td>4.0</td>\n",
              "    </tr>\n",
              "    <tr>\n",
              "      <th>2010-11-11</th>\n",
              "      <td>2010-11-11</td>\n",
              "      <td>3.0</td>\n",
              "    </tr>\n",
              "    <tr>\n",
              "      <th>...</th>\n",
              "      <td>...</td>\n",
              "      <td>...</td>\n",
              "    </tr>\n",
              "    <tr>\n",
              "      <th>2021-12-27</th>\n",
              "      <td>2021-12-27</td>\n",
              "      <td>3.0</td>\n",
              "    </tr>\n",
              "    <tr>\n",
              "      <th>2021-12-28</th>\n",
              "      <td>2021-12-28</td>\n",
              "      <td>1.0</td>\n",
              "    </tr>\n",
              "    <tr>\n",
              "      <th>2021-12-29</th>\n",
              "      <td>2021-12-29</td>\n",
              "      <td>1.0</td>\n",
              "    </tr>\n",
              "    <tr>\n",
              "      <th>2021-12-30</th>\n",
              "      <td>2021-12-30</td>\n",
              "      <td>1.0</td>\n",
              "    </tr>\n",
              "    <tr>\n",
              "      <th>2021-12-31</th>\n",
              "      <td>2021-12-31</td>\n",
              "      <td>1.0</td>\n",
              "    </tr>\n",
              "  </tbody>\n",
              "</table>\n",
              "<p>3980 rows × 2 columns</p>\n",
              "</div>\n",
              "      <button class=\"colab-df-convert\" onclick=\"convertToInteractive('df-1495dc7e-fbda-4225-83f1-ecb9fc55568d')\"\n",
              "              title=\"Convert this dataframe to an interactive table.\"\n",
              "              style=\"display:none;\">\n",
              "        \n",
              "  <svg xmlns=\"http://www.w3.org/2000/svg\" height=\"24px\"viewBox=\"0 0 24 24\"\n",
              "       width=\"24px\">\n",
              "    <path d=\"M0 0h24v24H0V0z\" fill=\"none\"/>\n",
              "    <path d=\"M18.56 5.44l.94 2.06.94-2.06 2.06-.94-2.06-.94-.94-2.06-.94 2.06-2.06.94zm-11 1L8.5 8.5l.94-2.06 2.06-.94-2.06-.94L8.5 2.5l-.94 2.06-2.06.94zm10 10l.94 2.06.94-2.06 2.06-.94-2.06-.94-.94-2.06-.94 2.06-2.06.94z\"/><path d=\"M17.41 7.96l-1.37-1.37c-.4-.4-.92-.59-1.43-.59-.52 0-1.04.2-1.43.59L10.3 9.45l-7.72 7.72c-.78.78-.78 2.05 0 2.83L4 21.41c.39.39.9.59 1.41.59.51 0 1.02-.2 1.41-.59l7.78-7.78 2.81-2.81c.8-.78.8-2.07 0-2.86zM5.41 20L4 18.59l7.72-7.72 1.47 1.35L5.41 20z\"/>\n",
              "  </svg>\n",
              "      </button>\n",
              "      \n",
              "  <style>\n",
              "    .colab-df-container {\n",
              "      display:flex;\n",
              "      flex-wrap:wrap;\n",
              "      gap: 12px;\n",
              "    }\n",
              "\n",
              "    .colab-df-convert {\n",
              "      background-color: #E8F0FE;\n",
              "      border: none;\n",
              "      border-radius: 50%;\n",
              "      cursor: pointer;\n",
              "      display: none;\n",
              "      fill: #1967D2;\n",
              "      height: 32px;\n",
              "      padding: 0 0 0 0;\n",
              "      width: 32px;\n",
              "    }\n",
              "\n",
              "    .colab-df-convert:hover {\n",
              "      background-color: #E2EBFA;\n",
              "      box-shadow: 0px 1px 2px rgba(60, 64, 67, 0.3), 0px 1px 3px 1px rgba(60, 64, 67, 0.15);\n",
              "      fill: #174EA6;\n",
              "    }\n",
              "\n",
              "    [theme=dark] .colab-df-convert {\n",
              "      background-color: #3B4455;\n",
              "      fill: #D2E3FC;\n",
              "    }\n",
              "\n",
              "    [theme=dark] .colab-df-convert:hover {\n",
              "      background-color: #434B5C;\n",
              "      box-shadow: 0px 1px 3px 1px rgba(0, 0, 0, 0.15);\n",
              "      filter: drop-shadow(0px 1px 2px rgba(0, 0, 0, 0.3));\n",
              "      fill: #FFFFFF;\n",
              "    }\n",
              "  </style>\n",
              "\n",
              "      <script>\n",
              "        const buttonEl =\n",
              "          document.querySelector('#df-1495dc7e-fbda-4225-83f1-ecb9fc55568d button.colab-df-convert');\n",
              "        buttonEl.style.display =\n",
              "          google.colab.kernel.accessAllowed ? 'block' : 'none';\n",
              "\n",
              "        async function convertToInteractive(key) {\n",
              "          const element = document.querySelector('#df-1495dc7e-fbda-4225-83f1-ecb9fc55568d');\n",
              "          const dataTable =\n",
              "            await google.colab.kernel.invokeFunction('convertToInteractive',\n",
              "                                                     [key], {});\n",
              "          if (!dataTable) return;\n",
              "\n",
              "          const docLinkHtml = 'Like what you see? Visit the ' +\n",
              "            '<a target=\"_blank\" href=https://colab.research.google.com/notebooks/data_table.ipynb>data table notebook</a>'\n",
              "            + ' to learn more about interactive tables.';\n",
              "          element.innerHTML = '';\n",
              "          dataTable['output_type'] = 'display_data';\n",
              "          await google.colab.output.renderOutput(dataTable, element);\n",
              "          const docLink = document.createElement('div');\n",
              "          docLink.innerHTML = docLinkHtml;\n",
              "          element.appendChild(docLink);\n",
              "        }\n",
              "      </script>\n",
              "    </div>\n",
              "  </div>\n",
              "  "
            ]
          },
          "metadata": {},
          "execution_count": 12
        }
      ],
      "source": [
        "df"
      ]
    },
    {
      "cell_type": "code",
      "source": [
        "df.describe()"
      ],
      "metadata": {
        "colab": {
          "base_uri": "https://localhost:8080/",
          "height": 300
        },
        "id": "jGKbuD_hH0x2",
        "outputId": "ccda5fcb-13cb-40d4-d376-25f4ded7e887"
      },
      "execution_count": 13,
      "outputs": [
        {
          "output_type": "execute_result",
          "data": {
            "text/plain": [
              "          categori\n",
              "count  3980.000000\n",
              "mean      1.531658\n",
              "std       0.766707\n",
              "min       1.000000\n",
              "25%       1.000000\n",
              "50%       1.000000\n",
              "75%       2.000000\n",
              "max       4.000000"
            ],
            "text/html": [
              "\n",
              "  <div id=\"df-528b3b90-934a-4f23-9091-14e315a72897\">\n",
              "    <div class=\"colab-df-container\">\n",
              "      <div>\n",
              "<style scoped>\n",
              "    .dataframe tbody tr th:only-of-type {\n",
              "        vertical-align: middle;\n",
              "    }\n",
              "\n",
              "    .dataframe tbody tr th {\n",
              "        vertical-align: top;\n",
              "    }\n",
              "\n",
              "    .dataframe thead th {\n",
              "        text-align: right;\n",
              "    }\n",
              "</style>\n",
              "<table border=\"1\" class=\"dataframe\">\n",
              "  <thead>\n",
              "    <tr style=\"text-align: right;\">\n",
              "      <th></th>\n",
              "      <th>categori</th>\n",
              "    </tr>\n",
              "  </thead>\n",
              "  <tbody>\n",
              "    <tr>\n",
              "      <th>count</th>\n",
              "      <td>3980.000000</td>\n",
              "    </tr>\n",
              "    <tr>\n",
              "      <th>mean</th>\n",
              "      <td>1.531658</td>\n",
              "    </tr>\n",
              "    <tr>\n",
              "      <th>std</th>\n",
              "      <td>0.766707</td>\n",
              "    </tr>\n",
              "    <tr>\n",
              "      <th>min</th>\n",
              "      <td>1.000000</td>\n",
              "    </tr>\n",
              "    <tr>\n",
              "      <th>25%</th>\n",
              "      <td>1.000000</td>\n",
              "    </tr>\n",
              "    <tr>\n",
              "      <th>50%</th>\n",
              "      <td>1.000000</td>\n",
              "    </tr>\n",
              "    <tr>\n",
              "      <th>75%</th>\n",
              "      <td>2.000000</td>\n",
              "    </tr>\n",
              "    <tr>\n",
              "      <th>max</th>\n",
              "      <td>4.000000</td>\n",
              "    </tr>\n",
              "  </tbody>\n",
              "</table>\n",
              "</div>\n",
              "      <button class=\"colab-df-convert\" onclick=\"convertToInteractive('df-528b3b90-934a-4f23-9091-14e315a72897')\"\n",
              "              title=\"Convert this dataframe to an interactive table.\"\n",
              "              style=\"display:none;\">\n",
              "        \n",
              "  <svg xmlns=\"http://www.w3.org/2000/svg\" height=\"24px\"viewBox=\"0 0 24 24\"\n",
              "       width=\"24px\">\n",
              "    <path d=\"M0 0h24v24H0V0z\" fill=\"none\"/>\n",
              "    <path d=\"M18.56 5.44l.94 2.06.94-2.06 2.06-.94-2.06-.94-.94-2.06-.94 2.06-2.06.94zm-11 1L8.5 8.5l.94-2.06 2.06-.94-2.06-.94L8.5 2.5l-.94 2.06-2.06.94zm10 10l.94 2.06.94-2.06 2.06-.94-2.06-.94-.94-2.06-.94 2.06-2.06.94z\"/><path d=\"M17.41 7.96l-1.37-1.37c-.4-.4-.92-.59-1.43-.59-.52 0-1.04.2-1.43.59L10.3 9.45l-7.72 7.72c-.78.78-.78 2.05 0 2.83L4 21.41c.39.39.9.59 1.41.59.51 0 1.02-.2 1.41-.59l7.78-7.78 2.81-2.81c.8-.78.8-2.07 0-2.86zM5.41 20L4 18.59l7.72-7.72 1.47 1.35L5.41 20z\"/>\n",
              "  </svg>\n",
              "      </button>\n",
              "      \n",
              "  <style>\n",
              "    .colab-df-container {\n",
              "      display:flex;\n",
              "      flex-wrap:wrap;\n",
              "      gap: 12px;\n",
              "    }\n",
              "\n",
              "    .colab-df-convert {\n",
              "      background-color: #E8F0FE;\n",
              "      border: none;\n",
              "      border-radius: 50%;\n",
              "      cursor: pointer;\n",
              "      display: none;\n",
              "      fill: #1967D2;\n",
              "      height: 32px;\n",
              "      padding: 0 0 0 0;\n",
              "      width: 32px;\n",
              "    }\n",
              "\n",
              "    .colab-df-convert:hover {\n",
              "      background-color: #E2EBFA;\n",
              "      box-shadow: 0px 1px 2px rgba(60, 64, 67, 0.3), 0px 1px 3px 1px rgba(60, 64, 67, 0.15);\n",
              "      fill: #174EA6;\n",
              "    }\n",
              "\n",
              "    [theme=dark] .colab-df-convert {\n",
              "      background-color: #3B4455;\n",
              "      fill: #D2E3FC;\n",
              "    }\n",
              "\n",
              "    [theme=dark] .colab-df-convert:hover {\n",
              "      background-color: #434B5C;\n",
              "      box-shadow: 0px 1px 3px 1px rgba(0, 0, 0, 0.15);\n",
              "      filter: drop-shadow(0px 1px 2px rgba(0, 0, 0, 0.3));\n",
              "      fill: #FFFFFF;\n",
              "    }\n",
              "  </style>\n",
              "\n",
              "      <script>\n",
              "        const buttonEl =\n",
              "          document.querySelector('#df-528b3b90-934a-4f23-9091-14e315a72897 button.colab-df-convert');\n",
              "        buttonEl.style.display =\n",
              "          google.colab.kernel.accessAllowed ? 'block' : 'none';\n",
              "\n",
              "        async function convertToInteractive(key) {\n",
              "          const element = document.querySelector('#df-528b3b90-934a-4f23-9091-14e315a72897');\n",
              "          const dataTable =\n",
              "            await google.colab.kernel.invokeFunction('convertToInteractive',\n",
              "                                                     [key], {});\n",
              "          if (!dataTable) return;\n",
              "\n",
              "          const docLinkHtml = 'Like what you see? Visit the ' +\n",
              "            '<a target=\"_blank\" href=https://colab.research.google.com/notebooks/data_table.ipynb>data table notebook</a>'\n",
              "            + ' to learn more about interactive tables.';\n",
              "          element.innerHTML = '';\n",
              "          dataTable['output_type'] = 'display_data';\n",
              "          await google.colab.output.renderOutput(dataTable, element);\n",
              "          const docLink = document.createElement('div');\n",
              "          docLink.innerHTML = docLinkHtml;\n",
              "          element.appendChild(docLink);\n",
              "        }\n",
              "      </script>\n",
              "    </div>\n",
              "  </div>\n",
              "  "
            ]
          },
          "metadata": {},
          "execution_count": 13
        }
      ]
    },
    {
      "cell_type": "code",
      "source": [
        "plt.figure(figsize = (10, 5))\n",
        "sns.boxplot(df['categori']) \n",
        "plt.annotate('Outlier', (df['categori'].describe()['max'],0.1), xytext = (df['categori'].describe()['max'],0.3), \n",
        "             arrowprops = dict(facecolor = 'blue'), fontsize = 13 ) \n",
        "\n",
        "IQR = df['categori'].describe()['75%'] - df['categori'].describe()['25%']"
      ],
      "metadata": {
        "colab": {
          "base_uri": "https://localhost:8080/",
          "height": 389
        },
        "id": "Or6CjyMdH00r",
        "outputId": "950c1dad-b956-455f-873d-bcad40f3a0ae"
      },
      "execution_count": 14,
      "outputs": [
        {
          "output_type": "stream",
          "name": "stderr",
          "text": [
            "/usr/local/lib/python3.7/dist-packages/seaborn/_decorators.py:43: FutureWarning: Pass the following variable as a keyword arg: x. From version 0.12, the only valid positional argument will be `data`, and passing other arguments without an explicit keyword will result in an error or misinterpretation.\n",
            "  FutureWarning\n"
          ]
        },
        {
          "output_type": "display_data",
          "data": {
            "text/plain": [
              "<Figure size 720x360 with 1 Axes>"
            ],
            "image/png": "[encoded data removed]"
          },
          "metadata": {
            "needs_background": "light"
          }
        }
      ]
    },
    {
      "cell_type": "code",
      "source": [
        "def detect_outliers(df,x): \n",
        "    Q1 = df[x].describe()['25%'] \n",
        "    Q3 = df[x].describe()['75%'] \n",
        "    IQR = Q3-Q1 \n",
        "    return df[(df[x] < Q1-1.5*IQR) | (df[x] > Q3+1.5*IQR)]"
      ],
      "metadata": {
        "id": "RfTio4zOIFHF"
      },
      "execution_count": 15,
      "outputs": []
    },
    {
      "cell_type": "code",
      "source": [
        "detect_outliers(df, x ='categori')"
      ],
      "metadata": {
        "colab": {
          "base_uri": "https://localhost:8080/",
          "height": 363
        },
        "id": "tBP2NYQcIIXd",
        "outputId": "b3306072-7935-410c-a2c3-621c2c593d0f"
      },
      "execution_count": 16,
      "outputs": [
        {
          "output_type": "execute_result",
          "data": {
            "text/plain": [
              "              tanggal  categori\n",
              "tanggal                        \n",
              "2010-11-10 2010-11-10       4.0\n",
              "2010-11-18 2010-11-18       4.0\n",
              "2010-11-22 2010-11-22       4.0\n",
              "2010-12-24 2010-12-24       4.0\n",
              "2011-10-11 2011-10-11       4.0\n",
              "2011-10-12 2011-10-12       4.0\n",
              "2012-10-19 2012-10-19       4.0\n",
              "2012-10-20 2012-10-20       4.0\n",
              "2012-12-11 2012-12-11       4.0"
            ],
            "text/html": [
              "\n",
              "  <div id=\"df-9f3f2d2a-4d1b-464b-88d3-ef662098c2bb\">\n",
              "    <div class=\"colab-df-container\">\n",
              "      <div>\n",
              "<style scoped>\n",
              "    .dataframe tbody tr th:only-of-type {\n",
              "        vertical-align: middle;\n",
              "    }\n",
              "\n",
              "    .dataframe tbody tr th {\n",
              "        vertical-align: top;\n",
              "    }\n",
              "\n",
              "    .dataframe thead th {\n",
              "        text-align: right;\n",
              "    }\n",
              "</style>\n",
              "<table border=\"1\" class=\"dataframe\">\n",
              "  <thead>\n",
              "    <tr style=\"text-align: right;\">\n",
              "      <th></th>\n",
              "      <th>tanggal</th>\n",
              "      <th>categori</th>\n",
              "    </tr>\n",
              "    <tr>\n",
              "      <th>tanggal</th>\n",
              "      <th></th>\n",
              "      <th></th>\n",
              "    </tr>\n",
              "  </thead>\n",
              "  <tbody>\n",
              "    <tr>\n",
              "      <th>2010-11-10</th>\n",
              "      <td>2010-11-10</td>\n",
              "      <td>4.0</td>\n",
              "    </tr>\n",
              "    <tr>\n",
              "      <th>2010-11-18</th>\n",
              "      <td>2010-11-18</td>\n",
              "      <td>4.0</td>\n",
              "    </tr>\n",
              "    <tr>\n",
              "      <th>2010-11-22</th>\n",
              "      <td>2010-11-22</td>\n",
              "      <td>4.0</td>\n",
              "    </tr>\n",
              "    <tr>\n",
              "      <th>2010-12-24</th>\n",
              "      <td>2010-12-24</td>\n",
              "      <td>4.0</td>\n",
              "    </tr>\n",
              "    <tr>\n",
              "      <th>2011-10-11</th>\n",
              "      <td>2011-10-11</td>\n",
              "      <td>4.0</td>\n",
              "    </tr>\n",
              "    <tr>\n",
              "      <th>2011-10-12</th>\n",
              "      <td>2011-10-12</td>\n",
              "      <td>4.0</td>\n",
              "    </tr>\n",
              "    <tr>\n",
              "      <th>2012-10-19</th>\n",
              "      <td>2012-10-19</td>\n",
              "      <td>4.0</td>\n",
              "    </tr>\n",
              "    <tr>\n",
              "      <th>2012-10-20</th>\n",
              "      <td>2012-10-20</td>\n",
              "      <td>4.0</td>\n",
              "    </tr>\n",
              "    <tr>\n",
              "      <th>2012-12-11</th>\n",
              "      <td>2012-12-11</td>\n",
              "      <td>4.0</td>\n",
              "    </tr>\n",
              "  </tbody>\n",
              "</table>\n",
              "</div>\n",
              "      <button class=\"colab-df-convert\" onclick=\"convertToInteractive('df-9f3f2d2a-4d1b-464b-88d3-ef662098c2bb')\"\n",
              "              title=\"Convert this dataframe to an interactive table.\"\n",
              "              style=\"display:none;\">\n",
              "        \n",
              "  <svg xmlns=\"http://www.w3.org/2000/svg\" height=\"24px\"viewBox=\"0 0 24 24\"\n",
              "       width=\"24px\">\n",
              "    <path d=\"M0 0h24v24H0V0z\" fill=\"none\"/>\n",
              "    <path d=\"M18.56 5.44l.94 2.06.94-2.06 2.06-.94-2.06-.94-.94-2.06-.94 2.06-2.06.94zm-11 1L8.5 8.5l.94-2.06 2.06-.94-2.06-.94L8.5 2.5l-.94 2.06-2.06.94zm10 10l.94 2.06.94-2.06 2.06-.94-2.06-.94-.94-2.06-.94 2.06-2.06.94z\"/><path d=\"M17.41 7.96l-1.37-1.37c-.4-.4-.92-.59-1.43-.59-.52 0-1.04.2-1.43.59L10.3 9.45l-7.72 7.72c-.78.78-.78 2.05 0 2.83L4 21.41c.39.39.9.59 1.41.59.51 0 1.02-.2 1.41-.59l7.78-7.78 2.81-2.81c.8-.78.8-2.07 0-2.86zM5.41 20L4 18.59l7.72-7.72 1.47 1.35L5.41 20z\"/>\n",
              "  </svg>\n",
              "      </button>\n",
              "      \n",
              "  <style>\n",
              "    .colab-df-container {\n",
              "      display:flex;\n",
              "      flex-wrap:wrap;\n",
              "      gap: 12px;\n",
              "    }\n",
              "\n",
              "    .colab-df-convert {\n",
              "      background-color: #E8F0FE;\n",
              "      border: none;\n",
              "      border-radius: 50%;\n",
              "      cursor: pointer;\n",
              "      display: none;\n",
              "      fill: #1967D2;\n",
              "      height: 32px;\n",
              "      padding: 0 0 0 0;\n",
              "      width: 32px;\n",
              "    }\n",
              "\n",
              "    .colab-df-convert:hover {\n",
              "      background-color: #E2EBFA;\n",
              "      box-shadow: 0px 1px 2px rgba(60, 64, 67, 0.3), 0px 1px 3px 1px rgba(60, 64, 67, 0.15);\n",
              "      fill: #174EA6;\n",
              "    }\n",
              "\n",
              "    [theme=dark] .colab-df-convert {\n",
              "      background-color: #3B4455;\n",
              "      fill: #D2E3FC;\n",
              "    }\n",
              "\n",
              "    [theme=dark] .colab-df-convert:hover {\n",
              "      background-color: #434B5C;\n",
              "      box-shadow: 0px 1px 3px 1px rgba(0, 0, 0, 0.15);\n",
              "      filter: drop-shadow(0px 1px 2px rgba(0, 0, 0, 0.3));\n",
              "      fill: #FFFFFF;\n",
              "    }\n",
              "  </style>\n",
              "\n",
              "      <script>\n",
              "        const buttonEl =\n",
              "          document.querySelector('#df-9f3f2d2a-4d1b-464b-88d3-ef662098c2bb button.colab-df-convert');\n",
              "        buttonEl.style.display =\n",
              "          google.colab.kernel.accessAllowed ? 'block' : 'none';\n",
              "\n",
              "        async function convertToInteractive(key) {\n",
              "          const element = document.querySelector('#df-9f3f2d2a-4d1b-464b-88d3-ef662098c2bb');\n",
              "          const dataTable =\n",
              "            await google.colab.kernel.invokeFunction('convertToInteractive',\n",
              "                                                     [key], {});\n",
              "          if (!dataTable) return;\n",
              "\n",
              "          const docLinkHtml = 'Like what you see? Visit the ' +\n",
              "            '<a target=\"_blank\" href=https://colab.research.google.com/notebooks/data_table.ipynb>data table notebook</a>'\n",
              "            + ' to learn more about interactive tables.';\n",
              "          element.innerHTML = '';\n",
              "          dataTable['output_type'] = 'display_data';\n",
              "          await google.colab.output.renderOutput(dataTable, element);\n",
              "          const docLink = document.createElement('div');\n",
              "          docLink.innerHTML = docLinkHtml;\n",
              "          element.appendChild(docLink);\n",
              "        }\n",
              "      </script>\n",
              "    </div>\n",
              "  </div>\n",
              "  "
            ]
          },
          "metadata": {},
          "execution_count": 16
        }
      ]
    },
    {
      "cell_type": "code",
      "source": [
        "df = df.drop((df[df['categori']>3.5]).index, axis=0)"
      ],
      "metadata": {
        "id": "enCFKWllIRXi"
      },
      "execution_count": 17,
      "outputs": []
    },
    {
      "cell_type": "code",
      "source": [
        "detect_outliers(df, x ='categori')"
      ],
      "metadata": {
        "colab": {
          "base_uri": "https://localhost:8080/",
          "height": 81
        },
        "id": "IQ6AAqE_IZdp",
        "outputId": "46f3e8ba-27bd-493d-a445-0cbd1be092e4"
      },
      "execution_count": 18,
      "outputs": [
        {
          "output_type": "execute_result",
          "data": {
            "text/plain": [
              "Empty DataFrame\n",
              "Columns: [tanggal, categori]\n",
              "Index: []"
            ],
            "text/html": [
              "\n",
              "  <div id=\"df-8bfa7afa-e7ec-4456-a431-e73a5c82c908\">\n",
              "    <div class=\"colab-df-container\">\n",
              "      <div>\n",
              "<style scoped>\n",
              "    .dataframe tbody tr th:only-of-type {\n",
              "        vertical-align: middle;\n",
              "    }\n",
              "\n",
              "    .dataframe tbody tr th {\n",
              "        vertical-align: top;\n",
              "    }\n",
              "\n",
              "    .dataframe thead th {\n",
              "        text-align: right;\n",
              "    }\n",
              "</style>\n",
              "<table border=\"1\" class=\"dataframe\">\n",
              "  <thead>\n",
              "    <tr style=\"text-align: right;\">\n",
              "      <th></th>\n",
              "      <th>tanggal</th>\n",
              "      <th>categori</th>\n",
              "    </tr>\n",
              "    <tr>\n",
              "      <th>tanggal</th>\n",
              "      <th></th>\n",
              "      <th></th>\n",
              "    </tr>\n",
              "  </thead>\n",
              "  <tbody>\n",
              "  </tbody>\n",
              "</table>\n",
              "</div>\n",
              "      <button class=\"colab-df-convert\" onclick=\"convertToInteractive('df-8bfa7afa-e7ec-4456-a431-e73a5c82c908')\"\n",
              "              title=\"Convert this dataframe to an interactive table.\"\n",
              "              style=\"display:none;\">\n",
              "        \n",
              "  <svg xmlns=\"http://www.w3.org/2000/svg\" height=\"24px\"viewBox=\"0 0 24 24\"\n",
              "       width=\"24px\">\n",
              "    <path d=\"M0 0h24v24H0V0z\" fill=\"none\"/>\n",
              "    <path d=\"M18.56 5.44l.94 2.06.94-2.06 2.06-.94-2.06-.94-.94-2.06-.94 2.06-2.06.94zm-11 1L8.5 8.5l.94-2.06 2.06-.94-2.06-.94L8.5 2.5l-.94 2.06-2.06.94zm10 10l.94 2.06.94-2.06 2.06-.94-2.06-.94-.94-2.06-.94 2.06-2.06.94z\"/><path d=\"M17.41 7.96l-1.37-1.37c-.4-.4-.92-.59-1.43-.59-.52 0-1.04.2-1.43.59L10.3 9.45l-7.72 7.72c-.78.78-.78 2.05 0 2.83L4 21.41c.39.39.9.59 1.41.59.51 0 1.02-.2 1.41-.59l7.78-7.78 2.81-2.81c.8-.78.8-2.07 0-2.86zM5.41 20L4 18.59l7.72-7.72 1.47 1.35L5.41 20z\"/>\n",
              "  </svg>\n",
              "      </button>\n",
              "      \n",
              "  <style>\n",
              "    .colab-df-container {\n",
              "      display:flex;\n",
              "      flex-wrap:wrap;\n",
              "      gap: 12px;\n",
              "    }\n",
              "\n",
              "    .colab-df-convert {\n",
              "      background-color: #E8F0FE;\n",
              "      border: none;\n",
              "      border-radius: 50%;\n",
              "      cursor: pointer;\n",
              "      display: none;\n",
              "      fill: #1967D2;\n",
              "      height: 32px;\n",
              "      padding: 0 0 0 0;\n",
              "      width: 32px;\n",
              "    }\n",
              "\n",
              "    .colab-df-convert:hover {\n",
              "      background-color: #E2EBFA;\n",
              "      box-shadow: 0px 1px 2px rgba(60, 64, 67, 0.3), 0px 1px 3px 1px rgba(60, 64, 67, 0.15);\n",
              "      fill: #174EA6;\n",
              "    }\n",
              "\n",
              "    [theme=dark] .colab-df-convert {\n",
              "      background-color: #3B4455;\n",
              "      fill: #D2E3FC;\n",
              "    }\n",
              "\n",
              "    [theme=dark] .colab-df-convert:hover {\n",
              "      background-color: #434B5C;\n",
              "      box-shadow: 0px 1px 3px 1px rgba(0, 0, 0, 0.15);\n",
              "      filter: drop-shadow(0px 1px 2px rgba(0, 0, 0, 0.3));\n",
              "      fill: #FFFFFF;\n",
              "    }\n",
              "  </style>\n",
              "\n",
              "      <script>\n",
              "        const buttonEl =\n",
              "          document.querySelector('#df-8bfa7afa-e7ec-4456-a431-e73a5c82c908 button.colab-df-convert');\n",
              "        buttonEl.style.display =\n",
              "          google.colab.kernel.accessAllowed ? 'block' : 'none';\n",
              "\n",
              "        async function convertToInteractive(key) {\n",
              "          const element = document.querySelector('#df-8bfa7afa-e7ec-4456-a431-e73a5c82c908');\n",
              "          const dataTable =\n",
              "            await google.colab.kernel.invokeFunction('convertToInteractive',\n",
              "                                                     [key], {});\n",
              "          if (!dataTable) return;\n",
              "\n",
              "          const docLinkHtml = 'Like what you see? Visit the ' +\n",
              "            '<a target=\"_blank\" href=https://colab.research.google.com/notebooks/data_table.ipynb>data table notebook</a>'\n",
              "            + ' to learn more about interactive tables.';\n",
              "          element.innerHTML = '';\n",
              "          dataTable['output_type'] = 'display_data';\n",
              "          await google.colab.output.renderOutput(dataTable, element);\n",
              "          const docLink = document.createElement('div');\n",
              "          docLink.innerHTML = docLinkHtml;\n",
              "          element.appendChild(docLink);\n",
              "        }\n",
              "      </script>\n",
              "    </div>\n",
              "  </div>\n",
              "  "
            ]
          },
          "metadata": {},
          "execution_count": 18
        }
      ]
    },
    {
      "cell_type": "code",
      "source": [
        "plt.figure(figsize = (10, 5)) \n",
        "sns.boxplot(df['categori']) \n",
        "plt.show()"
      ],
      "metadata": {
        "colab": {
          "base_uri": "https://localhost:8080/",
          "height": 389
        },
        "id": "EtwcXdbwIhMf",
        "outputId": "66293b19-1265-4464-bfc4-0a100d49f778"
      },
      "execution_count": 19,
      "outputs": [
        {
          "output_type": "stream",
          "name": "stderr",
          "text": [
            "/usr/local/lib/python3.7/dist-packages/seaborn/_decorators.py:43: FutureWarning: Pass the following variable as a keyword arg: x. From version 0.12, the only valid positional argument will be `data`, and passing other arguments without an explicit keyword will result in an error or misinterpretation.\n",
            "  FutureWarning\n"
          ]
        },
        {
          "output_type": "display_data",
          "data": {
            "text/plain": [
              "<Figure size 720x360 with 1 Axes>"
            ],
            "image/png": "[encoded data removed]"
          },
          "metadata": {
            "needs_background": "light"
          }
        }
      ]
    },
    {
      "cell_type": "code",
      "execution_count": 20,
      "metadata": {
        "colab": {
          "base_uri": "https://localhost:8080/",
          "height": 282
        },
        "id": "Yb0vXrDrleh-",
        "outputId": "d884a6cd-5821-4efa-e131-961a3c4e8e53"
      },
      "outputs": [
        {
          "output_type": "execute_result",
          "data": {
            "text/plain": [
              "[<matplotlib.lines.Line2D at 0x7f2e5061f450>]"
            ]
          },
          "metadata": {},
          "execution_count": 20
        },
        {
          "output_type": "display_data",
          "data": {
            "text/plain": [
              "<Figure size 432x288 with 1 Axes>"
            ],
            "image/png": "[encoded data removed]"
          },
          "metadata": {
            "needs_background": "light"
          }
        }
      ],
      "source": [
        "plt.plot(df[\"categori\"],label='Kategori Polusi PerHari')"
      ]
    },
    {
      "cell_type": "code",
      "execution_count": 21,
      "metadata": {
        "id": "SVgNRgB0leh-"
      },
      "outputs": [],
      "source": [
        "df_cat = df[['categori']]"
      ]
    },
    {
      "cell_type": "code",
      "execution_count": 22,
      "metadata": {
        "colab": {
          "base_uri": "https://localhost:8080/",
          "height": 282
        },
        "id": "kEWmWtgJleiA",
        "outputId": "b94d6b35-e3b3-41db-f13b-b10695fc3960"
      },
      "outputs": [
        {
          "output_type": "execute_result",
          "data": {
            "text/plain": [
              "[<matplotlib.lines.Line2D at 0x7f2e505a69d0>]"
            ]
          },
          "metadata": {},
          "execution_count": 22
        },
        {
          "output_type": "display_data",
          "data": {
            "text/plain": [
              "<Figure size 432x288 with 1 Axes>"
            ],
            "image/png": "[encoded data removed]"
          },
          "metadata": {
            "needs_background": "light"
          }
        }
      ],
      "source": [
        "df_cat_val = df_cat.values\n",
        "plt.plot(df_cat_val)"
      ]
    },
    {
      "cell_type": "code",
      "execution_count": 23,
      "metadata": {
        "id": "oU_NNWhcleiB"
      },
      "outputs": [],
      "source": [
        "#Using MinMaxScaler for normalizing data between 0 & 1\n",
        "normalizer = MinMaxScaler(feature_range=(0,1))\n",
        "df_scaled = normalizer.fit_transform(np.array(df_cat_val).reshape(-1,1))"
      ]
    },
    {
      "cell_type": "code",
      "execution_count": 24,
      "metadata": {
        "colab": {
          "base_uri": "https://localhost:8080/"
        },
        "id": "mzirhHeyleiB",
        "outputId": "a25132bc-a130-427c-892f-d2a24d471b18"
      },
      "outputs": [
        {
          "output_type": "execute_result",
          "data": {
            "text/plain": [
              "(3971, 3971)"
            ]
          },
          "metadata": {},
          "execution_count": 24
        }
      ],
      "source": [
        "len(df_scaled), len(df_cat_val)"
      ]
    },
    {
      "cell_type": "code",
      "execution_count": 25,
      "metadata": {
        "id": "BOB_aqU6leiB"
      },
      "outputs": [],
      "source": [
        "#Defining test and train data sizes\n",
        "train_size = int(len(df_scaled)*0.80)\n",
        "test_size = len(df_scaled) - train_size"
      ]
    },
    {
      "cell_type": "code",
      "execution_count": 26,
      "metadata": {
        "colab": {
          "base_uri": "https://localhost:8080/"
        },
        "id": "XGpq31WnleiC",
        "outputId": "b6b6c445-4dbb-4b96-8ee5-8d7b4a02faf2"
      },
      "outputs": [
        {
          "output_type": "execute_result",
          "data": {
            "text/plain": [
              "(3176, 795)"
            ]
          },
          "metadata": {},
          "execution_count": 26
        }
      ],
      "source": [
        "train_size,test_size"
      ]
    },
    {
      "cell_type": "code",
      "execution_count": 27,
      "metadata": {
        "id": "tn_FROfgleiD"
      },
      "outputs": [],
      "source": [
        "#Splitting data between train and test\n",
        "df_train, df_test = df_scaled[0:train_size,:], df_scaled[train_size:len(df_scaled),:1]"
      ]
    },
    {
      "cell_type": "code",
      "execution_count": 28,
      "metadata": {
        "colab": {
          "base_uri": "https://localhost:8080/"
        },
        "id": "MhIX0xCJleiE",
        "outputId": "3e920016-e5bf-430e-c150-fa92e2ebb403"
      },
      "outputs": [
        {
          "output_type": "execute_result",
          "data": {
            "text/plain": [
              "(3176, 795)"
            ]
          },
          "metadata": {},
          "execution_count": 28
        }
      ],
      "source": [
        "len(df_train),len(df_test)"
      ]
    },
    {
      "cell_type": "code",
      "execution_count": 29,
      "metadata": {
        "id": "ZVqzYHZbleiF"
      },
      "outputs": [],
      "source": [
        "#creating dataset in time series for LSTM model \n",
        "def new_ds(dataset,step):\n",
        "    Xtrain, Ytrain = [], []\n",
        "    for i in range(len(dataset)-step-1):\n",
        "        a = dataset[i:(i+step), 0]\n",
        "        Xtrain.append(a)\n",
        "        Ytrain.append(dataset[i + step, 0])\n",
        "    return np.array(Xtrain), np.array(Ytrain)"
      ]
    },
    {
      "cell_type": "code",
      "execution_count": 30,
      "metadata": {
        "id": "3mTBAdGoleiG"
      },
      "outputs": [],
      "source": [
        "time_stamp = 100\n",
        "X_train, y_train = new_ds(df_train,time_stamp)\n",
        "X_test, y_test = new_ds(df_test,time_stamp)"
      ]
    },
    {
      "cell_type": "code",
      "execution_count": 31,
      "metadata": {
        "colab": {
          "base_uri": "https://localhost:8080/"
        },
        "id": "jQ8WOL5zleiH",
        "outputId": "1b361096-8e7c-4317-ee49-eca8f51f6304"
      },
      "outputs": [
        {
          "output_type": "execute_result",
          "data": {
            "text/plain": [
              "((3075, 100), (3075,))"
            ]
          },
          "metadata": {},
          "execution_count": 31
        }
      ],
      "source": [
        "X_train.shape,y_train.shape"
      ]
    },
    {
      "cell_type": "code",
      "execution_count": 32,
      "metadata": {
        "colab": {
          "base_uri": "https://localhost:8080/"
        },
        "id": "NrPnTREqleiH",
        "outputId": "a3474987-d647-4ac5-8812-167c550188b0"
      },
      "outputs": [
        {
          "output_type": "execute_result",
          "data": {
            "text/plain": [
              "((694, 100), (694,))"
            ]
          },
          "metadata": {},
          "execution_count": 32
        }
      ],
      "source": [
        "X_test.shape, y_test.shape"
      ]
    },
    {
      "cell_type": "code",
      "execution_count": 33,
      "metadata": {
        "id": "CSFrURJCleiI"
      },
      "outputs": [],
      "source": [
        "#Reshaping data to fit into LSTM model\n",
        "X_train = X_train.reshape(X_train.shape[0],X_train.shape[1] , 1)\n",
        "X_test = X_test.reshape(X_test.shape[0],X_test.shape[1] , 1)"
      ]
    },
    {
      "cell_type": "code",
      "source": [
        "# create and fit the LSTM network\n",
        "model = tf.keras.Sequential()\n",
        "model.add(tf.keras.layers.LSTM(50, return_sequences = True, input_shape = (X_train.shape[1], 1)))\n",
        "model.add(tf.keras.layers.Dropout(0.2)) \n",
        "model.add(tf.keras.layers.LSTM(50, return_sequences = True))\n",
        "model.add(tf.keras.layers.Dropout(0.2)) \n",
        "model.add(tf.keras.layers.LSTM(50))\n",
        "model.add(tf.keras.layers.Dense(1, activation='tanh'))\n",
        "\n",
        "model.summary()"
      ],
      "metadata": {
        "colab": {
          "base_uri": "https://localhost:8080/"
        },
        "id": "Iodk3jE0bead",
        "outputId": "931d7a5b-fa04-45a6-ae95-2cfe934ac3cc"
      },
      "execution_count": 34,
      "outputs": [
        {
          "output_type": "stream",
          "name": "stdout",
          "text": [
            "Model: \"sequential\"\n",
            "_________________________________________________________________\n",
            " Layer (type)                Output Shape              Param #   \n",
            "=================================================================\n",
            " lstm (LSTM)                 (None, 100, 50)           10400     \n",
            "                                                                 \n",
            " dropout (Dropout)           (None, 100, 50)           0         \n",
            "                                                                 \n",
            " lstm_1 (LSTM)               (None, 100, 50)           20200     \n",
            "                                                                 \n",
            " dropout_1 (Dropout)         (None, 100, 50)           0         \n",
            "                                                                 \n",
            " lstm_2 (LSTM)               (None, 50)                20200     \n",
            "                                                                 \n",
            " dense (Dense)               (None, 1)                 51        \n",
            "                                                                 \n",
            "=================================================================\n",
            "Total params: 50,851\n",
            "Trainable params: 50,851\n",
            "Non-trainable params: 0\n",
            "_________________________________________________________________\n"
          ]
        }
      ]
    },
    {
      "cell_type": "code",
      "execution_count": 36,
      "metadata": {
        "colab": {
          "base_uri": "https://localhost:8080/"
        },
        "id": "my62TeR1leiJ",
        "outputId": "d1160d78-9f3c-4c7f-8ed8-dcd0e3a7f4e8"
      },
      "outputs": [
        {
          "output_type": "stream",
          "name": "stdout",
          "text": [
            "Epoch 1/150\n",
            "34/34 [==============================] - 15s 257ms/step - loss: 0.1394 - val_loss: 0.1814\n",
            "Epoch 2/150\n",
            "34/34 [==============================] - 7s 211ms/step - loss: 0.1320 - val_loss: 0.1780\n",
            "Epoch 3/150\n",
            "34/34 [==============================] - 7s 214ms/step - loss: 0.1315 - val_loss: 0.1811\n",
            "Epoch 4/150\n",
            "34/34 [==============================] - 7s 214ms/step - loss: 0.1317 - val_loss: 0.1780\n",
            "Epoch 5/150\n",
            "34/34 [==============================] - 7s 217ms/step - loss: 0.1311 - val_loss: 0.1780\n",
            "Epoch 6/150\n",
            "34/34 [==============================] - 7s 213ms/step - loss: 0.1314 - val_loss: 0.1795\n",
            "Epoch 7/150\n",
            "34/34 [==============================] - 8s 225ms/step - loss: 0.1309 - val_loss: 0.1779\n",
            "Epoch 8/150\n",
            "34/34 [==============================] - 9s 256ms/step - loss: 0.1308 - val_loss: 0.1775\n",
            "Epoch 9/150\n",
            "34/34 [==============================] - 7s 217ms/step - loss: 0.1302 - val_loss: 0.1781\n",
            "Epoch 10/150\n",
            "34/34 [==============================] - 8s 228ms/step - loss: 0.1313 - val_loss: 0.1796\n",
            "Epoch 11/150\n",
            "34/34 [==============================] - 8s 227ms/step - loss: 0.1306 - val_loss: 0.1779\n",
            "Epoch 12/150\n",
            "34/34 [==============================] - 8s 221ms/step - loss: 0.1298 - val_loss: 0.1774\n",
            "Epoch 13/150\n",
            "34/34 [==============================] - 8s 223ms/step - loss: 0.1305 - val_loss: 0.1772\n",
            "Epoch 14/150\n",
            "34/34 [==============================] - 7s 220ms/step - loss: 0.1294 - val_loss: 0.1772\n",
            "Epoch 15/150\n",
            "34/34 [==============================] - 8s 231ms/step - loss: 0.1299 - val_loss: 0.1779\n",
            "Epoch 16/150\n",
            "34/34 [==============================] - 7s 220ms/step - loss: 0.1293 - val_loss: 0.1776\n",
            "Epoch 17/150\n",
            "34/34 [==============================] - 7s 220ms/step - loss: 0.1299 - val_loss: 0.1765\n",
            "Epoch 18/150\n",
            "34/34 [==============================] - 7s 218ms/step - loss: 0.1295 - val_loss: 0.1764\n",
            "Epoch 19/150\n",
            "34/34 [==============================] - 7s 218ms/step - loss: 0.1282 - val_loss: 0.1779\n",
            "Epoch 20/150\n",
            "34/34 [==============================] - 7s 217ms/step - loss: 0.1293 - val_loss: 0.1785\n",
            "Epoch 21/150\n",
            "34/34 [==============================] - 7s 217ms/step - loss: 0.1291 - val_loss: 0.1756\n",
            "Epoch 22/150\n",
            "34/34 [==============================] - 8s 248ms/step - loss: 0.1285 - val_loss: 0.1760\n",
            "Epoch 23/150\n",
            "34/34 [==============================] - 8s 221ms/step - loss: 0.1273 - val_loss: 0.1746\n",
            "Epoch 24/150\n",
            "34/34 [==============================] - 7s 218ms/step - loss: 0.1278 - val_loss: 0.1763\n",
            "Epoch 25/150\n",
            "34/34 [==============================] - 7s 220ms/step - loss: 0.1266 - val_loss: 0.1745\n",
            "Epoch 26/150\n",
            "34/34 [==============================] - 7s 219ms/step - loss: 0.1259 - val_loss: 0.1738\n",
            "Epoch 27/150\n",
            "34/34 [==============================] - 7s 216ms/step - loss: 0.1256 - val_loss: 0.1739\n",
            "Epoch 28/150\n",
            "34/34 [==============================] - 7s 221ms/step - loss: 0.1263 - val_loss: 0.1729\n",
            "Epoch 29/150\n",
            "34/34 [==============================] - 7s 219ms/step - loss: 0.1258 - val_loss: 0.1730\n",
            "Epoch 30/150\n",
            "34/34 [==============================] - 7s 218ms/step - loss: 0.1253 - val_loss: 0.1753\n",
            "Epoch 31/150\n",
            "34/34 [==============================] - 7s 215ms/step - loss: 0.1261 - val_loss: 0.1743\n",
            "Epoch 32/150\n",
            "34/34 [==============================] - 8s 225ms/step - loss: 0.1255 - val_loss: 0.1731\n",
            "Epoch 33/150\n",
            "34/34 [==============================] - 8s 227ms/step - loss: 0.1253 - val_loss: 0.1738\n",
            "Epoch 34/150\n",
            "34/34 [==============================] - 7s 214ms/step - loss: 0.1255 - val_loss: 0.1727\n",
            "Epoch 35/150\n",
            "34/34 [==============================] - 7s 216ms/step - loss: 0.1248 - val_loss: 0.1746\n",
            "Epoch 36/150\n",
            "34/34 [==============================] - 8s 247ms/step - loss: 0.1254 - val_loss: 0.1733\n",
            "Epoch 37/150\n",
            "34/34 [==============================] - 7s 216ms/step - loss: 0.1254 - val_loss: 0.1729\n",
            "Epoch 38/150\n",
            "34/34 [==============================] - 7s 220ms/step - loss: 0.1252 - val_loss: 0.1736\n",
            "Epoch 39/150\n",
            "34/34 [==============================] - 7s 218ms/step - loss: 0.1254 - val_loss: 0.1749\n",
            "Epoch 40/150\n",
            "34/34 [==============================] - 7s 220ms/step - loss: 0.1242 - val_loss: 0.1752\n",
            "Epoch 41/150\n",
            "34/34 [==============================] - 7s 216ms/step - loss: 0.1246 - val_loss: 0.1740\n",
            "Epoch 42/150\n",
            "34/34 [==============================] - 7s 218ms/step - loss: 0.1251 - val_loss: 0.1739\n",
            "Epoch 43/150\n",
            "34/34 [==============================] - 7s 217ms/step - loss: 0.1253 - val_loss: 0.1744\n",
            "Epoch 44/150\n",
            "34/34 [==============================] - 7s 217ms/step - loss: 0.1250 - val_loss: 0.1741\n",
            "Epoch 45/150\n",
            "34/34 [==============================] - 7s 220ms/step - loss: 0.1244 - val_loss: 0.1742\n",
            "Epoch 46/150\n",
            "34/34 [==============================] - 8s 221ms/step - loss: 0.1242 - val_loss: 0.1745\n",
            "Epoch 47/150\n",
            "34/34 [==============================] - 7s 219ms/step - loss: 0.1256 - val_loss: 0.1749\n",
            "Epoch 48/150\n",
            "34/34 [==============================] - 7s 219ms/step - loss: 0.1250 - val_loss: 0.1750\n",
            "Epoch 49/150\n",
            "34/34 [==============================] - 7s 217ms/step - loss: 0.1243 - val_loss: 0.1746\n",
            "Epoch 50/150\n",
            "34/34 [==============================] - 8s 223ms/step - loss: 0.1238 - val_loss: 0.1740\n",
            "Epoch 51/150\n",
            "34/34 [==============================] - 8s 224ms/step - loss: 0.1238 - val_loss: 0.1750\n",
            "Epoch 52/150\n",
            "34/34 [==============================] - 7s 216ms/step - loss: 0.1240 - val_loss: 0.1745\n",
            "Epoch 53/150\n",
            "34/34 [==============================] - 7s 218ms/step - loss: 0.1240 - val_loss: 0.1748\n",
            "Epoch 54/150\n",
            "34/34 [==============================] - 7s 217ms/step - loss: 0.1246 - val_loss: 0.1778\n",
            "Epoch 55/150\n",
            "34/34 [==============================] - 7s 218ms/step - loss: 0.1246 - val_loss: 0.1766\n",
            "Epoch 56/150\n",
            "34/34 [==============================] - 7s 218ms/step - loss: 0.1231 - val_loss: 0.1748\n",
            "Epoch 57/150\n",
            "34/34 [==============================] - 7s 219ms/step - loss: 0.1245 - val_loss: 0.1740\n",
            "Epoch 58/150\n",
            "34/34 [==============================] - 7s 220ms/step - loss: 0.1236 - val_loss: 0.1766\n",
            "Epoch 59/150\n",
            "34/34 [==============================] - 7s 220ms/step - loss: 0.1240 - val_loss: 0.1744\n",
            "Epoch 60/150\n",
            "34/34 [==============================] - 7s 218ms/step - loss: 0.1236 - val_loss: 0.1748\n",
            "Epoch 61/150\n",
            "34/34 [==============================] - 7s 218ms/step - loss: 0.1232 - val_loss: 0.1749\n",
            "Epoch 62/150\n",
            "34/34 [==============================] - 7s 219ms/step - loss: 0.1233 - val_loss: 0.1751\n",
            "Epoch 63/150\n",
            "34/34 [==============================] - 7s 221ms/step - loss: 0.1231 - val_loss: 0.1757\n",
            "Epoch 64/150\n",
            "34/34 [==============================] - 7s 220ms/step - loss: 0.1231 - val_loss: 0.1764\n",
            "Epoch 65/150\n",
            "34/34 [==============================] - 7s 218ms/step - loss: 0.1238 - val_loss: 0.1746\n",
            "Epoch 66/150\n",
            "34/34 [==============================] - 8s 224ms/step - loss: 0.1236 - val_loss: 0.1746\n",
            "Epoch 67/150\n",
            "34/34 [==============================] - 7s 218ms/step - loss: 0.1228 - val_loss: 0.1764\n",
            "Epoch 68/150\n",
            "34/34 [==============================] - 8s 225ms/step - loss: 0.1229 - val_loss: 0.1758\n",
            "Epoch 69/150\n",
            "34/34 [==============================] - 7s 218ms/step - loss: 0.1219 - val_loss: 0.1757\n",
            "Epoch 70/150\n",
            "34/34 [==============================] - 8s 224ms/step - loss: 0.1224 - val_loss: 0.1807\n",
            "Epoch 71/150\n",
            "34/34 [==============================] - 7s 220ms/step - loss: 0.1224 - val_loss: 0.1764\n",
            "Epoch 72/150\n",
            "34/34 [==============================] - 7s 217ms/step - loss: 0.1221 - val_loss: 0.1762\n",
            "Epoch 73/150\n",
            "34/34 [==============================] - 7s 221ms/step - loss: 0.1215 - val_loss: 0.1775\n",
            "Epoch 74/150\n",
            "34/34 [==============================] - 7s 220ms/step - loss: 0.1226 - val_loss: 0.1754\n",
            "Epoch 75/150\n",
            "34/34 [==============================] - 7s 219ms/step - loss: 0.1210 - val_loss: 0.1818\n",
            "Epoch 76/150\n",
            "34/34 [==============================] - 8s 245ms/step - loss: 0.1219 - val_loss: 0.1772\n",
            "Epoch 77/150\n",
            "34/34 [==============================] - 7s 219ms/step - loss: 0.1201 - val_loss: 0.1781\n",
            "Epoch 78/150\n",
            "34/34 [==============================] - 7s 220ms/step - loss: 0.1212 - val_loss: 0.1777\n",
            "Epoch 79/150\n",
            "34/34 [==============================] - 7s 221ms/step - loss: 0.1203 - val_loss: 0.1804\n",
            "Epoch 80/150\n",
            "34/34 [==============================] - 7s 217ms/step - loss: 0.1200 - val_loss: 0.1806\n",
            "Epoch 81/150\n",
            "34/34 [==============================] - 7s 216ms/step - loss: 0.1211 - val_loss: 0.1766\n",
            "Epoch 82/150\n",
            "34/34 [==============================] - 7s 217ms/step - loss: 0.1206 - val_loss: 0.1776\n",
            "Epoch 83/150\n",
            "34/34 [==============================] - 7s 220ms/step - loss: 0.1218 - val_loss: 0.1787\n",
            "Epoch 84/150\n",
            "34/34 [==============================] - 7s 220ms/step - loss: 0.1222 - val_loss: 0.1750\n",
            "Epoch 85/150\n",
            "34/34 [==============================] - 7s 218ms/step - loss: 0.1196 - val_loss: 0.1764\n",
            "Epoch 86/150\n",
            "34/34 [==============================] - 7s 217ms/step - loss: 0.1202 - val_loss: 0.1783\n",
            "Epoch 87/150\n",
            "34/34 [==============================] - 7s 220ms/step - loss: 0.1222 - val_loss: 0.1756\n",
            "Epoch 88/150\n",
            "34/34 [==============================] - 8s 223ms/step - loss: 0.1189 - val_loss: 0.1794\n",
            "Epoch 89/150\n",
            "34/34 [==============================] - 7s 220ms/step - loss: 0.1201 - val_loss: 0.1790\n",
            "Epoch 90/150\n",
            "34/34 [==============================] - 8s 222ms/step - loss: 0.1191 - val_loss: 0.1807\n",
            "Epoch 91/150\n",
            "34/34 [==============================] - 7s 219ms/step - loss: 0.1171 - val_loss: 0.1875\n",
            "Epoch 92/150\n",
            "34/34 [==============================] - 7s 220ms/step - loss: 0.1179 - val_loss: 0.1822\n",
            "Epoch 93/150\n",
            "34/34 [==============================] - 7s 218ms/step - loss: 0.1180 - val_loss: 0.1824\n",
            "Epoch 94/150\n",
            "34/34 [==============================] - 7s 217ms/step - loss: 0.1185 - val_loss: 0.1874\n",
            "Epoch 95/150\n",
            "34/34 [==============================] - 7s 219ms/step - loss: 0.1182 - val_loss: 0.1802\n",
            "Epoch 96/150\n",
            "34/34 [==============================] - 8s 223ms/step - loss: 0.1167 - val_loss: 0.1825\n",
            "Epoch 97/150\n",
            "34/34 [==============================] - 7s 218ms/step - loss: 0.1158 - val_loss: 0.1847\n",
            "Epoch 98/150\n",
            "34/34 [==============================] - 7s 216ms/step - loss: 0.1170 - val_loss: 0.1894\n",
            "Epoch 99/150\n",
            "34/34 [==============================] - 7s 217ms/step - loss: 0.1177 - val_loss: 0.1841\n",
            "Epoch 100/150\n",
            "34/34 [==============================] - 7s 216ms/step - loss: 0.1168 - val_loss: 0.1941\n",
            "Epoch 101/150\n",
            "34/34 [==============================] - 7s 218ms/step - loss: 0.1145 - val_loss: 0.1909\n",
            "Epoch 102/150\n",
            "34/34 [==============================] - 7s 216ms/step - loss: 0.1179 - val_loss: 0.1885\n",
            "Epoch 103/150\n",
            "34/34 [==============================] - 7s 216ms/step - loss: 0.1132 - val_loss: 0.1914\n",
            "Epoch 104/150\n",
            "34/34 [==============================] - 7s 219ms/step - loss: 0.1147 - val_loss: 0.1864\n",
            "Epoch 105/150\n",
            "34/34 [==============================] - 7s 221ms/step - loss: 0.1135 - val_loss: 0.1927\n",
            "Epoch 106/150\n",
            "34/34 [==============================] - 8s 227ms/step - loss: 0.1135 - val_loss: 0.1898\n",
            "Epoch 107/150\n",
            "34/34 [==============================] - 7s 221ms/step - loss: 0.1145 - val_loss: 0.1905\n",
            "Epoch 108/150\n",
            "34/34 [==============================] - 8s 223ms/step - loss: 0.1119 - val_loss: 0.1869\n",
            "Epoch 109/150\n",
            "34/34 [==============================] - 7s 219ms/step - loss: 0.1121 - val_loss: 0.1882\n",
            "Epoch 110/150\n",
            "34/34 [==============================] - 7s 220ms/step - loss: 0.1124 - val_loss: 0.1916\n",
            "Epoch 111/150\n",
            "34/34 [==============================] - 7s 218ms/step - loss: 0.1105 - val_loss: 0.1897\n",
            "Epoch 112/150\n",
            "34/34 [==============================] - 7s 220ms/step - loss: 0.1111 - val_loss: 0.1934\n",
            "Epoch 113/150\n",
            "34/34 [==============================] - 7s 217ms/step - loss: 0.1098 - val_loss: 0.1965\n",
            "Epoch 114/150\n",
            "34/34 [==============================] - 7s 219ms/step - loss: 0.1111 - val_loss: 0.1948\n",
            "Epoch 115/150\n",
            "34/34 [==============================] - 7s 217ms/step - loss: 0.1115 - val_loss: 0.2014\n",
            "Epoch 116/150\n",
            "34/34 [==============================] - 7s 216ms/step - loss: 0.1087 - val_loss: 0.1985\n",
            "Epoch 117/150\n",
            "34/34 [==============================] - 7s 218ms/step - loss: 0.1076 - val_loss: 0.1944\n",
            "Epoch 118/150\n",
            "34/34 [==============================] - 8s 246ms/step - loss: 0.1096 - val_loss: 0.1959\n",
            "Epoch 119/150\n",
            "34/34 [==============================] - 7s 218ms/step - loss: 0.1075 - val_loss: 0.1967\n",
            "Epoch 120/150\n",
            "34/34 [==============================] - 7s 219ms/step - loss: 0.1066 - val_loss: 0.2002\n",
            "Epoch 121/150\n",
            "34/34 [==============================] - 7s 217ms/step - loss: 0.1074 - val_loss: 0.1972\n",
            "Epoch 122/150\n",
            "34/34 [==============================] - 7s 219ms/step - loss: 0.1077 - val_loss: 0.2012\n",
            "Epoch 123/150\n",
            "34/34 [==============================] - 8s 222ms/step - loss: 0.1057 - val_loss: 0.2030\n",
            "Epoch 124/150\n",
            "34/34 [==============================] - 7s 219ms/step - loss: 0.1059 - val_loss: 0.2063\n",
            "Epoch 125/150\n",
            "34/34 [==============================] - 7s 219ms/step - loss: 0.1021 - val_loss: 0.2063\n",
            "Epoch 126/150\n",
            "34/34 [==============================] - 7s 221ms/step - loss: 0.1026 - val_loss: 0.2064\n",
            "Epoch 127/150\n",
            "34/34 [==============================] - 8s 223ms/step - loss: 0.1047 - val_loss: 0.2143\n",
            "Epoch 128/150\n",
            "34/34 [==============================] - 7s 220ms/step - loss: 0.1029 - val_loss: 0.2062\n",
            "Epoch 129/150\n",
            "34/34 [==============================] - 7s 221ms/step - loss: 0.1014 - val_loss: 0.2148\n",
            "Epoch 130/150\n",
            "34/34 [==============================] - 7s 218ms/step - loss: 0.1003 - val_loss: 0.2129\n",
            "Epoch 131/150\n",
            "34/34 [==============================] - 8s 222ms/step - loss: 0.0981 - val_loss: 0.2132\n",
            "Epoch 132/150\n",
            "34/34 [==============================] - 7s 221ms/step - loss: 0.0972 - val_loss: 0.2235\n",
            "Epoch 133/150\n",
            "34/34 [==============================] - 7s 215ms/step - loss: 0.0967 - val_loss: 0.2239\n",
            "Epoch 134/150\n",
            "34/34 [==============================] - 7s 218ms/step - loss: 0.0942 - val_loss: 0.2299\n",
            "Epoch 135/150\n",
            "34/34 [==============================] - 7s 221ms/step - loss: 0.0962 - val_loss: 0.2185\n",
            "Epoch 136/150\n",
            "34/34 [==============================] - 8s 224ms/step - loss: 0.0961 - val_loss: 0.2289\n",
            "Epoch 137/150\n",
            "34/34 [==============================] - 7s 217ms/step - loss: 0.0939 - val_loss: 0.2279\n",
            "Epoch 138/150\n",
            "34/34 [==============================] - 7s 219ms/step - loss: 0.0918 - val_loss: 0.2238\n",
            "Epoch 139/150\n",
            "34/34 [==============================] - 7s 220ms/step - loss: 0.0904 - val_loss: 0.2273\n",
            "Epoch 140/150\n",
            "34/34 [==============================] - 7s 219ms/step - loss: 0.0909 - val_loss: 0.2356\n",
            "Epoch 141/150\n",
            "34/34 [==============================] - 7s 220ms/step - loss: 0.0896 - val_loss: 0.2240\n",
            "Epoch 142/150\n",
            "34/34 [==============================] - 7s 220ms/step - loss: 0.0898 - val_loss: 0.2398\n",
            "Epoch 143/150\n",
            "34/34 [==============================] - 7s 217ms/step - loss: 0.0865 - val_loss: 0.2457\n",
            "Epoch 144/150\n",
            "34/34 [==============================] - 7s 218ms/step - loss: 0.0885 - val_loss: 0.2398\n",
            "Epoch 145/150\n",
            "34/34 [==============================] - 7s 219ms/step - loss: 0.0866 - val_loss: 0.2456\n",
            "Epoch 146/150\n",
            "34/34 [==============================] - 7s 220ms/step - loss: 0.0847 - val_loss: 0.2492\n",
            "Epoch 147/150\n",
            "34/34 [==============================] - 7s 221ms/step - loss: 0.0822 - val_loss: 0.2564\n",
            "Epoch 148/150\n",
            "34/34 [==============================] - 7s 218ms/step - loss: 0.0863 - val_loss: 0.2569\n",
            "Epoch 149/150\n",
            "34/34 [==============================] - 7s 221ms/step - loss: 0.0813 - val_loss: 0.2668\n",
            "Epoch 150/150\n",
            "34/34 [==============================] - 7s 220ms/step - loss: 0.0818 - val_loss: 0.2602\n"
          ]
        }
      ],
      "source": [
        "#Training model with adam optimizer and mean squared error loss function\n",
        "optimizer = tf.keras.optimizers.Adam(learning_rate=0.001)\n",
        "model.compile(loss='mse',optimizer=optimizer)\n",
        "history = model.fit(\n",
        "    X_train,y_train,\n",
        "    validation_data=(X_test,y_test),\n",
        "    epochs=150,\n",
        "    batch_size=64,\n",
        "    validation_split=0.3,\n",
        "    verbose=1,\n",
        "    )"
      ]
    },
    {
      "cell_type": "code",
      "source": [
        "# Convert the model.\n",
        "import pathlib\n",
        "\n",
        "export_dir = 'saved_model/1'\n",
        "tf.saved_model.save(model, export_dir)\n",
        "\n",
        "converter = tf.lite.TFLiteConverter.from_saved_model(export_dir)\n",
        "\n",
        "converter.target_spec.supported_ops = [\n",
        "  tf.lite.OpsSet.TFLITE_BUILTINS, # enable TensorFlow Lite ops.\n",
        "  tf.lite.OpsSet.SELECT_TF_OPS # enable TensorFlow ops.\n",
        "]\n",
        "tflite_model = converter.convert()"
      ],
      "metadata": {
        "colab": {
          "base_uri": "https://localhost:8080/"
        },
        "id": "DKzXf35xHiIF",
        "outputId": "c7c94711-2a6b-4af6-cbf2-4f50526b7aa5"
      },
      "execution_count": 37,
      "outputs": [
        {
          "output_type": "stream",
          "name": "stderr",
          "text": [
            "WARNING:absl:Found untraced functions such as lstm_cell_layer_call_fn, lstm_cell_layer_call_and_return_conditional_losses, lstm_cell_1_layer_call_fn, lstm_cell_1_layer_call_and_return_conditional_losses, lstm_cell_2_layer_call_fn while saving (showing 5 of 6). These functions will not be directly callable after loading.\n"
          ]
        },
        {
          "output_type": "stream",
          "name": "stdout",
          "text": [
            "INFO:tensorflow:Assets written to: saved_model/1/assets\n"
          ]
        },
        {
          "output_type": "stream",
          "name": "stderr",
          "text": [
            "INFO:tensorflow:Assets written to: saved_model/1/assets\n",
            "WARNING:absl:Buffer deduplication procedure will be skipped when flatbuffer library is not properly loaded\n"
          ]
        }
      ]
    },
    {
      "cell_type": "code",
      "source": [
        "tflite_model_file = pathlib.Path('model.tflite')\n",
        "tflite_model_file.write_bytes(tflite_model)"
      ],
      "metadata": {
        "colab": {
          "base_uri": "https://localhost:8080/"
        },
        "id": "MBlOhhvjHk5I",
        "outputId": "cef32e20-388c-4551-d761-c471858af134"
      },
      "execution_count": 38,
      "outputs": [
        {
          "output_type": "execute_result",
          "data": {
            "text/plain": [
              "228016"
            ]
          },
          "metadata": {},
          "execution_count": 38
        }
      ]
    },
    {
      "cell_type": "code",
      "source": [
        "# Load TFLite model and allocate tensors.\n",
        "interpreter = tf.lite.Interpreter(model_content=tflite_model)\n",
        "interpreter.allocate_tensors()\n",
        "\n",
        "# Get input and output tensors.\n",
        "input_details = interpreter.get_input_details()\n",
        "output_details = interpreter.get_output_details()"
      ],
      "metadata": {
        "id": "GN5U2knvHntr"
      },
      "execution_count": 39,
      "outputs": []
    },
    {
      "cell_type": "code",
      "execution_count": 40,
      "metadata": {
        "colab": {
          "base_uri": "https://localhost:8080/",
          "height": 282
        },
        "id": "qMmkh35hleiK",
        "outputId": "0bfa4326-a47d-4881-c292-c693b3a44839"
      },
      "outputs": [
        {
          "output_type": "execute_result",
          "data": {
            "text/plain": [
              "[<matplotlib.lines.Line2D at 0x7f2e473fb310>]"
            ]
          },
          "metadata": {},
          "execution_count": 40
        },
        {
          "output_type": "display_data",
          "data": {
            "text/plain": [
              "<Figure size 432x288 with 1 Axes>"
            ],
            "image/png": "[encoded data removed]"
          },
          "metadata": {
            "needs_background": "light"
          }
        }
      ],
      "source": [
        "#PLotting loss, it shows that loss has decreased significantly and model trained well\n",
        "loss = model.history.history['loss']\n",
        "plt.plot(loss)"
      ]
    },
    {
      "cell_type": "code",
      "execution_count": 41,
      "metadata": {
        "id": "CVbk-AcOleiK"
      },
      "outputs": [],
      "source": [
        "#Predicitng on train and test data\n",
        "train_predict = model.predict(X_train)\n",
        "test_predict = model.predict(X_test)"
      ]
    },
    {
      "cell_type": "code",
      "execution_count": 42,
      "metadata": {
        "id": "X5knBt-bleiL"
      },
      "outputs": [],
      "source": [
        "#Inverse transform to get actual value\n",
        "train_predict = normalizer.inverse_transform(train_predict)\n",
        "test_predict = normalizer.inverse_transform(test_predict)"
      ]
    },
    {
      "cell_type": "code",
      "execution_count": 43,
      "metadata": {
        "colab": {
          "base_uri": "https://localhost:8080/",
          "height": 282
        },
        "id": "3pkeowaRleiL",
        "outputId": "8ef7a67b-89e0-4959-b483-1de31ad4816f"
      },
      "outputs": [
        {
          "output_type": "execute_result",
          "data": {
            "text/plain": [
              "[<matplotlib.lines.Line2D at 0x7f2e4640f050>]"
            ]
          },
          "metadata": {},
          "execution_count": 43
        },
        {
          "output_type": "display_data",
          "data": {
            "text/plain": [
              "<Figure size 432x288 with 1 Axes>"
            ],
            "image/png": "[encoded data removed]"
          },
          "metadata": {
            "needs_background": "light"
          }
        }
      ],
      "source": [
        "#Comparing using visuals\n",
        "plt.plot(normalizer.inverse_transform(df_scaled))\n",
        "plt.plot(train_predict) #Orange Training\n",
        "plt.plot(test_predict) #Green Testing"
      ]
    },
    {
      "cell_type": "code",
      "execution_count": 44,
      "metadata": {
        "id": "aVuUNeOKleiL",
        "colab": {
          "base_uri": "https://localhost:8080/"
        },
        "outputId": "8b3f3819-cfd7-43ee-b242-c2f2a822a2c3"
      },
      "outputs": [
        {
          "output_type": "execute_result",
          "data": {
            "text/plain": [
              "numpy.ndarray"
            ]
          },
          "metadata": {},
          "execution_count": 44
        }
      ],
      "source": [
        "type(train_predict)"
      ]
    },
    {
      "cell_type": "code",
      "execution_count": 45,
      "metadata": {
        "id": "7fxYv4vhleiL"
      },
      "outputs": [],
      "source": [
        "test = np.vstack((train_predict,test_predict))"
      ]
    },
    {
      "cell_type": "code",
      "execution_count": 46,
      "metadata": {
        "id": "yPX8nlf7leiL",
        "colab": {
          "base_uri": "https://localhost:8080/",
          "height": 282
        },
        "outputId": "a79d0652-d42f-4cb1-e06d-c1bf2541ebdf"
      },
      "outputs": [
        {
          "output_type": "execute_result",
          "data": {
            "text/plain": [
              "[<matplotlib.lines.Line2D at 0x7f2e45e64650>]"
            ]
          },
          "metadata": {},
          "execution_count": 46
        },
        {
          "output_type": "display_data",
          "data": {
            "text/plain": [
              "<Figure size 432x288 with 1 Axes>"
            ],
            "image/png": "[encoded data removed]"
          },
          "metadata": {
            "needs_background": "light"
          }
        }
      ],
      "source": [
        "#Combining the predited data to create uniform data visualization\n",
        "plt.plot(normalizer.inverse_transform(df_scaled))\n",
        "plt.plot(test)"
      ]
    },
    {
      "cell_type": "code",
      "execution_count": 47,
      "metadata": {
        "id": "HVAgcrdzleiM",
        "colab": {
          "base_uri": "https://localhost:8080/"
        },
        "outputId": "3daa2970-665a-42a8-fd09-767205a950ce"
      },
      "outputs": [
        {
          "output_type": "execute_result",
          "data": {
            "text/plain": [
              "795"
            ]
          },
          "metadata": {},
          "execution_count": 47
        }
      ],
      "source": [
        "len(df_test)"
      ]
    },
    {
      "cell_type": "code",
      "execution_count": 48,
      "metadata": {
        "id": "lBjcWihnleiN",
        "colab": {
          "base_uri": "https://localhost:8080/"
        },
        "outputId": "4c812965-0891-4d9f-9423-cc0b1628ffe6"
      },
      "outputs": [
        {
          "output_type": "execute_result",
          "data": {
            "text/plain": [
              "(1, 100)"
            ]
          },
          "metadata": {},
          "execution_count": 48
        }
      ],
      "source": [
        "#Getting the last 100 days records\n",
        "fut_inp = df_test[len(df_test)-100:]\n",
        "fut_inp = fut_inp.reshape(1,-1)\n",
        "\n",
        "fut_inp.shape"
      ]
    },
    {
      "cell_type": "code",
      "execution_count": 49,
      "metadata": {
        "id": "GCSPTQfvleiN"
      },
      "outputs": [],
      "source": [
        "#Creating list of the last 100 data\n",
        "tmp_inp = list(fut_inp)\n",
        "tmp_inp = tmp_inp[0].tolist()"
      ]
    },
    {
      "cell_type": "code",
      "execution_count": 50,
      "metadata": {
        "id": "qkBwY0RFleiP",
        "colab": {
          "base_uri": "https://localhost:8080/"
        },
        "outputId": "ca7d181c-c114-4ddb-dda0-b953fc84b760"
      },
      "outputs": [
        {
          "output_type": "stream",
          "name": "stdout",
          "text": [
            "Difference is 159 days\n"
          ]
        }
      ],
      "source": [
        "from datetime import datetime\n",
        "\n",
        "# Predicting from last date of dataset untill today\n",
        "date_dataset = '2021/12/31'\n",
        "date_today = '2022/06/08'\n",
        "\n",
        "# convert string to date object\n",
        "d1 = datetime.strptime(date_dataset, \"%Y/%m/%d\")\n",
        "d2 = datetime.strptime(date_today, \"%Y/%m/%d\")\n",
        "\n",
        "# difference between dates in timedelta\n",
        "delta = d2 - d1\n",
        "delta = int(delta.days)\n",
        "print(f'Difference is {delta} days')"
      ]
    },
    {
      "cell_type": "code",
      "execution_count": 51,
      "metadata": {
        "id": "Ptv9yATHleiP",
        "colab": {
          "base_uri": "https://localhost:8080/"
        },
        "outputId": "ddb2bec2-42f4-4696-c75f-7263bbc23bd6"
      },
      "outputs": [
        {
          "output_type": "stream",
          "name": "stdout",
          "text": [
            "[[-0.020037025213241577], [-0.030311962589621544], [0.008463440462946892], [0.09261194616556168], [0.18884502351284027], [0.24509814381599426], [0.2214936465024948], [0.13996876776218414], [0.032653190195560455], [-0.016444748267531395], [-0.019675910472869873], [-0.014466227032244205], [-0.015497813932597637], [-0.01940782181918621], [-0.01911911368370056], [-0.00958779826760292], [0.011980182491242886], [0.04703177511692047], [0.09339664876461029], [0.14117346704006195], [0.17323558032512665], [0.17659929394721985], [0.16108964383602142], [0.16828781366348267], [0.13054493069648743], [0.09961400926113129], [0.08009610325098038], [0.07083676755428314], [0.06890279799699783], [0.07371445000171661], [0.08754695951938629], [0.11343314498662949], [0.10452650487422943], [0.09858104586601257], [0.08105508983135223], [0.062306296080350876], [0.051049672067165375], [0.04940436780452728], [0.054068777710199356], [0.05299963429570198], [0.05743344873189926], [0.06399755924940109], [0.07041508704423904], [0.07502853125333786], [0.07699164003133774], [0.07631638646125793], [0.07366204261779785], [0.06990208476781845], [0.06578650325536728], [0.061797916889190674], [0.05820606276392937], [0.055458612740039825], [0.05435975268483162], [0.05537020042538643], [0.058635156601667404], [0.06373083591461182], [0.06965039670467377], [0.07486116886138916], [0.0807715505361557], [0.0800776258111], [0.07433459162712097], [0.07823541760444641], [0.0775420144200325], [0.07491108775138855], [0.07244112342596054], [0.06701512634754181], [0.07282191514968872], [0.0758671686053276], [0.07887136191129684], [0.08316279202699661], [0.07965333759784698], [0.07421071082353592], [0.0677458792924881], [0.06144103407859802], [0.0559166744351387], [0.05199223756790161], [0.05350764840841293], [0.04866953194141388], [0.044679053127765656], [0.0414663664996624], [0.03903535008430481], [0.03745681792497635], [0.03711625933647156], [0.03998439759016037], [0.037731461226940155], [0.03510153293609619], [0.032141026109457016], [0.02899709716439247], [0.02587074227631092], [0.023112919181585312], [0.021179139614105225], [0.020533913746476173], [0.022000400349497795], [0.026985658332705498], [0.03788131847977638], [0.060707107186317444], [0.07517432421445847], [0.07685528695583344], [0.07555527240037918], [0.07271552830934525], [0.07015010714530945], [0.06850139051675797], [0.06919648498296738], [0.07380837947130203], [0.08188619464635849], [0.09089498221874237], [0.09829270094633102], [0.10273914784193039], [0.10355433076620102], [0.10101369023323059], [0.09709218889474869], [0.09340064227581024], [0.09042558819055557], [0.08788265287876129], [0.08508384972810745], [0.081124447286129], [0.07556387037038803], [0.06896275281906128], [0.06244278699159622], [0.05690273270010948], [0.05251394212245941], [0.048897143453359604], [0.045510433614254], [0.04201216623187065], [0.038714874535799026], [0.035057198256254196], [0.03125416859984398], [0.027647852897644043], [0.024536583572626114], [0.022112218663096428], [0.020555801689624786], [0.02021775394678116], [0.021743427962064743], [0.024576952680945396], [0.028721945360302925], [0.033453505486249924], [0.038276348263025284], [0.04326726496219635], [0.04882713034749031], [0.05520860478281975], [0.061978645622730255], [0.06914521753787994], [0.07638641446828842], [0.08318968862295151], [0.08903948217630386], [0.09361259639263153], [0.09687390923500061], [0.09903376549482346], [0.10040696710348129], [0.10126573592424393], [0.10175744444131851], [0.10189979523420334], [0.10162822902202606], [0.10085318237543106], [0.09949042648077011], [0.09746760129928589], [0.0947154238820076], [0.09116481989622116], [0.08675485104322433]]\n"
          ]
        }
      ],
      "source": [
        "#Predicting next 30 days price suing the current data\n",
        "#It will predict in sliding window manner (algorithm) with stride 1\n",
        "lst_output=[]\n",
        "i=0\n",
        "while(i<delta):\n",
        "    \n",
        "    if(len(tmp_inp)>100):\n",
        "        fut_inp = np.array(tmp_inp[1:])\n",
        "        fut_inp=fut_inp.reshape(1,-1)\n",
        "        fut_inp = fut_inp.reshape((1, time_stamp, 1))\n",
        "        yhat = model.predict(fut_inp, verbose=0)\n",
        "        tmp_inp.extend(yhat[0].tolist())\n",
        "        tmp_inp = tmp_inp[1:]\n",
        "        lst_output.extend(yhat.tolist())\n",
        "        i=i+1\n",
        "    else:\n",
        "        fut_inp = fut_inp.reshape((1, time_stamp,1))\n",
        "        yhat = model.predict(fut_inp, verbose=0)\n",
        "        tmp_inp.extend(yhat[0].tolist())\n",
        "        lst_output.extend(yhat.tolist())\n",
        "        i=i+1\n",
        "    \n",
        "\n",
        "print(lst_output)"
      ]
    },
    {
      "cell_type": "code",
      "execution_count": 52,
      "metadata": {
        "id": "NwvxsuEzleiP",
        "colab": {
          "base_uri": "https://localhost:8080/"
        },
        "outputId": "fdd427c9-9467-4d8f-c782-d7930343a4d2"
      },
      "outputs": [
        {
          "output_type": "stream",
          "name": "stdout",
          "text": [
            "Polusi = Baik ke Sedang\n"
          ]
        }
      ],
      "source": [
        "hasil = normalizer.inverse_transform(lst_output)\n",
        "hasil = np.array(hasil)\n",
        "hasil = hasil[-1]\n",
        "hasil_float = hasil.astype(np.float32)\n",
        "polusi = int(hasil_float)\n",
        "\n",
        "# df.replace({'SEDANG':2, 'BAIK':1, 'TIDAK SEHAT':3, 'SANGAT TIDAK SEHAT':4,'BERBAHAYA':5}, inplace=True)\n",
        "\n",
        "if polusi >= 1 and polusi < 2:\n",
        "    print(\"Polusi = Baik ke Sedang\")\n",
        "elif polusi >= 2 and polusi < 3:\n",
        "    print(\"Polusi = Sedang ke Tidak Sehat, Pakailah Maskerr !! \")\n",
        "elif polusi >= 3 and polusi < 4:\n",
        "    print(\"Polusi = Tidak Sehat, Pakailah Maskerr !!\")\n",
        "elif polusi >= 4 and polusi < 5:\n",
        "    print(\"Polusi = Sangat Tidak Sehat, Pakailah Maskerr !!\")\n",
        "elif polusi >= 5:\n",
        "    print(\"Polusi = Berbahaya, Pakailah Maskerr !!\")\n"
      ]
    },
    {
      "cell_type": "code",
      "execution_count": 53,
      "metadata": {
        "id": "rCkR645AleiQ",
        "colab": {
          "base_uri": "https://localhost:8080/"
        },
        "outputId": "89322c40-b3ff-49b7-8da0-260afb3c2072"
      },
      "outputs": [
        {
          "output_type": "execute_result",
          "data": {
            "text/plain": [
              "3971"
            ]
          },
          "metadata": {},
          "execution_count": 53
        }
      ],
      "source": [
        "len(df_scaled)"
      ]
    },
    {
      "cell_type": "code",
      "execution_count": 54,
      "metadata": {
        "id": "493ZUJlGleiQ"
      },
      "outputs": [],
      "source": [
        "#Creating a dummy plane to plot graph one after another\n",
        "plot_new=np.arange(1,time_stamp+1)\n",
        "plot_pred=np.arange(time_stamp+1,time_stamp+1+delta)"
      ]
    },
    {
      "cell_type": "code",
      "execution_count": 55,
      "metadata": {
        "id": "LhzbG6bqleiQ",
        "colab": {
          "base_uri": "https://localhost:8080/",
          "height": 282
        },
        "outputId": "f3045c73-128e-41df-b660-3469baaa55ef"
      },
      "outputs": [
        {
          "output_type": "execute_result",
          "data": {
            "text/plain": [
              "[<matplotlib.lines.Line2D at 0x7f2e47dc9a90>]"
            ]
          },
          "metadata": {},
          "execution_count": 55
        },
        {
          "output_type": "display_data",
          "data": {
            "text/plain": [
              "<Figure size 432x288 with 1 Axes>"
            ],
            "image/png": "[encoded data removed]"
          },
          "metadata": {
            "needs_background": "light"
          }
        }
      ],
      "source": [
        "plt.plot(plot_new, normalizer.inverse_transform(df_scaled[len(df_scaled)-time_stamp:]))\n",
        "plt.plot(plot_pred, normalizer.inverse_transform(lst_output))"
      ]
    },
    {
      "cell_type": "code",
      "execution_count": 56,
      "metadata": {
        "id": "o8KUfceIleiR"
      },
      "outputs": [],
      "source": [
        "df_new = df_scaled.tolist()"
      ]
    },
    {
      "cell_type": "code",
      "execution_count": 57,
      "metadata": {
        "id": "v3gBMKdUleiS",
        "colab": {
          "base_uri": "https://localhost:8080/"
        },
        "outputId": "06c51017-7358-4e61-96bf-bc9ab8c9f31e"
      },
      "outputs": [
        {
          "output_type": "execute_result",
          "data": {
            "text/plain": [
              "3971"
            ]
          },
          "metadata": {},
          "execution_count": 57
        }
      ],
      "source": [
        "len(df_new)"
      ]
    },
    {
      "cell_type": "code",
      "execution_count": 58,
      "metadata": {
        "id": "DGM27914leiS",
        "colab": {
          "base_uri": "https://localhost:8080/",
          "height": 282
        },
        "outputId": "39b315eb-3440-459b-9591-e1258efd0643"
      },
      "outputs": [
        {
          "output_type": "execute_result",
          "data": {
            "text/plain": [
              "[<matplotlib.lines.Line2D at 0x7f2e45da8650>]"
            ]
          },
          "metadata": {},
          "execution_count": 58
        },
        {
          "output_type": "display_data",
          "data": {
            "text/plain": [
              "<Figure size 432x288 with 1 Axes>"
            ],
            "image/png": "[encoded data removed]"
          },
          "metadata": {
            "needs_background": "light"
          }
        }
      ],
      "source": [
        "#Entends helps us to fill the missing value with approx value\n",
        "df_new.extend(lst_output)\n",
        "plt.plot(df_new[1200:])"
      ]
    },
    {
      "cell_type": "code",
      "execution_count": 59,
      "metadata": {
        "id": "4MMr7Vx4leiS"
      },
      "outputs": [],
      "source": [
        "#Creating final data for plotting\n",
        "final_graph = normalizer.inverse_transform(df_new).tolist()"
      ]
    },
    {
      "cell_type": "code",
      "execution_count": 60,
      "metadata": {
        "id": "uSRhAsFzleiT",
        "colab": {
          "base_uri": "https://localhost:8080/",
          "height": 330
        },
        "outputId": "0217bae8-5ef8-4162-eb5a-66ddfa17cc74"
      },
      "outputs": [
        {
          "output_type": "stream",
          "name": "stderr",
          "text": [
            "WARNING:matplotlib.legend:No handles with labels found to put in legend.\n"
          ]
        },
        {
          "output_type": "execute_result",
          "data": {
            "text/plain": [
              "<matplotlib.legend.Legend at 0x7f2e4664f750>"
            ]
          },
          "metadata": {},
          "execution_count": 60
        },
        {
          "output_type": "display_data",
          "data": {
            "text/plain": [
              "<Figure size 432x288 with 1 Axes>"
            ],
            "image/png": "[encoded data removed]"
          },
          "metadata": {
            "needs_background": "light"
          }
        }
      ],
      "source": [
        "#Plotting final results with predicted value till today\n",
        "plt.plot(final_graph,)\n",
        "plt.ylabel(\"Categori\")\n",
        "plt.xlabel(\"Tanggal\")\n",
        "plt.title(\"Prediction of untill today\")\n",
        "plt.legend()"
      ]
    }
  ],
  "metadata": {
    "interpreter": {
      "hash": "8d3239b25ededd7d9b1a1fa3bd2e049ae98e52b15a9d9529dc2638ca6ba1baef"
    },
    "kernelspec": {
      "display_name": "Python 3.8.8 ('base')",
      "language": "python",
      "name": "python3"
    },
    "language_info": {
      "codemirror_mode": {
        "name": "ipython",
        "version": 3
      },
      "file_extension": ".py",
      "mimetype": "text/x-python",
      "name": "python",
      "nbconvert_exporter": "python",
      "pygments_lexer": "ipython3",
      "version": "3.9.12"
    },
    "orig_nbformat": 4,
    "colab": {
      "name": "modeling LSTM, non knn data, act tanh.ipynb",
      "provenance": [],
      "collapsed_sections": []
    }
  },
  "nbformat": 4,
  "nbformat_minor": 0
}