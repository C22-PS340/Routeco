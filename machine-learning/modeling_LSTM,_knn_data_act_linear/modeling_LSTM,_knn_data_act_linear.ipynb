{
  "cells": [
    {
      "cell_type": "code",
      "execution_count": 1,
      "metadata": {
        "id": "K31lYtpQlehr"
      },
      "outputs": [],
      "source": [
        "import pandas as pd\n",
        "import numpy as np\n",
        "import seaborn as sns\n",
        "import keras\n",
        "import tensorflow as tf\n",
        "import matplotlib.pyplot as plt\n",
        "%matplotlib inline\n",
        "from matplotlib.pylab import rcParams\n",
        "rcParams['figure.figsize']=20,10\n",
        "from keras.models import Sequential\n",
        "from keras.layers import LSTM,Dropout,Dense\n",
        "from sklearn.preprocessing import MinMaxScaler"
      ]
    },
    {
      "cell_type": "code",
      "execution_count": 2,
      "metadata": {
        "colab": {
          "base_uri": "https://localhost:8080/",
          "height": 424
        },
        "id": "UwMQWUtFlehv",
        "outputId": "157b3ff8-cd8e-4ff2-8ab1-f59680db2952"
      },
      "outputs": [
        {
          "output_type": "execute_result",
          "data": {
            "text/plain": [
              "      Unnamed: 0     tanggal  pm10   so2    co    o3   no2    max  critical  \\\n",
              "0              0  2010-01-01  28.0  16.0  42.0   6.0  14.0    0.0       5.0   \n",
              "1              1  2010-01-02  28.0  16.0  42.0   6.0  14.0    0.0       5.0   \n",
              "2              2  2010-01-03  28.0  16.0  42.0   6.0  14.0    0.0       5.0   \n",
              "3              3  2010-01-04  28.0  16.0  42.0   6.0  14.0    0.0       5.0   \n",
              "4              4  2010-01-05  28.0  16.0  42.0   6.0  14.0    0.0       5.0   \n",
              "...          ...         ...   ...   ...   ...   ...   ...    ...       ...   \n",
              "4378        4378  2021-12-27  75.0  35.0  23.0  38.0  21.0  116.0       1.0   \n",
              "4379        4379  2021-12-28  51.0  42.0  13.0  17.0  18.0   74.0       1.0   \n",
              "4380        4380  2021-12-29  47.0  21.0  12.0  20.0   9.0   54.0       1.0   \n",
              "4381        4381  2021-12-30  60.0  21.0  15.0  19.0  13.0   60.0       3.0   \n",
              "4382        4382  2021-12-31  64.0  21.0  44.0  17.0   7.0   64.0       3.0   \n",
              "\n",
              "      categori  \n",
              "0          2.0  \n",
              "1          2.0  \n",
              "2          2.0  \n",
              "3          2.0  \n",
              "4          2.0  \n",
              "...        ...  \n",
              "4378       3.0  \n",
              "4379       1.0  \n",
              "4380       1.0  \n",
              "4381       1.0  \n",
              "4382       1.0  \n",
              "\n",
              "[4383 rows x 10 columns]"
            ],
            "text/html": [
              "\n",
              "  <div id=\"df-399d3e05-976c-4537-9177-17fe689d56e1\">\n",
              "    <div class=\"colab-df-container\">\n",
              "      <div>\n",
              "<style scoped>\n",
              "    .dataframe tbody tr th:only-of-type {\n",
              "        vertical-align: middle;\n",
              "    }\n",
              "\n",
              "    .dataframe tbody tr th {\n",
              "        vertical-align: top;\n",
              "    }\n",
              "\n",
              "    .dataframe thead th {\n",
              "        text-align: right;\n",
              "    }\n",
              "</style>\n",
              "<table border=\"1\" class=\"dataframe\">\n",
              "  <thead>\n",
              "    <tr style=\"text-align: right;\">\n",
              "      <th></th>\n",
              "      <th>Unnamed: 0</th>\n",
              "      <th>tanggal</th>\n",
              "      <th>pm10</th>\n",
              "      <th>so2</th>\n",
              "      <th>co</th>\n",
              "      <th>o3</th>\n",
              "      <th>no2</th>\n",
              "      <th>max</th>\n",
              "      <th>critical</th>\n",
              "      <th>categori</th>\n",
              "    </tr>\n",
              "  </thead>\n",
              "  <tbody>\n",
              "    <tr>\n",
              "      <th>0</th>\n",
              "      <td>0</td>\n",
              "      <td>2010-01-01</td>\n",
              "      <td>28.0</td>\n",
              "      <td>16.0</td>\n",
              "      <td>42.0</td>\n",
              "      <td>6.0</td>\n",
              "      <td>14.0</td>\n",
              "      <td>0.0</td>\n",
              "      <td>5.0</td>\n",
              "      <td>2.0</td>\n",
              "    </tr>\n",
              "    <tr>\n",
              "      <th>1</th>\n",
              "      <td>1</td>\n",
              "      <td>2010-01-02</td>\n",
              "      <td>28.0</td>\n",
              "      <td>16.0</td>\n",
              "      <td>42.0</td>\n",
              "      <td>6.0</td>\n",
              "      <td>14.0</td>\n",
              "      <td>0.0</td>\n",
              "      <td>5.0</td>\n",
              "      <td>2.0</td>\n",
              "    </tr>\n",
              "    <tr>\n",
              "      <th>2</th>\n",
              "      <td>2</td>\n",
              "      <td>2010-01-03</td>\n",
              "      <td>28.0</td>\n",
              "      <td>16.0</td>\n",
              "      <td>42.0</td>\n",
              "      <td>6.0</td>\n",
              "      <td>14.0</td>\n",
              "      <td>0.0</td>\n",
              "      <td>5.0</td>\n",
              "      <td>2.0</td>\n",
              "    </tr>\n",
              "    <tr>\n",
              "      <th>3</th>\n",
              "      <td>3</td>\n",
              "      <td>2010-01-04</td>\n",
              "      <td>28.0</td>\n",
              "      <td>16.0</td>\n",
              "      <td>42.0</td>\n",
              "      <td>6.0</td>\n",
              "      <td>14.0</td>\n",
              "      <td>0.0</td>\n",
              "      <td>5.0</td>\n",
              "      <td>2.0</td>\n",
              "    </tr>\n",
              "    <tr>\n",
              "      <th>4</th>\n",
              "      <td>4</td>\n",
              "      <td>2010-01-05</td>\n",
              "      <td>28.0</td>\n",
              "      <td>16.0</td>\n",
              "      <td>42.0</td>\n",
              "      <td>6.0</td>\n",
              "      <td>14.0</td>\n",
              "      <td>0.0</td>\n",
              "      <td>5.0</td>\n",
              "      <td>2.0</td>\n",
              "    </tr>\n",
              "    <tr>\n",
              "      <th>...</th>\n",
              "      <td>...</td>\n",
              "      <td>...</td>\n",
              "      <td>...</td>\n",
              "      <td>...</td>\n",
              "      <td>...</td>\n",
              "      <td>...</td>\n",
              "      <td>...</td>\n",
              "      <td>...</td>\n",
              "      <td>...</td>\n",
              "      <td>...</td>\n",
              "    </tr>\n",
              "    <tr>\n",
              "      <th>4378</th>\n",
              "      <td>4378</td>\n",
              "      <td>2021-12-27</td>\n",
              "      <td>75.0</td>\n",
              "      <td>35.0</td>\n",
              "      <td>23.0</td>\n",
              "      <td>38.0</td>\n",
              "      <td>21.0</td>\n",
              "      <td>116.0</td>\n",
              "      <td>1.0</td>\n",
              "      <td>3.0</td>\n",
              "    </tr>\n",
              "    <tr>\n",
              "      <th>4379</th>\n",
              "      <td>4379</td>\n",
              "      <td>2021-12-28</td>\n",
              "      <td>51.0</td>\n",
              "      <td>42.0</td>\n",
              "      <td>13.0</td>\n",
              "      <td>17.0</td>\n",
              "      <td>18.0</td>\n",
              "      <td>74.0</td>\n",
              "      <td>1.0</td>\n",
              "      <td>1.0</td>\n",
              "    </tr>\n",
              "    <tr>\n",
              "      <th>4380</th>\n",
              "      <td>4380</td>\n",
              "      <td>2021-12-29</td>\n",
              "      <td>47.0</td>\n",
              "      <td>21.0</td>\n",
              "      <td>12.0</td>\n",
              "      <td>20.0</td>\n",
              "      <td>9.0</td>\n",
              "      <td>54.0</td>\n",
              "      <td>1.0</td>\n",
              "      <td>1.0</td>\n",
              "    </tr>\n",
              "    <tr>\n",
              "      <th>4381</th>\n",
              "      <td>4381</td>\n",
              "      <td>2021-12-30</td>\n",
              "      <td>60.0</td>\n",
              "      <td>21.0</td>\n",
              "      <td>15.0</td>\n",
              "      <td>19.0</td>\n",
              "      <td>13.0</td>\n",
              "      <td>60.0</td>\n",
              "      <td>3.0</td>\n",
              "      <td>1.0</td>\n",
              "    </tr>\n",
              "    <tr>\n",
              "      <th>4382</th>\n",
              "      <td>4382</td>\n",
              "      <td>2021-12-31</td>\n",
              "      <td>64.0</td>\n",
              "      <td>21.0</td>\n",
              "      <td>44.0</td>\n",
              "      <td>17.0</td>\n",
              "      <td>7.0</td>\n",
              "      <td>64.0</td>\n",
              "      <td>3.0</td>\n",
              "      <td>1.0</td>\n",
              "    </tr>\n",
              "  </tbody>\n",
              "</table>\n",
              "<p>4383 rows × 10 columns</p>\n",
              "</div>\n",
              "      <button class=\"colab-df-convert\" onclick=\"convertToInteractive('df-399d3e05-976c-4537-9177-17fe689d56e1')\"\n",
              "              title=\"Convert this dataframe to an interactive table.\"\n",
              "              style=\"display:none;\">\n",
              "        \n",
              "  <svg xmlns=\"http://www.w3.org/2000/svg\" height=\"24px\"viewBox=\"0 0 24 24\"\n",
              "       width=\"24px\">\n",
              "    <path d=\"M0 0h24v24H0V0z\" fill=\"none\"/>\n",
              "    <path d=\"M18.56 5.44l.94 2.06.94-2.06 2.06-.94-2.06-.94-.94-2.06-.94 2.06-2.06.94zm-11 1L8.5 8.5l.94-2.06 2.06-.94-2.06-.94L8.5 2.5l-.94 2.06-2.06.94zm10 10l.94 2.06.94-2.06 2.06-.94-2.06-.94-.94-2.06-.94 2.06-2.06.94z\"/><path d=\"M17.41 7.96l-1.37-1.37c-.4-.4-.92-.59-1.43-.59-.52 0-1.04.2-1.43.59L10.3 9.45l-7.72 7.72c-.78.78-.78 2.05 0 2.83L4 21.41c.39.39.9.59 1.41.59.51 0 1.02-.2 1.41-.59l7.78-7.78 2.81-2.81c.8-.78.8-2.07 0-2.86zM5.41 20L4 18.59l7.72-7.72 1.47 1.35L5.41 20z\"/>\n",
              "  </svg>\n",
              "      </button>\n",
              "      \n",
              "  <style>\n",
              "    .colab-df-container {\n",
              "      display:flex;\n",
              "      flex-wrap:wrap;\n",
              "      gap: 12px;\n",
              "    }\n",
              "\n",
              "    .colab-df-convert {\n",
              "      background-color: #E8F0FE;\n",
              "      border: none;\n",
              "      border-radius: 50%;\n",
              "      cursor: pointer;\n",
              "      display: none;\n",
              "      fill: #1967D2;\n",
              "      height: 32px;\n",
              "      padding: 0 0 0 0;\n",
              "      width: 32px;\n",
              "    }\n",
              "\n",
              "    .colab-df-convert:hover {\n",
              "      background-color: #E2EBFA;\n",
              "      box-shadow: 0px 1px 2px rgba(60, 64, 67, 0.3), 0px 1px 3px 1px rgba(60, 64, 67, 0.15);\n",
              "      fill: #174EA6;\n",
              "    }\n",
              "\n",
              "    [theme=dark] .colab-df-convert {\n",
              "      background-color: #3B4455;\n",
              "      fill: #D2E3FC;\n",
              "    }\n",
              "\n",
              "    [theme=dark] .colab-df-convert:hover {\n",
              "      background-color: #434B5C;\n",
              "      box-shadow: 0px 1px 3px 1px rgba(0, 0, 0, 0.15);\n",
              "      filter: drop-shadow(0px 1px 2px rgba(0, 0, 0, 0.3));\n",
              "      fill: #FFFFFF;\n",
              "    }\n",
              "  </style>\n",
              "\n",
              "      <script>\n",
              "        const buttonEl =\n",
              "          document.querySelector('#df-399d3e05-976c-4537-9177-17fe689d56e1 button.colab-df-convert');\n",
              "        buttonEl.style.display =\n",
              "          google.colab.kernel.accessAllowed ? 'block' : 'none';\n",
              "\n",
              "        async function convertToInteractive(key) {\n",
              "          const element = document.querySelector('#df-399d3e05-976c-4537-9177-17fe689d56e1');\n",
              "          const dataTable =\n",
              "            await google.colab.kernel.invokeFunction('convertToInteractive',\n",
              "                                                     [key], {});\n",
              "          if (!dataTable) return;\n",
              "\n",
              "          const docLinkHtml = 'Like what you see? Visit the ' +\n",
              "            '<a target=\"_blank\" href=https://colab.research.google.com/notebooks/data_table.ipynb>data table notebook</a>'\n",
              "            + ' to learn more about interactive tables.';\n",
              "          element.innerHTML = '';\n",
              "          dataTable['output_type'] = 'display_data';\n",
              "          await google.colab.output.renderOutput(dataTable, element);\n",
              "          const docLink = document.createElement('div');\n",
              "          docLink.innerHTML = docLinkHtml;\n",
              "          element.appendChild(docLink);\n",
              "        }\n",
              "      </script>\n",
              "    </div>\n",
              "  </div>\n",
              "  "
            ]
          },
          "metadata": {},
          "execution_count": 2
        }
      ],
      "source": [
        "df = pd.read_csv('polusi-jaksel-2010-2021-knn-full-labeled.csv')\n",
        "df"
      ]
    },
    {
      "cell_type": "code",
      "execution_count": 3,
      "metadata": {
        "colab": {
          "base_uri": "https://localhost:8080/",
          "height": 206
        },
        "id": "mMM0DX0Llehx",
        "outputId": "b8771688-afec-460a-b705-c8d1f57a0190"
      },
      "outputs": [
        {
          "output_type": "execute_result",
          "data": {
            "text/plain": [
              "      tanggal  categori\n",
              "0  2010-01-01       2.0\n",
              "1  2010-01-02       2.0\n",
              "2  2010-01-03       2.0\n",
              "3  2010-01-04       2.0\n",
              "4  2010-01-05       2.0"
            ],
            "text/html": [
              "\n",
              "  <div id=\"df-f3626b1b-ba7d-4ff4-93cb-a7c130ee089e\">\n",
              "    <div class=\"colab-df-container\">\n",
              "      <div>\n",
              "<style scoped>\n",
              "    .dataframe tbody tr th:only-of-type {\n",
              "        vertical-align: middle;\n",
              "    }\n",
              "\n",
              "    .dataframe tbody tr th {\n",
              "        vertical-align: top;\n",
              "    }\n",
              "\n",
              "    .dataframe thead th {\n",
              "        text-align: right;\n",
              "    }\n",
              "</style>\n",
              "<table border=\"1\" class=\"dataframe\">\n",
              "  <thead>\n",
              "    <tr style=\"text-align: right;\">\n",
              "      <th></th>\n",
              "      <th>tanggal</th>\n",
              "      <th>categori</th>\n",
              "    </tr>\n",
              "  </thead>\n",
              "  <tbody>\n",
              "    <tr>\n",
              "      <th>0</th>\n",
              "      <td>2010-01-01</td>\n",
              "      <td>2.0</td>\n",
              "    </tr>\n",
              "    <tr>\n",
              "      <th>1</th>\n",
              "      <td>2010-01-02</td>\n",
              "      <td>2.0</td>\n",
              "    </tr>\n",
              "    <tr>\n",
              "      <th>2</th>\n",
              "      <td>2010-01-03</td>\n",
              "      <td>2.0</td>\n",
              "    </tr>\n",
              "    <tr>\n",
              "      <th>3</th>\n",
              "      <td>2010-01-04</td>\n",
              "      <td>2.0</td>\n",
              "    </tr>\n",
              "    <tr>\n",
              "      <th>4</th>\n",
              "      <td>2010-01-05</td>\n",
              "      <td>2.0</td>\n",
              "    </tr>\n",
              "  </tbody>\n",
              "</table>\n",
              "</div>\n",
              "      <button class=\"colab-df-convert\" onclick=\"convertToInteractive('df-f3626b1b-ba7d-4ff4-93cb-a7c130ee089e')\"\n",
              "              title=\"Convert this dataframe to an interactive table.\"\n",
              "              style=\"display:none;\">\n",
              "        \n",
              "  <svg xmlns=\"http://www.w3.org/2000/svg\" height=\"24px\"viewBox=\"0 0 24 24\"\n",
              "       width=\"24px\">\n",
              "    <path d=\"M0 0h24v24H0V0z\" fill=\"none\"/>\n",
              "    <path d=\"M18.56 5.44l.94 2.06.94-2.06 2.06-.94-2.06-.94-.94-2.06-.94 2.06-2.06.94zm-11 1L8.5 8.5l.94-2.06 2.06-.94-2.06-.94L8.5 2.5l-.94 2.06-2.06.94zm10 10l.94 2.06.94-2.06 2.06-.94-2.06-.94-.94-2.06-.94 2.06-2.06.94z\"/><path d=\"M17.41 7.96l-1.37-1.37c-.4-.4-.92-.59-1.43-.59-.52 0-1.04.2-1.43.59L10.3 9.45l-7.72 7.72c-.78.78-.78 2.05 0 2.83L4 21.41c.39.39.9.59 1.41.59.51 0 1.02-.2 1.41-.59l7.78-7.78 2.81-2.81c.8-.78.8-2.07 0-2.86zM5.41 20L4 18.59l7.72-7.72 1.47 1.35L5.41 20z\"/>\n",
              "  </svg>\n",
              "      </button>\n",
              "      \n",
              "  <style>\n",
              "    .colab-df-container {\n",
              "      display:flex;\n",
              "      flex-wrap:wrap;\n",
              "      gap: 12px;\n",
              "    }\n",
              "\n",
              "    .colab-df-convert {\n",
              "      background-color: #E8F0FE;\n",
              "      border: none;\n",
              "      border-radius: 50%;\n",
              "      cursor: pointer;\n",
              "      display: none;\n",
              "      fill: #1967D2;\n",
              "      height: 32px;\n",
              "      padding: 0 0 0 0;\n",
              "      width: 32px;\n",
              "    }\n",
              "\n",
              "    .colab-df-convert:hover {\n",
              "      background-color: #E2EBFA;\n",
              "      box-shadow: 0px 1px 2px rgba(60, 64, 67, 0.3), 0px 1px 3px 1px rgba(60, 64, 67, 0.15);\n",
              "      fill: #174EA6;\n",
              "    }\n",
              "\n",
              "    [theme=dark] .colab-df-convert {\n",
              "      background-color: #3B4455;\n",
              "      fill: #D2E3FC;\n",
              "    }\n",
              "\n",
              "    [theme=dark] .colab-df-convert:hover {\n",
              "      background-color: #434B5C;\n",
              "      box-shadow: 0px 1px 3px 1px rgba(0, 0, 0, 0.15);\n",
              "      filter: drop-shadow(0px 1px 2px rgba(0, 0, 0, 0.3));\n",
              "      fill: #FFFFFF;\n",
              "    }\n",
              "  </style>\n",
              "\n",
              "      <script>\n",
              "        const buttonEl =\n",
              "          document.querySelector('#df-f3626b1b-ba7d-4ff4-93cb-a7c130ee089e button.colab-df-convert');\n",
              "        buttonEl.style.display =\n",
              "          google.colab.kernel.accessAllowed ? 'block' : 'none';\n",
              "\n",
              "        async function convertToInteractive(key) {\n",
              "          const element = document.querySelector('#df-f3626b1b-ba7d-4ff4-93cb-a7c130ee089e');\n",
              "          const dataTable =\n",
              "            await google.colab.kernel.invokeFunction('convertToInteractive',\n",
              "                                                     [key], {});\n",
              "          if (!dataTable) return;\n",
              "\n",
              "          const docLinkHtml = 'Like what you see? Visit the ' +\n",
              "            '<a target=\"_blank\" href=https://colab.research.google.com/notebooks/data_table.ipynb>data table notebook</a>'\n",
              "            + ' to learn more about interactive tables.';\n",
              "          element.innerHTML = '';\n",
              "          dataTable['output_type'] = 'display_data';\n",
              "          await google.colab.output.renderOutput(dataTable, element);\n",
              "          const docLink = document.createElement('div');\n",
              "          docLink.innerHTML = docLinkHtml;\n",
              "          element.appendChild(docLink);\n",
              "        }\n",
              "      </script>\n",
              "    </div>\n",
              "  </div>\n",
              "  "
            ]
          },
          "metadata": {},
          "execution_count": 3
        }
      ],
      "source": [
        "# categori : 'SEDANG':2, 'BAIK':1, 'TIDAK SEHAT':3, 'SANGAT TIDAK SEHAT':4,'BERBAHAYA':5\n",
        "df = df[['tanggal', 'categori']]\n",
        "df.head()"
      ]
    },
    {
      "cell_type": "code",
      "execution_count": 4,
      "metadata": {
        "colab": {
          "base_uri": "https://localhost:8080/",
          "height": 206
        },
        "id": "hfx2_m5Slehy",
        "outputId": "f2ace4a3-5295-4a1e-f732-49df85721a3b"
      },
      "outputs": [
        {
          "output_type": "execute_result",
          "data": {
            "text/plain": [
              "         tanggal  categori\n",
              "4378  2021-12-27       3.0\n",
              "4379  2021-12-28       1.0\n",
              "4380  2021-12-29       1.0\n",
              "4381  2021-12-30       1.0\n",
              "4382  2021-12-31       1.0"
            ],
            "text/html": [
              "\n",
              "  <div id=\"df-bcfe1a8c-aa15-4528-8bc4-40b6f48a68b2\">\n",
              "    <div class=\"colab-df-container\">\n",
              "      <div>\n",
              "<style scoped>\n",
              "    .dataframe tbody tr th:only-of-type {\n",
              "        vertical-align: middle;\n",
              "    }\n",
              "\n",
              "    .dataframe tbody tr th {\n",
              "        vertical-align: top;\n",
              "    }\n",
              "\n",
              "    .dataframe thead th {\n",
              "        text-align: right;\n",
              "    }\n",
              "</style>\n",
              "<table border=\"1\" class=\"dataframe\">\n",
              "  <thead>\n",
              "    <tr style=\"text-align: right;\">\n",
              "      <th></th>\n",
              "      <th>tanggal</th>\n",
              "      <th>categori</th>\n",
              "    </tr>\n",
              "  </thead>\n",
              "  <tbody>\n",
              "    <tr>\n",
              "      <th>4378</th>\n",
              "      <td>2021-12-27</td>\n",
              "      <td>3.0</td>\n",
              "    </tr>\n",
              "    <tr>\n",
              "      <th>4379</th>\n",
              "      <td>2021-12-28</td>\n",
              "      <td>1.0</td>\n",
              "    </tr>\n",
              "    <tr>\n",
              "      <th>4380</th>\n",
              "      <td>2021-12-29</td>\n",
              "      <td>1.0</td>\n",
              "    </tr>\n",
              "    <tr>\n",
              "      <th>4381</th>\n",
              "      <td>2021-12-30</td>\n",
              "      <td>1.0</td>\n",
              "    </tr>\n",
              "    <tr>\n",
              "      <th>4382</th>\n",
              "      <td>2021-12-31</td>\n",
              "      <td>1.0</td>\n",
              "    </tr>\n",
              "  </tbody>\n",
              "</table>\n",
              "</div>\n",
              "      <button class=\"colab-df-convert\" onclick=\"convertToInteractive('df-bcfe1a8c-aa15-4528-8bc4-40b6f48a68b2')\"\n",
              "              title=\"Convert this dataframe to an interactive table.\"\n",
              "              style=\"display:none;\">\n",
              "        \n",
              "  <svg xmlns=\"http://www.w3.org/2000/svg\" height=\"24px\"viewBox=\"0 0 24 24\"\n",
              "       width=\"24px\">\n",
              "    <path d=\"M0 0h24v24H0V0z\" fill=\"none\"/>\n",
              "    <path d=\"M18.56 5.44l.94 2.06.94-2.06 2.06-.94-2.06-.94-.94-2.06-.94 2.06-2.06.94zm-11 1L8.5 8.5l.94-2.06 2.06-.94-2.06-.94L8.5 2.5l-.94 2.06-2.06.94zm10 10l.94 2.06.94-2.06 2.06-.94-2.06-.94-.94-2.06-.94 2.06-2.06.94z\"/><path d=\"M17.41 7.96l-1.37-1.37c-.4-.4-.92-.59-1.43-.59-.52 0-1.04.2-1.43.59L10.3 9.45l-7.72 7.72c-.78.78-.78 2.05 0 2.83L4 21.41c.39.39.9.59 1.41.59.51 0 1.02-.2 1.41-.59l7.78-7.78 2.81-2.81c.8-.78.8-2.07 0-2.86zM5.41 20L4 18.59l7.72-7.72 1.47 1.35L5.41 20z\"/>\n",
              "  </svg>\n",
              "      </button>\n",
              "      \n",
              "  <style>\n",
              "    .colab-df-container {\n",
              "      display:flex;\n",
              "      flex-wrap:wrap;\n",
              "      gap: 12px;\n",
              "    }\n",
              "\n",
              "    .colab-df-convert {\n",
              "      background-color: #E8F0FE;\n",
              "      border: none;\n",
              "      border-radius: 50%;\n",
              "      cursor: pointer;\n",
              "      display: none;\n",
              "      fill: #1967D2;\n",
              "      height: 32px;\n",
              "      padding: 0 0 0 0;\n",
              "      width: 32px;\n",
              "    }\n",
              "\n",
              "    .colab-df-convert:hover {\n",
              "      background-color: #E2EBFA;\n",
              "      box-shadow: 0px 1px 2px rgba(60, 64, 67, 0.3), 0px 1px 3px 1px rgba(60, 64, 67, 0.15);\n",
              "      fill: #174EA6;\n",
              "    }\n",
              "\n",
              "    [theme=dark] .colab-df-convert {\n",
              "      background-color: #3B4455;\n",
              "      fill: #D2E3FC;\n",
              "    }\n",
              "\n",
              "    [theme=dark] .colab-df-convert:hover {\n",
              "      background-color: #434B5C;\n",
              "      box-shadow: 0px 1px 3px 1px rgba(0, 0, 0, 0.15);\n",
              "      filter: drop-shadow(0px 1px 2px rgba(0, 0, 0, 0.3));\n",
              "      fill: #FFFFFF;\n",
              "    }\n",
              "  </style>\n",
              "\n",
              "      <script>\n",
              "        const buttonEl =\n",
              "          document.querySelector('#df-bcfe1a8c-aa15-4528-8bc4-40b6f48a68b2 button.colab-df-convert');\n",
              "        buttonEl.style.display =\n",
              "          google.colab.kernel.accessAllowed ? 'block' : 'none';\n",
              "\n",
              "        async function convertToInteractive(key) {\n",
              "          const element = document.querySelector('#df-bcfe1a8c-aa15-4528-8bc4-40b6f48a68b2');\n",
              "          const dataTable =\n",
              "            await google.colab.kernel.invokeFunction('convertToInteractive',\n",
              "                                                     [key], {});\n",
              "          if (!dataTable) return;\n",
              "\n",
              "          const docLinkHtml = 'Like what you see? Visit the ' +\n",
              "            '<a target=\"_blank\" href=https://colab.research.google.com/notebooks/data_table.ipynb>data table notebook</a>'\n",
              "            + ' to learn more about interactive tables.';\n",
              "          element.innerHTML = '';\n",
              "          dataTable['output_type'] = 'display_data';\n",
              "          await google.colab.output.renderOutput(dataTable, element);\n",
              "          const docLink = document.createElement('div');\n",
              "          docLink.innerHTML = docLinkHtml;\n",
              "          element.appendChild(docLink);\n",
              "        }\n",
              "      </script>\n",
              "    </div>\n",
              "  </div>\n",
              "  "
            ]
          },
          "metadata": {},
          "execution_count": 4
        }
      ],
      "source": [
        "df.tail()"
      ]
    },
    {
      "cell_type": "code",
      "execution_count": 5,
      "metadata": {
        "colab": {
          "base_uri": "https://localhost:8080/"
        },
        "id": "6rkP3E5Gleh1",
        "outputId": "4adf899c-2756-40d4-bf96-856825bce7fe"
      },
      "outputs": [
        {
          "output_type": "execute_result",
          "data": {
            "text/plain": [
              "tanggal      object\n",
              "categori    float64\n",
              "dtype: object"
            ]
          },
          "metadata": {},
          "execution_count": 5
        }
      ],
      "source": [
        "df.dtypes"
      ]
    },
    {
      "cell_type": "code",
      "source": [
        "df.dtypes"
      ],
      "metadata": {
        "colab": {
          "base_uri": "https://localhost:8080/"
        },
        "id": "5sJW8SedHZKd",
        "outputId": "3ea0f57c-6123-43c2-ec28-0dff33582056"
      },
      "execution_count": 6,
      "outputs": [
        {
          "output_type": "execute_result",
          "data": {
            "text/plain": [
              "tanggal      object\n",
              "categori    float64\n",
              "dtype: object"
            ]
          },
          "metadata": {},
          "execution_count": 6
        }
      ]
    },
    {
      "cell_type": "code",
      "execution_count": 7,
      "metadata": {
        "colab": {
          "base_uri": "https://localhost:8080/"
        },
        "id": "u_TQWYReleh4",
        "outputId": "8a72ab40-a587-4a4e-d815-2daebe6c5093"
      },
      "outputs": [
        {
          "output_type": "execute_result",
          "data": {
            "text/plain": [
              "tanggal     datetime64[ns]\n",
              "categori           float64\n",
              "dtype: object"
            ]
          },
          "metadata": {},
          "execution_count": 7
        }
      ],
      "source": [
        "df = df.astype({\"categori\": float})\n",
        "df[\"tanggal\"] = pd.to_datetime(df.tanggal, format=\"%Y-%m-%d\")\n",
        "\n",
        "df.dtypes"
      ]
    },
    {
      "cell_type": "code",
      "execution_count": 8,
      "metadata": {
        "id": "6Vhbw90dleh5"
      },
      "outputs": [],
      "source": [
        "df.index = df['tanggal']"
      ]
    },
    {
      "cell_type": "code",
      "execution_count": 9,
      "metadata": {
        "colab": {
          "base_uri": "https://localhost:8080/",
          "height": 455
        },
        "id": "9LB-R6gIleh7",
        "outputId": "eb3eb35f-c532-41de-dc1e-997bbe08a32e"
      },
      "outputs": [
        {
          "output_type": "execute_result",
          "data": {
            "text/plain": [
              "              tanggal  categori\n",
              "tanggal                        \n",
              "2010-01-01 2010-01-01       2.0\n",
              "2010-01-02 2010-01-02       2.0\n",
              "2010-01-03 2010-01-03       2.0\n",
              "2010-01-04 2010-01-04       2.0\n",
              "2010-01-05 2010-01-05       2.0\n",
              "...               ...       ...\n",
              "2021-12-27 2021-12-27       3.0\n",
              "2021-12-28 2021-12-28       1.0\n",
              "2021-12-29 2021-12-29       1.0\n",
              "2021-12-30 2021-12-30       1.0\n",
              "2021-12-31 2021-12-31       1.0\n",
              "\n",
              "[4383 rows x 2 columns]"
            ],
            "text/html": [
              "\n",
              "  <div id=\"df-bde00afa-93c7-4dd0-961f-96dddef12908\">\n",
              "    <div class=\"colab-df-container\">\n",
              "      <div>\n",
              "<style scoped>\n",
              "    .dataframe tbody tr th:only-of-type {\n",
              "        vertical-align: middle;\n",
              "    }\n",
              "\n",
              "    .dataframe tbody tr th {\n",
              "        vertical-align: top;\n",
              "    }\n",
              "\n",
              "    .dataframe thead th {\n",
              "        text-align: right;\n",
              "    }\n",
              "</style>\n",
              "<table border=\"1\" class=\"dataframe\">\n",
              "  <thead>\n",
              "    <tr style=\"text-align: right;\">\n",
              "      <th></th>\n",
              "      <th>tanggal</th>\n",
              "      <th>categori</th>\n",
              "    </tr>\n",
              "    <tr>\n",
              "      <th>tanggal</th>\n",
              "      <th></th>\n",
              "      <th></th>\n",
              "    </tr>\n",
              "  </thead>\n",
              "  <tbody>\n",
              "    <tr>\n",
              "      <th>2010-01-01</th>\n",
              "      <td>2010-01-01</td>\n",
              "      <td>2.0</td>\n",
              "    </tr>\n",
              "    <tr>\n",
              "      <th>2010-01-02</th>\n",
              "      <td>2010-01-02</td>\n",
              "      <td>2.0</td>\n",
              "    </tr>\n",
              "    <tr>\n",
              "      <th>2010-01-03</th>\n",
              "      <td>2010-01-03</td>\n",
              "      <td>2.0</td>\n",
              "    </tr>\n",
              "    <tr>\n",
              "      <th>2010-01-04</th>\n",
              "      <td>2010-01-04</td>\n",
              "      <td>2.0</td>\n",
              "    </tr>\n",
              "    <tr>\n",
              "      <th>2010-01-05</th>\n",
              "      <td>2010-01-05</td>\n",
              "      <td>2.0</td>\n",
              "    </tr>\n",
              "    <tr>\n",
              "      <th>...</th>\n",
              "      <td>...</td>\n",
              "      <td>...</td>\n",
              "    </tr>\n",
              "    <tr>\n",
              "      <th>2021-12-27</th>\n",
              "      <td>2021-12-27</td>\n",
              "      <td>3.0</td>\n",
              "    </tr>\n",
              "    <tr>\n",
              "      <th>2021-12-28</th>\n",
              "      <td>2021-12-28</td>\n",
              "      <td>1.0</td>\n",
              "    </tr>\n",
              "    <tr>\n",
              "      <th>2021-12-29</th>\n",
              "      <td>2021-12-29</td>\n",
              "      <td>1.0</td>\n",
              "    </tr>\n",
              "    <tr>\n",
              "      <th>2021-12-30</th>\n",
              "      <td>2021-12-30</td>\n",
              "      <td>1.0</td>\n",
              "    </tr>\n",
              "    <tr>\n",
              "      <th>2021-12-31</th>\n",
              "      <td>2021-12-31</td>\n",
              "      <td>1.0</td>\n",
              "    </tr>\n",
              "  </tbody>\n",
              "</table>\n",
              "<p>4383 rows × 2 columns</p>\n",
              "</div>\n",
              "      <button class=\"colab-df-convert\" onclick=\"convertToInteractive('df-bde00afa-93c7-4dd0-961f-96dddef12908')\"\n",
              "              title=\"Convert this dataframe to an interactive table.\"\n",
              "              style=\"display:none;\">\n",
              "        \n",
              "  <svg xmlns=\"http://www.w3.org/2000/svg\" height=\"24px\"viewBox=\"0 0 24 24\"\n",
              "       width=\"24px\">\n",
              "    <path d=\"M0 0h24v24H0V0z\" fill=\"none\"/>\n",
              "    <path d=\"M18.56 5.44l.94 2.06.94-2.06 2.06-.94-2.06-.94-.94-2.06-.94 2.06-2.06.94zm-11 1L8.5 8.5l.94-2.06 2.06-.94-2.06-.94L8.5 2.5l-.94 2.06-2.06.94zm10 10l.94 2.06.94-2.06 2.06-.94-2.06-.94-.94-2.06-.94 2.06-2.06.94z\"/><path d=\"M17.41 7.96l-1.37-1.37c-.4-.4-.92-.59-1.43-.59-.52 0-1.04.2-1.43.59L10.3 9.45l-7.72 7.72c-.78.78-.78 2.05 0 2.83L4 21.41c.39.39.9.59 1.41.59.51 0 1.02-.2 1.41-.59l7.78-7.78 2.81-2.81c.8-.78.8-2.07 0-2.86zM5.41 20L4 18.59l7.72-7.72 1.47 1.35L5.41 20z\"/>\n",
              "  </svg>\n",
              "      </button>\n",
              "      \n",
              "  <style>\n",
              "    .colab-df-container {\n",
              "      display:flex;\n",
              "      flex-wrap:wrap;\n",
              "      gap: 12px;\n",
              "    }\n",
              "\n",
              "    .colab-df-convert {\n",
              "      background-color: #E8F0FE;\n",
              "      border: none;\n",
              "      border-radius: 50%;\n",
              "      cursor: pointer;\n",
              "      display: none;\n",
              "      fill: #1967D2;\n",
              "      height: 32px;\n",
              "      padding: 0 0 0 0;\n",
              "      width: 32px;\n",
              "    }\n",
              "\n",
              "    .colab-df-convert:hover {\n",
              "      background-color: #E2EBFA;\n",
              "      box-shadow: 0px 1px 2px rgba(60, 64, 67, 0.3), 0px 1px 3px 1px rgba(60, 64, 67, 0.15);\n",
              "      fill: #174EA6;\n",
              "    }\n",
              "\n",
              "    [theme=dark] .colab-df-convert {\n",
              "      background-color: #3B4455;\n",
              "      fill: #D2E3FC;\n",
              "    }\n",
              "\n",
              "    [theme=dark] .colab-df-convert:hover {\n",
              "      background-color: #434B5C;\n",
              "      box-shadow: 0px 1px 3px 1px rgba(0, 0, 0, 0.15);\n",
              "      filter: drop-shadow(0px 1px 2px rgba(0, 0, 0, 0.3));\n",
              "      fill: #FFFFFF;\n",
              "    }\n",
              "  </style>\n",
              "\n",
              "      <script>\n",
              "        const buttonEl =\n",
              "          document.querySelector('#df-bde00afa-93c7-4dd0-961f-96dddef12908 button.colab-df-convert');\n",
              "        buttonEl.style.display =\n",
              "          google.colab.kernel.accessAllowed ? 'block' : 'none';\n",
              "\n",
              "        async function convertToInteractive(key) {\n",
              "          const element = document.querySelector('#df-bde00afa-93c7-4dd0-961f-96dddef12908');\n",
              "          const dataTable =\n",
              "            await google.colab.kernel.invokeFunction('convertToInteractive',\n",
              "                                                     [key], {});\n",
              "          if (!dataTable) return;\n",
              "\n",
              "          const docLinkHtml = 'Like what you see? Visit the ' +\n",
              "            '<a target=\"_blank\" href=https://colab.research.google.com/notebooks/data_table.ipynb>data table notebook</a>'\n",
              "            + ' to learn more about interactive tables.';\n",
              "          element.innerHTML = '';\n",
              "          dataTable['output_type'] = 'display_data';\n",
              "          await google.colab.output.renderOutput(dataTable, element);\n",
              "          const docLink = document.createElement('div');\n",
              "          docLink.innerHTML = docLinkHtml;\n",
              "          element.appendChild(docLink);\n",
              "        }\n",
              "      </script>\n",
              "    </div>\n",
              "  </div>\n",
              "  "
            ]
          },
          "metadata": {},
          "execution_count": 9
        }
      ],
      "source": [
        "df"
      ]
    },
    {
      "cell_type": "code",
      "source": [
        "df.describe()"
      ],
      "metadata": {
        "colab": {
          "base_uri": "https://localhost:8080/",
          "height": 300
        },
        "id": "jGKbuD_hH0x2",
        "outputId": "93413e4a-89ad-49a8-c838-b47d4d4f28e0"
      },
      "execution_count": 10,
      "outputs": [
        {
          "output_type": "execute_result",
          "data": {
            "text/plain": [
              "          categori\n",
              "count  4383.000000\n",
              "mean      1.573866\n",
              "std       0.742810\n",
              "min       1.000000\n",
              "25%       1.000000\n",
              "50%       1.000000\n",
              "75%       2.000000\n",
              "max       4.000000"
            ],
            "text/html": [
              "\n",
              "  <div id=\"df-1dc46a72-e7db-463b-8752-c0fb7292c08d\">\n",
              "    <div class=\"colab-df-container\">\n",
              "      <div>\n",
              "<style scoped>\n",
              "    .dataframe tbody tr th:only-of-type {\n",
              "        vertical-align: middle;\n",
              "    }\n",
              "\n",
              "    .dataframe tbody tr th {\n",
              "        vertical-align: top;\n",
              "    }\n",
              "\n",
              "    .dataframe thead th {\n",
              "        text-align: right;\n",
              "    }\n",
              "</style>\n",
              "<table border=\"1\" class=\"dataframe\">\n",
              "  <thead>\n",
              "    <tr style=\"text-align: right;\">\n",
              "      <th></th>\n",
              "      <th>categori</th>\n",
              "    </tr>\n",
              "  </thead>\n",
              "  <tbody>\n",
              "    <tr>\n",
              "      <th>count</th>\n",
              "      <td>4383.000000</td>\n",
              "    </tr>\n",
              "    <tr>\n",
              "      <th>mean</th>\n",
              "      <td>1.573866</td>\n",
              "    </tr>\n",
              "    <tr>\n",
              "      <th>std</th>\n",
              "      <td>0.742810</td>\n",
              "    </tr>\n",
              "    <tr>\n",
              "      <th>min</th>\n",
              "      <td>1.000000</td>\n",
              "    </tr>\n",
              "    <tr>\n",
              "      <th>25%</th>\n",
              "      <td>1.000000</td>\n",
              "    </tr>\n",
              "    <tr>\n",
              "      <th>50%</th>\n",
              "      <td>1.000000</td>\n",
              "    </tr>\n",
              "    <tr>\n",
              "      <th>75%</th>\n",
              "      <td>2.000000</td>\n",
              "    </tr>\n",
              "    <tr>\n",
              "      <th>max</th>\n",
              "      <td>4.000000</td>\n",
              "    </tr>\n",
              "  </tbody>\n",
              "</table>\n",
              "</div>\n",
              "      <button class=\"colab-df-convert\" onclick=\"convertToInteractive('df-1dc46a72-e7db-463b-8752-c0fb7292c08d')\"\n",
              "              title=\"Convert this dataframe to an interactive table.\"\n",
              "              style=\"display:none;\">\n",
              "        \n",
              "  <svg xmlns=\"http://www.w3.org/2000/svg\" height=\"24px\"viewBox=\"0 0 24 24\"\n",
              "       width=\"24px\">\n",
              "    <path d=\"M0 0h24v24H0V0z\" fill=\"none\"/>\n",
              "    <path d=\"M18.56 5.44l.94 2.06.94-2.06 2.06-.94-2.06-.94-.94-2.06-.94 2.06-2.06.94zm-11 1L8.5 8.5l.94-2.06 2.06-.94-2.06-.94L8.5 2.5l-.94 2.06-2.06.94zm10 10l.94 2.06.94-2.06 2.06-.94-2.06-.94-.94-2.06-.94 2.06-2.06.94z\"/><path d=\"M17.41 7.96l-1.37-1.37c-.4-.4-.92-.59-1.43-.59-.52 0-1.04.2-1.43.59L10.3 9.45l-7.72 7.72c-.78.78-.78 2.05 0 2.83L4 21.41c.39.39.9.59 1.41.59.51 0 1.02-.2 1.41-.59l7.78-7.78 2.81-2.81c.8-.78.8-2.07 0-2.86zM5.41 20L4 18.59l7.72-7.72 1.47 1.35L5.41 20z\"/>\n",
              "  </svg>\n",
              "      </button>\n",
              "      \n",
              "  <style>\n",
              "    .colab-df-container {\n",
              "      display:flex;\n",
              "      flex-wrap:wrap;\n",
              "      gap: 12px;\n",
              "    }\n",
              "\n",
              "    .colab-df-convert {\n",
              "      background-color: #E8F0FE;\n",
              "      border: none;\n",
              "      border-radius: 50%;\n",
              "      cursor: pointer;\n",
              "      display: none;\n",
              "      fill: #1967D2;\n",
              "      height: 32px;\n",
              "      padding: 0 0 0 0;\n",
              "      width: 32px;\n",
              "    }\n",
              "\n",
              "    .colab-df-convert:hover {\n",
              "      background-color: #E2EBFA;\n",
              "      box-shadow: 0px 1px 2px rgba(60, 64, 67, 0.3), 0px 1px 3px 1px rgba(60, 64, 67, 0.15);\n",
              "      fill: #174EA6;\n",
              "    }\n",
              "\n",
              "    [theme=dark] .colab-df-convert {\n",
              "      background-color: #3B4455;\n",
              "      fill: #D2E3FC;\n",
              "    }\n",
              "\n",
              "    [theme=dark] .colab-df-convert:hover {\n",
              "      background-color: #434B5C;\n",
              "      box-shadow: 0px 1px 3px 1px rgba(0, 0, 0, 0.15);\n",
              "      filter: drop-shadow(0px 1px 2px rgba(0, 0, 0, 0.3));\n",
              "      fill: #FFFFFF;\n",
              "    }\n",
              "  </style>\n",
              "\n",
              "      <script>\n",
              "        const buttonEl =\n",
              "          document.querySelector('#df-1dc46a72-e7db-463b-8752-c0fb7292c08d button.colab-df-convert');\n",
              "        buttonEl.style.display =\n",
              "          google.colab.kernel.accessAllowed ? 'block' : 'none';\n",
              "\n",
              "        async function convertToInteractive(key) {\n",
              "          const element = document.querySelector('#df-1dc46a72-e7db-463b-8752-c0fb7292c08d');\n",
              "          const dataTable =\n",
              "            await google.colab.kernel.invokeFunction('convertToInteractive',\n",
              "                                                     [key], {});\n",
              "          if (!dataTable) return;\n",
              "\n",
              "          const docLinkHtml = 'Like what you see? Visit the ' +\n",
              "            '<a target=\"_blank\" href=https://colab.research.google.com/notebooks/data_table.ipynb>data table notebook</a>'\n",
              "            + ' to learn more about interactive tables.';\n",
              "          element.innerHTML = '';\n",
              "          dataTable['output_type'] = 'display_data';\n",
              "          await google.colab.output.renderOutput(dataTable, element);\n",
              "          const docLink = document.createElement('div');\n",
              "          docLink.innerHTML = docLinkHtml;\n",
              "          element.appendChild(docLink);\n",
              "        }\n",
              "      </script>\n",
              "    </div>\n",
              "  </div>\n",
              "  "
            ]
          },
          "metadata": {},
          "execution_count": 10
        }
      ]
    },
    {
      "cell_type": "code",
      "source": [
        "plt.figure(figsize = (10, 5))\n",
        "sns.boxplot(df['categori']) \n",
        "plt.annotate('Outlier', (df['categori'].describe()['max'],0.1), xytext = (df['categori'].describe()['max'],0.3), \n",
        "             arrowprops = dict(facecolor = 'blue'), fontsize = 13 ) \n",
        "\n",
        "IQR = df['categori'].describe()['75%'] - df['categori'].describe()['25%']"
      ],
      "metadata": {
        "colab": {
          "base_uri": "https://localhost:8080/",
          "height": 389
        },
        "id": "Or6CjyMdH00r",
        "outputId": "bb156184-a19d-4846-d415-9210de92f301"
      },
      "execution_count": 11,
      "outputs": [
        {
          "output_type": "stream",
          "name": "stderr",
          "text": [
            "/usr/local/lib/python3.7/dist-packages/seaborn/_decorators.py:43: FutureWarning: Pass the following variable as a keyword arg: x. From version 0.12, the only valid positional argument will be `data`, and passing other arguments without an explicit keyword will result in an error or misinterpretation.\n",
            "  FutureWarning\n"
          ]
        },
        {
          "output_type": "display_data",
          "data": {
            "text/plain": [
              "<Figure size 720x360 with 1 Axes>"
            ],
            "image/png": "[encoded data removed]"
          },
          "metadata": {
            "needs_background": "light"
          }
        }
      ]
    },
    {
      "cell_type": "code",
      "source": [
        "def detect_outliers(df,x): \n",
        "    Q1 = df[x].describe()['25%'] \n",
        "    Q3 = df[x].describe()['75%'] \n",
        "    IQR = Q3-Q1 \n",
        "    return df[(df[x] < Q1-1.5*IQR) | (df[x] > Q3+1.5*IQR)]"
      ],
      "metadata": {
        "id": "RfTio4zOIFHF"
      },
      "execution_count": 12,
      "outputs": []
    },
    {
      "cell_type": "code",
      "source": [
        "detect_outliers(df, x ='categori')"
      ],
      "metadata": {
        "colab": {
          "base_uri": "https://localhost:8080/",
          "height": 363
        },
        "id": "tBP2NYQcIIXd",
        "outputId": "9a18d9d7-0cc1-4cf5-d160-8ac5e9eb074a"
      },
      "execution_count": 13,
      "outputs": [
        {
          "output_type": "execute_result",
          "data": {
            "text/plain": [
              "              tanggal  categori\n",
              "tanggal                        \n",
              "2010-11-10 2010-11-10       4.0\n",
              "2010-11-18 2010-11-18       4.0\n",
              "2010-11-22 2010-11-22       4.0\n",
              "2010-12-24 2010-12-24       4.0\n",
              "2011-10-11 2011-10-11       4.0\n",
              "2011-10-12 2011-10-12       4.0\n",
              "2012-10-19 2012-10-19       4.0\n",
              "2012-10-20 2012-10-20       4.0\n",
              "2012-12-11 2012-12-11       4.0"
            ],
            "text/html": [
              "\n",
              "  <div id=\"df-d2c0ef56-3f6d-44cf-9f0d-4c19be3505c7\">\n",
              "    <div class=\"colab-df-container\">\n",
              "      <div>\n",
              "<style scoped>\n",
              "    .dataframe tbody tr th:only-of-type {\n",
              "        vertical-align: middle;\n",
              "    }\n",
              "\n",
              "    .dataframe tbody tr th {\n",
              "        vertical-align: top;\n",
              "    }\n",
              "\n",
              "    .dataframe thead th {\n",
              "        text-align: right;\n",
              "    }\n",
              "</style>\n",
              "<table border=\"1\" class=\"dataframe\">\n",
              "  <thead>\n",
              "    <tr style=\"text-align: right;\">\n",
              "      <th></th>\n",
              "      <th>tanggal</th>\n",
              "      <th>categori</th>\n",
              "    </tr>\n",
              "    <tr>\n",
              "      <th>tanggal</th>\n",
              "      <th></th>\n",
              "      <th></th>\n",
              "    </tr>\n",
              "  </thead>\n",
              "  <tbody>\n",
              "    <tr>\n",
              "      <th>2010-11-10</th>\n",
              "      <td>2010-11-10</td>\n",
              "      <td>4.0</td>\n",
              "    </tr>\n",
              "    <tr>\n",
              "      <th>2010-11-18</th>\n",
              "      <td>2010-11-18</td>\n",
              "      <td>4.0</td>\n",
              "    </tr>\n",
              "    <tr>\n",
              "      <th>2010-11-22</th>\n",
              "      <td>2010-11-22</td>\n",
              "      <td>4.0</td>\n",
              "    </tr>\n",
              "    <tr>\n",
              "      <th>2010-12-24</th>\n",
              "      <td>2010-12-24</td>\n",
              "      <td>4.0</td>\n",
              "    </tr>\n",
              "    <tr>\n",
              "      <th>2011-10-11</th>\n",
              "      <td>2011-10-11</td>\n",
              "      <td>4.0</td>\n",
              "    </tr>\n",
              "    <tr>\n",
              "      <th>2011-10-12</th>\n",
              "      <td>2011-10-12</td>\n",
              "      <td>4.0</td>\n",
              "    </tr>\n",
              "    <tr>\n",
              "      <th>2012-10-19</th>\n",
              "      <td>2012-10-19</td>\n",
              "      <td>4.0</td>\n",
              "    </tr>\n",
              "    <tr>\n",
              "      <th>2012-10-20</th>\n",
              "      <td>2012-10-20</td>\n",
              "      <td>4.0</td>\n",
              "    </tr>\n",
              "    <tr>\n",
              "      <th>2012-12-11</th>\n",
              "      <td>2012-12-11</td>\n",
              "      <td>4.0</td>\n",
              "    </tr>\n",
              "  </tbody>\n",
              "</table>\n",
              "</div>\n",
              "      <button class=\"colab-df-convert\" onclick=\"convertToInteractive('df-d2c0ef56-3f6d-44cf-9f0d-4c19be3505c7')\"\n",
              "              title=\"Convert this dataframe to an interactive table.\"\n",
              "              style=\"display:none;\">\n",
              "        \n",
              "  <svg xmlns=\"http://www.w3.org/2000/svg\" height=\"24px\"viewBox=\"0 0 24 24\"\n",
              "       width=\"24px\">\n",
              "    <path d=\"M0 0h24v24H0V0z\" fill=\"none\"/>\n",
              "    <path d=\"M18.56 5.44l.94 2.06.94-2.06 2.06-.94-2.06-.94-.94-2.06-.94 2.06-2.06.94zm-11 1L8.5 8.5l.94-2.06 2.06-.94-2.06-.94L8.5 2.5l-.94 2.06-2.06.94zm10 10l.94 2.06.94-2.06 2.06-.94-2.06-.94-.94-2.06-.94 2.06-2.06.94z\"/><path d=\"M17.41 7.96l-1.37-1.37c-.4-.4-.92-.59-1.43-.59-.52 0-1.04.2-1.43.59L10.3 9.45l-7.72 7.72c-.78.78-.78 2.05 0 2.83L4 21.41c.39.39.9.59 1.41.59.51 0 1.02-.2 1.41-.59l7.78-7.78 2.81-2.81c.8-.78.8-2.07 0-2.86zM5.41 20L4 18.59l7.72-7.72 1.47 1.35L5.41 20z\"/>\n",
              "  </svg>\n",
              "      </button>\n",
              "      \n",
              "  <style>\n",
              "    .colab-df-container {\n",
              "      display:flex;\n",
              "      flex-wrap:wrap;\n",
              "      gap: 12px;\n",
              "    }\n",
              "\n",
              "    .colab-df-convert {\n",
              "      background-color: #E8F0FE;\n",
              "      border: none;\n",
              "      border-radius: 50%;\n",
              "      cursor: pointer;\n",
              "      display: none;\n",
              "      fill: #1967D2;\n",
              "      height: 32px;\n",
              "      padding: 0 0 0 0;\n",
              "      width: 32px;\n",
              "    }\n",
              "\n",
              "    .colab-df-convert:hover {\n",
              "      background-color: #E2EBFA;\n",
              "      box-shadow: 0px 1px 2px rgba(60, 64, 67, 0.3), 0px 1px 3px 1px rgba(60, 64, 67, 0.15);\n",
              "      fill: #174EA6;\n",
              "    }\n",
              "\n",
              "    [theme=dark] .colab-df-convert {\n",
              "      background-color: #3B4455;\n",
              "      fill: #D2E3FC;\n",
              "    }\n",
              "\n",
              "    [theme=dark] .colab-df-convert:hover {\n",
              "      background-color: #434B5C;\n",
              "      box-shadow: 0px 1px 3px 1px rgba(0, 0, 0, 0.15);\n",
              "      filter: drop-shadow(0px 1px 2px rgba(0, 0, 0, 0.3));\n",
              "      fill: #FFFFFF;\n",
              "    }\n",
              "  </style>\n",
              "\n",
              "      <script>\n",
              "        const buttonEl =\n",
              "          document.querySelector('#df-d2c0ef56-3f6d-44cf-9f0d-4c19be3505c7 button.colab-df-convert');\n",
              "        buttonEl.style.display =\n",
              "          google.colab.kernel.accessAllowed ? 'block' : 'none';\n",
              "\n",
              "        async function convertToInteractive(key) {\n",
              "          const element = document.querySelector('#df-d2c0ef56-3f6d-44cf-9f0d-4c19be3505c7');\n",
              "          const dataTable =\n",
              "            await google.colab.kernel.invokeFunction('convertToInteractive',\n",
              "                                                     [key], {});\n",
              "          if (!dataTable) return;\n",
              "\n",
              "          const docLinkHtml = 'Like what you see? Visit the ' +\n",
              "            '<a target=\"_blank\" href=https://colab.research.google.com/notebooks/data_table.ipynb>data table notebook</a>'\n",
              "            + ' to learn more about interactive tables.';\n",
              "          element.innerHTML = '';\n",
              "          dataTable['output_type'] = 'display_data';\n",
              "          await google.colab.output.renderOutput(dataTable, element);\n",
              "          const docLink = document.createElement('div');\n",
              "          docLink.innerHTML = docLinkHtml;\n",
              "          element.appendChild(docLink);\n",
              "        }\n",
              "      </script>\n",
              "    </div>\n",
              "  </div>\n",
              "  "
            ]
          },
          "metadata": {},
          "execution_count": 13
        }
      ]
    },
    {
      "cell_type": "code",
      "source": [
        "df = df.drop((df[df['categori']>3.5]).index, axis=0)"
      ],
      "metadata": {
        "id": "enCFKWllIRXi"
      },
      "execution_count": 14,
      "outputs": []
    },
    {
      "cell_type": "code",
      "source": [
        "detect_outliers(df, x ='categori')"
      ],
      "metadata": {
        "colab": {
          "base_uri": "https://localhost:8080/",
          "height": 81
        },
        "id": "IQ6AAqE_IZdp",
        "outputId": "b64e761d-e56e-4aed-c8f7-1a4eec599477"
      },
      "execution_count": 15,
      "outputs": [
        {
          "output_type": "execute_result",
          "data": {
            "text/plain": [
              "Empty DataFrame\n",
              "Columns: [tanggal, categori]\n",
              "Index: []"
            ],
            "text/html": [
              "\n",
              "  <div id=\"df-ea5be951-8060-45bf-aa6b-ecce2e615464\">\n",
              "    <div class=\"colab-df-container\">\n",
              "      <div>\n",
              "<style scoped>\n",
              "    .dataframe tbody tr th:only-of-type {\n",
              "        vertical-align: middle;\n",
              "    }\n",
              "\n",
              "    .dataframe tbody tr th {\n",
              "        vertical-align: top;\n",
              "    }\n",
              "\n",
              "    .dataframe thead th {\n",
              "        text-align: right;\n",
              "    }\n",
              "</style>\n",
              "<table border=\"1\" class=\"dataframe\">\n",
              "  <thead>\n",
              "    <tr style=\"text-align: right;\">\n",
              "      <th></th>\n",
              "      <th>tanggal</th>\n",
              "      <th>categori</th>\n",
              "    </tr>\n",
              "    <tr>\n",
              "      <th>tanggal</th>\n",
              "      <th></th>\n",
              "      <th></th>\n",
              "    </tr>\n",
              "  </thead>\n",
              "  <tbody>\n",
              "  </tbody>\n",
              "</table>\n",
              "</div>\n",
              "      <button class=\"colab-df-convert\" onclick=\"convertToInteractive('df-ea5be951-8060-45bf-aa6b-ecce2e615464')\"\n",
              "              title=\"Convert this dataframe to an interactive table.\"\n",
              "              style=\"display:none;\">\n",
              "        \n",
              "  <svg xmlns=\"http://www.w3.org/2000/svg\" height=\"24px\"viewBox=\"0 0 24 24\"\n",
              "       width=\"24px\">\n",
              "    <path d=\"M0 0h24v24H0V0z\" fill=\"none\"/>\n",
              "    <path d=\"M18.56 5.44l.94 2.06.94-2.06 2.06-.94-2.06-.94-.94-2.06-.94 2.06-2.06.94zm-11 1L8.5 8.5l.94-2.06 2.06-.94-2.06-.94L8.5 2.5l-.94 2.06-2.06.94zm10 10l.94 2.06.94-2.06 2.06-.94-2.06-.94-.94-2.06-.94 2.06-2.06.94z\"/><path d=\"M17.41 7.96l-1.37-1.37c-.4-.4-.92-.59-1.43-.59-.52 0-1.04.2-1.43.59L10.3 9.45l-7.72 7.72c-.78.78-.78 2.05 0 2.83L4 21.41c.39.39.9.59 1.41.59.51 0 1.02-.2 1.41-.59l7.78-7.78 2.81-2.81c.8-.78.8-2.07 0-2.86zM5.41 20L4 18.59l7.72-7.72 1.47 1.35L5.41 20z\"/>\n",
              "  </svg>\n",
              "      </button>\n",
              "      \n",
              "  <style>\n",
              "    .colab-df-container {\n",
              "      display:flex;\n",
              "      flex-wrap:wrap;\n",
              "      gap: 12px;\n",
              "    }\n",
              "\n",
              "    .colab-df-convert {\n",
              "      background-color: #E8F0FE;\n",
              "      border: none;\n",
              "      border-radius: 50%;\n",
              "      cursor: pointer;\n",
              "      display: none;\n",
              "      fill: #1967D2;\n",
              "      height: 32px;\n",
              "      padding: 0 0 0 0;\n",
              "      width: 32px;\n",
              "    }\n",
              "\n",
              "    .colab-df-convert:hover {\n",
              "      background-color: #E2EBFA;\n",
              "      box-shadow: 0px 1px 2px rgba(60, 64, 67, 0.3), 0px 1px 3px 1px rgba(60, 64, 67, 0.15);\n",
              "      fill: #174EA6;\n",
              "    }\n",
              "\n",
              "    [theme=dark] .colab-df-convert {\n",
              "      background-color: #3B4455;\n",
              "      fill: #D2E3FC;\n",
              "    }\n",
              "\n",
              "    [theme=dark] .colab-df-convert:hover {\n",
              "      background-color: #434B5C;\n",
              "      box-shadow: 0px 1px 3px 1px rgba(0, 0, 0, 0.15);\n",
              "      filter: drop-shadow(0px 1px 2px rgba(0, 0, 0, 0.3));\n",
              "      fill: #FFFFFF;\n",
              "    }\n",
              "  </style>\n",
              "\n",
              "      <script>\n",
              "        const buttonEl =\n",
              "          document.querySelector('#df-ea5be951-8060-45bf-aa6b-ecce2e615464 button.colab-df-convert');\n",
              "        buttonEl.style.display =\n",
              "          google.colab.kernel.accessAllowed ? 'block' : 'none';\n",
              "\n",
              "        async function convertToInteractive(key) {\n",
              "          const element = document.querySelector('#df-ea5be951-8060-45bf-aa6b-ecce2e615464');\n",
              "          const dataTable =\n",
              "            await google.colab.kernel.invokeFunction('convertToInteractive',\n",
              "                                                     [key], {});\n",
              "          if (!dataTable) return;\n",
              "\n",
              "          const docLinkHtml = 'Like what you see? Visit the ' +\n",
              "            '<a target=\"_blank\" href=https://colab.research.google.com/notebooks/data_table.ipynb>data table notebook</a>'\n",
              "            + ' to learn more about interactive tables.';\n",
              "          element.innerHTML = '';\n",
              "          dataTable['output_type'] = 'display_data';\n",
              "          await google.colab.output.renderOutput(dataTable, element);\n",
              "          const docLink = document.createElement('div');\n",
              "          docLink.innerHTML = docLinkHtml;\n",
              "          element.appendChild(docLink);\n",
              "        }\n",
              "      </script>\n",
              "    </div>\n",
              "  </div>\n",
              "  "
            ]
          },
          "metadata": {},
          "execution_count": 15
        }
      ]
    },
    {
      "cell_type": "code",
      "source": [
        "plt.figure(figsize = (10, 5)) \n",
        "sns.boxplot(df['categori']) \n",
        "plt.show()"
      ],
      "metadata": {
        "colab": {
          "base_uri": "https://localhost:8080/",
          "height": 389
        },
        "id": "EtwcXdbwIhMf",
        "outputId": "9aacda15-171a-4804-9d86-ee1aaef47b4b"
      },
      "execution_count": 16,
      "outputs": [
        {
          "output_type": "stream",
          "name": "stderr",
          "text": [
            "/usr/local/lib/python3.7/dist-packages/seaborn/_decorators.py:43: FutureWarning: Pass the following variable as a keyword arg: x. From version 0.12, the only valid positional argument will be `data`, and passing other arguments without an explicit keyword will result in an error or misinterpretation.\n",
            "  FutureWarning\n"
          ]
        },
        {
          "output_type": "display_data",
          "data": {
            "text/plain": [
              "<Figure size 720x360 with 1 Axes>"
            ],
            "image/png": "[encoded data removed]"
          },
          "metadata": {
            "needs_background": "light"
          }
        }
      ]
    },
    {
      "cell_type": "code",
      "execution_count": 17,
      "metadata": {
        "colab": {
          "base_uri": "https://localhost:8080/",
          "height": 282
        },
        "id": "Yb0vXrDrleh-",
        "outputId": "e0284a72-f040-4a59-f639-4c66fa094715"
      },
      "outputs": [
        {
          "output_type": "execute_result",
          "data": {
            "text/plain": [
              "[<matplotlib.lines.Line2D at 0x7f66a2dc3f90>]"
            ]
          },
          "metadata": {},
          "execution_count": 17
        },
        {
          "output_type": "display_data",
          "data": {
            "text/plain": [
              "<Figure size 432x288 with 1 Axes>"
            ],
            "image/png": "[encoded data removed]"
          },
          "metadata": {
            "needs_background": "light"
          }
        }
      ],
      "source": [
        "plt.plot(df[\"categori\"],label='Kategori Polusi PerHari')"
      ]
    },
    {
      "cell_type": "code",
      "execution_count": 18,
      "metadata": {
        "id": "SVgNRgB0leh-"
      },
      "outputs": [],
      "source": [
        "df_cat = df[['categori']]"
      ]
    },
    {
      "cell_type": "code",
      "execution_count": 19,
      "metadata": {
        "colab": {
          "base_uri": "https://localhost:8080/",
          "height": 282
        },
        "id": "kEWmWtgJleiA",
        "outputId": "36f3d42d-ca57-4c41-c764-fff128871394"
      },
      "outputs": [
        {
          "output_type": "execute_result",
          "data": {
            "text/plain": [
              "[<matplotlib.lines.Line2D at 0x7f66a263cfd0>]"
            ]
          },
          "metadata": {},
          "execution_count": 19
        },
        {
          "output_type": "display_data",
          "data": {
            "text/plain": [
              "<Figure size 432x288 with 1 Axes>"
            ],
            "image/png": "[encoded data removed]"
          },
          "metadata": {
            "needs_background": "light"
          }
        }
      ],
      "source": [
        "df_cat_val = df_cat.values\n",
        "plt.plot(df_cat_val)"
      ]
    },
    {
      "cell_type": "code",
      "execution_count": 20,
      "metadata": {
        "id": "oU_NNWhcleiB"
      },
      "outputs": [],
      "source": [
        "#Using MinMaxScaler for normalizing data between 0 & 1\n",
        "normalizer = MinMaxScaler(feature_range=(0,1))\n",
        "df_scaled = normalizer.fit_transform(np.array(df_cat_val).reshape(-1,1))"
      ]
    },
    {
      "cell_type": "code",
      "execution_count": 21,
      "metadata": {
        "colab": {
          "base_uri": "https://localhost:8080/"
        },
        "id": "mzirhHeyleiB",
        "outputId": "b94e88a2-6876-42d9-809e-06faf4635661"
      },
      "outputs": [
        {
          "output_type": "execute_result",
          "data": {
            "text/plain": [
              "(4374, 4374)"
            ]
          },
          "metadata": {},
          "execution_count": 21
        }
      ],
      "source": [
        "len(df_scaled), len(df_cat_val)"
      ]
    },
    {
      "cell_type": "code",
      "execution_count": 22,
      "metadata": {
        "id": "BOB_aqU6leiB"
      },
      "outputs": [],
      "source": [
        "#Defining test and train data sizes\n",
        "train_size = int(len(df_scaled)*0.80)\n",
        "test_size = len(df_scaled) - train_size"
      ]
    },
    {
      "cell_type": "code",
      "execution_count": 23,
      "metadata": {
        "colab": {
          "base_uri": "https://localhost:8080/"
        },
        "id": "XGpq31WnleiC",
        "outputId": "6cdbb8d5-d3d4-45db-dcb0-3ec2b9c41241"
      },
      "outputs": [
        {
          "output_type": "execute_result",
          "data": {
            "text/plain": [
              "(3499, 875)"
            ]
          },
          "metadata": {},
          "execution_count": 23
        }
      ],
      "source": [
        "train_size,test_size"
      ]
    },
    {
      "cell_type": "code",
      "execution_count": 24,
      "metadata": {
        "id": "tn_FROfgleiD"
      },
      "outputs": [],
      "source": [
        "#Splitting data between train and test\n",
        "df_train, df_test = df_scaled[0:train_size,:], df_scaled[train_size:len(df_scaled),:1]"
      ]
    },
    {
      "cell_type": "code",
      "execution_count": 25,
      "metadata": {
        "colab": {
          "base_uri": "https://localhost:8080/"
        },
        "id": "MhIX0xCJleiE",
        "outputId": "1ff28b42-e728-4796-e792-d9f74393c91e"
      },
      "outputs": [
        {
          "output_type": "execute_result",
          "data": {
            "text/plain": [
              "(3499, 875)"
            ]
          },
          "metadata": {},
          "execution_count": 25
        }
      ],
      "source": [
        "len(df_train),len(df_test)"
      ]
    },
    {
      "cell_type": "code",
      "execution_count": 26,
      "metadata": {
        "id": "ZVqzYHZbleiF"
      },
      "outputs": [],
      "source": [
        "#creating dataset in time series for LSTM model \n",
        "def new_ds(dataset,step):\n",
        "    Xtrain, Ytrain = [], []\n",
        "    for i in range(len(dataset)-step-1):\n",
        "        a = dataset[i:(i+step), 0]\n",
        "        Xtrain.append(a)\n",
        "        Ytrain.append(dataset[i + step, 0])\n",
        "    return np.array(Xtrain), np.array(Ytrain)"
      ]
    },
    {
      "cell_type": "code",
      "execution_count": 27,
      "metadata": {
        "id": "3mTBAdGoleiG"
      },
      "outputs": [],
      "source": [
        "time_stamp = 100\n",
        "X_train, y_train = new_ds(df_train,time_stamp)\n",
        "X_test, y_test = new_ds(df_test,time_stamp)"
      ]
    },
    {
      "cell_type": "code",
      "execution_count": 28,
      "metadata": {
        "colab": {
          "base_uri": "https://localhost:8080/"
        },
        "id": "jQ8WOL5zleiH",
        "outputId": "1756f5be-da01-410b-f1d6-70155163a4b6"
      },
      "outputs": [
        {
          "output_type": "execute_result",
          "data": {
            "text/plain": [
              "((3398, 100), (3398,))"
            ]
          },
          "metadata": {},
          "execution_count": 28
        }
      ],
      "source": [
        "X_train.shape,y_train.shape"
      ]
    },
    {
      "cell_type": "code",
      "execution_count": 29,
      "metadata": {
        "colab": {
          "base_uri": "https://localhost:8080/"
        },
        "id": "NrPnTREqleiH",
        "outputId": "8c7d20cb-ac73-4ee5-e081-076f13d07d43"
      },
      "outputs": [
        {
          "output_type": "execute_result",
          "data": {
            "text/plain": [
              "((774, 100), (774,))"
            ]
          },
          "metadata": {},
          "execution_count": 29
        }
      ],
      "source": [
        "X_test.shape, y_test.shape"
      ]
    },
    {
      "cell_type": "code",
      "execution_count": 30,
      "metadata": {
        "id": "CSFrURJCleiI"
      },
      "outputs": [],
      "source": [
        "#Reshaping data to fit into LSTM model\n",
        "X_train = X_train.reshape(X_train.shape[0],X_train.shape[1] , 1)\n",
        "X_test = X_test.reshape(X_test.shape[0],X_test.shape[1] , 1)"
      ]
    },
    {
      "cell_type": "code",
      "source": [
        "# create and fit the LSTM network\n",
        "model = tf.keras.Sequential()\n",
        "model.add(tf.keras.layers.LSTM(50, return_sequences = True, input_shape = (X_train.shape[1], 1)))\n",
        "model.add(tf.keras.layers.Dropout(0.2)) \n",
        "model.add(tf.keras.layers.LSTM(50, return_sequences = True))\n",
        "model.add(tf.keras.layers.Dropout(0.2)) \n",
        "model.add(tf.keras.layers.LSTM(50))\n",
        "model.add(tf.keras.layers.Dense(1, activation='linear'))\n",
        "\n",
        "model.summary()"
      ],
      "metadata": {
        "colab": {
          "base_uri": "https://localhost:8080/"
        },
        "id": "Iodk3jE0bead",
        "outputId": "758e4a55-c253-4ff1-ff1e-ae5f46b39ff6"
      },
      "execution_count": 31,
      "outputs": [
        {
          "output_type": "stream",
          "name": "stdout",
          "text": [
            "Model: \"sequential\"\n",
            "_________________________________________________________________\n",
            " Layer (type)                Output Shape              Param #   \n",
            "=================================================================\n",
            " lstm (LSTM)                 (None, 100, 50)           10400     \n",
            "                                                                 \n",
            " dropout (Dropout)           (None, 100, 50)           0         \n",
            "                                                                 \n",
            " lstm_1 (LSTM)               (None, 100, 50)           20200     \n",
            "                                                                 \n",
            " dropout_1 (Dropout)         (None, 100, 50)           0         \n",
            "                                                                 \n",
            " lstm_2 (LSTM)               (None, 50)                20200     \n",
            "                                                                 \n",
            " dense (Dense)               (None, 1)                 51        \n",
            "                                                                 \n",
            "=================================================================\n",
            "Total params: 50,851\n",
            "Trainable params: 50,851\n",
            "Non-trainable params: 0\n",
            "_________________________________________________________________\n"
          ]
        }
      ]
    },
    {
      "cell_type": "code",
      "execution_count": 32,
      "metadata": {
        "colab": {
          "base_uri": "https://localhost:8080/"
        },
        "id": "my62TeR1leiJ",
        "outputId": "d3561053-30ca-42ef-b995-b4a7e6faae48"
      },
      "outputs": [
        {
          "output_type": "stream",
          "name": "stdout",
          "text": [
            "Epoch 1/150\n",
            "38/38 [==============================] - 12s 183ms/step - loss: 0.1237 - val_loss: 0.1634\n",
            "Epoch 2/150\n",
            "38/38 [==============================] - 6s 148ms/step - loss: 0.1185 - val_loss: 0.1622\n",
            "Epoch 3/150\n",
            "38/38 [==============================] - 5s 145ms/step - loss: 0.1191 - val_loss: 0.1612\n",
            "Epoch 4/150\n",
            "38/38 [==============================] - 6s 146ms/step - loss: 0.1191 - val_loss: 0.1608\n",
            "Epoch 5/150\n",
            "38/38 [==============================] - 5s 144ms/step - loss: 0.1182 - val_loss: 0.1617\n",
            "Epoch 6/150\n",
            "38/38 [==============================] - 5s 143ms/step - loss: 0.1194 - val_loss: 0.1618\n",
            "Epoch 7/150\n",
            "38/38 [==============================] - 5s 142ms/step - loss: 0.1179 - val_loss: 0.1604\n",
            "Epoch 8/150\n",
            "38/38 [==============================] - 5s 143ms/step - loss: 0.1179 - val_loss: 0.1611\n",
            "Epoch 9/150\n",
            "38/38 [==============================] - 6s 161ms/step - loss: 0.1170 - val_loss: 0.1618\n",
            "Epoch 10/150\n",
            "38/38 [==============================] - 5s 143ms/step - loss: 0.1181 - val_loss: 0.1601\n",
            "Epoch 11/150\n",
            "38/38 [==============================] - 5s 144ms/step - loss: 0.1167 - val_loss: 0.1600\n",
            "Epoch 12/150\n",
            "38/38 [==============================] - 5s 142ms/step - loss: 0.1163 - val_loss: 0.1605\n",
            "Epoch 13/150\n",
            "38/38 [==============================] - 5s 140ms/step - loss: 0.1175 - val_loss: 0.1609\n",
            "Epoch 14/150\n",
            "38/38 [==============================] - 5s 142ms/step - loss: 0.1167 - val_loss: 0.1601\n",
            "Epoch 15/150\n",
            "38/38 [==============================] - 5s 142ms/step - loss: 0.1160 - val_loss: 0.1606\n",
            "Epoch 16/150\n",
            "38/38 [==============================] - 5s 142ms/step - loss: 0.1160 - val_loss: 0.1606\n",
            "Epoch 17/150\n",
            "38/38 [==============================] - 6s 146ms/step - loss: 0.1150 - val_loss: 0.1605\n",
            "Epoch 18/150\n",
            "38/38 [==============================] - 5s 141ms/step - loss: 0.1157 - val_loss: 0.1591\n",
            "Epoch 19/150\n",
            "38/38 [==============================] - 5s 144ms/step - loss: 0.1153 - val_loss: 0.1588\n",
            "Epoch 20/150\n",
            "38/38 [==============================] - 5s 142ms/step - loss: 0.1143 - val_loss: 0.1608\n",
            "Epoch 21/150\n",
            "38/38 [==============================] - 5s 142ms/step - loss: 0.1136 - val_loss: 0.1583\n",
            "Epoch 22/150\n",
            "38/38 [==============================] - 5s 141ms/step - loss: 0.1139 - val_loss: 0.1574\n",
            "Epoch 23/150\n",
            "38/38 [==============================] - 5s 143ms/step - loss: 0.1134 - val_loss: 0.1575\n",
            "Epoch 24/150\n",
            "38/38 [==============================] - 5s 143ms/step - loss: 0.1128 - val_loss: 0.1564\n",
            "Epoch 25/150\n",
            "38/38 [==============================] - 6s 158ms/step - loss: 0.1124 - val_loss: 0.1561\n",
            "Epoch 26/150\n",
            "38/38 [==============================] - 5s 142ms/step - loss: 0.1124 - val_loss: 0.1574\n",
            "Epoch 27/150\n",
            "38/38 [==============================] - 5s 142ms/step - loss: 0.1125 - val_loss: 0.1576\n",
            "Epoch 28/150\n",
            "38/38 [==============================] - 6s 148ms/step - loss: 0.1119 - val_loss: 0.1608\n",
            "Epoch 29/150\n",
            "38/38 [==============================] - 6s 160ms/step - loss: 0.1134 - val_loss: 0.1566\n",
            "Epoch 30/150\n",
            "38/38 [==============================] - 5s 141ms/step - loss: 0.1120 - val_loss: 0.1592\n",
            "Epoch 31/150\n",
            "38/38 [==============================] - 5s 143ms/step - loss: 0.1118 - val_loss: 0.1565\n",
            "Epoch 32/150\n",
            "38/38 [==============================] - 5s 143ms/step - loss: 0.1130 - val_loss: 0.1562\n",
            "Epoch 33/150\n",
            "38/38 [==============================] - 5s 142ms/step - loss: 0.1118 - val_loss: 0.1570\n",
            "Epoch 34/150\n",
            "38/38 [==============================] - 5s 142ms/step - loss: 0.1122 - val_loss: 0.1557\n",
            "Epoch 35/150\n",
            "38/38 [==============================] - 5s 141ms/step - loss: 0.1120 - val_loss: 0.1568\n",
            "Epoch 36/150\n",
            "38/38 [==============================] - 5s 143ms/step - loss: 0.1120 - val_loss: 0.1565\n",
            "Epoch 37/150\n",
            "38/38 [==============================] - 5s 143ms/step - loss: 0.1116 - val_loss: 0.1586\n",
            "Epoch 38/150\n",
            "38/38 [==============================] - 5s 144ms/step - loss: 0.1116 - val_loss: 0.1598\n",
            "Epoch 39/150\n",
            "38/38 [==============================] - 5s 143ms/step - loss: 0.1130 - val_loss: 0.1573\n",
            "Epoch 40/150\n",
            "38/38 [==============================] - 6s 147ms/step - loss: 0.1121 - val_loss: 0.1568\n",
            "Epoch 41/150\n",
            "38/38 [==============================] - 5s 144ms/step - loss: 0.1113 - val_loss: 0.1581\n",
            "Epoch 42/150\n",
            "38/38 [==============================] - 10s 268ms/step - loss: 0.1120 - val_loss: 0.1568\n",
            "Epoch 43/150\n",
            "38/38 [==============================] - 7s 176ms/step - loss: 0.1116 - val_loss: 0.1567\n",
            "Epoch 44/150\n",
            "38/38 [==============================] - 5s 145ms/step - loss: 0.1115 - val_loss: 0.1573\n",
            "Epoch 45/150\n",
            "38/38 [==============================] - 6s 147ms/step - loss: 0.1120 - val_loss: 0.1578\n",
            "Epoch 46/150\n",
            "38/38 [==============================] - 6s 146ms/step - loss: 0.1107 - val_loss: 0.1582\n",
            "Epoch 47/150\n",
            "38/38 [==============================] - 6s 146ms/step - loss: 0.1118 - val_loss: 0.1576\n",
            "Epoch 48/150\n",
            "38/38 [==============================] - 6s 147ms/step - loss: 0.1110 - val_loss: 0.1587\n",
            "Epoch 49/150\n",
            "38/38 [==============================] - 6s 145ms/step - loss: 0.1125 - val_loss: 0.1577\n",
            "Epoch 50/150\n",
            "38/38 [==============================] - 6s 145ms/step - loss: 0.1125 - val_loss: 0.1572\n",
            "Epoch 51/150\n",
            "38/38 [==============================] - 5s 145ms/step - loss: 0.1115 - val_loss: 0.1564\n",
            "Epoch 52/150\n",
            "38/38 [==============================] - 6s 146ms/step - loss: 0.1117 - val_loss: 0.1573\n",
            "Epoch 53/150\n",
            "38/38 [==============================] - 7s 188ms/step - loss: 0.1122 - val_loss: 0.1572\n",
            "Epoch 54/150\n",
            "38/38 [==============================] - 6s 146ms/step - loss: 0.1116 - val_loss: 0.1563\n",
            "Epoch 55/150\n",
            "38/38 [==============================] - 5s 144ms/step - loss: 0.1112 - val_loss: 0.1565\n",
            "Epoch 56/150\n",
            "38/38 [==============================] - 6s 146ms/step - loss: 0.1107 - val_loss: 0.1578\n",
            "Epoch 57/150\n",
            "38/38 [==============================] - 5s 142ms/step - loss: 0.1108 - val_loss: 0.1581\n",
            "Epoch 58/150\n",
            "38/38 [==============================] - 6s 149ms/step - loss: 0.1120 - val_loss: 0.1580\n",
            "Epoch 59/150\n",
            "38/38 [==============================] - 6s 148ms/step - loss: 0.1115 - val_loss: 0.1588\n",
            "Epoch 60/150\n",
            "38/38 [==============================] - 6s 147ms/step - loss: 0.1107 - val_loss: 0.1575\n",
            "Epoch 61/150\n",
            "38/38 [==============================] - 6s 146ms/step - loss: 0.1105 - val_loss: 0.1575\n",
            "Epoch 62/150\n",
            "38/38 [==============================] - 6s 146ms/step - loss: 0.1107 - val_loss: 0.1577\n",
            "Epoch 63/150\n",
            "38/38 [==============================] - 6s 146ms/step - loss: 0.1113 - val_loss: 0.1571\n",
            "Epoch 64/150\n",
            "38/38 [==============================] - 5s 145ms/step - loss: 0.1102 - val_loss: 0.1605\n",
            "Epoch 65/150\n",
            "38/38 [==============================] - 5s 144ms/step - loss: 0.1111 - val_loss: 0.1586\n",
            "Epoch 66/150\n",
            "38/38 [==============================] - 5s 143ms/step - loss: 0.1111 - val_loss: 0.1583\n",
            "Epoch 67/150\n",
            "38/38 [==============================] - 5s 144ms/step - loss: 0.1099 - val_loss: 0.1579\n",
            "Epoch 68/150\n",
            "38/38 [==============================] - 6s 145ms/step - loss: 0.1102 - val_loss: 0.1584\n",
            "Epoch 69/150\n",
            "38/38 [==============================] - 5s 143ms/step - loss: 0.1103 - val_loss: 0.1583\n",
            "Epoch 70/150\n",
            "38/38 [==============================] - 5s 144ms/step - loss: 0.1095 - val_loss: 0.1610\n",
            "Epoch 71/150\n",
            "38/38 [==============================] - 5s 143ms/step - loss: 0.1101 - val_loss: 0.1605\n",
            "Epoch 72/150\n",
            "38/38 [==============================] - 5s 144ms/step - loss: 0.1104 - val_loss: 0.1576\n",
            "Epoch 73/150\n",
            "38/38 [==============================] - 5s 141ms/step - loss: 0.1088 - val_loss: 0.1589\n",
            "Epoch 74/150\n",
            "38/38 [==============================] - 5s 144ms/step - loss: 0.1108 - val_loss: 0.1569\n",
            "Epoch 75/150\n",
            "38/38 [==============================] - 5s 144ms/step - loss: 0.1100 - val_loss: 0.1590\n",
            "Epoch 76/150\n",
            "38/38 [==============================] - 5s 144ms/step - loss: 0.1111 - val_loss: 0.1592\n",
            "Epoch 77/150\n",
            "38/38 [==============================] - 5s 142ms/step - loss: 0.1099 - val_loss: 0.1586\n",
            "Epoch 78/150\n",
            "38/38 [==============================] - 6s 145ms/step - loss: 0.1084 - val_loss: 0.1619\n",
            "Epoch 79/150\n",
            "38/38 [==============================] - 6s 149ms/step - loss: 0.1089 - val_loss: 0.1598\n",
            "Epoch 80/150\n",
            "38/38 [==============================] - 6s 165ms/step - loss: 0.1083 - val_loss: 0.1620\n",
            "Epoch 81/150\n",
            "38/38 [==============================] - 6s 160ms/step - loss: 0.1093 - val_loss: 0.1586\n",
            "Epoch 82/150\n",
            "38/38 [==============================] - 6s 149ms/step - loss: 0.1084 - val_loss: 0.1603\n",
            "Epoch 83/150\n",
            "38/38 [==============================] - 6s 151ms/step - loss: 0.1091 - val_loss: 0.1596\n",
            "Epoch 84/150\n",
            "38/38 [==============================] - 6s 158ms/step - loss: 0.1092 - val_loss: 0.1603\n",
            "Epoch 85/150\n",
            "38/38 [==============================] - 6s 146ms/step - loss: 0.1086 - val_loss: 0.1604\n",
            "Epoch 86/150\n",
            "38/38 [==============================] - 6s 149ms/step - loss: 0.1091 - val_loss: 0.1608\n",
            "Epoch 87/150\n",
            "38/38 [==============================] - 6s 153ms/step - loss: 0.1077 - val_loss: 0.1597\n",
            "Epoch 88/150\n",
            "38/38 [==============================] - 7s 187ms/step - loss: 0.1085 - val_loss: 0.1609\n",
            "Epoch 89/150\n",
            "38/38 [==============================] - 6s 157ms/step - loss: 0.1081 - val_loss: 0.1612\n",
            "Epoch 90/150\n",
            "38/38 [==============================] - 6s 149ms/step - loss: 0.1096 - val_loss: 0.1585\n",
            "Epoch 91/150\n",
            "38/38 [==============================] - 6s 156ms/step - loss: 0.1088 - val_loss: 0.1610\n",
            "Epoch 92/150\n",
            "38/38 [==============================] - 6s 148ms/step - loss: 0.1083 - val_loss: 0.1605\n",
            "Epoch 93/150\n",
            "38/38 [==============================] - 6s 148ms/step - loss: 0.1072 - val_loss: 0.1623\n",
            "Epoch 94/150\n",
            "38/38 [==============================] - 6s 152ms/step - loss: 0.1076 - val_loss: 0.1624\n",
            "Epoch 95/150\n",
            "38/38 [==============================] - 6s 150ms/step - loss: 0.1077 - val_loss: 0.1633\n",
            "Epoch 96/150\n",
            "38/38 [==============================] - 6s 149ms/step - loss: 0.1067 - val_loss: 0.1625\n",
            "Epoch 97/150\n",
            "38/38 [==============================] - 6s 147ms/step - loss: 0.1073 - val_loss: 0.1626\n",
            "Epoch 98/150\n",
            "38/38 [==============================] - 6s 147ms/step - loss: 0.1067 - val_loss: 0.1626\n",
            "Epoch 99/150\n",
            "38/38 [==============================] - 6s 148ms/step - loss: 0.1049 - val_loss: 0.1657\n",
            "Epoch 100/150\n",
            "38/38 [==============================] - 6s 147ms/step - loss: 0.1064 - val_loss: 0.1635\n",
            "Epoch 101/150\n",
            "38/38 [==============================] - 6s 153ms/step - loss: 0.1056 - val_loss: 0.1650\n",
            "Epoch 102/150\n",
            "38/38 [==============================] - 6s 153ms/step - loss: 0.1064 - val_loss: 0.1632\n",
            "Epoch 103/150\n",
            "38/38 [==============================] - 6s 149ms/step - loss: 0.1069 - val_loss: 0.1649\n",
            "Epoch 104/150\n",
            "38/38 [==============================] - 6s 152ms/step - loss: 0.1059 - val_loss: 0.1629\n",
            "Epoch 105/150\n",
            "38/38 [==============================] - 6s 148ms/step - loss: 0.1070 - val_loss: 0.1622\n",
            "Epoch 106/150\n",
            "38/38 [==============================] - 6s 147ms/step - loss: 0.1059 - val_loss: 0.1625\n",
            "Epoch 107/150\n",
            "38/38 [==============================] - 6s 147ms/step - loss: 0.1047 - val_loss: 0.1642\n",
            "Epoch 108/150\n",
            "38/38 [==============================] - 6s 145ms/step - loss: 0.1038 - val_loss: 0.1630\n",
            "Epoch 109/150\n",
            "38/38 [==============================] - 6s 146ms/step - loss: 0.1041 - val_loss: 0.1643\n",
            "Epoch 110/150\n",
            "38/38 [==============================] - 5s 145ms/step - loss: 0.1056 - val_loss: 0.1661\n",
            "Epoch 111/150\n",
            "38/38 [==============================] - 6s 146ms/step - loss: 0.1072 - val_loss: 0.1616\n",
            "Epoch 112/150\n",
            "38/38 [==============================] - 6s 145ms/step - loss: 0.1050 - val_loss: 0.1670\n",
            "Epoch 113/150\n",
            "38/38 [==============================] - 5s 144ms/step - loss: 0.1054 - val_loss: 0.1684\n",
            "Epoch 114/150\n",
            "38/38 [==============================] - 5s 144ms/step - loss: 0.1049 - val_loss: 0.1651\n",
            "Epoch 115/150\n",
            "38/38 [==============================] - 6s 147ms/step - loss: 0.1038 - val_loss: 0.1640\n",
            "Epoch 116/150\n",
            "38/38 [==============================] - 6s 149ms/step - loss: 0.1033 - val_loss: 0.1658\n",
            "Epoch 117/150\n",
            "38/38 [==============================] - 6s 151ms/step - loss: 0.1028 - val_loss: 0.1685\n",
            "Epoch 118/150\n",
            "38/38 [==============================] - 6s 150ms/step - loss: 0.1045 - val_loss: 0.1685\n",
            "Epoch 119/150\n",
            "38/38 [==============================] - 6s 147ms/step - loss: 0.1008 - val_loss: 0.1749\n",
            "Epoch 120/150\n",
            "38/38 [==============================] - 6s 148ms/step - loss: 0.1021 - val_loss: 0.1703\n",
            "Epoch 121/150\n",
            "38/38 [==============================] - 6s 151ms/step - loss: 0.1022 - val_loss: 0.1688\n",
            "Epoch 122/150\n",
            "38/38 [==============================] - 6s 151ms/step - loss: 0.1002 - val_loss: 0.1675\n",
            "Epoch 123/150\n",
            "38/38 [==============================] - 6s 153ms/step - loss: 0.1009 - val_loss: 0.1721\n",
            "Epoch 124/150\n",
            "38/38 [==============================] - 6s 149ms/step - loss: 0.1015 - val_loss: 0.1712\n",
            "Epoch 125/150\n",
            "38/38 [==============================] - 6s 148ms/step - loss: 0.1014 - val_loss: 0.1717\n",
            "Epoch 126/150\n",
            "38/38 [==============================] - 6s 147ms/step - loss: 0.1007 - val_loss: 0.1688\n",
            "Epoch 127/150\n",
            "38/38 [==============================] - 6s 145ms/step - loss: 0.1002 - val_loss: 0.1739\n",
            "Epoch 128/150\n",
            "38/38 [==============================] - 6s 147ms/step - loss: 0.0999 - val_loss: 0.1755\n",
            "Epoch 129/150\n",
            "38/38 [==============================] - 6s 146ms/step - loss: 0.0981 - val_loss: 0.1746\n",
            "Epoch 130/150\n",
            "38/38 [==============================] - 5s 144ms/step - loss: 0.1002 - val_loss: 0.1751\n",
            "Epoch 131/150\n",
            "38/38 [==============================] - 6s 147ms/step - loss: 0.1029 - val_loss: 0.1674\n",
            "Epoch 132/150\n",
            "38/38 [==============================] - 6s 146ms/step - loss: 0.0997 - val_loss: 0.1712\n",
            "Epoch 133/150\n",
            "38/38 [==============================] - 6s 150ms/step - loss: 0.0984 - val_loss: 0.1744\n",
            "Epoch 134/150\n",
            "38/38 [==============================] - 6s 151ms/step - loss: 0.0966 - val_loss: 0.1785\n",
            "Epoch 135/150\n",
            "38/38 [==============================] - 6s 163ms/step - loss: 0.0979 - val_loss: 0.1759\n",
            "Epoch 136/150\n",
            "38/38 [==============================] - 6s 149ms/step - loss: 0.0968 - val_loss: 0.1754\n",
            "Epoch 137/150\n",
            "38/38 [==============================] - 6s 147ms/step - loss: 0.0948 - val_loss: 0.1783\n",
            "Epoch 138/150\n",
            "38/38 [==============================] - 6s 147ms/step - loss: 0.0947 - val_loss: 0.1778\n",
            "Epoch 139/150\n",
            "38/38 [==============================] - 6s 145ms/step - loss: 0.0964 - val_loss: 0.1782\n",
            "Epoch 140/150\n",
            "38/38 [==============================] - 6s 148ms/step - loss: 0.0946 - val_loss: 0.1785\n",
            "Epoch 141/150\n",
            "38/38 [==============================] - 6s 147ms/step - loss: 0.0950 - val_loss: 0.1823\n",
            "Epoch 142/150\n",
            "38/38 [==============================] - 6s 146ms/step - loss: 0.0943 - val_loss: 0.1847\n",
            "Epoch 143/150\n",
            "38/38 [==============================] - 6s 148ms/step - loss: 0.0924 - val_loss: 0.1800\n",
            "Epoch 144/150\n",
            "38/38 [==============================] - 6s 149ms/step - loss: 0.0921 - val_loss: 0.1888\n",
            "Epoch 145/150\n",
            "38/38 [==============================] - 6s 147ms/step - loss: 0.0886 - val_loss: 0.1891\n",
            "Epoch 146/150\n",
            "38/38 [==============================] - 6s 149ms/step - loss: 0.0878 - val_loss: 0.1933\n",
            "Epoch 147/150\n",
            "38/38 [==============================] - 6s 147ms/step - loss: 0.0899 - val_loss: 0.1974\n",
            "Epoch 148/150\n",
            "38/38 [==============================] - 6s 146ms/step - loss: 0.0961 - val_loss: 0.1729\n",
            "Epoch 149/150\n",
            "38/38 [==============================] - 6s 147ms/step - loss: 0.1009 - val_loss: 0.1782\n",
            "Epoch 150/150\n",
            "38/38 [==============================] - 6s 146ms/step - loss: 0.0933 - val_loss: 0.1828\n"
          ]
        }
      ],
      "source": [
        "#Training model with adam optimizer and mean squared error loss function\n",
        "optimizer = tf.keras.optimizers.Adam(learning_rate=0.001)\n",
        "model.compile(loss='mse',optimizer=optimizer)\n",
        "history = model.fit(\n",
        "    X_train,y_train,\n",
        "    validation_data=(X_test,y_test),\n",
        "    epochs=150,\n",
        "    batch_size=64,\n",
        "    validation_split=0.3,\n",
        "    verbose=1,\n",
        "    )"
      ]
    },
    {
      "cell_type": "code",
      "source": [
        "# Convert the model.\n",
        "import pathlib\n",
        "\n",
        "export_dir = 'saved_model/1'\n",
        "tf.saved_model.save(model, export_dir)\n",
        "\n",
        "converter = tf.lite.TFLiteConverter.from_saved_model(export_dir)\n",
        "\n",
        "converter.target_spec.supported_ops = [\n",
        "  tf.lite.OpsSet.TFLITE_BUILTINS, # enable TensorFlow Lite ops.\n",
        "  tf.lite.OpsSet.SELECT_TF_OPS # enable TensorFlow ops.\n",
        "]\n",
        "tflite_model = converter.convert()"
      ],
      "metadata": {
        "colab": {
          "base_uri": "https://localhost:8080/"
        },
        "id": "DKzXf35xHiIF",
        "outputId": "a4fa6995-baec-4306-eff9-419b4147a6f3"
      },
      "execution_count": 33,
      "outputs": [
        {
          "output_type": "stream",
          "name": "stderr",
          "text": [
            "WARNING:absl:Found untraced functions such as lstm_cell_layer_call_fn, lstm_cell_layer_call_and_return_conditional_losses, lstm_cell_1_layer_call_fn, lstm_cell_1_layer_call_and_return_conditional_losses, lstm_cell_2_layer_call_fn while saving (showing 5 of 6). These functions will not be directly callable after loading.\n"
          ]
        },
        {
          "output_type": "stream",
          "name": "stdout",
          "text": [
            "INFO:tensorflow:Assets written to: saved_model/1/assets\n"
          ]
        },
        {
          "output_type": "stream",
          "name": "stderr",
          "text": [
            "INFO:tensorflow:Assets written to: saved_model/1/assets\n",
            "WARNING:absl:Buffer deduplication procedure will be skipped when flatbuffer library is not properly loaded\n"
          ]
        }
      ]
    },
    {
      "cell_type": "code",
      "source": [
        "tflite_model_file = pathlib.Path('model.tflite')\n",
        "tflite_model_file.write_bytes(tflite_model)"
      ],
      "metadata": {
        "colab": {
          "base_uri": "https://localhost:8080/"
        },
        "id": "MBlOhhvjHk5I",
        "outputId": "5ea19af6-f349-44a4-f933-e5e7e3096c7b"
      },
      "execution_count": 34,
      "outputs": [
        {
          "output_type": "execute_result",
          "data": {
            "text/plain": [
              "227864"
            ]
          },
          "metadata": {},
          "execution_count": 34
        }
      ]
    },
    {
      "cell_type": "code",
      "source": [
        "# Load TFLite model and allocate tensors.\n",
        "interpreter = tf.lite.Interpreter(model_content=tflite_model)\n",
        "interpreter.allocate_tensors()\n",
        "\n",
        "# Get input and output tensors.\n",
        "input_details = interpreter.get_input_details()\n",
        "output_details = interpreter.get_output_details()"
      ],
      "metadata": {
        "id": "GN5U2knvHntr"
      },
      "execution_count": 35,
      "outputs": []
    },
    {
      "cell_type": "code",
      "execution_count": 36,
      "metadata": {
        "colab": {
          "base_uri": "https://localhost:8080/",
          "height": 284
        },
        "id": "qMmkh35hleiK",
        "outputId": "ab91a30f-8528-4585-ee57-ef2d399fd376"
      },
      "outputs": [
        {
          "output_type": "execute_result",
          "data": {
            "text/plain": [
              "[<matplotlib.lines.Line2D at 0x7f66983a5650>]"
            ]
          },
          "metadata": {},
          "execution_count": 36
        },
        {
          "output_type": "display_data",
          "data": {
            "text/plain": [
              "<Figure size 432x288 with 1 Axes>"
            ],
            "image/png": "[encoded data removed]"
          },
          "metadata": {
            "needs_background": "light"
          }
        }
      ],
      "source": [
        "#PLotting loss, it shows that loss has decreased significantly and model trained well\n",
        "loss = model.history.history['loss']\n",
        "plt.plot(loss)"
      ]
    },
    {
      "cell_type": "code",
      "execution_count": 37,
      "metadata": {
        "id": "CVbk-AcOleiK"
      },
      "outputs": [],
      "source": [
        "#Predicitng on train and test data\n",
        "train_predict = model.predict(X_train)\n",
        "test_predict = model.predict(X_test)"
      ]
    },
    {
      "cell_type": "code",
      "execution_count": 38,
      "metadata": {
        "id": "X5knBt-bleiL"
      },
      "outputs": [],
      "source": [
        "#Inverse transform to get actual value\n",
        "train_predict = normalizer.inverse_transform(train_predict)\n",
        "test_predict = normalizer.inverse_transform(test_predict)"
      ]
    },
    {
      "cell_type": "code",
      "execution_count": 39,
      "metadata": {
        "colab": {
          "base_uri": "https://localhost:8080/",
          "height": 282
        },
        "id": "3pkeowaRleiL",
        "outputId": "d614c819-265a-448b-efdf-0a815c36f31f"
      },
      "outputs": [
        {
          "output_type": "execute_result",
          "data": {
            "text/plain": [
              "[<matplotlib.lines.Line2D at 0x7f66981e1a10>]"
            ]
          },
          "metadata": {},
          "execution_count": 39
        },
        {
          "output_type": "display_data",
          "data": {
            "text/plain": [
              "<Figure size 432x288 with 1 Axes>"
            ],
            "image/png": "[encoded data removed]"
          },
          "metadata": {
            "needs_background": "light"
          }
        }
      ],
      "source": [
        "#Comparing using visuals\n",
        "plt.plot(normalizer.inverse_transform(df_scaled))\n",
        "plt.plot(train_predict) #Orange Training\n",
        "plt.plot(test_predict) #Green Testing"
      ]
    },
    {
      "cell_type": "code",
      "execution_count": 40,
      "metadata": {
        "id": "aVuUNeOKleiL",
        "colab": {
          "base_uri": "https://localhost:8080/"
        },
        "outputId": "eab9801e-679f-4bc6-e17a-fb31565fe3b7"
      },
      "outputs": [
        {
          "output_type": "execute_result",
          "data": {
            "text/plain": [
              "numpy.ndarray"
            ]
          },
          "metadata": {},
          "execution_count": 40
        }
      ],
      "source": [
        "type(train_predict)"
      ]
    },
    {
      "cell_type": "code",
      "execution_count": 41,
      "metadata": {
        "id": "7fxYv4vhleiL"
      },
      "outputs": [],
      "source": [
        "test = np.vstack((train_predict,test_predict))"
      ]
    },
    {
      "cell_type": "code",
      "execution_count": 42,
      "metadata": {
        "id": "yPX8nlf7leiL",
        "colab": {
          "base_uri": "https://localhost:8080/",
          "height": 282
        },
        "outputId": "fc38eb65-c2ea-45e6-cf50-e44d7479cce6"
      },
      "outputs": [
        {
          "output_type": "execute_result",
          "data": {
            "text/plain": [
              "[<matplotlib.lines.Line2D at 0x7f66994628d0>]"
            ]
          },
          "metadata": {},
          "execution_count": 42
        },
        {
          "output_type": "display_data",
          "data": {
            "text/plain": [
              "<Figure size 432x288 with 1 Axes>"
            ],
            "image/png": "[encoded data removed]"
          },
          "metadata": {
            "needs_background": "light"
          }
        }
      ],
      "source": [
        "#Combining the predited data to create uniform data visualization\n",
        "plt.plot(normalizer.inverse_transform(df_scaled))\n",
        "plt.plot(test)"
      ]
    },
    {
      "cell_type": "code",
      "execution_count": 43,
      "metadata": {
        "id": "HVAgcrdzleiM",
        "colab": {
          "base_uri": "https://localhost:8080/"
        },
        "outputId": "98e12d8f-5dc5-4774-9dcc-d96b1777213a"
      },
      "outputs": [
        {
          "output_type": "execute_result",
          "data": {
            "text/plain": [
              "875"
            ]
          },
          "metadata": {},
          "execution_count": 43
        }
      ],
      "source": [
        "len(df_test)"
      ]
    },
    {
      "cell_type": "code",
      "execution_count": 44,
      "metadata": {
        "id": "lBjcWihnleiN",
        "colab": {
          "base_uri": "https://localhost:8080/"
        },
        "outputId": "942c4600-7fe9-4fd6-8f04-7055895b2c94"
      },
      "outputs": [
        {
          "output_type": "execute_result",
          "data": {
            "text/plain": [
              "(1, 100)"
            ]
          },
          "metadata": {},
          "execution_count": 44
        }
      ],
      "source": [
        "#Getting the last 100 days records\n",
        "fut_inp = df_test[len(df_test)-100:]\n",
        "fut_inp = fut_inp.reshape(1,-1)\n",
        "\n",
        "fut_inp.shape"
      ]
    },
    {
      "cell_type": "code",
      "execution_count": 45,
      "metadata": {
        "id": "GCSPTQfvleiN"
      },
      "outputs": [],
      "source": [
        "#Creating list of the last 100 data\n",
        "tmp_inp = list(fut_inp)\n",
        "tmp_inp = tmp_inp[0].tolist()"
      ]
    },
    {
      "cell_type": "code",
      "execution_count": 46,
      "metadata": {
        "id": "qkBwY0RFleiP",
        "colab": {
          "base_uri": "https://localhost:8080/"
        },
        "outputId": "897d478c-f802-464b-b5da-45d5f446d866"
      },
      "outputs": [
        {
          "output_type": "stream",
          "name": "stdout",
          "text": [
            "Difference is 159 days\n"
          ]
        }
      ],
      "source": [
        "from datetime import datetime\n",
        "\n",
        "# Predicting from last date of dataset untill today\n",
        "date_dataset = '2021/12/31'\n",
        "date_today = '2022/06/08'\n",
        "\n",
        "# convert string to date object\n",
        "d1 = datetime.strptime(date_dataset, \"%Y/%m/%d\")\n",
        "d2 = datetime.strptime(date_today, \"%Y/%m/%d\")\n",
        "\n",
        "# difference between dates in timedelta\n",
        "delta = d2 - d1\n",
        "delta = int(delta.days)\n",
        "print(f'Difference is {delta} days')"
      ]
    },
    {
      "cell_type": "code",
      "execution_count": 47,
      "metadata": {
        "id": "Ptv9yATHleiP",
        "colab": {
          "base_uri": "https://localhost:8080/"
        },
        "outputId": "077c0703-989f-4617-ff0e-f4ec4817886b"
      },
      "outputs": [
        {
          "output_type": "stream",
          "name": "stdout",
          "text": [
            "[[0.05672052875161171], [0.09069959074258804], [0.12072201818227768], [0.1413857638835907], [0.15028856694698334], [0.15007683634757996], [0.14620664715766907], [0.14236605167388916], [0.13921253383159637], [0.1359230875968933], [0.13189060986042023], [0.12704411149024963], [0.1215880960226059], [0.11582616716623306], [0.1101435124874115], [0.10501566529273987], [0.1009289026260376], [0.09789407253265381], [0.09602497518062592], [0.0952320396900177], [0.0952078253030777], [0.09573937952518463], [0.09675586223602295], [0.09730646014213562], [0.09856516867876053], [0.09997664391994476], [0.10130541026592255], [0.10247918218374252], [0.10346734523773193], [0.10428895056247711], [0.10497848689556122], [0.10556518286466599], [0.10606179386377335], [0.10654157400131226], [0.10694882273674011], [0.10726799815893173], [0.10749846696853638], [0.10764741897583008], [0.10773205757141113], [0.10778675973415375], [0.10781920701265335], [0.10783044993877411], [0.10782994329929352], [0.1078275740146637], [0.10782977193593979], [0.10783905535936356], [0.10785393416881561], [0.10787184536457062], [0.10789114236831665], [0.10791594535112381], [0.10795081406831741], [0.10798647999763489], [0.1080147847533226], [0.10802966356277466], [0.10801766812801361], [0.10796985775232315], [0.10788682103157043], [0.1077737808227539], [0.10776711255311966], [0.10769630968570709], [0.10762563347816467], [0.1076667457818985], [0.10777843743562698], [0.1077297180891037], [0.10762539505958557], [0.10755528509616852], [0.10759377479553223], [0.10761089622974396], [0.10761678963899612], [0.10767783224582672], [0.10768293589353561], [0.10765266418457031], [0.10761041194200516], [0.10757392644882202], [0.10755470395088196], [0.10755974799394608], [0.1075960099697113], [0.10762548446655273], [0.10765326768159866], [0.10767941176891327], [0.10769995301961899], [0.10771249979734421], [0.1077253669500351], [0.10771399736404419], [0.10772959887981415], [0.10774495452642441], [0.10775323212146759], [0.10776180028915405], [0.10778926312923431], [0.10784372687339783], [0.10791155695915222], [0.10795190930366516], [0.10791836678981781], [0.10782024264335632], [0.10773007571697235], [0.10771297663450241], [0.10772695392370224], [0.10778392851352692], [0.10783993452787399], [0.10787755250930786], [0.10789146274328232], [0.10788420587778091], [0.10786296427249908], [0.10783549398183823], [0.1078074648976326], [0.10778215527534485], [0.10776092857122421], [0.10774368047714233], [0.10773002356290817], [0.10771949589252472], [0.10771165788173676], [0.10770612955093384], [0.10770261287689209], [0.10770072042942047], [0.10770006477832794], [0.10770037770271301], [0.10770124942064285], [0.10770238935947418], [0.10770396143198013], [0.10770547389984131], [0.10770706832408905], [0.10770875215530396], [0.10771041363477707], [0.10771225392818451], [0.10771404951810837], [0.10771601647138596], [0.10771811753511429], [0.10772031545639038], [0.10772259533405304], [0.10772491246461868], [0.1077272891998291], [0.10772964358329773], [0.10773180425167084], [0.10773378610610962], [0.1077355295419693], [0.10773704946041107], [0.10773833096027374], [0.10773928463459015], [0.10773991048336029], [0.10774026066064835], [0.10774035006761551], [0.10774016380310059], [0.10773973912000656], [0.1077391505241394], [0.10773852467536926], [0.10773778706789017], [0.10773693025112152], [0.10773607343435287], [0.10773526132106781], [0.10773446410894394], [0.107733815908432], [0.1077331155538559], [0.10773268342018127], [0.10773223638534546], [0.10773181915283203], [0.10773177444934845], [0.10773153603076935], [0.10773152112960815], [0.10773158073425293]]\n"
          ]
        }
      ],
      "source": [
        "#Predicting next 30 days price suing the current data\n",
        "#It will predict in sliding window manner (algorithm) with stride 1\n",
        "lst_output=[]\n",
        "i=0\n",
        "while(i<delta):\n",
        "    \n",
        "    if(len(tmp_inp)>100):\n",
        "        fut_inp = np.array(tmp_inp[1:])\n",
        "        fut_inp=fut_inp.reshape(1,-1)\n",
        "        fut_inp = fut_inp.reshape((1, time_stamp, 1))\n",
        "        yhat = model.predict(fut_inp, verbose=0)\n",
        "        tmp_inp.extend(yhat[0].tolist())\n",
        "        tmp_inp = tmp_inp[1:]\n",
        "        lst_output.extend(yhat.tolist())\n",
        "        i=i+1\n",
        "    else:\n",
        "        fut_inp = fut_inp.reshape((1, time_stamp,1))\n",
        "        yhat = model.predict(fut_inp, verbose=0)\n",
        "        tmp_inp.extend(yhat[0].tolist())\n",
        "        lst_output.extend(yhat.tolist())\n",
        "        i=i+1\n",
        "    \n",
        "\n",
        "print(lst_output)"
      ]
    },
    {
      "cell_type": "code",
      "execution_count": 48,
      "metadata": {
        "id": "NwvxsuEzleiP",
        "colab": {
          "base_uri": "https://localhost:8080/"
        },
        "outputId": "afbcdf8c-5b3b-4695-b2cc-9522976fc808"
      },
      "outputs": [
        {
          "output_type": "stream",
          "name": "stdout",
          "text": [
            "Polusi = Baik ke Sedang\n"
          ]
        }
      ],
      "source": [
        "hasil = normalizer.inverse_transform(lst_output)\n",
        "hasil = np.array(hasil)\n",
        "hasil = hasil[-1]\n",
        "hasil_float = hasil.astype(np.float32)\n",
        "polusi = int(hasil_float)\n",
        "\n",
        "# df.replace({'SEDANG':2, 'BAIK':1, 'TIDAK SEHAT':3, 'SANGAT TIDAK SEHAT':4,'BERBAHAYA':5}, inplace=True)\n",
        "\n",
        "if polusi >= 1 and polusi < 2:\n",
        "    print(\"Polusi = Baik ke Sedang\")\n",
        "elif polusi >= 2 and polusi < 3:\n",
        "    print(\"Polusi = Sedang ke Tidak Sehat, Pakailah Maskerr !! \")\n",
        "elif polusi >= 3 and polusi < 4:\n",
        "    print(\"Polusi = Tidak Sehat, Pakailah Maskerr !!\")\n",
        "elif polusi >= 4 and polusi < 5:\n",
        "    print(\"Polusi = Sangat Tidak Sehat, Pakailah Maskerr !!\")\n",
        "elif polusi >= 5:\n",
        "    print(\"Polusi = Berbahaya, Pakailah Maskerr !!\")\n"
      ]
    },
    {
      "cell_type": "code",
      "execution_count": 49,
      "metadata": {
        "id": "rCkR645AleiQ",
        "colab": {
          "base_uri": "https://localhost:8080/"
        },
        "outputId": "6600ecc6-124d-4c99-f790-7c71bd705776"
      },
      "outputs": [
        {
          "output_type": "execute_result",
          "data": {
            "text/plain": [
              "4374"
            ]
          },
          "metadata": {},
          "execution_count": 49
        }
      ],
      "source": [
        "len(df_scaled)"
      ]
    },
    {
      "cell_type": "code",
      "execution_count": 50,
      "metadata": {
        "id": "493ZUJlGleiQ"
      },
      "outputs": [],
      "source": [
        "#Creating a dummy plane to plot graph one after another\n",
        "plot_new=np.arange(1,time_stamp+1)\n",
        "plot_pred=np.arange(time_stamp+1,time_stamp+1+delta)"
      ]
    },
    {
      "cell_type": "code",
      "execution_count": 51,
      "metadata": {
        "id": "LhzbG6bqleiQ",
        "colab": {
          "base_uri": "https://localhost:8080/",
          "height": 282
        },
        "outputId": "7e70a57d-64f5-4288-e535-ad4935dbd7bb"
      },
      "outputs": [
        {
          "output_type": "execute_result",
          "data": {
            "text/plain": [
              "[<matplotlib.lines.Line2D at 0x7f66999d2e10>]"
            ]
          },
          "metadata": {},
          "execution_count": 51
        },
        {
          "output_type": "display_data",
          "data": {
            "text/plain": [
              "<Figure size 432x288 with 1 Axes>"
            ],
            "image/png": "[encoded data removed]"
          },
          "metadata": {
            "needs_background": "light"
          }
        }
      ],
      "source": [
        "plt.plot(plot_new, normalizer.inverse_transform(df_scaled[len(df_scaled)-time_stamp:]))\n",
        "plt.plot(plot_pred, normalizer.inverse_transform(lst_output))"
      ]
    },
    {
      "cell_type": "code",
      "execution_count": 52,
      "metadata": {
        "id": "o8KUfceIleiR"
      },
      "outputs": [],
      "source": [
        "df_new = df_scaled.tolist()"
      ]
    },
    {
      "cell_type": "code",
      "execution_count": 53,
      "metadata": {
        "id": "v3gBMKdUleiS",
        "colab": {
          "base_uri": "https://localhost:8080/"
        },
        "outputId": "4948b4a0-2b06-4d5e-c26e-ba48e4420523"
      },
      "outputs": [
        {
          "output_type": "execute_result",
          "data": {
            "text/plain": [
              "4374"
            ]
          },
          "metadata": {},
          "execution_count": 53
        }
      ],
      "source": [
        "len(df_new)"
      ]
    },
    {
      "cell_type": "code",
      "execution_count": 54,
      "metadata": {
        "id": "DGM27914leiS",
        "colab": {
          "base_uri": "https://localhost:8080/",
          "height": 282
        },
        "outputId": "ba23e241-6537-4cd9-cc67-8fc0da8ce943"
      },
      "outputs": [
        {
          "output_type": "execute_result",
          "data": {
            "text/plain": [
              "[<matplotlib.lines.Line2D at 0x7f66994aebd0>]"
            ]
          },
          "metadata": {},
          "execution_count": 54
        },
        {
          "output_type": "display_data",
          "data": {
            "text/plain": [
              "<Figure size 432x288 with 1 Axes>"
            ],
            "image/png": "[encoded data removed]"
          },
          "metadata": {
            "needs_background": "light"
          }
        }
      ],
      "source": [
        "#Entends helps us to fill the missing value with approx value\n",
        "df_new.extend(lst_output)\n",
        "plt.plot(df_new[1200:])"
      ]
    },
    {
      "cell_type": "code",
      "execution_count": 55,
      "metadata": {
        "id": "4MMr7Vx4leiS"
      },
      "outputs": [],
      "source": [
        "#Creating final data for plotting\n",
        "final_graph = normalizer.inverse_transform(df_new).tolist()"
      ]
    },
    {
      "cell_type": "code",
      "execution_count": 56,
      "metadata": {
        "id": "uSRhAsFzleiT",
        "colab": {
          "base_uri": "https://localhost:8080/",
          "height": 330
        },
        "outputId": "f9461d3f-00e6-4a66-e857-24f1a0d71fa3"
      },
      "outputs": [
        {
          "output_type": "stream",
          "name": "stderr",
          "text": [
            "WARNING:matplotlib.legend:No handles with labels found to put in legend.\n"
          ]
        },
        {
          "output_type": "execute_result",
          "data": {
            "text/plain": [
              "<matplotlib.legend.Legend at 0x7f669a0c0ad0>"
            ]
          },
          "metadata": {},
          "execution_count": 56
        },
        {
          "output_type": "display_data",
          "data": {
            "text/plain": [
              "<Figure size 432x288 with 1 Axes>"
            ],
            "image/png": "[encoded data removed]"
          },
          "metadata": {
            "needs_background": "light"
          }
        }
      ],
      "source": [
        "#Plotting final results with predicted value till today\n",
        "plt.plot(final_graph,)\n",
        "plt.ylabel(\"Categori\")\n",
        "plt.xlabel(\"Tanggal\")\n",
        "plt.title(\"Prediction of untill today\")\n",
        "plt.legend()"
      ]
    }
  ],
  "metadata": {
    "interpreter": {
      "hash": "8d3239b25ededd7d9b1a1fa3bd2e049ae98e52b15a9d9529dc2638ca6ba1baef"
    },
    "kernelspec": {
      "display_name": "Python 3.8.8 ('base')",
      "language": "python",
      "name": "python3"
    },
    "language_info": {
      "codemirror_mode": {
        "name": "ipython",
        "version": 3
      },
      "file_extension": ".py",
      "mimetype": "text/x-python",
      "name": "python",
      "nbconvert_exporter": "python",
      "pygments_lexer": "ipython3",
      "version": "3.9.12"
    },
    "orig_nbformat": 4,
    "colab": {
      "name": "modeling LSTM,  knn data act=linear.ipynb",
      "provenance": [],
      "collapsed_sections": []
    }
  },
  "nbformat": 4,
  "nbformat_minor": 0
}