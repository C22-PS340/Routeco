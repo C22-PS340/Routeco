{
  "cells": [
    {
      "cell_type": "code",
      "execution_count": 1,
      "metadata": {
        "id": "K31lYtpQlehr"
      },
      "outputs": [],
      "source": [
        "import pandas as pd\n",
        "import numpy as np\n",
        "import seaborn as sns\n",
        "import keras\n",
        "import tensorflow as tf\n",
        "import matplotlib.pyplot as plt\n",
        "%matplotlib inline\n",
        "from matplotlib.pylab import rcParams\n",
        "rcParams['figure.figsize']=20,10\n",
        "from keras.models import Sequential\n",
        "from keras.layers import LSTM,Dropout,Dense\n",
        "from sklearn.preprocessing import MinMaxScaler"
      ]
    },
    {
      "cell_type": "code",
      "execution_count": 2,
      "metadata": {
        "colab": {
          "base_uri": "https://localhost:8080/",
          "height": 424
        },
        "id": "UwMQWUtFlehv",
        "outputId": "05cd82a3-22ac-4062-9eff-eea66905aafe"
      },
      "outputs": [
        {
          "output_type": "execute_result",
          "data": {
            "text/plain": [
              "      Unnamed: 0     tanggal  pm10   so2    co    o3   no2    max  critical  \\\n",
              "0              0  2010-01-01  28.0  16.0  42.0   6.0  14.0    0.0       5.0   \n",
              "1              1  2010-01-02  28.0  16.0  42.0   6.0  14.0    0.0       5.0   \n",
              "2              2  2010-01-03  28.0  16.0  42.0   6.0  14.0    0.0       5.0   \n",
              "3              3  2010-01-04  28.0  16.0  42.0   6.0  14.0    0.0       5.0   \n",
              "4              4  2010-01-05  28.0  16.0  42.0   6.0  14.0    0.0       5.0   \n",
              "...          ...         ...   ...   ...   ...   ...   ...    ...       ...   \n",
              "4378        4378  2021-12-27  75.0  35.0  23.0  38.0  21.0  116.0       1.0   \n",
              "4379        4379  2021-12-28  51.0  42.0  13.0  17.0  18.0   74.0       1.0   \n",
              "4380        4380  2021-12-29  47.0  21.0  12.0  20.0   9.0   54.0       1.0   \n",
              "4381        4381  2021-12-30  60.0  21.0  15.0  19.0  13.0   60.0       3.0   \n",
              "4382        4382  2021-12-31  64.0  21.0  44.0  17.0   7.0   64.0       3.0   \n",
              "\n",
              "      categori  \n",
              "0          2.0  \n",
              "1          2.0  \n",
              "2          2.0  \n",
              "3          2.0  \n",
              "4          2.0  \n",
              "...        ...  \n",
              "4378       3.0  \n",
              "4379       1.0  \n",
              "4380       1.0  \n",
              "4381       1.0  \n",
              "4382       1.0  \n",
              "\n",
              "[4383 rows x 10 columns]"
            ],
            "text/html": [
              "\n",
              "  <div id=\"df-b658baa7-8eff-41ec-a394-83f58d56ef89\">\n",
              "    <div class=\"colab-df-container\">\n",
              "      <div>\n",
              "<style scoped>\n",
              "    .dataframe tbody tr th:only-of-type {\n",
              "        vertical-align: middle;\n",
              "    }\n",
              "\n",
              "    .dataframe tbody tr th {\n",
              "        vertical-align: top;\n",
              "    }\n",
              "\n",
              "    .dataframe thead th {\n",
              "        text-align: right;\n",
              "    }\n",
              "</style>\n",
              "<table border=\"1\" class=\"dataframe\">\n",
              "  <thead>\n",
              "    <tr style=\"text-align: right;\">\n",
              "      <th></th>\n",
              "      <th>Unnamed: 0</th>\n",
              "      <th>tanggal</th>\n",
              "      <th>pm10</th>\n",
              "      <th>so2</th>\n",
              "      <th>co</th>\n",
              "      <th>o3</th>\n",
              "      <th>no2</th>\n",
              "      <th>max</th>\n",
              "      <th>critical</th>\n",
              "      <th>categori</th>\n",
              "    </tr>\n",
              "  </thead>\n",
              "  <tbody>\n",
              "    <tr>\n",
              "      <th>0</th>\n",
              "      <td>0</td>\n",
              "      <td>2010-01-01</td>\n",
              "      <td>28.0</td>\n",
              "      <td>16.0</td>\n",
              "      <td>42.0</td>\n",
              "      <td>6.0</td>\n",
              "      <td>14.0</td>\n",
              "      <td>0.0</td>\n",
              "      <td>5.0</td>\n",
              "      <td>2.0</td>\n",
              "    </tr>\n",
              "    <tr>\n",
              "      <th>1</th>\n",
              "      <td>1</td>\n",
              "      <td>2010-01-02</td>\n",
              "      <td>28.0</td>\n",
              "      <td>16.0</td>\n",
              "      <td>42.0</td>\n",
              "      <td>6.0</td>\n",
              "      <td>14.0</td>\n",
              "      <td>0.0</td>\n",
              "      <td>5.0</td>\n",
              "      <td>2.0</td>\n",
              "    </tr>\n",
              "    <tr>\n",
              "      <th>2</th>\n",
              "      <td>2</td>\n",
              "      <td>2010-01-03</td>\n",
              "      <td>28.0</td>\n",
              "      <td>16.0</td>\n",
              "      <td>42.0</td>\n",
              "      <td>6.0</td>\n",
              "      <td>14.0</td>\n",
              "      <td>0.0</td>\n",
              "      <td>5.0</td>\n",
              "      <td>2.0</td>\n",
              "    </tr>\n",
              "    <tr>\n",
              "      <th>3</th>\n",
              "      <td>3</td>\n",
              "      <td>2010-01-04</td>\n",
              "      <td>28.0</td>\n",
              "      <td>16.0</td>\n",
              "      <td>42.0</td>\n",
              "      <td>6.0</td>\n",
              "      <td>14.0</td>\n",
              "      <td>0.0</td>\n",
              "      <td>5.0</td>\n",
              "      <td>2.0</td>\n",
              "    </tr>\n",
              "    <tr>\n",
              "      <th>4</th>\n",
              "      <td>4</td>\n",
              "      <td>2010-01-05</td>\n",
              "      <td>28.0</td>\n",
              "      <td>16.0</td>\n",
              "      <td>42.0</td>\n",
              "      <td>6.0</td>\n",
              "      <td>14.0</td>\n",
              "      <td>0.0</td>\n",
              "      <td>5.0</td>\n",
              "      <td>2.0</td>\n",
              "    </tr>\n",
              "    <tr>\n",
              "      <th>...</th>\n",
              "      <td>...</td>\n",
              "      <td>...</td>\n",
              "      <td>...</td>\n",
              "      <td>...</td>\n",
              "      <td>...</td>\n",
              "      <td>...</td>\n",
              "      <td>...</td>\n",
              "      <td>...</td>\n",
              "      <td>...</td>\n",
              "      <td>...</td>\n",
              "    </tr>\n",
              "    <tr>\n",
              "      <th>4378</th>\n",
              "      <td>4378</td>\n",
              "      <td>2021-12-27</td>\n",
              "      <td>75.0</td>\n",
              "      <td>35.0</td>\n",
              "      <td>23.0</td>\n",
              "      <td>38.0</td>\n",
              "      <td>21.0</td>\n",
              "      <td>116.0</td>\n",
              "      <td>1.0</td>\n",
              "      <td>3.0</td>\n",
              "    </tr>\n",
              "    <tr>\n",
              "      <th>4379</th>\n",
              "      <td>4379</td>\n",
              "      <td>2021-12-28</td>\n",
              "      <td>51.0</td>\n",
              "      <td>42.0</td>\n",
              "      <td>13.0</td>\n",
              "      <td>17.0</td>\n",
              "      <td>18.0</td>\n",
              "      <td>74.0</td>\n",
              "      <td>1.0</td>\n",
              "      <td>1.0</td>\n",
              "    </tr>\n",
              "    <tr>\n",
              "      <th>4380</th>\n",
              "      <td>4380</td>\n",
              "      <td>2021-12-29</td>\n",
              "      <td>47.0</td>\n",
              "      <td>21.0</td>\n",
              "      <td>12.0</td>\n",
              "      <td>20.0</td>\n",
              "      <td>9.0</td>\n",
              "      <td>54.0</td>\n",
              "      <td>1.0</td>\n",
              "      <td>1.0</td>\n",
              "    </tr>\n",
              "    <tr>\n",
              "      <th>4381</th>\n",
              "      <td>4381</td>\n",
              "      <td>2021-12-30</td>\n",
              "      <td>60.0</td>\n",
              "      <td>21.0</td>\n",
              "      <td>15.0</td>\n",
              "      <td>19.0</td>\n",
              "      <td>13.0</td>\n",
              "      <td>60.0</td>\n",
              "      <td>3.0</td>\n",
              "      <td>1.0</td>\n",
              "    </tr>\n",
              "    <tr>\n",
              "      <th>4382</th>\n",
              "      <td>4382</td>\n",
              "      <td>2021-12-31</td>\n",
              "      <td>64.0</td>\n",
              "      <td>21.0</td>\n",
              "      <td>44.0</td>\n",
              "      <td>17.0</td>\n",
              "      <td>7.0</td>\n",
              "      <td>64.0</td>\n",
              "      <td>3.0</td>\n",
              "      <td>1.0</td>\n",
              "    </tr>\n",
              "  </tbody>\n",
              "</table>\n",
              "<p>4383 rows × 10 columns</p>\n",
              "</div>\n",
              "      <button class=\"colab-df-convert\" onclick=\"convertToInteractive('df-b658baa7-8eff-41ec-a394-83f58d56ef89')\"\n",
              "              title=\"Convert this dataframe to an interactive table.\"\n",
              "              style=\"display:none;\">\n",
              "        \n",
              "  <svg xmlns=\"http://www.w3.org/2000/svg\" height=\"24px\"viewBox=\"0 0 24 24\"\n",
              "       width=\"24px\">\n",
              "    <path d=\"M0 0h24v24H0V0z\" fill=\"none\"/>\n",
              "    <path d=\"M18.56 5.44l.94 2.06.94-2.06 2.06-.94-2.06-.94-.94-2.06-.94 2.06-2.06.94zm-11 1L8.5 8.5l.94-2.06 2.06-.94-2.06-.94L8.5 2.5l-.94 2.06-2.06.94zm10 10l.94 2.06.94-2.06 2.06-.94-2.06-.94-.94-2.06-.94 2.06-2.06.94z\"/><path d=\"M17.41 7.96l-1.37-1.37c-.4-.4-.92-.59-1.43-.59-.52 0-1.04.2-1.43.59L10.3 9.45l-7.72 7.72c-.78.78-.78 2.05 0 2.83L4 21.41c.39.39.9.59 1.41.59.51 0 1.02-.2 1.41-.59l7.78-7.78 2.81-2.81c.8-.78.8-2.07 0-2.86zM5.41 20L4 18.59l7.72-7.72 1.47 1.35L5.41 20z\"/>\n",
              "  </svg>\n",
              "      </button>\n",
              "      \n",
              "  <style>\n",
              "    .colab-df-container {\n",
              "      display:flex;\n",
              "      flex-wrap:wrap;\n",
              "      gap: 12px;\n",
              "    }\n",
              "\n",
              "    .colab-df-convert {\n",
              "      background-color: #E8F0FE;\n",
              "      border: none;\n",
              "      border-radius: 50%;\n",
              "      cursor: pointer;\n",
              "      display: none;\n",
              "      fill: #1967D2;\n",
              "      height: 32px;\n",
              "      padding: 0 0 0 0;\n",
              "      width: 32px;\n",
              "    }\n",
              "\n",
              "    .colab-df-convert:hover {\n",
              "      background-color: #E2EBFA;\n",
              "      box-shadow: 0px 1px 2px rgba(60, 64, 67, 0.3), 0px 1px 3px 1px rgba(60, 64, 67, 0.15);\n",
              "      fill: #174EA6;\n",
              "    }\n",
              "\n",
              "    [theme=dark] .colab-df-convert {\n",
              "      background-color: #3B4455;\n",
              "      fill: #D2E3FC;\n",
              "    }\n",
              "\n",
              "    [theme=dark] .colab-df-convert:hover {\n",
              "      background-color: #434B5C;\n",
              "      box-shadow: 0px 1px 3px 1px rgba(0, 0, 0, 0.15);\n",
              "      filter: drop-shadow(0px 1px 2px rgba(0, 0, 0, 0.3));\n",
              "      fill: #FFFFFF;\n",
              "    }\n",
              "  </style>\n",
              "\n",
              "      <script>\n",
              "        const buttonEl =\n",
              "          document.querySelector('#df-b658baa7-8eff-41ec-a394-83f58d56ef89 button.colab-df-convert');\n",
              "        buttonEl.style.display =\n",
              "          google.colab.kernel.accessAllowed ? 'block' : 'none';\n",
              "\n",
              "        async function convertToInteractive(key) {\n",
              "          const element = document.querySelector('#df-b658baa7-8eff-41ec-a394-83f58d56ef89');\n",
              "          const dataTable =\n",
              "            await google.colab.kernel.invokeFunction('convertToInteractive',\n",
              "                                                     [key], {});\n",
              "          if (!dataTable) return;\n",
              "\n",
              "          const docLinkHtml = 'Like what you see? Visit the ' +\n",
              "            '<a target=\"_blank\" href=https://colab.research.google.com/notebooks/data_table.ipynb>data table notebook</a>'\n",
              "            + ' to learn more about interactive tables.';\n",
              "          element.innerHTML = '';\n",
              "          dataTable['output_type'] = 'display_data';\n",
              "          await google.colab.output.renderOutput(dataTable, element);\n",
              "          const docLink = document.createElement('div');\n",
              "          docLink.innerHTML = docLinkHtml;\n",
              "          element.appendChild(docLink);\n",
              "        }\n",
              "      </script>\n",
              "    </div>\n",
              "  </div>\n",
              "  "
            ]
          },
          "metadata": {},
          "execution_count": 2
        }
      ],
      "source": [
        "df = pd.read_csv('polusi-jaksel-2010-2021-knn-full-labeled.csv')\n",
        "df"
      ]
    },
    {
      "cell_type": "code",
      "execution_count": 3,
      "metadata": {
        "colab": {
          "base_uri": "https://localhost:8080/",
          "height": 206
        },
        "id": "mMM0DX0Llehx",
        "outputId": "f6da2133-095e-4f4e-d82e-f464ace0b699"
      },
      "outputs": [
        {
          "output_type": "execute_result",
          "data": {
            "text/plain": [
              "      tanggal  categori\n",
              "0  2010-01-01       2.0\n",
              "1  2010-01-02       2.0\n",
              "2  2010-01-03       2.0\n",
              "3  2010-01-04       2.0\n",
              "4  2010-01-05       2.0"
            ],
            "text/html": [
              "\n",
              "  <div id=\"df-3b9380d1-74f3-47b1-b21d-cd313aa56157\">\n",
              "    <div class=\"colab-df-container\">\n",
              "      <div>\n",
              "<style scoped>\n",
              "    .dataframe tbody tr th:only-of-type {\n",
              "        vertical-align: middle;\n",
              "    }\n",
              "\n",
              "    .dataframe tbody tr th {\n",
              "        vertical-align: top;\n",
              "    }\n",
              "\n",
              "    .dataframe thead th {\n",
              "        text-align: right;\n",
              "    }\n",
              "</style>\n",
              "<table border=\"1\" class=\"dataframe\">\n",
              "  <thead>\n",
              "    <tr style=\"text-align: right;\">\n",
              "      <th></th>\n",
              "      <th>tanggal</th>\n",
              "      <th>categori</th>\n",
              "    </tr>\n",
              "  </thead>\n",
              "  <tbody>\n",
              "    <tr>\n",
              "      <th>0</th>\n",
              "      <td>2010-01-01</td>\n",
              "      <td>2.0</td>\n",
              "    </tr>\n",
              "    <tr>\n",
              "      <th>1</th>\n",
              "      <td>2010-01-02</td>\n",
              "      <td>2.0</td>\n",
              "    </tr>\n",
              "    <tr>\n",
              "      <th>2</th>\n",
              "      <td>2010-01-03</td>\n",
              "      <td>2.0</td>\n",
              "    </tr>\n",
              "    <tr>\n",
              "      <th>3</th>\n",
              "      <td>2010-01-04</td>\n",
              "      <td>2.0</td>\n",
              "    </tr>\n",
              "    <tr>\n",
              "      <th>4</th>\n",
              "      <td>2010-01-05</td>\n",
              "      <td>2.0</td>\n",
              "    </tr>\n",
              "  </tbody>\n",
              "</table>\n",
              "</div>\n",
              "      <button class=\"colab-df-convert\" onclick=\"convertToInteractive('df-3b9380d1-74f3-47b1-b21d-cd313aa56157')\"\n",
              "              title=\"Convert this dataframe to an interactive table.\"\n",
              "              style=\"display:none;\">\n",
              "        \n",
              "  <svg xmlns=\"http://www.w3.org/2000/svg\" height=\"24px\"viewBox=\"0 0 24 24\"\n",
              "       width=\"24px\">\n",
              "    <path d=\"M0 0h24v24H0V0z\" fill=\"none\"/>\n",
              "    <path d=\"M18.56 5.44l.94 2.06.94-2.06 2.06-.94-2.06-.94-.94-2.06-.94 2.06-2.06.94zm-11 1L8.5 8.5l.94-2.06 2.06-.94-2.06-.94L8.5 2.5l-.94 2.06-2.06.94zm10 10l.94 2.06.94-2.06 2.06-.94-2.06-.94-.94-2.06-.94 2.06-2.06.94z\"/><path d=\"M17.41 7.96l-1.37-1.37c-.4-.4-.92-.59-1.43-.59-.52 0-1.04.2-1.43.59L10.3 9.45l-7.72 7.72c-.78.78-.78 2.05 0 2.83L4 21.41c.39.39.9.59 1.41.59.51 0 1.02-.2 1.41-.59l7.78-7.78 2.81-2.81c.8-.78.8-2.07 0-2.86zM5.41 20L4 18.59l7.72-7.72 1.47 1.35L5.41 20z\"/>\n",
              "  </svg>\n",
              "      </button>\n",
              "      \n",
              "  <style>\n",
              "    .colab-df-container {\n",
              "      display:flex;\n",
              "      flex-wrap:wrap;\n",
              "      gap: 12px;\n",
              "    }\n",
              "\n",
              "    .colab-df-convert {\n",
              "      background-color: #E8F0FE;\n",
              "      border: none;\n",
              "      border-radius: 50%;\n",
              "      cursor: pointer;\n",
              "      display: none;\n",
              "      fill: #1967D2;\n",
              "      height: 32px;\n",
              "      padding: 0 0 0 0;\n",
              "      width: 32px;\n",
              "    }\n",
              "\n",
              "    .colab-df-convert:hover {\n",
              "      background-color: #E2EBFA;\n",
              "      box-shadow: 0px 1px 2px rgba(60, 64, 67, 0.3), 0px 1px 3px 1px rgba(60, 64, 67, 0.15);\n",
              "      fill: #174EA6;\n",
              "    }\n",
              "\n",
              "    [theme=dark] .colab-df-convert {\n",
              "      background-color: #3B4455;\n",
              "      fill: #D2E3FC;\n",
              "    }\n",
              "\n",
              "    [theme=dark] .colab-df-convert:hover {\n",
              "      background-color: #434B5C;\n",
              "      box-shadow: 0px 1px 3px 1px rgba(0, 0, 0, 0.15);\n",
              "      filter: drop-shadow(0px 1px 2px rgba(0, 0, 0, 0.3));\n",
              "      fill: #FFFFFF;\n",
              "    }\n",
              "  </style>\n",
              "\n",
              "      <script>\n",
              "        const buttonEl =\n",
              "          document.querySelector('#df-3b9380d1-74f3-47b1-b21d-cd313aa56157 button.colab-df-convert');\n",
              "        buttonEl.style.display =\n",
              "          google.colab.kernel.accessAllowed ? 'block' : 'none';\n",
              "\n",
              "        async function convertToInteractive(key) {\n",
              "          const element = document.querySelector('#df-3b9380d1-74f3-47b1-b21d-cd313aa56157');\n",
              "          const dataTable =\n",
              "            await google.colab.kernel.invokeFunction('convertToInteractive',\n",
              "                                                     [key], {});\n",
              "          if (!dataTable) return;\n",
              "\n",
              "          const docLinkHtml = 'Like what you see? Visit the ' +\n",
              "            '<a target=\"_blank\" href=https://colab.research.google.com/notebooks/data_table.ipynb>data table notebook</a>'\n",
              "            + ' to learn more about interactive tables.';\n",
              "          element.innerHTML = '';\n",
              "          dataTable['output_type'] = 'display_data';\n",
              "          await google.colab.output.renderOutput(dataTable, element);\n",
              "          const docLink = document.createElement('div');\n",
              "          docLink.innerHTML = docLinkHtml;\n",
              "          element.appendChild(docLink);\n",
              "        }\n",
              "      </script>\n",
              "    </div>\n",
              "  </div>\n",
              "  "
            ]
          },
          "metadata": {},
          "execution_count": 3
        }
      ],
      "source": [
        "df = df[['tanggal', 'categori']]\n",
        "df.head()"
      ]
    },
    {
      "cell_type": "code",
      "execution_count": 4,
      "metadata": {
        "colab": {
          "base_uri": "https://localhost:8080/",
          "height": 206
        },
        "id": "hfx2_m5Slehy",
        "outputId": "452cfca1-cea2-4947-a67b-209656954ac2"
      },
      "outputs": [
        {
          "output_type": "execute_result",
          "data": {
            "text/plain": [
              "         tanggal  categori\n",
              "4378  2021-12-27       3.0\n",
              "4379  2021-12-28       1.0\n",
              "4380  2021-12-29       1.0\n",
              "4381  2021-12-30       1.0\n",
              "4382  2021-12-31       1.0"
            ],
            "text/html": [
              "\n",
              "  <div id=\"df-c4bc2fe3-889f-45e2-bc74-04742cd75d63\">\n",
              "    <div class=\"colab-df-container\">\n",
              "      <div>\n",
              "<style scoped>\n",
              "    .dataframe tbody tr th:only-of-type {\n",
              "        vertical-align: middle;\n",
              "    }\n",
              "\n",
              "    .dataframe tbody tr th {\n",
              "        vertical-align: top;\n",
              "    }\n",
              "\n",
              "    .dataframe thead th {\n",
              "        text-align: right;\n",
              "    }\n",
              "</style>\n",
              "<table border=\"1\" class=\"dataframe\">\n",
              "  <thead>\n",
              "    <tr style=\"text-align: right;\">\n",
              "      <th></th>\n",
              "      <th>tanggal</th>\n",
              "      <th>categori</th>\n",
              "    </tr>\n",
              "  </thead>\n",
              "  <tbody>\n",
              "    <tr>\n",
              "      <th>4378</th>\n",
              "      <td>2021-12-27</td>\n",
              "      <td>3.0</td>\n",
              "    </tr>\n",
              "    <tr>\n",
              "      <th>4379</th>\n",
              "      <td>2021-12-28</td>\n",
              "      <td>1.0</td>\n",
              "    </tr>\n",
              "    <tr>\n",
              "      <th>4380</th>\n",
              "      <td>2021-12-29</td>\n",
              "      <td>1.0</td>\n",
              "    </tr>\n",
              "    <tr>\n",
              "      <th>4381</th>\n",
              "      <td>2021-12-30</td>\n",
              "      <td>1.0</td>\n",
              "    </tr>\n",
              "    <tr>\n",
              "      <th>4382</th>\n",
              "      <td>2021-12-31</td>\n",
              "      <td>1.0</td>\n",
              "    </tr>\n",
              "  </tbody>\n",
              "</table>\n",
              "</div>\n",
              "      <button class=\"colab-df-convert\" onclick=\"convertToInteractive('df-c4bc2fe3-889f-45e2-bc74-04742cd75d63')\"\n",
              "              title=\"Convert this dataframe to an interactive table.\"\n",
              "              style=\"display:none;\">\n",
              "        \n",
              "  <svg xmlns=\"http://www.w3.org/2000/svg\" height=\"24px\"viewBox=\"0 0 24 24\"\n",
              "       width=\"24px\">\n",
              "    <path d=\"M0 0h24v24H0V0z\" fill=\"none\"/>\n",
              "    <path d=\"M18.56 5.44l.94 2.06.94-2.06 2.06-.94-2.06-.94-.94-2.06-.94 2.06-2.06.94zm-11 1L8.5 8.5l.94-2.06 2.06-.94-2.06-.94L8.5 2.5l-.94 2.06-2.06.94zm10 10l.94 2.06.94-2.06 2.06-.94-2.06-.94-.94-2.06-.94 2.06-2.06.94z\"/><path d=\"M17.41 7.96l-1.37-1.37c-.4-.4-.92-.59-1.43-.59-.52 0-1.04.2-1.43.59L10.3 9.45l-7.72 7.72c-.78.78-.78 2.05 0 2.83L4 21.41c.39.39.9.59 1.41.59.51 0 1.02-.2 1.41-.59l7.78-7.78 2.81-2.81c.8-.78.8-2.07 0-2.86zM5.41 20L4 18.59l7.72-7.72 1.47 1.35L5.41 20z\"/>\n",
              "  </svg>\n",
              "      </button>\n",
              "      \n",
              "  <style>\n",
              "    .colab-df-container {\n",
              "      display:flex;\n",
              "      flex-wrap:wrap;\n",
              "      gap: 12px;\n",
              "    }\n",
              "\n",
              "    .colab-df-convert {\n",
              "      background-color: #E8F0FE;\n",
              "      border: none;\n",
              "      border-radius: 50%;\n",
              "      cursor: pointer;\n",
              "      display: none;\n",
              "      fill: #1967D2;\n",
              "      height: 32px;\n",
              "      padding: 0 0 0 0;\n",
              "      width: 32px;\n",
              "    }\n",
              "\n",
              "    .colab-df-convert:hover {\n",
              "      background-color: #E2EBFA;\n",
              "      box-shadow: 0px 1px 2px rgba(60, 64, 67, 0.3), 0px 1px 3px 1px rgba(60, 64, 67, 0.15);\n",
              "      fill: #174EA6;\n",
              "    }\n",
              "\n",
              "    [theme=dark] .colab-df-convert {\n",
              "      background-color: #3B4455;\n",
              "      fill: #D2E3FC;\n",
              "    }\n",
              "\n",
              "    [theme=dark] .colab-df-convert:hover {\n",
              "      background-color: #434B5C;\n",
              "      box-shadow: 0px 1px 3px 1px rgba(0, 0, 0, 0.15);\n",
              "      filter: drop-shadow(0px 1px 2px rgba(0, 0, 0, 0.3));\n",
              "      fill: #FFFFFF;\n",
              "    }\n",
              "  </style>\n",
              "\n",
              "      <script>\n",
              "        const buttonEl =\n",
              "          document.querySelector('#df-c4bc2fe3-889f-45e2-bc74-04742cd75d63 button.colab-df-convert');\n",
              "        buttonEl.style.display =\n",
              "          google.colab.kernel.accessAllowed ? 'block' : 'none';\n",
              "\n",
              "        async function convertToInteractive(key) {\n",
              "          const element = document.querySelector('#df-c4bc2fe3-889f-45e2-bc74-04742cd75d63');\n",
              "          const dataTable =\n",
              "            await google.colab.kernel.invokeFunction('convertToInteractive',\n",
              "                                                     [key], {});\n",
              "          if (!dataTable) return;\n",
              "\n",
              "          const docLinkHtml = 'Like what you see? Visit the ' +\n",
              "            '<a target=\"_blank\" href=https://colab.research.google.com/notebooks/data_table.ipynb>data table notebook</a>'\n",
              "            + ' to learn more about interactive tables.';\n",
              "          element.innerHTML = '';\n",
              "          dataTable['output_type'] = 'display_data';\n",
              "          await google.colab.output.renderOutput(dataTable, element);\n",
              "          const docLink = document.createElement('div');\n",
              "          docLink.innerHTML = docLinkHtml;\n",
              "          element.appendChild(docLink);\n",
              "        }\n",
              "      </script>\n",
              "    </div>\n",
              "  </div>\n",
              "  "
            ]
          },
          "metadata": {},
          "execution_count": 4
        }
      ],
      "source": [
        "df.tail()"
      ]
    },
    {
      "cell_type": "code",
      "execution_count": 5,
      "metadata": {
        "colab": {
          "base_uri": "https://localhost:8080/"
        },
        "id": "6rkP3E5Gleh1",
        "outputId": "a5c2f398-0d1b-4722-f95e-b3332fe56bae"
      },
      "outputs": [
        {
          "output_type": "execute_result",
          "data": {
            "text/plain": [
              "tanggal      object\n",
              "categori    float64\n",
              "dtype: object"
            ]
          },
          "metadata": {},
          "execution_count": 5
        }
      ],
      "source": [
        "df.dtypes"
      ]
    },
    {
      "cell_type": "code",
      "execution_count": 6,
      "metadata": {
        "colab": {
          "base_uri": "https://localhost:8080/",
          "height": 530
        },
        "id": "piTjCiM2leh3",
        "outputId": "5eb78636-8a17-45e0-bf0b-e46bd718924b"
      },
      "outputs": [
        {
          "output_type": "stream",
          "name": "stderr",
          "text": [
            "/usr/local/lib/python3.7/dist-packages/pandas/core/frame.py:5244: SettingWithCopyWarning: \n",
            "A value is trying to be set on a copy of a slice from a DataFrame\n",
            "\n",
            "See the caveats in the documentation: https://pandas.pydata.org/pandas-docs/stable/user_guide/indexing.html#returning-a-view-versus-a-copy\n",
            "  method=method,\n"
          ]
        },
        {
          "output_type": "execute_result",
          "data": {
            "text/plain": [
              "         tanggal  categori\n",
              "0     2010-01-01       2.0\n",
              "1     2010-01-02       2.0\n",
              "2     2010-01-03       2.0\n",
              "3     2010-01-04       2.0\n",
              "4     2010-01-05       2.0\n",
              "...          ...       ...\n",
              "4378  2021-12-27       3.0\n",
              "4379  2021-12-28       1.0\n",
              "4380  2021-12-29       1.0\n",
              "4381  2021-12-30       1.0\n",
              "4382  2021-12-31       1.0\n",
              "\n",
              "[4383 rows x 2 columns]"
            ],
            "text/html": [
              "\n",
              "  <div id=\"df-d07ce023-657c-45f3-92e6-2df3b182e447\">\n",
              "    <div class=\"colab-df-container\">\n",
              "      <div>\n",
              "<style scoped>\n",
              "    .dataframe tbody tr th:only-of-type {\n",
              "        vertical-align: middle;\n",
              "    }\n",
              "\n",
              "    .dataframe tbody tr th {\n",
              "        vertical-align: top;\n",
              "    }\n",
              "\n",
              "    .dataframe thead th {\n",
              "        text-align: right;\n",
              "    }\n",
              "</style>\n",
              "<table border=\"1\" class=\"dataframe\">\n",
              "  <thead>\n",
              "    <tr style=\"text-align: right;\">\n",
              "      <th></th>\n",
              "      <th>tanggal</th>\n",
              "      <th>categori</th>\n",
              "    </tr>\n",
              "  </thead>\n",
              "  <tbody>\n",
              "    <tr>\n",
              "      <th>0</th>\n",
              "      <td>2010-01-01</td>\n",
              "      <td>2.0</td>\n",
              "    </tr>\n",
              "    <tr>\n",
              "      <th>1</th>\n",
              "      <td>2010-01-02</td>\n",
              "      <td>2.0</td>\n",
              "    </tr>\n",
              "    <tr>\n",
              "      <th>2</th>\n",
              "      <td>2010-01-03</td>\n",
              "      <td>2.0</td>\n",
              "    </tr>\n",
              "    <tr>\n",
              "      <th>3</th>\n",
              "      <td>2010-01-04</td>\n",
              "      <td>2.0</td>\n",
              "    </tr>\n",
              "    <tr>\n",
              "      <th>4</th>\n",
              "      <td>2010-01-05</td>\n",
              "      <td>2.0</td>\n",
              "    </tr>\n",
              "    <tr>\n",
              "      <th>...</th>\n",
              "      <td>...</td>\n",
              "      <td>...</td>\n",
              "    </tr>\n",
              "    <tr>\n",
              "      <th>4378</th>\n",
              "      <td>2021-12-27</td>\n",
              "      <td>3.0</td>\n",
              "    </tr>\n",
              "    <tr>\n",
              "      <th>4379</th>\n",
              "      <td>2021-12-28</td>\n",
              "      <td>1.0</td>\n",
              "    </tr>\n",
              "    <tr>\n",
              "      <th>4380</th>\n",
              "      <td>2021-12-29</td>\n",
              "      <td>1.0</td>\n",
              "    </tr>\n",
              "    <tr>\n",
              "      <th>4381</th>\n",
              "      <td>2021-12-30</td>\n",
              "      <td>1.0</td>\n",
              "    </tr>\n",
              "    <tr>\n",
              "      <th>4382</th>\n",
              "      <td>2021-12-31</td>\n",
              "      <td>1.0</td>\n",
              "    </tr>\n",
              "  </tbody>\n",
              "</table>\n",
              "<p>4383 rows × 2 columns</p>\n",
              "</div>\n",
              "      <button class=\"colab-df-convert\" onclick=\"convertToInteractive('df-d07ce023-657c-45f3-92e6-2df3b182e447')\"\n",
              "              title=\"Convert this dataframe to an interactive table.\"\n",
              "              style=\"display:none;\">\n",
              "        \n",
              "  <svg xmlns=\"http://www.w3.org/2000/svg\" height=\"24px\"viewBox=\"0 0 24 24\"\n",
              "       width=\"24px\">\n",
              "    <path d=\"M0 0h24v24H0V0z\" fill=\"none\"/>\n",
              "    <path d=\"M18.56 5.44l.94 2.06.94-2.06 2.06-.94-2.06-.94-.94-2.06-.94 2.06-2.06.94zm-11 1L8.5 8.5l.94-2.06 2.06-.94-2.06-.94L8.5 2.5l-.94 2.06-2.06.94zm10 10l.94 2.06.94-2.06 2.06-.94-2.06-.94-.94-2.06-.94 2.06-2.06.94z\"/><path d=\"M17.41 7.96l-1.37-1.37c-.4-.4-.92-.59-1.43-.59-.52 0-1.04.2-1.43.59L10.3 9.45l-7.72 7.72c-.78.78-.78 2.05 0 2.83L4 21.41c.39.39.9.59 1.41.59.51 0 1.02-.2 1.41-.59l7.78-7.78 2.81-2.81c.8-.78.8-2.07 0-2.86zM5.41 20L4 18.59l7.72-7.72 1.47 1.35L5.41 20z\"/>\n",
              "  </svg>\n",
              "      </button>\n",
              "      \n",
              "  <style>\n",
              "    .colab-df-container {\n",
              "      display:flex;\n",
              "      flex-wrap:wrap;\n",
              "      gap: 12px;\n",
              "    }\n",
              "\n",
              "    .colab-df-convert {\n",
              "      background-color: #E8F0FE;\n",
              "      border: none;\n",
              "      border-radius: 50%;\n",
              "      cursor: pointer;\n",
              "      display: none;\n",
              "      fill: #1967D2;\n",
              "      height: 32px;\n",
              "      padding: 0 0 0 0;\n",
              "      width: 32px;\n",
              "    }\n",
              "\n",
              "    .colab-df-convert:hover {\n",
              "      background-color: #E2EBFA;\n",
              "      box-shadow: 0px 1px 2px rgba(60, 64, 67, 0.3), 0px 1px 3px 1px rgba(60, 64, 67, 0.15);\n",
              "      fill: #174EA6;\n",
              "    }\n",
              "\n",
              "    [theme=dark] .colab-df-convert {\n",
              "      background-color: #3B4455;\n",
              "      fill: #D2E3FC;\n",
              "    }\n",
              "\n",
              "    [theme=dark] .colab-df-convert:hover {\n",
              "      background-color: #434B5C;\n",
              "      box-shadow: 0px 1px 3px 1px rgba(0, 0, 0, 0.15);\n",
              "      filter: drop-shadow(0px 1px 2px rgba(0, 0, 0, 0.3));\n",
              "      fill: #FFFFFF;\n",
              "    }\n",
              "  </style>\n",
              "\n",
              "      <script>\n",
              "        const buttonEl =\n",
              "          document.querySelector('#df-d07ce023-657c-45f3-92e6-2df3b182e447 button.colab-df-convert');\n",
              "        buttonEl.style.display =\n",
              "          google.colab.kernel.accessAllowed ? 'block' : 'none';\n",
              "\n",
              "        async function convertToInteractive(key) {\n",
              "          const element = document.querySelector('#df-d07ce023-657c-45f3-92e6-2df3b182e447');\n",
              "          const dataTable =\n",
              "            await google.colab.kernel.invokeFunction('convertToInteractive',\n",
              "                                                     [key], {});\n",
              "          if (!dataTable) return;\n",
              "\n",
              "          const docLinkHtml = 'Like what you see? Visit the ' +\n",
              "            '<a target=\"_blank\" href=https://colab.research.google.com/notebooks/data_table.ipynb>data table notebook</a>'\n",
              "            + ' to learn more about interactive tables.';\n",
              "          element.innerHTML = '';\n",
              "          dataTable['output_type'] = 'display_data';\n",
              "          await google.colab.output.renderOutput(dataTable, element);\n",
              "          const docLink = document.createElement('div');\n",
              "          docLink.innerHTML = docLinkHtml;\n",
              "          element.appendChild(docLink);\n",
              "        }\n",
              "      </script>\n",
              "    </div>\n",
              "  </div>\n",
              "  "
            ]
          },
          "metadata": {},
          "execution_count": 6
        }
      ],
      "source": [
        "df.replace({'SEDANG':2, 'BAIK':1, 'TIDAK SEHAT':3, 'SANGAT TIDAK SEHAT':4,'BERBAHAYA':5}, inplace=True)\n",
        "df.astype({\"categori\":float})\n",
        "df"
      ]
    },
    {
      "cell_type": "code",
      "source": [
        "df.dtypes"
      ],
      "metadata": {
        "colab": {
          "base_uri": "https://localhost:8080/"
        },
        "id": "5sJW8SedHZKd",
        "outputId": "779d380e-6d34-419a-87ce-98106da8c995"
      },
      "execution_count": 7,
      "outputs": [
        {
          "output_type": "execute_result",
          "data": {
            "text/plain": [
              "tanggal      object\n",
              "categori    float64\n",
              "dtype: object"
            ]
          },
          "metadata": {},
          "execution_count": 7
        }
      ]
    },
    {
      "cell_type": "code",
      "execution_count": 8,
      "metadata": {
        "colab": {
          "base_uri": "https://localhost:8080/"
        },
        "id": "u_TQWYReleh4",
        "outputId": "3b8cc6b7-c3fb-46cd-c594-fa135983f03d"
      },
      "outputs": [
        {
          "output_type": "execute_result",
          "data": {
            "text/plain": [
              "tanggal     datetime64[ns]\n",
              "categori           float64\n",
              "dtype: object"
            ]
          },
          "metadata": {},
          "execution_count": 8
        }
      ],
      "source": [
        "df = df.astype({\"categori\": float})\n",
        "df[\"tanggal\"] = pd.to_datetime(df.tanggal, format=\"%Y-%m-%d\")\n",
        "\n",
        "df.dtypes"
      ]
    },
    {
      "cell_type": "code",
      "execution_count": 9,
      "metadata": {
        "id": "6Vhbw90dleh5"
      },
      "outputs": [],
      "source": [
        "df.index = df['tanggal']"
      ]
    },
    {
      "cell_type": "code",
      "execution_count": 10,
      "metadata": {
        "colab": {
          "base_uri": "https://localhost:8080/",
          "height": 455
        },
        "id": "9LB-R6gIleh7",
        "outputId": "56471a6a-9170-409f-a8d8-f5713fe5a1ba"
      },
      "outputs": [
        {
          "output_type": "execute_result",
          "data": {
            "text/plain": [
              "              tanggal  categori\n",
              "tanggal                        \n",
              "2010-01-01 2010-01-01       2.0\n",
              "2010-01-02 2010-01-02       2.0\n",
              "2010-01-03 2010-01-03       2.0\n",
              "2010-01-04 2010-01-04       2.0\n",
              "2010-01-05 2010-01-05       2.0\n",
              "...               ...       ...\n",
              "2021-12-27 2021-12-27       3.0\n",
              "2021-12-28 2021-12-28       1.0\n",
              "2021-12-29 2021-12-29       1.0\n",
              "2021-12-30 2021-12-30       1.0\n",
              "2021-12-31 2021-12-31       1.0\n",
              "\n",
              "[4383 rows x 2 columns]"
            ],
            "text/html": [
              "\n",
              "  <div id=\"df-6b96fc0c-eed4-4006-b319-18fe8376fc47\">\n",
              "    <div class=\"colab-df-container\">\n",
              "      <div>\n",
              "<style scoped>\n",
              "    .dataframe tbody tr th:only-of-type {\n",
              "        vertical-align: middle;\n",
              "    }\n",
              "\n",
              "    .dataframe tbody tr th {\n",
              "        vertical-align: top;\n",
              "    }\n",
              "\n",
              "    .dataframe thead th {\n",
              "        text-align: right;\n",
              "    }\n",
              "</style>\n",
              "<table border=\"1\" class=\"dataframe\">\n",
              "  <thead>\n",
              "    <tr style=\"text-align: right;\">\n",
              "      <th></th>\n",
              "      <th>tanggal</th>\n",
              "      <th>categori</th>\n",
              "    </tr>\n",
              "    <tr>\n",
              "      <th>tanggal</th>\n",
              "      <th></th>\n",
              "      <th></th>\n",
              "    </tr>\n",
              "  </thead>\n",
              "  <tbody>\n",
              "    <tr>\n",
              "      <th>2010-01-01</th>\n",
              "      <td>2010-01-01</td>\n",
              "      <td>2.0</td>\n",
              "    </tr>\n",
              "    <tr>\n",
              "      <th>2010-01-02</th>\n",
              "      <td>2010-01-02</td>\n",
              "      <td>2.0</td>\n",
              "    </tr>\n",
              "    <tr>\n",
              "      <th>2010-01-03</th>\n",
              "      <td>2010-01-03</td>\n",
              "      <td>2.0</td>\n",
              "    </tr>\n",
              "    <tr>\n",
              "      <th>2010-01-04</th>\n",
              "      <td>2010-01-04</td>\n",
              "      <td>2.0</td>\n",
              "    </tr>\n",
              "    <tr>\n",
              "      <th>2010-01-05</th>\n",
              "      <td>2010-01-05</td>\n",
              "      <td>2.0</td>\n",
              "    </tr>\n",
              "    <tr>\n",
              "      <th>...</th>\n",
              "      <td>...</td>\n",
              "      <td>...</td>\n",
              "    </tr>\n",
              "    <tr>\n",
              "      <th>2021-12-27</th>\n",
              "      <td>2021-12-27</td>\n",
              "      <td>3.0</td>\n",
              "    </tr>\n",
              "    <tr>\n",
              "      <th>2021-12-28</th>\n",
              "      <td>2021-12-28</td>\n",
              "      <td>1.0</td>\n",
              "    </tr>\n",
              "    <tr>\n",
              "      <th>2021-12-29</th>\n",
              "      <td>2021-12-29</td>\n",
              "      <td>1.0</td>\n",
              "    </tr>\n",
              "    <tr>\n",
              "      <th>2021-12-30</th>\n",
              "      <td>2021-12-30</td>\n",
              "      <td>1.0</td>\n",
              "    </tr>\n",
              "    <tr>\n",
              "      <th>2021-12-31</th>\n",
              "      <td>2021-12-31</td>\n",
              "      <td>1.0</td>\n",
              "    </tr>\n",
              "  </tbody>\n",
              "</table>\n",
              "<p>4383 rows × 2 columns</p>\n",
              "</div>\n",
              "      <button class=\"colab-df-convert\" onclick=\"convertToInteractive('df-6b96fc0c-eed4-4006-b319-18fe8376fc47')\"\n",
              "              title=\"Convert this dataframe to an interactive table.\"\n",
              "              style=\"display:none;\">\n",
              "        \n",
              "  <svg xmlns=\"http://www.w3.org/2000/svg\" height=\"24px\"viewBox=\"0 0 24 24\"\n",
              "       width=\"24px\">\n",
              "    <path d=\"M0 0h24v24H0V0z\" fill=\"none\"/>\n",
              "    <path d=\"M18.56 5.44l.94 2.06.94-2.06 2.06-.94-2.06-.94-.94-2.06-.94 2.06-2.06.94zm-11 1L8.5 8.5l.94-2.06 2.06-.94-2.06-.94L8.5 2.5l-.94 2.06-2.06.94zm10 10l.94 2.06.94-2.06 2.06-.94-2.06-.94-.94-2.06-.94 2.06-2.06.94z\"/><path d=\"M17.41 7.96l-1.37-1.37c-.4-.4-.92-.59-1.43-.59-.52 0-1.04.2-1.43.59L10.3 9.45l-7.72 7.72c-.78.78-.78 2.05 0 2.83L4 21.41c.39.39.9.59 1.41.59.51 0 1.02-.2 1.41-.59l7.78-7.78 2.81-2.81c.8-.78.8-2.07 0-2.86zM5.41 20L4 18.59l7.72-7.72 1.47 1.35L5.41 20z\"/>\n",
              "  </svg>\n",
              "      </button>\n",
              "      \n",
              "  <style>\n",
              "    .colab-df-container {\n",
              "      display:flex;\n",
              "      flex-wrap:wrap;\n",
              "      gap: 12px;\n",
              "    }\n",
              "\n",
              "    .colab-df-convert {\n",
              "      background-color: #E8F0FE;\n",
              "      border: none;\n",
              "      border-radius: 50%;\n",
              "      cursor: pointer;\n",
              "      display: none;\n",
              "      fill: #1967D2;\n",
              "      height: 32px;\n",
              "      padding: 0 0 0 0;\n",
              "      width: 32px;\n",
              "    }\n",
              "\n",
              "    .colab-df-convert:hover {\n",
              "      background-color: #E2EBFA;\n",
              "      box-shadow: 0px 1px 2px rgba(60, 64, 67, 0.3), 0px 1px 3px 1px rgba(60, 64, 67, 0.15);\n",
              "      fill: #174EA6;\n",
              "    }\n",
              "\n",
              "    [theme=dark] .colab-df-convert {\n",
              "      background-color: #3B4455;\n",
              "      fill: #D2E3FC;\n",
              "    }\n",
              "\n",
              "    [theme=dark] .colab-df-convert:hover {\n",
              "      background-color: #434B5C;\n",
              "      box-shadow: 0px 1px 3px 1px rgba(0, 0, 0, 0.15);\n",
              "      filter: drop-shadow(0px 1px 2px rgba(0, 0, 0, 0.3));\n",
              "      fill: #FFFFFF;\n",
              "    }\n",
              "  </style>\n",
              "\n",
              "      <script>\n",
              "        const buttonEl =\n",
              "          document.querySelector('#df-6b96fc0c-eed4-4006-b319-18fe8376fc47 button.colab-df-convert');\n",
              "        buttonEl.style.display =\n",
              "          google.colab.kernel.accessAllowed ? 'block' : 'none';\n",
              "\n",
              "        async function convertToInteractive(key) {\n",
              "          const element = document.querySelector('#df-6b96fc0c-eed4-4006-b319-18fe8376fc47');\n",
              "          const dataTable =\n",
              "            await google.colab.kernel.invokeFunction('convertToInteractive',\n",
              "                                                     [key], {});\n",
              "          if (!dataTable) return;\n",
              "\n",
              "          const docLinkHtml = 'Like what you see? Visit the ' +\n",
              "            '<a target=\"_blank\" href=https://colab.research.google.com/notebooks/data_table.ipynb>data table notebook</a>'\n",
              "            + ' to learn more about interactive tables.';\n",
              "          element.innerHTML = '';\n",
              "          dataTable['output_type'] = 'display_data';\n",
              "          await google.colab.output.renderOutput(dataTable, element);\n",
              "          const docLink = document.createElement('div');\n",
              "          docLink.innerHTML = docLinkHtml;\n",
              "          element.appendChild(docLink);\n",
              "        }\n",
              "      </script>\n",
              "    </div>\n",
              "  </div>\n",
              "  "
            ]
          },
          "metadata": {},
          "execution_count": 10
        }
      ],
      "source": [
        "df"
      ]
    },
    {
      "cell_type": "code",
      "source": [
        "df.describe()"
      ],
      "metadata": {
        "colab": {
          "base_uri": "https://localhost:8080/",
          "height": 300
        },
        "id": "jGKbuD_hH0x2",
        "outputId": "bae0363e-2736-4e7f-c02b-fc5550b432ef"
      },
      "execution_count": 11,
      "outputs": [
        {
          "output_type": "execute_result",
          "data": {
            "text/plain": [
              "          categori\n",
              "count  4383.000000\n",
              "mean      1.573866\n",
              "std       0.742810\n",
              "min       1.000000\n",
              "25%       1.000000\n",
              "50%       1.000000\n",
              "75%       2.000000\n",
              "max       4.000000"
            ],
            "text/html": [
              "\n",
              "  <div id=\"df-0c317dc2-52da-499b-a38c-019f16fb6b99\">\n",
              "    <div class=\"colab-df-container\">\n",
              "      <div>\n",
              "<style scoped>\n",
              "    .dataframe tbody tr th:only-of-type {\n",
              "        vertical-align: middle;\n",
              "    }\n",
              "\n",
              "    .dataframe tbody tr th {\n",
              "        vertical-align: top;\n",
              "    }\n",
              "\n",
              "    .dataframe thead th {\n",
              "        text-align: right;\n",
              "    }\n",
              "</style>\n",
              "<table border=\"1\" class=\"dataframe\">\n",
              "  <thead>\n",
              "    <tr style=\"text-align: right;\">\n",
              "      <th></th>\n",
              "      <th>categori</th>\n",
              "    </tr>\n",
              "  </thead>\n",
              "  <tbody>\n",
              "    <tr>\n",
              "      <th>count</th>\n",
              "      <td>4383.000000</td>\n",
              "    </tr>\n",
              "    <tr>\n",
              "      <th>mean</th>\n",
              "      <td>1.573866</td>\n",
              "    </tr>\n",
              "    <tr>\n",
              "      <th>std</th>\n",
              "      <td>0.742810</td>\n",
              "    </tr>\n",
              "    <tr>\n",
              "      <th>min</th>\n",
              "      <td>1.000000</td>\n",
              "    </tr>\n",
              "    <tr>\n",
              "      <th>25%</th>\n",
              "      <td>1.000000</td>\n",
              "    </tr>\n",
              "    <tr>\n",
              "      <th>50%</th>\n",
              "      <td>1.000000</td>\n",
              "    </tr>\n",
              "    <tr>\n",
              "      <th>75%</th>\n",
              "      <td>2.000000</td>\n",
              "    </tr>\n",
              "    <tr>\n",
              "      <th>max</th>\n",
              "      <td>4.000000</td>\n",
              "    </tr>\n",
              "  </tbody>\n",
              "</table>\n",
              "</div>\n",
              "      <button class=\"colab-df-convert\" onclick=\"convertToInteractive('df-0c317dc2-52da-499b-a38c-019f16fb6b99')\"\n",
              "              title=\"Convert this dataframe to an interactive table.\"\n",
              "              style=\"display:none;\">\n",
              "        \n",
              "  <svg xmlns=\"http://www.w3.org/2000/svg\" height=\"24px\"viewBox=\"0 0 24 24\"\n",
              "       width=\"24px\">\n",
              "    <path d=\"M0 0h24v24H0V0z\" fill=\"none\"/>\n",
              "    <path d=\"M18.56 5.44l.94 2.06.94-2.06 2.06-.94-2.06-.94-.94-2.06-.94 2.06-2.06.94zm-11 1L8.5 8.5l.94-2.06 2.06-.94-2.06-.94L8.5 2.5l-.94 2.06-2.06.94zm10 10l.94 2.06.94-2.06 2.06-.94-2.06-.94-.94-2.06-.94 2.06-2.06.94z\"/><path d=\"M17.41 7.96l-1.37-1.37c-.4-.4-.92-.59-1.43-.59-.52 0-1.04.2-1.43.59L10.3 9.45l-7.72 7.72c-.78.78-.78 2.05 0 2.83L4 21.41c.39.39.9.59 1.41.59.51 0 1.02-.2 1.41-.59l7.78-7.78 2.81-2.81c.8-.78.8-2.07 0-2.86zM5.41 20L4 18.59l7.72-7.72 1.47 1.35L5.41 20z\"/>\n",
              "  </svg>\n",
              "      </button>\n",
              "      \n",
              "  <style>\n",
              "    .colab-df-container {\n",
              "      display:flex;\n",
              "      flex-wrap:wrap;\n",
              "      gap: 12px;\n",
              "    }\n",
              "\n",
              "    .colab-df-convert {\n",
              "      background-color: #E8F0FE;\n",
              "      border: none;\n",
              "      border-radius: 50%;\n",
              "      cursor: pointer;\n",
              "      display: none;\n",
              "      fill: #1967D2;\n",
              "      height: 32px;\n",
              "      padding: 0 0 0 0;\n",
              "      width: 32px;\n",
              "    }\n",
              "\n",
              "    .colab-df-convert:hover {\n",
              "      background-color: #E2EBFA;\n",
              "      box-shadow: 0px 1px 2px rgba(60, 64, 67, 0.3), 0px 1px 3px 1px rgba(60, 64, 67, 0.15);\n",
              "      fill: #174EA6;\n",
              "    }\n",
              "\n",
              "    [theme=dark] .colab-df-convert {\n",
              "      background-color: #3B4455;\n",
              "      fill: #D2E3FC;\n",
              "    }\n",
              "\n",
              "    [theme=dark] .colab-df-convert:hover {\n",
              "      background-color: #434B5C;\n",
              "      box-shadow: 0px 1px 3px 1px rgba(0, 0, 0, 0.15);\n",
              "      filter: drop-shadow(0px 1px 2px rgba(0, 0, 0, 0.3));\n",
              "      fill: #FFFFFF;\n",
              "    }\n",
              "  </style>\n",
              "\n",
              "      <script>\n",
              "        const buttonEl =\n",
              "          document.querySelector('#df-0c317dc2-52da-499b-a38c-019f16fb6b99 button.colab-df-convert');\n",
              "        buttonEl.style.display =\n",
              "          google.colab.kernel.accessAllowed ? 'block' : 'none';\n",
              "\n",
              "        async function convertToInteractive(key) {\n",
              "          const element = document.querySelector('#df-0c317dc2-52da-499b-a38c-019f16fb6b99');\n",
              "          const dataTable =\n",
              "            await google.colab.kernel.invokeFunction('convertToInteractive',\n",
              "                                                     [key], {});\n",
              "          if (!dataTable) return;\n",
              "\n",
              "          const docLinkHtml = 'Like what you see? Visit the ' +\n",
              "            '<a target=\"_blank\" href=https://colab.research.google.com/notebooks/data_table.ipynb>data table notebook</a>'\n",
              "            + ' to learn more about interactive tables.';\n",
              "          element.innerHTML = '';\n",
              "          dataTable['output_type'] = 'display_data';\n",
              "          await google.colab.output.renderOutput(dataTable, element);\n",
              "          const docLink = document.createElement('div');\n",
              "          docLink.innerHTML = docLinkHtml;\n",
              "          element.appendChild(docLink);\n",
              "        }\n",
              "      </script>\n",
              "    </div>\n",
              "  </div>\n",
              "  "
            ]
          },
          "metadata": {},
          "execution_count": 11
        }
      ]
    },
    {
      "cell_type": "code",
      "source": [
        "plt.figure(figsize = (10, 5))\n",
        "sns.boxplot(df['categori']) \n",
        "plt.annotate('Outlier', (df['categori'].describe()['max'],0.1), xytext = (df['categori'].describe()['max'],0.3), \n",
        "             arrowprops = dict(facecolor = 'blue'), fontsize = 13 ) \n",
        "\n",
        "IQR = df['categori'].describe()['75%'] - df['categori'].describe()['25%']"
      ],
      "metadata": {
        "colab": {
          "base_uri": "https://localhost:8080/",
          "height": 389
        },
        "id": "Or6CjyMdH00r",
        "outputId": "31886e64-47da-4949-c7bf-b7f4af5e4200"
      },
      "execution_count": 12,
      "outputs": [
        {
          "output_type": "stream",
          "name": "stderr",
          "text": [
            "/usr/local/lib/python3.7/dist-packages/seaborn/_decorators.py:43: FutureWarning: Pass the following variable as a keyword arg: x. From version 0.12, the only valid positional argument will be `data`, and passing other arguments without an explicit keyword will result in an error or misinterpretation.\n",
            "  FutureWarning\n"
          ]
        },
        {
          "output_type": "display_data",
          "data": {
            "text/plain": [
              "<Figure size 720x360 with 1 Axes>"
            ],
            "image/png": "[encoded data removed]"
          },
          "metadata": {
            "needs_background": "light"
          }
        }
      ]
    },
    {
      "cell_type": "code",
      "source": [
        "def detect_outliers(df,x): \n",
        "    Q1 = df[x].describe()['25%'] \n",
        "    Q3 = df[x].describe()['75%'] \n",
        "    IQR = Q3-Q1 \n",
        "    return df[(df[x] < Q1-1.5*IQR) | (df[x] > Q3+1.5*IQR)]"
      ],
      "metadata": {
        "id": "RfTio4zOIFHF"
      },
      "execution_count": 13,
      "outputs": []
    },
    {
      "cell_type": "code",
      "source": [
        "detect_outliers(df, x ='categori')"
      ],
      "metadata": {
        "colab": {
          "base_uri": "https://localhost:8080/",
          "height": 363
        },
        "id": "tBP2NYQcIIXd",
        "outputId": "adbf2f91-bad7-4e3b-b51c-9e963e47c836"
      },
      "execution_count": 14,
      "outputs": [
        {
          "output_type": "execute_result",
          "data": {
            "text/plain": [
              "              tanggal  categori\n",
              "tanggal                        \n",
              "2010-11-10 2010-11-10       4.0\n",
              "2010-11-18 2010-11-18       4.0\n",
              "2010-11-22 2010-11-22       4.0\n",
              "2010-12-24 2010-12-24       4.0\n",
              "2011-10-11 2011-10-11       4.0\n",
              "2011-10-12 2011-10-12       4.0\n",
              "2012-10-19 2012-10-19       4.0\n",
              "2012-10-20 2012-10-20       4.0\n",
              "2012-12-11 2012-12-11       4.0"
            ],
            "text/html": [
              "\n",
              "  <div id=\"df-6d9136d1-1d9e-4fb2-bb04-e7655205538e\">\n",
              "    <div class=\"colab-df-container\">\n",
              "      <div>\n",
              "<style scoped>\n",
              "    .dataframe tbody tr th:only-of-type {\n",
              "        vertical-align: middle;\n",
              "    }\n",
              "\n",
              "    .dataframe tbody tr th {\n",
              "        vertical-align: top;\n",
              "    }\n",
              "\n",
              "    .dataframe thead th {\n",
              "        text-align: right;\n",
              "    }\n",
              "</style>\n",
              "<table border=\"1\" class=\"dataframe\">\n",
              "  <thead>\n",
              "    <tr style=\"text-align: right;\">\n",
              "      <th></th>\n",
              "      <th>tanggal</th>\n",
              "      <th>categori</th>\n",
              "    </tr>\n",
              "    <tr>\n",
              "      <th>tanggal</th>\n",
              "      <th></th>\n",
              "      <th></th>\n",
              "    </tr>\n",
              "  </thead>\n",
              "  <tbody>\n",
              "    <tr>\n",
              "      <th>2010-11-10</th>\n",
              "      <td>2010-11-10</td>\n",
              "      <td>4.0</td>\n",
              "    </tr>\n",
              "    <tr>\n",
              "      <th>2010-11-18</th>\n",
              "      <td>2010-11-18</td>\n",
              "      <td>4.0</td>\n",
              "    </tr>\n",
              "    <tr>\n",
              "      <th>2010-11-22</th>\n",
              "      <td>2010-11-22</td>\n",
              "      <td>4.0</td>\n",
              "    </tr>\n",
              "    <tr>\n",
              "      <th>2010-12-24</th>\n",
              "      <td>2010-12-24</td>\n",
              "      <td>4.0</td>\n",
              "    </tr>\n",
              "    <tr>\n",
              "      <th>2011-10-11</th>\n",
              "      <td>2011-10-11</td>\n",
              "      <td>4.0</td>\n",
              "    </tr>\n",
              "    <tr>\n",
              "      <th>2011-10-12</th>\n",
              "      <td>2011-10-12</td>\n",
              "      <td>4.0</td>\n",
              "    </tr>\n",
              "    <tr>\n",
              "      <th>2012-10-19</th>\n",
              "      <td>2012-10-19</td>\n",
              "      <td>4.0</td>\n",
              "    </tr>\n",
              "    <tr>\n",
              "      <th>2012-10-20</th>\n",
              "      <td>2012-10-20</td>\n",
              "      <td>4.0</td>\n",
              "    </tr>\n",
              "    <tr>\n",
              "      <th>2012-12-11</th>\n",
              "      <td>2012-12-11</td>\n",
              "      <td>4.0</td>\n",
              "    </tr>\n",
              "  </tbody>\n",
              "</table>\n",
              "</div>\n",
              "      <button class=\"colab-df-convert\" onclick=\"convertToInteractive('df-6d9136d1-1d9e-4fb2-bb04-e7655205538e')\"\n",
              "              title=\"Convert this dataframe to an interactive table.\"\n",
              "              style=\"display:none;\">\n",
              "        \n",
              "  <svg xmlns=\"http://www.w3.org/2000/svg\" height=\"24px\"viewBox=\"0 0 24 24\"\n",
              "       width=\"24px\">\n",
              "    <path d=\"M0 0h24v24H0V0z\" fill=\"none\"/>\n",
              "    <path d=\"M18.56 5.44l.94 2.06.94-2.06 2.06-.94-2.06-.94-.94-2.06-.94 2.06-2.06.94zm-11 1L8.5 8.5l.94-2.06 2.06-.94-2.06-.94L8.5 2.5l-.94 2.06-2.06.94zm10 10l.94 2.06.94-2.06 2.06-.94-2.06-.94-.94-2.06-.94 2.06-2.06.94z\"/><path d=\"M17.41 7.96l-1.37-1.37c-.4-.4-.92-.59-1.43-.59-.52 0-1.04.2-1.43.59L10.3 9.45l-7.72 7.72c-.78.78-.78 2.05 0 2.83L4 21.41c.39.39.9.59 1.41.59.51 0 1.02-.2 1.41-.59l7.78-7.78 2.81-2.81c.8-.78.8-2.07 0-2.86zM5.41 20L4 18.59l7.72-7.72 1.47 1.35L5.41 20z\"/>\n",
              "  </svg>\n",
              "      </button>\n",
              "      \n",
              "  <style>\n",
              "    .colab-df-container {\n",
              "      display:flex;\n",
              "      flex-wrap:wrap;\n",
              "      gap: 12px;\n",
              "    }\n",
              "\n",
              "    .colab-df-convert {\n",
              "      background-color: #E8F0FE;\n",
              "      border: none;\n",
              "      border-radius: 50%;\n",
              "      cursor: pointer;\n",
              "      display: none;\n",
              "      fill: #1967D2;\n",
              "      height: 32px;\n",
              "      padding: 0 0 0 0;\n",
              "      width: 32px;\n",
              "    }\n",
              "\n",
              "    .colab-df-convert:hover {\n",
              "      background-color: #E2EBFA;\n",
              "      box-shadow: 0px 1px 2px rgba(60, 64, 67, 0.3), 0px 1px 3px 1px rgba(60, 64, 67, 0.15);\n",
              "      fill: #174EA6;\n",
              "    }\n",
              "\n",
              "    [theme=dark] .colab-df-convert {\n",
              "      background-color: #3B4455;\n",
              "      fill: #D2E3FC;\n",
              "    }\n",
              "\n",
              "    [theme=dark] .colab-df-convert:hover {\n",
              "      background-color: #434B5C;\n",
              "      box-shadow: 0px 1px 3px 1px rgba(0, 0, 0, 0.15);\n",
              "      filter: drop-shadow(0px 1px 2px rgba(0, 0, 0, 0.3));\n",
              "      fill: #FFFFFF;\n",
              "    }\n",
              "  </style>\n",
              "\n",
              "      <script>\n",
              "        const buttonEl =\n",
              "          document.querySelector('#df-6d9136d1-1d9e-4fb2-bb04-e7655205538e button.colab-df-convert');\n",
              "        buttonEl.style.display =\n",
              "          google.colab.kernel.accessAllowed ? 'block' : 'none';\n",
              "\n",
              "        async function convertToInteractive(key) {\n",
              "          const element = document.querySelector('#df-6d9136d1-1d9e-4fb2-bb04-e7655205538e');\n",
              "          const dataTable =\n",
              "            await google.colab.kernel.invokeFunction('convertToInteractive',\n",
              "                                                     [key], {});\n",
              "          if (!dataTable) return;\n",
              "\n",
              "          const docLinkHtml = 'Like what you see? Visit the ' +\n",
              "            '<a target=\"_blank\" href=https://colab.research.google.com/notebooks/data_table.ipynb>data table notebook</a>'\n",
              "            + ' to learn more about interactive tables.';\n",
              "          element.innerHTML = '';\n",
              "          dataTable['output_type'] = 'display_data';\n",
              "          await google.colab.output.renderOutput(dataTable, element);\n",
              "          const docLink = document.createElement('div');\n",
              "          docLink.innerHTML = docLinkHtml;\n",
              "          element.appendChild(docLink);\n",
              "        }\n",
              "      </script>\n",
              "    </div>\n",
              "  </div>\n",
              "  "
            ]
          },
          "metadata": {},
          "execution_count": 14
        }
      ]
    },
    {
      "cell_type": "code",
      "source": [
        "df = df.drop((df[df['categori']>3.5]).index, axis=0)"
      ],
      "metadata": {
        "id": "enCFKWllIRXi"
      },
      "execution_count": 15,
      "outputs": []
    },
    {
      "cell_type": "code",
      "source": [
        "detect_outliers(df, x ='categori')"
      ],
      "metadata": {
        "colab": {
          "base_uri": "https://localhost:8080/",
          "height": 81
        },
        "id": "IQ6AAqE_IZdp",
        "outputId": "bdfe8f1c-220d-4059-e081-f1ab2ab65e0a"
      },
      "execution_count": 16,
      "outputs": [
        {
          "output_type": "execute_result",
          "data": {
            "text/plain": [
              "Empty DataFrame\n",
              "Columns: [tanggal, categori]\n",
              "Index: []"
            ],
            "text/html": [
              "\n",
              "  <div id=\"df-0672b82c-a1ad-4ee3-bf72-a85468c866ae\">\n",
              "    <div class=\"colab-df-container\">\n",
              "      <div>\n",
              "<style scoped>\n",
              "    .dataframe tbody tr th:only-of-type {\n",
              "        vertical-align: middle;\n",
              "    }\n",
              "\n",
              "    .dataframe tbody tr th {\n",
              "        vertical-align: top;\n",
              "    }\n",
              "\n",
              "    .dataframe thead th {\n",
              "        text-align: right;\n",
              "    }\n",
              "</style>\n",
              "<table border=\"1\" class=\"dataframe\">\n",
              "  <thead>\n",
              "    <tr style=\"text-align: right;\">\n",
              "      <th></th>\n",
              "      <th>tanggal</th>\n",
              "      <th>categori</th>\n",
              "    </tr>\n",
              "    <tr>\n",
              "      <th>tanggal</th>\n",
              "      <th></th>\n",
              "      <th></th>\n",
              "    </tr>\n",
              "  </thead>\n",
              "  <tbody>\n",
              "  </tbody>\n",
              "</table>\n",
              "</div>\n",
              "      <button class=\"colab-df-convert\" onclick=\"convertToInteractive('df-0672b82c-a1ad-4ee3-bf72-a85468c866ae')\"\n",
              "              title=\"Convert this dataframe to an interactive table.\"\n",
              "              style=\"display:none;\">\n",
              "        \n",
              "  <svg xmlns=\"http://www.w3.org/2000/svg\" height=\"24px\"viewBox=\"0 0 24 24\"\n",
              "       width=\"24px\">\n",
              "    <path d=\"M0 0h24v24H0V0z\" fill=\"none\"/>\n",
              "    <path d=\"M18.56 5.44l.94 2.06.94-2.06 2.06-.94-2.06-.94-.94-2.06-.94 2.06-2.06.94zm-11 1L8.5 8.5l.94-2.06 2.06-.94-2.06-.94L8.5 2.5l-.94 2.06-2.06.94zm10 10l.94 2.06.94-2.06 2.06-.94-2.06-.94-.94-2.06-.94 2.06-2.06.94z\"/><path d=\"M17.41 7.96l-1.37-1.37c-.4-.4-.92-.59-1.43-.59-.52 0-1.04.2-1.43.59L10.3 9.45l-7.72 7.72c-.78.78-.78 2.05 0 2.83L4 21.41c.39.39.9.59 1.41.59.51 0 1.02-.2 1.41-.59l7.78-7.78 2.81-2.81c.8-.78.8-2.07 0-2.86zM5.41 20L4 18.59l7.72-7.72 1.47 1.35L5.41 20z\"/>\n",
              "  </svg>\n",
              "      </button>\n",
              "      \n",
              "  <style>\n",
              "    .colab-df-container {\n",
              "      display:flex;\n",
              "      flex-wrap:wrap;\n",
              "      gap: 12px;\n",
              "    }\n",
              "\n",
              "    .colab-df-convert {\n",
              "      background-color: #E8F0FE;\n",
              "      border: none;\n",
              "      border-radius: 50%;\n",
              "      cursor: pointer;\n",
              "      display: none;\n",
              "      fill: #1967D2;\n",
              "      height: 32px;\n",
              "      padding: 0 0 0 0;\n",
              "      width: 32px;\n",
              "    }\n",
              "\n",
              "    .colab-df-convert:hover {\n",
              "      background-color: #E2EBFA;\n",
              "      box-shadow: 0px 1px 2px rgba(60, 64, 67, 0.3), 0px 1px 3px 1px rgba(60, 64, 67, 0.15);\n",
              "      fill: #174EA6;\n",
              "    }\n",
              "\n",
              "    [theme=dark] .colab-df-convert {\n",
              "      background-color: #3B4455;\n",
              "      fill: #D2E3FC;\n",
              "    }\n",
              "\n",
              "    [theme=dark] .colab-df-convert:hover {\n",
              "      background-color: #434B5C;\n",
              "      box-shadow: 0px 1px 3px 1px rgba(0, 0, 0, 0.15);\n",
              "      filter: drop-shadow(0px 1px 2px rgba(0, 0, 0, 0.3));\n",
              "      fill: #FFFFFF;\n",
              "    }\n",
              "  </style>\n",
              "\n",
              "      <script>\n",
              "        const buttonEl =\n",
              "          document.querySelector('#df-0672b82c-a1ad-4ee3-bf72-a85468c866ae button.colab-df-convert');\n",
              "        buttonEl.style.display =\n",
              "          google.colab.kernel.accessAllowed ? 'block' : 'none';\n",
              "\n",
              "        async function convertToInteractive(key) {\n",
              "          const element = document.querySelector('#df-0672b82c-a1ad-4ee3-bf72-a85468c866ae');\n",
              "          const dataTable =\n",
              "            await google.colab.kernel.invokeFunction('convertToInteractive',\n",
              "                                                     [key], {});\n",
              "          if (!dataTable) return;\n",
              "\n",
              "          const docLinkHtml = 'Like what you see? Visit the ' +\n",
              "            '<a target=\"_blank\" href=https://colab.research.google.com/notebooks/data_table.ipynb>data table notebook</a>'\n",
              "            + ' to learn more about interactive tables.';\n",
              "          element.innerHTML = '';\n",
              "          dataTable['output_type'] = 'display_data';\n",
              "          await google.colab.output.renderOutput(dataTable, element);\n",
              "          const docLink = document.createElement('div');\n",
              "          docLink.innerHTML = docLinkHtml;\n",
              "          element.appendChild(docLink);\n",
              "        }\n",
              "      </script>\n",
              "    </div>\n",
              "  </div>\n",
              "  "
            ]
          },
          "metadata": {},
          "execution_count": 16
        }
      ]
    },
    {
      "cell_type": "code",
      "source": [
        "plt.figure(figsize = (10, 5)) \n",
        "sns.boxplot(df['categori']) \n",
        "plt.show()"
      ],
      "metadata": {
        "colab": {
          "base_uri": "https://localhost:8080/",
          "height": 389
        },
        "id": "EtwcXdbwIhMf",
        "outputId": "58a232a9-4caa-4912-9fdc-a2c57d1413a1"
      },
      "execution_count": 17,
      "outputs": [
        {
          "output_type": "stream",
          "name": "stderr",
          "text": [
            "/usr/local/lib/python3.7/dist-packages/seaborn/_decorators.py:43: FutureWarning: Pass the following variable as a keyword arg: x. From version 0.12, the only valid positional argument will be `data`, and passing other arguments without an explicit keyword will result in an error or misinterpretation.\n",
            "  FutureWarning\n"
          ]
        },
        {
          "output_type": "display_data",
          "data": {
            "text/plain": [
              "<Figure size 720x360 with 1 Axes>"
            ],
            "image/png": "[encoded data removed]"
          },
          "metadata": {
            "needs_background": "light"
          }
        }
      ]
    },
    {
      "cell_type": "code",
      "execution_count": 18,
      "metadata": {
        "colab": {
          "base_uri": "https://localhost:8080/",
          "height": 282
        },
        "id": "Yb0vXrDrleh-",
        "outputId": "3f8b88ba-6335-4633-e43c-6dc26c807527"
      },
      "outputs": [
        {
          "output_type": "execute_result",
          "data": {
            "text/plain": [
              "[<matplotlib.lines.Line2D at 0x7f0b99baa090>]"
            ]
          },
          "metadata": {},
          "execution_count": 18
        },
        {
          "output_type": "display_data",
          "data": {
            "text/plain": [
              "<Figure size 432x288 with 1 Axes>"
            ],
            "image/png": "[encoded data removed]"
          },
          "metadata": {
            "needs_background": "light"
          }
        }
      ],
      "source": [
        "plt.plot(df[\"categori\"],label='Kategori Polusi PerHari')"
      ]
    },
    {
      "cell_type": "code",
      "execution_count": 19,
      "metadata": {
        "id": "SVgNRgB0leh-"
      },
      "outputs": [],
      "source": [
        "df_cat = df[['categori']]"
      ]
    },
    {
      "cell_type": "code",
      "execution_count": 20,
      "metadata": {
        "colab": {
          "base_uri": "https://localhost:8080/",
          "height": 282
        },
        "id": "kEWmWtgJleiA",
        "outputId": "bc2e6810-5aa3-47f1-8874-86911fd3c1ba"
      },
      "outputs": [
        {
          "output_type": "execute_result",
          "data": {
            "text/plain": [
              "[<matplotlib.lines.Line2D at 0x7f0b99ad0cd0>]"
            ]
          },
          "metadata": {},
          "execution_count": 20
        },
        {
          "output_type": "display_data",
          "data": {
            "text/plain": [
              "<Figure size 432x288 with 1 Axes>"
            ],
            "image/png": "[encoded data removed]"
          },
          "metadata": {
            "needs_background": "light"
          }
        }
      ],
      "source": [
        "df_cat_val = df_cat.values\n",
        "plt.plot(df_cat_val)"
      ]
    },
    {
      "cell_type": "code",
      "execution_count": 21,
      "metadata": {
        "id": "oU_NNWhcleiB"
      },
      "outputs": [],
      "source": [
        "#Using MinMaxScaler for normalizing data between 0 & 1\n",
        "normalizer = MinMaxScaler(feature_range=(0,1))\n",
        "df_scaled = normalizer.fit_transform(np.array(df_cat_val).reshape(-1,1))"
      ]
    },
    {
      "cell_type": "code",
      "execution_count": 22,
      "metadata": {
        "colab": {
          "base_uri": "https://localhost:8080/"
        },
        "id": "mzirhHeyleiB",
        "outputId": "f2f4137c-b7ed-478b-8dbe-60a1cbb3065d"
      },
      "outputs": [
        {
          "output_type": "execute_result",
          "data": {
            "text/plain": [
              "(4374, 4374)"
            ]
          },
          "metadata": {},
          "execution_count": 22
        }
      ],
      "source": [
        "len(df_scaled), len(df_cat_val)"
      ]
    },
    {
      "cell_type": "code",
      "execution_count": 23,
      "metadata": {
        "id": "BOB_aqU6leiB"
      },
      "outputs": [],
      "source": [
        "#Defining test and train data sizes\n",
        "train_size = int(len(df_scaled)*0.80)\n",
        "test_size = len(df_scaled) - train_size"
      ]
    },
    {
      "cell_type": "code",
      "execution_count": 24,
      "metadata": {
        "colab": {
          "base_uri": "https://localhost:8080/"
        },
        "id": "XGpq31WnleiC",
        "outputId": "a701070b-898f-4641-b537-9a0a9b8c83cd"
      },
      "outputs": [
        {
          "output_type": "execute_result",
          "data": {
            "text/plain": [
              "(3499, 875)"
            ]
          },
          "metadata": {},
          "execution_count": 24
        }
      ],
      "source": [
        "train_size,test_size"
      ]
    },
    {
      "cell_type": "code",
      "execution_count": 25,
      "metadata": {
        "id": "tn_FROfgleiD"
      },
      "outputs": [],
      "source": [
        "#Splitting data between train and test\n",
        "df_train, df_test = df_scaled[0:train_size,:], df_scaled[train_size:len(df_scaled),:1]"
      ]
    },
    {
      "cell_type": "code",
      "execution_count": 26,
      "metadata": {
        "colab": {
          "base_uri": "https://localhost:8080/"
        },
        "id": "MhIX0xCJleiE",
        "outputId": "715f038b-acac-41cb-f31d-8e08428c8153"
      },
      "outputs": [
        {
          "output_type": "execute_result",
          "data": {
            "text/plain": [
              "(3499, 875)"
            ]
          },
          "metadata": {},
          "execution_count": 26
        }
      ],
      "source": [
        "len(df_train),len(df_test)"
      ]
    },
    {
      "cell_type": "code",
      "execution_count": 27,
      "metadata": {
        "id": "ZVqzYHZbleiF"
      },
      "outputs": [],
      "source": [
        "#creating dataset in time series for LSTM model \n",
        "def new_ds(dataset,step):\n",
        "    Xtrain, Ytrain = [], []\n",
        "    for i in range(len(dataset)-step-1):\n",
        "        a = dataset[i:(i+step), 0]\n",
        "        Xtrain.append(a)\n",
        "        Ytrain.append(dataset[i + step, 0])\n",
        "    return np.array(Xtrain), np.array(Ytrain)"
      ]
    },
    {
      "cell_type": "code",
      "execution_count": 28,
      "metadata": {
        "id": "3mTBAdGoleiG"
      },
      "outputs": [],
      "source": [
        "time_stamp = 100\n",
        "X_train, y_train = new_ds(df_train,time_stamp)\n",
        "X_test, y_test = new_ds(df_test,time_stamp)"
      ]
    },
    {
      "cell_type": "code",
      "execution_count": 29,
      "metadata": {
        "colab": {
          "base_uri": "https://localhost:8080/"
        },
        "id": "jQ8WOL5zleiH",
        "outputId": "1b6104db-7de0-4124-c9c8-2137ab562471"
      },
      "outputs": [
        {
          "output_type": "execute_result",
          "data": {
            "text/plain": [
              "((3398, 100), (3398,))"
            ]
          },
          "metadata": {},
          "execution_count": 29
        }
      ],
      "source": [
        "X_train.shape,y_train.shape"
      ]
    },
    {
      "cell_type": "code",
      "execution_count": 30,
      "metadata": {
        "colab": {
          "base_uri": "https://localhost:8080/"
        },
        "id": "NrPnTREqleiH",
        "outputId": "9479bd74-4726-4168-a0f7-16347f22968d"
      },
      "outputs": [
        {
          "output_type": "execute_result",
          "data": {
            "text/plain": [
              "((774, 100), (774,))"
            ]
          },
          "metadata": {},
          "execution_count": 30
        }
      ],
      "source": [
        "X_test.shape, y_test.shape"
      ]
    },
    {
      "cell_type": "code",
      "execution_count": 31,
      "metadata": {
        "id": "CSFrURJCleiI"
      },
      "outputs": [],
      "source": [
        "#Reshaping data to fit into LSTM model\n",
        "X_train = X_train.reshape(X_train.shape[0],X_train.shape[1] , 1)\n",
        "X_test = X_test.reshape(X_test.shape[0],X_test.shape[1] , 1)"
      ]
    },
    {
      "cell_type": "code",
      "source": [
        "# create and fit the LSTM network\n",
        "model = tf.keras.Sequential()\n",
        "model.add(tf.keras.layers.LSTM(50, return_sequences = True, input_shape = (X_train.shape[1], 1)))\n",
        "model.add(tf.keras.layers.Dropout(0.2)) \n",
        "model.add(tf.keras.layers.LSTM(50, return_sequences = True))\n",
        "model.add(tf.keras.layers.Dropout(0.2)) \n",
        "model.add(tf.keras.layers.LSTM(50))\n",
        "model.add(tf.keras.layers.Dense(1, activation='tanh'))\n",
        "\n",
        "model.summary()"
      ],
      "metadata": {
        "colab": {
          "base_uri": "https://localhost:8080/"
        },
        "id": "Iodk3jE0bead",
        "outputId": "2f294675-221e-4149-993e-4e574a667d62"
      },
      "execution_count": 32,
      "outputs": [
        {
          "output_type": "stream",
          "name": "stdout",
          "text": [
            "Model: \"sequential\"\n",
            "_________________________________________________________________\n",
            " Layer (type)                Output Shape              Param #   \n",
            "=================================================================\n",
            " lstm (LSTM)                 (None, 100, 50)           10400     \n",
            "                                                                 \n",
            " dropout (Dropout)           (None, 100, 50)           0         \n",
            "                                                                 \n",
            " lstm_1 (LSTM)               (None, 100, 50)           20200     \n",
            "                                                                 \n",
            " dropout_1 (Dropout)         (None, 100, 50)           0         \n",
            "                                                                 \n",
            " lstm_2 (LSTM)               (None, 50)                20200     \n",
            "                                                                 \n",
            " dense (Dense)               (None, 1)                 51        \n",
            "                                                                 \n",
            "=================================================================\n",
            "Total params: 50,851\n",
            "Trainable params: 50,851\n",
            "Non-trainable params: 0\n",
            "_________________________________________________________________\n"
          ]
        }
      ]
    },
    {
      "cell_type": "code",
      "execution_count": 34,
      "metadata": {
        "colab": {
          "base_uri": "https://localhost:8080/"
        },
        "id": "my62TeR1leiJ",
        "outputId": "3df74dbc-8cc1-489d-b345-3b68bc128e1e"
      },
      "outputs": [
        {
          "output_type": "stream",
          "name": "stdout",
          "text": [
            "Epoch 1/150\n",
            "38/38 [==============================] - 14s 234ms/step - loss: 0.1283 - accuracy: 0.5278 - val_loss: 0.1616 - val_accuracy: 0.6088\n",
            "Epoch 2/150\n",
            "38/38 [==============================] - 7s 195ms/step - loss: 0.1189 - accuracy: 0.5290 - val_loss: 0.1621 - val_accuracy: 0.6088\n",
            "Epoch 3/150\n",
            "38/38 [==============================] - 8s 198ms/step - loss: 0.1187 - accuracy: 0.5273 - val_loss: 0.1608 - val_accuracy: 0.6088\n",
            "Epoch 4/150\n",
            "38/38 [==============================] - 8s 202ms/step - loss: 0.1182 - accuracy: 0.5269 - val_loss: 0.1612 - val_accuracy: 0.6088\n",
            "Epoch 5/150\n",
            "38/38 [==============================] - 8s 199ms/step - loss: 0.1180 - accuracy: 0.5261 - val_loss: 0.1609 - val_accuracy: 0.6069\n",
            "Epoch 6/150\n",
            "38/38 [==============================] - 8s 201ms/step - loss: 0.1173 - accuracy: 0.5299 - val_loss: 0.1610 - val_accuracy: 0.6049\n",
            "Epoch 7/150\n",
            "38/38 [==============================] - 8s 200ms/step - loss: 0.1174 - accuracy: 0.5286 - val_loss: 0.1608 - val_accuracy: 0.6049\n",
            "Epoch 8/150\n",
            "38/38 [==============================] - 8s 199ms/step - loss: 0.1170 - accuracy: 0.5303 - val_loss: 0.1614 - val_accuracy: 0.6069\n",
            "Epoch 9/150\n",
            "38/38 [==============================] - 8s 198ms/step - loss: 0.1162 - accuracy: 0.5278 - val_loss: 0.1621 - val_accuracy: 0.6088\n",
            "Epoch 10/150\n",
            "38/38 [==============================] - 8s 214ms/step - loss: 0.1174 - accuracy: 0.5278 - val_loss: 0.1610 - val_accuracy: 0.6088\n",
            "Epoch 11/150\n",
            "38/38 [==============================] - 8s 203ms/step - loss: 0.1166 - accuracy: 0.5290 - val_loss: 0.1597 - val_accuracy: 0.6059\n",
            "Epoch 12/150\n",
            "38/38 [==============================] - 8s 198ms/step - loss: 0.1165 - accuracy: 0.5273 - val_loss: 0.1638 - val_accuracy: 0.6088\n",
            "Epoch 13/150\n",
            "38/38 [==============================] - 8s 204ms/step - loss: 0.1170 - accuracy: 0.5278 - val_loss: 0.1594 - val_accuracy: 0.6088\n",
            "Epoch 14/150\n",
            "38/38 [==============================] - 8s 199ms/step - loss: 0.1165 - accuracy: 0.5294 - val_loss: 0.1631 - val_accuracy: 0.6000\n",
            "Epoch 15/150\n",
            "38/38 [==============================] - 8s 205ms/step - loss: 0.1167 - accuracy: 0.5269 - val_loss: 0.1599 - val_accuracy: 0.6069\n",
            "Epoch 16/150\n",
            "38/38 [==============================] - 8s 202ms/step - loss: 0.1151 - accuracy: 0.5299 - val_loss: 0.1602 - val_accuracy: 0.6098\n",
            "Epoch 17/150\n",
            "38/38 [==============================] - 8s 200ms/step - loss: 0.1149 - accuracy: 0.5269 - val_loss: 0.1586 - val_accuracy: 0.6069\n",
            "Epoch 18/150\n",
            "38/38 [==============================] - 8s 207ms/step - loss: 0.1142 - accuracy: 0.5282 - val_loss: 0.1596 - val_accuracy: 0.6078\n",
            "Epoch 19/150\n",
            "38/38 [==============================] - 8s 200ms/step - loss: 0.1138 - accuracy: 0.5299 - val_loss: 0.1586 - val_accuracy: 0.6078\n",
            "Epoch 20/150\n",
            "38/38 [==============================] - 8s 207ms/step - loss: 0.1147 - accuracy: 0.5311 - val_loss: 0.1585 - val_accuracy: 0.6069\n",
            "Epoch 21/150\n",
            "38/38 [==============================] - 8s 198ms/step - loss: 0.1134 - accuracy: 0.5261 - val_loss: 0.1570 - val_accuracy: 0.6069\n",
            "Epoch 22/150\n",
            "38/38 [==============================] - 8s 203ms/step - loss: 0.1131 - accuracy: 0.5282 - val_loss: 0.1566 - val_accuracy: 0.5961\n",
            "Epoch 23/150\n",
            "38/38 [==============================] - 8s 203ms/step - loss: 0.1124 - accuracy: 0.5282 - val_loss: 0.1573 - val_accuracy: 0.6059\n",
            "Epoch 24/150\n",
            "38/38 [==============================] - 9s 231ms/step - loss: 0.1122 - accuracy: 0.5320 - val_loss: 0.1573 - val_accuracy: 0.6069\n",
            "Epoch 25/150\n",
            "38/38 [==============================] - 8s 202ms/step - loss: 0.1126 - accuracy: 0.5307 - val_loss: 0.1564 - val_accuracy: 0.6088\n",
            "Epoch 26/150\n",
            "38/38 [==============================] - 8s 204ms/step - loss: 0.1128 - accuracy: 0.5303 - val_loss: 0.1588 - val_accuracy: 0.5922\n",
            "Epoch 27/150\n",
            "38/38 [==============================] - 8s 199ms/step - loss: 0.1125 - accuracy: 0.5345 - val_loss: 0.1560 - val_accuracy: 0.6059\n",
            "Epoch 28/150\n",
            "38/38 [==============================] - 8s 212ms/step - loss: 0.1122 - accuracy: 0.5320 - val_loss: 0.1568 - val_accuracy: 0.5980\n",
            "Epoch 29/150\n",
            "38/38 [==============================] - 8s 202ms/step - loss: 0.1121 - accuracy: 0.5294 - val_loss: 0.1587 - val_accuracy: 0.6069\n",
            "Epoch 30/150\n",
            "38/38 [==============================] - 8s 200ms/step - loss: 0.1114 - accuracy: 0.5320 - val_loss: 0.1598 - val_accuracy: 0.5931\n",
            "Epoch 31/150\n",
            "38/38 [==============================] - 8s 206ms/step - loss: 0.1113 - accuracy: 0.5345 - val_loss: 0.1571 - val_accuracy: 0.5980\n",
            "Epoch 32/150\n",
            "38/38 [==============================] - 8s 201ms/step - loss: 0.1121 - accuracy: 0.5307 - val_loss: 0.1579 - val_accuracy: 0.6059\n",
            "Epoch 33/150\n",
            "38/38 [==============================] - 8s 202ms/step - loss: 0.1119 - accuracy: 0.5299 - val_loss: 0.1575 - val_accuracy: 0.6059\n",
            "Epoch 34/150\n",
            "38/38 [==============================] - 8s 206ms/step - loss: 0.1118 - accuracy: 0.5320 - val_loss: 0.1584 - val_accuracy: 0.5931\n",
            "Epoch 35/150\n",
            "38/38 [==============================] - 8s 204ms/step - loss: 0.1128 - accuracy: 0.5290 - val_loss: 0.1582 - val_accuracy: 0.6039\n",
            "Epoch 36/150\n",
            "38/38 [==============================] - 8s 219ms/step - loss: 0.1112 - accuracy: 0.5366 - val_loss: 0.1571 - val_accuracy: 0.5980\n",
            "Epoch 37/150\n",
            "38/38 [==============================] - 8s 201ms/step - loss: 0.1118 - accuracy: 0.5286 - val_loss: 0.1587 - val_accuracy: 0.6078\n",
            "Epoch 38/150\n",
            "38/38 [==============================] - 8s 200ms/step - loss: 0.1119 - accuracy: 0.5315 - val_loss: 0.1561 - val_accuracy: 0.6049\n",
            "Epoch 39/150\n",
            "38/38 [==============================] - 8s 201ms/step - loss: 0.1112 - accuracy: 0.5362 - val_loss: 0.1581 - val_accuracy: 0.5971\n",
            "Epoch 40/150\n",
            "38/38 [==============================] - 9s 237ms/step - loss: 0.1121 - accuracy: 0.5311 - val_loss: 0.1565 - val_accuracy: 0.6049\n",
            "Epoch 41/150\n",
            "38/38 [==============================] - 15s 385ms/step - loss: 0.1117 - accuracy: 0.5341 - val_loss: 0.1573 - val_accuracy: 0.5990\n",
            "Epoch 42/150\n",
            "38/38 [==============================] - 17s 456ms/step - loss: 0.1115 - accuracy: 0.5332 - val_loss: 0.1578 - val_accuracy: 0.6088\n",
            "Epoch 43/150\n",
            "38/38 [==============================] - 17s 442ms/step - loss: 0.1115 - accuracy: 0.5336 - val_loss: 0.1568 - val_accuracy: 0.6088\n",
            "Epoch 44/150\n",
            "38/38 [==============================] - 9s 235ms/step - loss: 0.1113 - accuracy: 0.5311 - val_loss: 0.1573 - val_accuracy: 0.6010\n",
            "Epoch 45/150\n",
            "38/38 [==============================] - 8s 202ms/step - loss: 0.1112 - accuracy: 0.5341 - val_loss: 0.1572 - val_accuracy: 0.6078\n",
            "Epoch 46/150\n",
            "38/38 [==============================] - 8s 200ms/step - loss: 0.1114 - accuracy: 0.5349 - val_loss: 0.1574 - val_accuracy: 0.6010\n",
            "Epoch 47/150\n",
            "38/38 [==============================] - 8s 218ms/step - loss: 0.1106 - accuracy: 0.5345 - val_loss: 0.1586 - val_accuracy: 0.6020\n",
            "Epoch 48/150\n",
            "38/38 [==============================] - 9s 242ms/step - loss: 0.1111 - accuracy: 0.5366 - val_loss: 0.1590 - val_accuracy: 0.5971\n",
            "Epoch 49/150\n",
            "38/38 [==============================] - 8s 200ms/step - loss: 0.1117 - accuracy: 0.5311 - val_loss: 0.1569 - val_accuracy: 0.6088\n",
            "Epoch 50/150\n",
            "38/38 [==============================] - 8s 199ms/step - loss: 0.1111 - accuracy: 0.5320 - val_loss: 0.1599 - val_accuracy: 0.5892\n",
            "Epoch 51/150\n",
            "38/38 [==============================] - 8s 198ms/step - loss: 0.1108 - accuracy: 0.5357 - val_loss: 0.1581 - val_accuracy: 0.6010\n",
            "Epoch 52/150\n",
            "38/38 [==============================] - 7s 196ms/step - loss: 0.1107 - accuracy: 0.5391 - val_loss: 0.1583 - val_accuracy: 0.6059\n",
            "Epoch 53/150\n",
            "38/38 [==============================] - 9s 229ms/step - loss: 0.1107 - accuracy: 0.5324 - val_loss: 0.1588 - val_accuracy: 0.6039\n",
            "Epoch 54/150\n",
            "38/38 [==============================] - 7s 196ms/step - loss: 0.1114 - accuracy: 0.5328 - val_loss: 0.1582 - val_accuracy: 0.6039\n",
            "Epoch 55/150\n",
            "38/38 [==============================] - 8s 219ms/step - loss: 0.1113 - accuracy: 0.5332 - val_loss: 0.1565 - val_accuracy: 0.6098\n",
            "Epoch 56/150\n",
            "38/38 [==============================] - 9s 230ms/step - loss: 0.1114 - accuracy: 0.5353 - val_loss: 0.1589 - val_accuracy: 0.5980\n",
            "Epoch 57/150\n",
            "38/38 [==============================] - 8s 201ms/step - loss: 0.1101 - accuracy: 0.5349 - val_loss: 0.1620 - val_accuracy: 0.6078\n",
            "Epoch 58/150\n",
            "38/38 [==============================] - 7s 196ms/step - loss: 0.1102 - accuracy: 0.5345 - val_loss: 0.1586 - val_accuracy: 0.6029\n",
            "Epoch 59/150\n",
            "38/38 [==============================] - 8s 201ms/step - loss: 0.1101 - accuracy: 0.5362 - val_loss: 0.1593 - val_accuracy: 0.6059\n",
            "Epoch 60/150\n",
            "38/38 [==============================] - 8s 199ms/step - loss: 0.1099 - accuracy: 0.5345 - val_loss: 0.1577 - val_accuracy: 0.6029\n",
            "Epoch 61/150\n",
            "38/38 [==============================] - 8s 198ms/step - loss: 0.1097 - accuracy: 0.5374 - val_loss: 0.1590 - val_accuracy: 0.6039\n",
            "Epoch 62/150\n",
            "38/38 [==============================] - 8s 200ms/step - loss: 0.1106 - accuracy: 0.5336 - val_loss: 0.1609 - val_accuracy: 0.6039\n",
            "Epoch 63/150\n",
            "38/38 [==============================] - 8s 200ms/step - loss: 0.1103 - accuracy: 0.5357 - val_loss: 0.1571 - val_accuracy: 0.6088\n",
            "Epoch 64/150\n",
            "38/38 [==============================] - 8s 199ms/step - loss: 0.1094 - accuracy: 0.5370 - val_loss: 0.1591 - val_accuracy: 0.5971\n",
            "Epoch 65/150\n",
            "38/38 [==============================] - 7s 197ms/step - loss: 0.1096 - accuracy: 0.5366 - val_loss: 0.1571 - val_accuracy: 0.6098\n",
            "Epoch 66/150\n",
            "38/38 [==============================] - 8s 202ms/step - loss: 0.1089 - accuracy: 0.5395 - val_loss: 0.1617 - val_accuracy: 0.6010\n",
            "Epoch 67/150\n",
            "38/38 [==============================] - 9s 252ms/step - loss: 0.1099 - accuracy: 0.5324 - val_loss: 0.1568 - val_accuracy: 0.6118\n",
            "Epoch 68/150\n",
            "38/38 [==============================] - 9s 232ms/step - loss: 0.1095 - accuracy: 0.5370 - val_loss: 0.1590 - val_accuracy: 0.6059\n",
            "Epoch 69/150\n",
            "38/38 [==============================] - 8s 199ms/step - loss: 0.1081 - accuracy: 0.5374 - val_loss: 0.1597 - val_accuracy: 0.6059\n",
            "Epoch 70/150\n",
            "38/38 [==============================] - 8s 216ms/step - loss: 0.1095 - accuracy: 0.5349 - val_loss: 0.1585 - val_accuracy: 0.6088\n",
            "Epoch 71/150\n",
            "38/38 [==============================] - 8s 205ms/step - loss: 0.1089 - accuracy: 0.5362 - val_loss: 0.1603 - val_accuracy: 0.6039\n",
            "Epoch 72/150\n",
            "38/38 [==============================] - 8s 199ms/step - loss: 0.1082 - accuracy: 0.5349 - val_loss: 0.1598 - val_accuracy: 0.6078\n",
            "Epoch 73/150\n",
            "38/38 [==============================] - 8s 197ms/step - loss: 0.1102 - accuracy: 0.5315 - val_loss: 0.1598 - val_accuracy: 0.6000\n",
            "Epoch 74/150\n",
            "38/38 [==============================] - 8s 199ms/step - loss: 0.1084 - accuracy: 0.5383 - val_loss: 0.1619 - val_accuracy: 0.6049\n",
            "Epoch 75/150\n",
            "38/38 [==============================] - 8s 199ms/step - loss: 0.1082 - accuracy: 0.5336 - val_loss: 0.1596 - val_accuracy: 0.6059\n",
            "Epoch 76/150\n",
            "38/38 [==============================] - 8s 198ms/step - loss: 0.1080 - accuracy: 0.5399 - val_loss: 0.1624 - val_accuracy: 0.6000\n",
            "Epoch 77/150\n",
            "38/38 [==============================] - 8s 201ms/step - loss: 0.1090 - accuracy: 0.5362 - val_loss: 0.1610 - val_accuracy: 0.6049\n",
            "Epoch 78/150\n",
            "38/38 [==============================] - 8s 199ms/step - loss: 0.1089 - accuracy: 0.5370 - val_loss: 0.1599 - val_accuracy: 0.6147\n",
            "Epoch 79/150\n",
            "38/38 [==============================] - 8s 201ms/step - loss: 0.1099 - accuracy: 0.5366 - val_loss: 0.1602 - val_accuracy: 0.6020\n",
            "Epoch 80/150\n",
            "38/38 [==============================] - 8s 197ms/step - loss: 0.1078 - accuracy: 0.5387 - val_loss: 0.1606 - val_accuracy: 0.6049\n",
            "Epoch 81/150\n",
            "38/38 [==============================] - 8s 224ms/step - loss: 0.1071 - accuracy: 0.5383 - val_loss: 0.1617 - val_accuracy: 0.6010\n",
            "Epoch 82/150\n",
            "38/38 [==============================] - 8s 198ms/step - loss: 0.1068 - accuracy: 0.5383 - val_loss: 0.1600 - val_accuracy: 0.6059\n",
            "Epoch 83/150\n",
            "38/38 [==============================] - 7s 197ms/step - loss: 0.1072 - accuracy: 0.5387 - val_loss: 0.1583 - val_accuracy: 0.6108\n",
            "Epoch 84/150\n",
            "38/38 [==============================] - 7s 197ms/step - loss: 0.1063 - accuracy: 0.5387 - val_loss: 0.1614 - val_accuracy: 0.6049\n",
            "Epoch 85/150\n",
            "38/38 [==============================] - 7s 196ms/step - loss: 0.1061 - accuracy: 0.5353 - val_loss: 0.1635 - val_accuracy: 0.5951\n",
            "Epoch 86/150\n",
            "38/38 [==============================] - 7s 197ms/step - loss: 0.1058 - accuracy: 0.5416 - val_loss: 0.1627 - val_accuracy: 0.5931\n",
            "Epoch 87/150\n",
            "38/38 [==============================] - 8s 199ms/step - loss: 0.1063 - accuracy: 0.5408 - val_loss: 0.1603 - val_accuracy: 0.6069\n",
            "Epoch 88/150\n",
            "38/38 [==============================] - 8s 199ms/step - loss: 0.1062 - accuracy: 0.5408 - val_loss: 0.1626 - val_accuracy: 0.6029\n",
            "Epoch 89/150\n",
            "38/38 [==============================] - 8s 197ms/step - loss: 0.1050 - accuracy: 0.5395 - val_loss: 0.1620 - val_accuracy: 0.6029\n",
            "Epoch 90/150\n",
            "38/38 [==============================] - 8s 198ms/step - loss: 0.1055 - accuracy: 0.5399 - val_loss: 0.1611 - val_accuracy: 0.5980\n",
            "Epoch 91/150\n",
            "38/38 [==============================] - 7s 197ms/step - loss: 0.1057 - accuracy: 0.5383 - val_loss: 0.1630 - val_accuracy: 0.5990\n",
            "Epoch 92/150\n",
            "38/38 [==============================] - 7s 197ms/step - loss: 0.1045 - accuracy: 0.5395 - val_loss: 0.1639 - val_accuracy: 0.6039\n",
            "Epoch 93/150\n",
            "38/38 [==============================] - 7s 197ms/step - loss: 0.1061 - accuracy: 0.5353 - val_loss: 0.1631 - val_accuracy: 0.6020\n",
            "Epoch 94/150\n",
            "38/38 [==============================] - 8s 203ms/step - loss: 0.1041 - accuracy: 0.5353 - val_loss: 0.1608 - val_accuracy: 0.6000\n",
            "Epoch 95/150\n",
            "38/38 [==============================] - 11s 304ms/step - loss: 0.1035 - accuracy: 0.5416 - val_loss: 0.1621 - val_accuracy: 0.6010\n",
            "Epoch 96/150\n",
            "38/38 [==============================] - 12s 311ms/step - loss: 0.1047 - accuracy: 0.5391 - val_loss: 0.1638 - val_accuracy: 0.5990\n",
            "Epoch 97/150\n",
            "38/38 [==============================] - 7s 196ms/step - loss: 0.1036 - accuracy: 0.5404 - val_loss: 0.1661 - val_accuracy: 0.5922\n",
            "Epoch 98/150\n",
            "38/38 [==============================] - 7s 196ms/step - loss: 0.1052 - accuracy: 0.5421 - val_loss: 0.1627 - val_accuracy: 0.6010\n",
            "Epoch 99/150\n",
            "38/38 [==============================] - 7s 197ms/step - loss: 0.1041 - accuracy: 0.5425 - val_loss: 0.1656 - val_accuracy: 0.5971\n",
            "Epoch 100/150\n",
            "38/38 [==============================] - 7s 197ms/step - loss: 0.1034 - accuracy: 0.5366 - val_loss: 0.1638 - val_accuracy: 0.5931\n",
            "Epoch 101/150\n",
            "38/38 [==============================] - 7s 196ms/step - loss: 0.1030 - accuracy: 0.5408 - val_loss: 0.1670 - val_accuracy: 0.5941\n",
            "Epoch 102/150\n",
            "38/38 [==============================] - 8s 198ms/step - loss: 0.1022 - accuracy: 0.5450 - val_loss: 0.1681 - val_accuracy: 0.5892\n",
            "Epoch 103/150\n",
            "38/38 [==============================] - 8s 199ms/step - loss: 0.1014 - accuracy: 0.5433 - val_loss: 0.1696 - val_accuracy: 0.5882\n",
            "Epoch 104/150\n",
            "38/38 [==============================] - 8s 204ms/step - loss: 0.1003 - accuracy: 0.5429 - val_loss: 0.1683 - val_accuracy: 0.5971\n",
            "Epoch 105/150\n",
            "38/38 [==============================] - 7s 197ms/step - loss: 0.1011 - accuracy: 0.5446 - val_loss: 0.1667 - val_accuracy: 0.5941\n",
            "Epoch 106/150\n",
            "38/38 [==============================] - 8s 198ms/step - loss: 0.0991 - accuracy: 0.5421 - val_loss: 0.1691 - val_accuracy: 0.5794\n",
            "Epoch 107/150\n",
            "38/38 [==============================] - 8s 198ms/step - loss: 0.0997 - accuracy: 0.5463 - val_loss: 0.1712 - val_accuracy: 0.5971\n",
            "Epoch 108/150\n",
            "38/38 [==============================] - 7s 197ms/step - loss: 0.1015 - accuracy: 0.5433 - val_loss: 0.1715 - val_accuracy: 0.5990\n",
            "Epoch 109/150\n",
            "38/38 [==============================] - 8s 222ms/step - loss: 0.1023 - accuracy: 0.5475 - val_loss: 0.1708 - val_accuracy: 0.5961\n",
            "Epoch 110/150\n",
            "38/38 [==============================] - 8s 198ms/step - loss: 0.1008 - accuracy: 0.5450 - val_loss: 0.1689 - val_accuracy: 0.5931\n",
            "Epoch 111/150\n",
            "38/38 [==============================] - 8s 201ms/step - loss: 0.1003 - accuracy: 0.5433 - val_loss: 0.1730 - val_accuracy: 0.5843\n",
            "Epoch 112/150\n",
            "38/38 [==============================] - 8s 198ms/step - loss: 0.1011 - accuracy: 0.5475 - val_loss: 0.1677 - val_accuracy: 0.5961\n",
            "Epoch 113/150\n",
            "38/38 [==============================] - 8s 199ms/step - loss: 0.0996 - accuracy: 0.5471 - val_loss: 0.1718 - val_accuracy: 0.5941\n",
            "Epoch 114/150\n",
            "38/38 [==============================] - 7s 197ms/step - loss: 0.0979 - accuracy: 0.5467 - val_loss: 0.1691 - val_accuracy: 0.5941\n",
            "Epoch 115/150\n",
            "38/38 [==============================] - 8s 199ms/step - loss: 0.0973 - accuracy: 0.5492 - val_loss: 0.1741 - val_accuracy: 0.5922\n",
            "Epoch 116/150\n",
            "38/38 [==============================] - 8s 199ms/step - loss: 0.0955 - accuracy: 0.5513 - val_loss: 0.1686 - val_accuracy: 0.5922\n",
            "Epoch 117/150\n",
            "38/38 [==============================] - 8s 199ms/step - loss: 0.0954 - accuracy: 0.5530 - val_loss: 0.1712 - val_accuracy: 0.5892\n",
            "Epoch 118/150\n",
            "38/38 [==============================] - 8s 198ms/step - loss: 0.0947 - accuracy: 0.5526 - val_loss: 0.1735 - val_accuracy: 0.5824\n",
            "Epoch 119/150\n",
            "38/38 [==============================] - 8s 198ms/step - loss: 0.0953 - accuracy: 0.5484 - val_loss: 0.1750 - val_accuracy: 0.5931\n",
            "Epoch 120/150\n",
            "38/38 [==============================] - 8s 201ms/step - loss: 0.0960 - accuracy: 0.5471 - val_loss: 0.1781 - val_accuracy: 0.5863\n",
            "Epoch 121/150\n",
            "38/38 [==============================] - 8s 199ms/step - loss: 0.0926 - accuracy: 0.5542 - val_loss: 0.1755 - val_accuracy: 0.5922\n",
            "Epoch 122/150\n",
            "38/38 [==============================] - 8s 198ms/step - loss: 0.0927 - accuracy: 0.5589 - val_loss: 0.1765 - val_accuracy: 0.5863\n",
            "Epoch 123/150\n",
            "38/38 [==============================] - 8s 199ms/step - loss: 0.0932 - accuracy: 0.5593 - val_loss: 0.1833 - val_accuracy: 0.5833\n",
            "Epoch 124/150\n",
            "38/38 [==============================] - 8s 200ms/step - loss: 0.0908 - accuracy: 0.5538 - val_loss: 0.1850 - val_accuracy: 0.5775\n",
            "Epoch 125/150\n",
            "38/38 [==============================] - 8s 199ms/step - loss: 0.0903 - accuracy: 0.5534 - val_loss: 0.1845 - val_accuracy: 0.5873\n",
            "Epoch 126/150\n",
            "38/38 [==============================] - 7s 197ms/step - loss: 0.0906 - accuracy: 0.5610 - val_loss: 0.1813 - val_accuracy: 0.5775\n",
            "Epoch 127/150\n",
            "38/38 [==============================] - 7s 197ms/step - loss: 0.0896 - accuracy: 0.5568 - val_loss: 0.1794 - val_accuracy: 0.5843\n",
            "Epoch 128/150\n",
            "38/38 [==============================] - 8s 199ms/step - loss: 0.0872 - accuracy: 0.5601 - val_loss: 0.1879 - val_accuracy: 0.5725\n",
            "Epoch 129/150\n",
            "38/38 [==============================] - 8s 198ms/step - loss: 0.0858 - accuracy: 0.5669 - val_loss: 0.1873 - val_accuracy: 0.5735\n",
            "Epoch 130/150\n",
            "38/38 [==============================] - 8s 198ms/step - loss: 0.0892 - accuracy: 0.5589 - val_loss: 0.1976 - val_accuracy: 0.5765\n",
            "Epoch 131/150\n",
            "38/38 [==============================] - 8s 200ms/step - loss: 0.0861 - accuracy: 0.5694 - val_loss: 0.1880 - val_accuracy: 0.5775\n",
            "Epoch 132/150\n",
            "38/38 [==============================] - 8s 198ms/step - loss: 0.0856 - accuracy: 0.5643 - val_loss: 0.1915 - val_accuracy: 0.5696\n",
            "Epoch 133/150\n",
            "38/38 [==============================] - 8s 200ms/step - loss: 0.0844 - accuracy: 0.5664 - val_loss: 0.1965 - val_accuracy: 0.5539\n",
            "Epoch 134/150\n",
            "38/38 [==============================] - 8s 199ms/step - loss: 0.0853 - accuracy: 0.5677 - val_loss: 0.1949 - val_accuracy: 0.5784\n",
            "Epoch 135/150\n",
            "38/38 [==============================] - 8s 199ms/step - loss: 0.0834 - accuracy: 0.5673 - val_loss: 0.1905 - val_accuracy: 0.5755\n",
            "Epoch 136/150\n",
            "38/38 [==============================] - 7s 197ms/step - loss: 0.0821 - accuracy: 0.5698 - val_loss: 0.1916 - val_accuracy: 0.5588\n",
            "Epoch 137/150\n",
            "38/38 [==============================] - 7s 197ms/step - loss: 0.0818 - accuracy: 0.5723 - val_loss: 0.1947 - val_accuracy: 0.5706\n",
            "Epoch 138/150\n",
            "38/38 [==============================] - 8s 198ms/step - loss: 0.0819 - accuracy: 0.5723 - val_loss: 0.1909 - val_accuracy: 0.5696\n",
            "Epoch 139/150\n",
            "38/38 [==============================] - 8s 198ms/step - loss: 0.0845 - accuracy: 0.5677 - val_loss: 0.1924 - val_accuracy: 0.5637\n",
            "Epoch 140/150\n",
            "38/38 [==============================] - 8s 199ms/step - loss: 0.0790 - accuracy: 0.5719 - val_loss: 0.1972 - val_accuracy: 0.5598\n",
            "Epoch 141/150\n",
            "38/38 [==============================] - 7s 197ms/step - loss: 0.0798 - accuracy: 0.5690 - val_loss: 0.1926 - val_accuracy: 0.5539\n",
            "Epoch 142/150\n",
            "38/38 [==============================] - 7s 197ms/step - loss: 0.0773 - accuracy: 0.5765 - val_loss: 0.2132 - val_accuracy: 0.5657\n",
            "Epoch 143/150\n",
            "38/38 [==============================] - 8s 198ms/step - loss: 0.0798 - accuracy: 0.5761 - val_loss: 0.2037 - val_accuracy: 0.5588\n",
            "Epoch 144/150\n",
            "38/38 [==============================] - 8s 199ms/step - loss: 0.0777 - accuracy: 0.5749 - val_loss: 0.1996 - val_accuracy: 0.5657\n",
            "Epoch 145/150\n",
            "38/38 [==============================] - 7s 196ms/step - loss: 0.0781 - accuracy: 0.5711 - val_loss: 0.2062 - val_accuracy: 0.5529\n",
            "Epoch 146/150\n",
            "38/38 [==============================] - 7s 195ms/step - loss: 0.0747 - accuracy: 0.5799 - val_loss: 0.2096 - val_accuracy: 0.5618\n",
            "Epoch 147/150\n",
            "38/38 [==============================] - 8s 199ms/step - loss: 0.0746 - accuracy: 0.5791 - val_loss: 0.2138 - val_accuracy: 0.5657\n",
            "Epoch 148/150\n",
            "38/38 [==============================] - 7s 197ms/step - loss: 0.0746 - accuracy: 0.5820 - val_loss: 0.2096 - val_accuracy: 0.5618\n",
            "Epoch 149/150\n",
            "38/38 [==============================] - 8s 224ms/step - loss: 0.0713 - accuracy: 0.5854 - val_loss: 0.2125 - val_accuracy: 0.5618\n",
            "Epoch 150/150\n",
            "38/38 [==============================] - 8s 199ms/step - loss: 0.0702 - accuracy: 0.5820 - val_loss: 0.2249 - val_accuracy: 0.5559\n"
          ]
        }
      ],
      "source": [
        "#Training model with adam optimizer and mean squared error loss function\n",
        "optimizer = tf.keras.optimizers.Adam(learning_rate=0.001)\n",
        "model.compile(loss='mse',optimizer=optimizer, metrics=['accuracy'])\n",
        "history = model.fit(\n",
        "    X_train,y_train,\n",
        "    validation_data=(X_test,y_test),\n",
        "    epochs=150,\n",
        "    batch_size=64,\n",
        "    validation_split=0.3,\n",
        "    verbose=1,\n",
        "    )"
      ]
    },
    {
      "cell_type": "code",
      "source": [
        "# Convert the model.\n",
        "import pathlib\n",
        "\n",
        "export_dir = 'saved_model/1'\n",
        "tf.saved_model.save(model, export_dir)\n",
        "\n",
        "converter = tf.lite.TFLiteConverter.from_saved_model(export_dir)\n",
        "\n",
        "converter.target_spec.supported_ops = [\n",
        "  tf.lite.OpsSet.TFLITE_BUILTINS, # enable TensorFlow Lite ops.\n",
        "  tf.lite.OpsSet.SELECT_TF_OPS # enable TensorFlow ops.\n",
        "]\n",
        "tflite_model = converter.convert()"
      ],
      "metadata": {
        "colab": {
          "base_uri": "https://localhost:8080/"
        },
        "id": "DKzXf35xHiIF",
        "outputId": "c49b681c-f705-4a67-9bdf-34ae59c22018"
      },
      "execution_count": 36,
      "outputs": [
        {
          "output_type": "stream",
          "name": "stderr",
          "text": [
            "WARNING:absl:Found untraced functions such as lstm_cell_layer_call_fn, lstm_cell_layer_call_and_return_conditional_losses, lstm_cell_1_layer_call_fn, lstm_cell_1_layer_call_and_return_conditional_losses, lstm_cell_2_layer_call_fn while saving (showing 5 of 6). These functions will not be directly callable after loading.\n"
          ]
        },
        {
          "output_type": "stream",
          "name": "stdout",
          "text": [
            "INFO:tensorflow:Assets written to: saved_model/1/assets\n"
          ]
        },
        {
          "output_type": "stream",
          "name": "stderr",
          "text": [
            "INFO:tensorflow:Assets written to: saved_model/1/assets\n",
            "WARNING:absl:Buffer deduplication procedure will be skipped when flatbuffer library is not properly loaded\n"
          ]
        }
      ]
    },
    {
      "cell_type": "code",
      "source": [
        "tflite_model_file = pathlib.Path('model.tflite')\n",
        "tflite_model_file.write_bytes(tflite_model)"
      ],
      "metadata": {
        "colab": {
          "base_uri": "https://localhost:8080/"
        },
        "id": "MBlOhhvjHk5I",
        "outputId": "c10ad946-96ca-42a7-acd4-25f311680a0d"
      },
      "execution_count": 37,
      "outputs": [
        {
          "output_type": "execute_result",
          "data": {
            "text/plain": [
              "228016"
            ]
          },
          "metadata": {},
          "execution_count": 37
        }
      ]
    },
    {
      "cell_type": "code",
      "source": [
        "# Load TFLite model and allocate tensors.\n",
        "interpreter = tf.lite.Interpreter(model_content=tflite_model)\n",
        "interpreter.allocate_tensors()\n",
        "\n",
        "# Get input and output tensors.\n",
        "input_details = interpreter.get_input_details()\n",
        "output_details = interpreter.get_output_details()"
      ],
      "metadata": {
        "id": "GN5U2knvHntr"
      },
      "execution_count": 38,
      "outputs": []
    },
    {
      "cell_type": "code",
      "execution_count": 39,
      "metadata": {
        "colab": {
          "base_uri": "https://localhost:8080/",
          "height": 282
        },
        "id": "qMmkh35hleiK",
        "outputId": "4660cc48-d4f3-4d5f-a874-366f457ea84d"
      },
      "outputs": [
        {
          "output_type": "execute_result",
          "data": {
            "text/plain": [
              "[<matplotlib.lines.Line2D at 0x7f0b95478310>]"
            ]
          },
          "metadata": {},
          "execution_count": 39
        },
        {
          "output_type": "display_data",
          "data": {
            "text/plain": [
              "<Figure size 432x288 with 1 Axes>"
            ],
            "image/png": "[encoded data removed]"
          },
          "metadata": {
            "needs_background": "light"
          }
        }
      ],
      "source": [
        "#PLotting loss, it shows that loss has decreased significantly and model trained well\n",
        "loss = model.history.history['loss']\n",
        "plt.plot(loss)"
      ]
    },
    {
      "cell_type": "code",
      "execution_count": 40,
      "metadata": {
        "id": "CVbk-AcOleiK"
      },
      "outputs": [],
      "source": [
        "#Predicitng on train and test data\n",
        "train_predict = model.predict(X_train)\n",
        "test_predict = model.predict(X_test)"
      ]
    },
    {
      "cell_type": "code",
      "execution_count": 41,
      "metadata": {
        "id": "X5knBt-bleiL"
      },
      "outputs": [],
      "source": [
        "#Inverse transform to get actual value\n",
        "train_predict = normalizer.inverse_transform(train_predict)\n",
        "test_predict = normalizer.inverse_transform(test_predict)"
      ]
    },
    {
      "cell_type": "code",
      "execution_count": 42,
      "metadata": {
        "colab": {
          "base_uri": "https://localhost:8080/",
          "height": 282
        },
        "id": "3pkeowaRleiL",
        "outputId": "8d75276c-9623-4fba-e3e3-feb8fd19c860"
      },
      "outputs": [
        {
          "output_type": "execute_result",
          "data": {
            "text/plain": [
              "[<matplotlib.lines.Line2D at 0x7f0b952a7390>]"
            ]
          },
          "metadata": {},
          "execution_count": 42
        },
        {
          "output_type": "display_data",
          "data": {
            "text/plain": [
              "<Figure size 432x288 with 1 Axes>"
            ],
            "image/png": "[encoded data removed]"
          },
          "metadata": {
            "needs_background": "light"
          }
        }
      ],
      "source": [
        "#Comparing using visuals\n",
        "plt.plot(normalizer.inverse_transform(df_scaled))\n",
        "plt.plot(train_predict) #Orange Training\n",
        "plt.plot(test_predict) #Green Testing"
      ]
    },
    {
      "cell_type": "code",
      "execution_count": 43,
      "metadata": {
        "id": "aVuUNeOKleiL",
        "colab": {
          "base_uri": "https://localhost:8080/"
        },
        "outputId": "2544bce0-6348-4b87-911e-a49d7c0fa08d"
      },
      "outputs": [
        {
          "output_type": "execute_result",
          "data": {
            "text/plain": [
              "numpy.ndarray"
            ]
          },
          "metadata": {},
          "execution_count": 43
        }
      ],
      "source": [
        "type(train_predict)"
      ]
    },
    {
      "cell_type": "code",
      "execution_count": 44,
      "metadata": {
        "id": "7fxYv4vhleiL"
      },
      "outputs": [],
      "source": [
        "test = np.vstack((train_predict,test_predict))"
      ]
    },
    {
      "cell_type": "code",
      "execution_count": 45,
      "metadata": {
        "id": "yPX8nlf7leiL",
        "colab": {
          "base_uri": "https://localhost:8080/",
          "height": 282
        },
        "outputId": "2c3ccd7c-f14f-4e87-9d45-680c0cf5ad9c"
      },
      "outputs": [
        {
          "output_type": "execute_result",
          "data": {
            "text/plain": [
              "[<matplotlib.lines.Line2D at 0x7f0b8f6c25d0>]"
            ]
          },
          "metadata": {},
          "execution_count": 45
        },
        {
          "output_type": "display_data",
          "data": {
            "text/plain": [
              "<Figure size 432x288 with 1 Axes>"
            ],
            "image/png": "[encoded data removed]"
          },
          "metadata": {
            "needs_background": "light"
          }
        }
      ],
      "source": [
        "#Combining the predited data to create uniform data visualization\n",
        "plt.plot(normalizer.inverse_transform(df_scaled))\n",
        "plt.plot(test)"
      ]
    },
    {
      "cell_type": "code",
      "execution_count": 46,
      "metadata": {
        "id": "HVAgcrdzleiM",
        "colab": {
          "base_uri": "https://localhost:8080/"
        },
        "outputId": "0a369db0-c1d1-4ba5-8467-1d869ae315b2"
      },
      "outputs": [
        {
          "output_type": "execute_result",
          "data": {
            "text/plain": [
              "875"
            ]
          },
          "metadata": {},
          "execution_count": 46
        }
      ],
      "source": [
        "len(df_test)"
      ]
    },
    {
      "cell_type": "code",
      "execution_count": 47,
      "metadata": {
        "id": "lBjcWihnleiN",
        "colab": {
          "base_uri": "https://localhost:8080/"
        },
        "outputId": "f4823b1b-bb56-41ca-bab9-1fbb87df43cf"
      },
      "outputs": [
        {
          "output_type": "execute_result",
          "data": {
            "text/plain": [
              "(1, 100)"
            ]
          },
          "metadata": {},
          "execution_count": 47
        }
      ],
      "source": [
        "#Getting the last 100 days records\n",
        "fut_inp = df_test[len(df_test)-100:]\n",
        "fut_inp = fut_inp.reshape(1,-1)\n",
        "\n",
        "fut_inp.shape"
      ]
    },
    {
      "cell_type": "code",
      "execution_count": 48,
      "metadata": {
        "id": "GCSPTQfvleiN"
      },
      "outputs": [],
      "source": [
        "#Creating list of the last 100 data\n",
        "tmp_inp = list(fut_inp)\n",
        "tmp_inp = tmp_inp[0].tolist()"
      ]
    },
    {
      "cell_type": "code",
      "execution_count": 49,
      "metadata": {
        "id": "qkBwY0RFleiP",
        "colab": {
          "base_uri": "https://localhost:8080/"
        },
        "outputId": "c234f06d-cb7e-49db-d278-a63c2e369874"
      },
      "outputs": [
        {
          "output_type": "stream",
          "name": "stdout",
          "text": [
            "Difference is 159 days\n"
          ]
        }
      ],
      "source": [
        "from datetime import datetime\n",
        "\n",
        "# Predicting from last date of dataset untill today\n",
        "date_dataset = '2021/12/31'\n",
        "date_today = '2022/06/08'\n",
        "\n",
        "# convert string to date object\n",
        "d1 = datetime.strptime(date_dataset, \"%Y/%m/%d\")\n",
        "d2 = datetime.strptime(date_today, \"%Y/%m/%d\")\n",
        "\n",
        "# difference between dates in timedelta\n",
        "delta = d2 - d1\n",
        "delta = int(delta.days)\n",
        "print(f'Difference is {delta} days')"
      ]
    },
    {
      "cell_type": "code",
      "execution_count": 50,
      "metadata": {
        "id": "Ptv9yATHleiP",
        "colab": {
          "base_uri": "https://localhost:8080/"
        },
        "outputId": "13fbe0f3-2127-4b79-e92a-4226d19f1268"
      },
      "outputs": [
        {
          "output_type": "stream",
          "name": "stdout",
          "text": [
            "[[0.06564534455537796], [0.007691320031881332], [-0.037093352526426315], [-0.06690160930156708], [-0.08486958593130112], [-0.09532228857278824], [-0.10401742160320282], [-0.11207331717014313], [-0.11887063831090927], [-0.12425091117620468], [-0.1286623626947403], [-0.13233180344104767], [-0.13461771607398987], [-0.13392925262451172], [-0.12768308818340302], [-0.11329782754182816], [-0.08046657592058182], [-0.03863168880343437], [0.01669124700129032], [0.07691366225481033], [0.13572858273983002], [0.18293307721614838], [0.20181559026241302], [0.21335941553115845], [0.23410004377365112], [0.2527618110179901], [0.2780854105949402], [0.31042224168777466], [0.34012487530708313], [0.3553713262081146], [0.35170480608940125], [0.27291789650917053], [0.313724547624588], [0.2832389175891876], [0.26098716259002686], [0.26118120551109314], [0.289685994386673], [0.31782907247543335], [0.33608129620552063], [0.32860663533210754], [0.32481464743614197], [0.31409546732902527], [0.2959993779659271], [0.2687043845653534], [0.23397593200206757], [0.19935102760791779], [0.1717739850282669], [0.15658222138881683], [0.13847069442272186], [0.12283968925476074], [0.1448177695274353], [0.17930635809898376], [0.19570641219615936], [0.18723130226135254], [0.1645565927028656], [0.14422649145126343], [0.13585898280143738], [0.13693326711654663], [0.13783417642116547], [0.14054058492183685], [0.14185339212417603], [0.14249037206172943], [0.1484331339597702], [0.16669513285160065], [0.20558814704418182], [0.23861809074878693], [0.25511205196380615], [0.25405609607696533], [0.24169115722179413], [0.22234787046909332], [0.19379182159900665], [0.14875614643096924], [0.08470199257135391], [0.030643222853541374], [0.021748695522546768], [0.04096689820289612], [0.031307414174079895], [0.062291961163282394], [0.10958881676197052], [0.18022873997688293], [0.27543777227401733], [0.37367212772369385], [0.43159860372543335], [0.40212202072143555], [0.3124401271343231], [0.2066527158021927], [0.08401963859796524], [0.0009987498633563519], [0.009774753823876381], [0.0822654590010643], [0.14761681854724884], [0.15833882987499237], [0.1445694863796234], [0.14712773263454437], [0.00949071068316698], [0.09133737534284592], [0.2484232634305954], [0.2599986493587494], [0.2319190949201584], [0.16052745282649994], [0.12301132082939148], [0.13734731078147888], [0.1666022539138794], [0.20723529160022736], [0.23261021077632904], [0.19978471100330353], [0.13000471889972687], [0.07146713137626648], [0.025693802163004875], [-0.007290286011993885], [0.007874339818954468], [0.0798703208565712], [0.12156227231025696], [0.24238991737365723], [0.3218231797218323], [0.4267938733100891], [0.5071091651916504], [0.5070340633392334], [0.4240879714488983], [0.25534117221832275], [0.14678390324115753], [0.2015397697687149], [0.37003210186958313], [0.4512256383895874], [0.3136254847049713], [0.11184386163949966], [0.0729518011212349], [0.10002455115318298], [0.1241256445646286], [0.1491042822599411], [0.17754273116588593], [0.20528991520404816], [0.22552664577960968], [0.23494987189769745], [0.23785188794136047], [0.23921740055084229], [0.24066384136676788], [0.2411213368177414], [0.23962171375751495], [0.23422294855117798], [0.22336821258068085], [0.20782677829265594], [0.192246213555336], [0.17735786736011505], [0.16313013434410095], [0.1504863053560257], [0.1400700956583023], [0.13130314648151398], [0.1240914985537529], [0.118075892329216], [0.11296376585960388], [0.10981185734272003], [0.10992537438869476], [0.11523431539535522], [0.1297677606344223], [0.15924455225467682], [0.20896705985069275], [0.2786335051059723], [0.35641738772392273]]\n"
          ]
        }
      ],
      "source": [
        "#Predicting next 30 days price suing the current data\n",
        "#It will predict in sliding window manner (algorithm) with stride 1\n",
        "lst_output=[]\n",
        "i=0\n",
        "while(i<delta):\n",
        "    \n",
        "    if(len(tmp_inp)>100):\n",
        "        fut_inp = np.array(tmp_inp[1:])\n",
        "        fut_inp=fut_inp.reshape(1,-1)\n",
        "        fut_inp = fut_inp.reshape((1, time_stamp, 1))\n",
        "        yhat = model.predict(fut_inp, verbose=0)\n",
        "        tmp_inp.extend(yhat[0].tolist())\n",
        "        tmp_inp = tmp_inp[1:]\n",
        "        lst_output.extend(yhat.tolist())\n",
        "        i=i+1\n",
        "    else:\n",
        "        fut_inp = fut_inp.reshape((1, time_stamp,1))\n",
        "        yhat = model.predict(fut_inp, verbose=0)\n",
        "        tmp_inp.extend(yhat[0].tolist())\n",
        "        lst_output.extend(yhat.tolist())\n",
        "        i=i+1\n",
        "    \n",
        "\n",
        "print(lst_output)"
      ]
    },
    {
      "cell_type": "code",
      "execution_count": 51,
      "metadata": {
        "id": "NwvxsuEzleiP",
        "colab": {
          "base_uri": "https://localhost:8080/"
        },
        "outputId": "5ba51881-9479-407f-c075-d1da2337c30e"
      },
      "outputs": [
        {
          "output_type": "stream",
          "name": "stdout",
          "text": [
            "Polusi = Baik ke Sedang\n"
          ]
        }
      ],
      "source": [
        "hasil = normalizer.inverse_transform(lst_output)\n",
        "hasil = np.array(hasil)\n",
        "hasil = hasil[-1]\n",
        "hasil_float = hasil.astype(np.float32)\n",
        "polusi = int(hasil_float)\n",
        "\n",
        "# df.replace({'SEDANG':2, 'BAIK':1, 'TIDAK SEHAT':3, 'SANGAT TIDAK SEHAT':4,'BERBAHAYA':5}, inplace=True)\n",
        "\n",
        "if polusi >= 1 and polusi < 2:\n",
        "    print(\"Polusi = Baik ke Sedang\")\n",
        "elif polusi >= 2 and polusi < 3:\n",
        "    print(\"Polusi = Sedang ke Tidak Sehat, Pakailah Maskerr !! \")\n",
        "elif polusi >= 3 and polusi < 4:\n",
        "    print(\"Polusi = Tidak Sehat, Pakailah Maskerr !!\")\n",
        "elif polusi >= 4 and polusi < 5:\n",
        "    print(\"Polusi = Sangat Tidak Sehat, Pakailah Maskerr !!\")\n",
        "elif polusi >= 5:\n",
        "    print(\"Polusi = Berbahaya, Pakailah Maskerr !!\")\n"
      ]
    },
    {
      "cell_type": "code",
      "execution_count": 52,
      "metadata": {
        "id": "rCkR645AleiQ",
        "colab": {
          "base_uri": "https://localhost:8080/"
        },
        "outputId": "f94b508b-58f1-487f-d82a-d544305ac9c9"
      },
      "outputs": [
        {
          "output_type": "execute_result",
          "data": {
            "text/plain": [
              "4374"
            ]
          },
          "metadata": {},
          "execution_count": 52
        }
      ],
      "source": [
        "len(df_scaled)"
      ]
    },
    {
      "cell_type": "code",
      "execution_count": 53,
      "metadata": {
        "id": "493ZUJlGleiQ"
      },
      "outputs": [],
      "source": [
        "#Creating a dummy plane to plot graph one after another\n",
        "plot_new=np.arange(1,time_stamp+1)\n",
        "plot_pred=np.arange(time_stamp+1,time_stamp+1+delta)"
      ]
    },
    {
      "cell_type": "code",
      "execution_count": 54,
      "metadata": {
        "id": "LhzbG6bqleiQ",
        "colab": {
          "base_uri": "https://localhost:8080/",
          "height": 282
        },
        "outputId": "57adf448-794e-444b-8238-ceea057aa201"
      },
      "outputs": [
        {
          "output_type": "execute_result",
          "data": {
            "text/plain": [
              "[<matplotlib.lines.Line2D at 0x7f0b908da950>]"
            ]
          },
          "metadata": {},
          "execution_count": 54
        },
        {
          "output_type": "display_data",
          "data": {
            "text/plain": [
              "<Figure size 432x288 with 1 Axes>"
            ],
            "image/png": "[encoded data removed]"
          },
          "metadata": {
            "needs_background": "light"
          }
        }
      ],
      "source": [
        "plt.plot(plot_new, normalizer.inverse_transform(df_scaled[len(df_scaled)-time_stamp:]))\n",
        "plt.plot(plot_pred, normalizer.inverse_transform(lst_output))"
      ]
    },
    {
      "cell_type": "code",
      "execution_count": 55,
      "metadata": {
        "id": "o8KUfceIleiR"
      },
      "outputs": [],
      "source": [
        "df_new = df_scaled.tolist()"
      ]
    },
    {
      "cell_type": "code",
      "execution_count": 56,
      "metadata": {
        "id": "v3gBMKdUleiS",
        "colab": {
          "base_uri": "https://localhost:8080/"
        },
        "outputId": "c6abb5c4-d157-4857-fe1f-3d532a9f5ade"
      },
      "outputs": [
        {
          "output_type": "execute_result",
          "data": {
            "text/plain": [
              "4374"
            ]
          },
          "metadata": {},
          "execution_count": 56
        }
      ],
      "source": [
        "len(df_new)"
      ]
    },
    {
      "cell_type": "code",
      "execution_count": 57,
      "metadata": {
        "id": "DGM27914leiS",
        "colab": {
          "base_uri": "https://localhost:8080/",
          "height": 282
        },
        "outputId": "647080a6-7ef7-4584-91da-ba232d4f5e6d"
      },
      "outputs": [
        {
          "output_type": "execute_result",
          "data": {
            "text/plain": [
              "[<matplotlib.lines.Line2D at 0x7f0b95384a50>]"
            ]
          },
          "metadata": {},
          "execution_count": 57
        },
        {
          "output_type": "display_data",
          "data": {
            "text/plain": [
              "<Figure size 432x288 with 1 Axes>"
            ],
            "image/png": "[encoded data removed]"
          },
          "metadata": {
            "needs_background": "light"
          }
        }
      ],
      "source": [
        "#Entends helps us to fill the missing value with approx value\n",
        "df_new.extend(lst_output)\n",
        "plt.plot(df_new[1200:])"
      ]
    },
    {
      "cell_type": "code",
      "execution_count": 58,
      "metadata": {
        "id": "4MMr7Vx4leiS"
      },
      "outputs": [],
      "source": [
        "#Creating final data for plotting\n",
        "final_graph = normalizer.inverse_transform(df_new).tolist()"
      ]
    },
    {
      "cell_type": "code",
      "execution_count": 59,
      "metadata": {
        "id": "uSRhAsFzleiT",
        "colab": {
          "base_uri": "https://localhost:8080/",
          "height": 330
        },
        "outputId": "5edda501-b9d0-4145-b739-0be6abbd747c"
      },
      "outputs": [
        {
          "output_type": "stream",
          "name": "stderr",
          "text": [
            "WARNING:matplotlib.legend:No handles with labels found to put in legend.\n"
          ]
        },
        {
          "output_type": "execute_result",
          "data": {
            "text/plain": [
              "<matplotlib.legend.Legend at 0x7f0b95380b90>"
            ]
          },
          "metadata": {},
          "execution_count": 59
        },
        {
          "output_type": "display_data",
          "data": {
            "text/plain": [
              "<Figure size 432x288 with 1 Axes>"
            ],
            "image/png": "[encoded data removed]"
          },
          "metadata": {
            "needs_background": "light"
          }
        }
      ],
      "source": [
        "#Plotting final results with predicted value till today\n",
        "plt.plot(final_graph,)\n",
        "plt.ylabel(\"Categori\")\n",
        "plt.xlabel(\"Tanggal\")\n",
        "plt.title(\"Prediction of untill today\")\n",
        "plt.legend()"
      ]
    }
  ],
  "metadata": {
    "interpreter": {
      "hash": "8d3239b25ededd7d9b1a1fa3bd2e049ae98e52b15a9d9529dc2638ca6ba1baef"
    },
    "kernelspec": {
      "display_name": "Python 3.8.8 ('base')",
      "language": "python",
      "name": "python3"
    },
    "language_info": {
      "codemirror_mode": {
        "name": "ipython",
        "version": 3
      },
      "file_extension": ".py",
      "mimetype": "text/x-python",
      "name": "python",
      "nbconvert_exporter": "python",
      "pygments_lexer": "ipython3",
      "version": "3.9.12"
    },
    "orig_nbformat": 4,
    "colab": {
      "name": "modeling LSTM,  knn data.ipynb",
      "provenance": [],
      "collapsed_sections": []
    }
  },
  "nbformat": 4,
  "nbformat_minor": 0
}