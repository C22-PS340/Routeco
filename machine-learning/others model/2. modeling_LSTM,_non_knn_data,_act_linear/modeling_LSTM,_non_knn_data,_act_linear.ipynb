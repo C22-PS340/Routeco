{
  "cells": [
    {
      "cell_type": "code",
      "execution_count": 1,
      "metadata": {
        "id": "K31lYtpQlehr"
      },
      "outputs": [],
      "source": [
        "import pandas as pd\n",
        "import numpy as np\n",
        "import seaborn as sns\n",
        "import keras\n",
        "import tensorflow as tf\n",
        "import matplotlib.pyplot as plt\n",
        "%matplotlib inline\n",
        "from matplotlib.pylab import rcParams\n",
        "rcParams['figure.figsize']=20,10\n",
        "from keras.models import Sequential\n",
        "from keras.layers import LSTM,Dropout,Dense\n",
        "from sklearn.preprocessing import MinMaxScaler"
      ]
    },
    {
      "cell_type": "code",
      "execution_count": 2,
      "metadata": {
        "colab": {
          "base_uri": "https://localhost:8080/",
          "height": 424
        },
        "id": "UwMQWUtFlehv",
        "outputId": "c29be611-5638-4d82-c0aa-810df082dede"
      },
      "outputs": [
        {
          "output_type": "execute_result",
          "data": {
            "text/plain": [
              "      Unnamed: 0     tanggal  pm10   so2    co    o3   no2    max  critical  \\\n",
              "0              0  2010-01-01   NaN   NaN   NaN   NaN   NaN    0.0       NaN   \n",
              "1              1  2010-01-02   NaN   NaN   NaN   NaN   NaN    0.0       NaN   \n",
              "2              2  2010-01-03   NaN   NaN   NaN   NaN   NaN    0.0       NaN   \n",
              "3              3  2010-01-04   NaN   NaN   NaN   NaN   NaN    0.0       NaN   \n",
              "4              4  2010-01-05   NaN   NaN   NaN   NaN   NaN    0.0       NaN   \n",
              "...          ...         ...   ...   ...   ...   ...   ...    ...       ...   \n",
              "4378        4378  2021-12-27  75.0  35.0  23.0  38.0  21.0  116.0       1.0   \n",
              "4379        4379  2021-12-28  51.0   NaN  13.0  17.0  18.0   74.0       1.0   \n",
              "4380        4380  2021-12-29  47.0  21.0  12.0  20.0   9.0   54.0       1.0   \n",
              "4381        4381  2021-12-30  60.0  21.0  15.0  19.0  13.0   60.0       3.0   \n",
              "4382        4382  2021-12-31  64.0  21.0  44.0  17.0   NaN   64.0       3.0   \n",
              "\n",
              "      categori  \n",
              "0          NaN  \n",
              "1          NaN  \n",
              "2          NaN  \n",
              "3          NaN  \n",
              "4          NaN  \n",
              "...        ...  \n",
              "4378       3.0  \n",
              "4379       1.0  \n",
              "4380       1.0  \n",
              "4381       1.0  \n",
              "4382       1.0  \n",
              "\n",
              "[4383 rows x 10 columns]"
            ],
            "text/html": [
              "\n",
              "  <div id=\"df-c8033115-afb1-4ed7-9359-5fa377d31261\">\n",
              "    <div class=\"colab-df-container\">\n",
              "      <div>\n",
              "<style scoped>\n",
              "    .dataframe tbody tr th:only-of-type {\n",
              "        vertical-align: middle;\n",
              "    }\n",
              "\n",
              "    .dataframe tbody tr th {\n",
              "        vertical-align: top;\n",
              "    }\n",
              "\n",
              "    .dataframe thead th {\n",
              "        text-align: right;\n",
              "    }\n",
              "</style>\n",
              "<table border=\"1\" class=\"dataframe\">\n",
              "  <thead>\n",
              "    <tr style=\"text-align: right;\">\n",
              "      <th></th>\n",
              "      <th>Unnamed: 0</th>\n",
              "      <th>tanggal</th>\n",
              "      <th>pm10</th>\n",
              "      <th>so2</th>\n",
              "      <th>co</th>\n",
              "      <th>o3</th>\n",
              "      <th>no2</th>\n",
              "      <th>max</th>\n",
              "      <th>critical</th>\n",
              "      <th>categori</th>\n",
              "    </tr>\n",
              "  </thead>\n",
              "  <tbody>\n",
              "    <tr>\n",
              "      <th>0</th>\n",
              "      <td>0</td>\n",
              "      <td>2010-01-01</td>\n",
              "      <td>NaN</td>\n",
              "      <td>NaN</td>\n",
              "      <td>NaN</td>\n",
              "      <td>NaN</td>\n",
              "      <td>NaN</td>\n",
              "      <td>0.0</td>\n",
              "      <td>NaN</td>\n",
              "      <td>NaN</td>\n",
              "    </tr>\n",
              "    <tr>\n",
              "      <th>1</th>\n",
              "      <td>1</td>\n",
              "      <td>2010-01-02</td>\n",
              "      <td>NaN</td>\n",
              "      <td>NaN</td>\n",
              "      <td>NaN</td>\n",
              "      <td>NaN</td>\n",
              "      <td>NaN</td>\n",
              "      <td>0.0</td>\n",
              "      <td>NaN</td>\n",
              "      <td>NaN</td>\n",
              "    </tr>\n",
              "    <tr>\n",
              "      <th>2</th>\n",
              "      <td>2</td>\n",
              "      <td>2010-01-03</td>\n",
              "      <td>NaN</td>\n",
              "      <td>NaN</td>\n",
              "      <td>NaN</td>\n",
              "      <td>NaN</td>\n",
              "      <td>NaN</td>\n",
              "      <td>0.0</td>\n",
              "      <td>NaN</td>\n",
              "      <td>NaN</td>\n",
              "    </tr>\n",
              "    <tr>\n",
              "      <th>3</th>\n",
              "      <td>3</td>\n",
              "      <td>2010-01-04</td>\n",
              "      <td>NaN</td>\n",
              "      <td>NaN</td>\n",
              "      <td>NaN</td>\n",
              "      <td>NaN</td>\n",
              "      <td>NaN</td>\n",
              "      <td>0.0</td>\n",
              "      <td>NaN</td>\n",
              "      <td>NaN</td>\n",
              "    </tr>\n",
              "    <tr>\n",
              "      <th>4</th>\n",
              "      <td>4</td>\n",
              "      <td>2010-01-05</td>\n",
              "      <td>NaN</td>\n",
              "      <td>NaN</td>\n",
              "      <td>NaN</td>\n",
              "      <td>NaN</td>\n",
              "      <td>NaN</td>\n",
              "      <td>0.0</td>\n",
              "      <td>NaN</td>\n",
              "      <td>NaN</td>\n",
              "    </tr>\n",
              "    <tr>\n",
              "      <th>...</th>\n",
              "      <td>...</td>\n",
              "      <td>...</td>\n",
              "      <td>...</td>\n",
              "      <td>...</td>\n",
              "      <td>...</td>\n",
              "      <td>...</td>\n",
              "      <td>...</td>\n",
              "      <td>...</td>\n",
              "      <td>...</td>\n",
              "      <td>...</td>\n",
              "    </tr>\n",
              "    <tr>\n",
              "      <th>4378</th>\n",
              "      <td>4378</td>\n",
              "      <td>2021-12-27</td>\n",
              "      <td>75.0</td>\n",
              "      <td>35.0</td>\n",
              "      <td>23.0</td>\n",
              "      <td>38.0</td>\n",
              "      <td>21.0</td>\n",
              "      <td>116.0</td>\n",
              "      <td>1.0</td>\n",
              "      <td>3.0</td>\n",
              "    </tr>\n",
              "    <tr>\n",
              "      <th>4379</th>\n",
              "      <td>4379</td>\n",
              "      <td>2021-12-28</td>\n",
              "      <td>51.0</td>\n",
              "      <td>NaN</td>\n",
              "      <td>13.0</td>\n",
              "      <td>17.0</td>\n",
              "      <td>18.0</td>\n",
              "      <td>74.0</td>\n",
              "      <td>1.0</td>\n",
              "      <td>1.0</td>\n",
              "    </tr>\n",
              "    <tr>\n",
              "      <th>4380</th>\n",
              "      <td>4380</td>\n",
              "      <td>2021-12-29</td>\n",
              "      <td>47.0</td>\n",
              "      <td>21.0</td>\n",
              "      <td>12.0</td>\n",
              "      <td>20.0</td>\n",
              "      <td>9.0</td>\n",
              "      <td>54.0</td>\n",
              "      <td>1.0</td>\n",
              "      <td>1.0</td>\n",
              "    </tr>\n",
              "    <tr>\n",
              "      <th>4381</th>\n",
              "      <td>4381</td>\n",
              "      <td>2021-12-30</td>\n",
              "      <td>60.0</td>\n",
              "      <td>21.0</td>\n",
              "      <td>15.0</td>\n",
              "      <td>19.0</td>\n",
              "      <td>13.0</td>\n",
              "      <td>60.0</td>\n",
              "      <td>3.0</td>\n",
              "      <td>1.0</td>\n",
              "    </tr>\n",
              "    <tr>\n",
              "      <th>4382</th>\n",
              "      <td>4382</td>\n",
              "      <td>2021-12-31</td>\n",
              "      <td>64.0</td>\n",
              "      <td>21.0</td>\n",
              "      <td>44.0</td>\n",
              "      <td>17.0</td>\n",
              "      <td>NaN</td>\n",
              "      <td>64.0</td>\n",
              "      <td>3.0</td>\n",
              "      <td>1.0</td>\n",
              "    </tr>\n",
              "  </tbody>\n",
              "</table>\n",
              "<p>4383 rows × 10 columns</p>\n",
              "</div>\n",
              "      <button class=\"colab-df-convert\" onclick=\"convertToInteractive('df-c8033115-afb1-4ed7-9359-5fa377d31261')\"\n",
              "              title=\"Convert this dataframe to an interactive table.\"\n",
              "              style=\"display:none;\">\n",
              "        \n",
              "  <svg xmlns=\"http://www.w3.org/2000/svg\" height=\"24px\"viewBox=\"0 0 24 24\"\n",
              "       width=\"24px\">\n",
              "    <path d=\"M0 0h24v24H0V0z\" fill=\"none\"/>\n",
              "    <path d=\"M18.56 5.44l.94 2.06.94-2.06 2.06-.94-2.06-.94-.94-2.06-.94 2.06-2.06.94zm-11 1L8.5 8.5l.94-2.06 2.06-.94-2.06-.94L8.5 2.5l-.94 2.06-2.06.94zm10 10l.94 2.06.94-2.06 2.06-.94-2.06-.94-.94-2.06-.94 2.06-2.06.94z\"/><path d=\"M17.41 7.96l-1.37-1.37c-.4-.4-.92-.59-1.43-.59-.52 0-1.04.2-1.43.59L10.3 9.45l-7.72 7.72c-.78.78-.78 2.05 0 2.83L4 21.41c.39.39.9.59 1.41.59.51 0 1.02-.2 1.41-.59l7.78-7.78 2.81-2.81c.8-.78.8-2.07 0-2.86zM5.41 20L4 18.59l7.72-7.72 1.47 1.35L5.41 20z\"/>\n",
              "  </svg>\n",
              "      </button>\n",
              "      \n",
              "  <style>\n",
              "    .colab-df-container {\n",
              "      display:flex;\n",
              "      flex-wrap:wrap;\n",
              "      gap: 12px;\n",
              "    }\n",
              "\n",
              "    .colab-df-convert {\n",
              "      background-color: #E8F0FE;\n",
              "      border: none;\n",
              "      border-radius: 50%;\n",
              "      cursor: pointer;\n",
              "      display: none;\n",
              "      fill: #1967D2;\n",
              "      height: 32px;\n",
              "      padding: 0 0 0 0;\n",
              "      width: 32px;\n",
              "    }\n",
              "\n",
              "    .colab-df-convert:hover {\n",
              "      background-color: #E2EBFA;\n",
              "      box-shadow: 0px 1px 2px rgba(60, 64, 67, 0.3), 0px 1px 3px 1px rgba(60, 64, 67, 0.15);\n",
              "      fill: #174EA6;\n",
              "    }\n",
              "\n",
              "    [theme=dark] .colab-df-convert {\n",
              "      background-color: #3B4455;\n",
              "      fill: #D2E3FC;\n",
              "    }\n",
              "\n",
              "    [theme=dark] .colab-df-convert:hover {\n",
              "      background-color: #434B5C;\n",
              "      box-shadow: 0px 1px 3px 1px rgba(0, 0, 0, 0.15);\n",
              "      filter: drop-shadow(0px 1px 2px rgba(0, 0, 0, 0.3));\n",
              "      fill: #FFFFFF;\n",
              "    }\n",
              "  </style>\n",
              "\n",
              "      <script>\n",
              "        const buttonEl =\n",
              "          document.querySelector('#df-c8033115-afb1-4ed7-9359-5fa377d31261 button.colab-df-convert');\n",
              "        buttonEl.style.display =\n",
              "          google.colab.kernel.accessAllowed ? 'block' : 'none';\n",
              "\n",
              "        async function convertToInteractive(key) {\n",
              "          const element = document.querySelector('#df-c8033115-afb1-4ed7-9359-5fa377d31261');\n",
              "          const dataTable =\n",
              "            await google.colab.kernel.invokeFunction('convertToInteractive',\n",
              "                                                     [key], {});\n",
              "          if (!dataTable) return;\n",
              "\n",
              "          const docLinkHtml = 'Like what you see? Visit the ' +\n",
              "            '<a target=\"_blank\" href=https://colab.research.google.com/notebooks/data_table.ipynb>data table notebook</a>'\n",
              "            + ' to learn more about interactive tables.';\n",
              "          element.innerHTML = '';\n",
              "          dataTable['output_type'] = 'display_data';\n",
              "          await google.colab.output.renderOutput(dataTable, element);\n",
              "          const docLink = document.createElement('div');\n",
              "          docLink.innerHTML = docLinkHtml;\n",
              "          element.appendChild(docLink);\n",
              "        }\n",
              "      </script>\n",
              "    </div>\n",
              "  </div>\n",
              "  "
            ]
          },
          "metadata": {},
          "execution_count": 2
        }
      ],
      "source": [
        "df = pd.read_csv('polusi-jaksel-2010-2021-no-knn.csv')\n",
        "df"
      ]
    },
    {
      "cell_type": "code",
      "execution_count": 3,
      "metadata": {
        "colab": {
          "base_uri": "https://localhost:8080/",
          "height": 206
        },
        "id": "mMM0DX0Llehx",
        "outputId": "2c485b16-5c2f-4496-f4d3-70a3c7e1ae69"
      },
      "outputs": [
        {
          "output_type": "execute_result",
          "data": {
            "text/plain": [
              "      tanggal  categori\n",
              "0  2010-01-01       NaN\n",
              "1  2010-01-02       NaN\n",
              "2  2010-01-03       NaN\n",
              "3  2010-01-04       NaN\n",
              "4  2010-01-05       NaN"
            ],
            "text/html": [
              "\n",
              "  <div id=\"df-9387b323-f2b0-4aab-910f-50e82928bc19\">\n",
              "    <div class=\"colab-df-container\">\n",
              "      <div>\n",
              "<style scoped>\n",
              "    .dataframe tbody tr th:only-of-type {\n",
              "        vertical-align: middle;\n",
              "    }\n",
              "\n",
              "    .dataframe tbody tr th {\n",
              "        vertical-align: top;\n",
              "    }\n",
              "\n",
              "    .dataframe thead th {\n",
              "        text-align: right;\n",
              "    }\n",
              "</style>\n",
              "<table border=\"1\" class=\"dataframe\">\n",
              "  <thead>\n",
              "    <tr style=\"text-align: right;\">\n",
              "      <th></th>\n",
              "      <th>tanggal</th>\n",
              "      <th>categori</th>\n",
              "    </tr>\n",
              "  </thead>\n",
              "  <tbody>\n",
              "    <tr>\n",
              "      <th>0</th>\n",
              "      <td>2010-01-01</td>\n",
              "      <td>NaN</td>\n",
              "    </tr>\n",
              "    <tr>\n",
              "      <th>1</th>\n",
              "      <td>2010-01-02</td>\n",
              "      <td>NaN</td>\n",
              "    </tr>\n",
              "    <tr>\n",
              "      <th>2</th>\n",
              "      <td>2010-01-03</td>\n",
              "      <td>NaN</td>\n",
              "    </tr>\n",
              "    <tr>\n",
              "      <th>3</th>\n",
              "      <td>2010-01-04</td>\n",
              "      <td>NaN</td>\n",
              "    </tr>\n",
              "    <tr>\n",
              "      <th>4</th>\n",
              "      <td>2010-01-05</td>\n",
              "      <td>NaN</td>\n",
              "    </tr>\n",
              "  </tbody>\n",
              "</table>\n",
              "</div>\n",
              "      <button class=\"colab-df-convert\" onclick=\"convertToInteractive('df-9387b323-f2b0-4aab-910f-50e82928bc19')\"\n",
              "              title=\"Convert this dataframe to an interactive table.\"\n",
              "              style=\"display:none;\">\n",
              "        \n",
              "  <svg xmlns=\"http://www.w3.org/2000/svg\" height=\"24px\"viewBox=\"0 0 24 24\"\n",
              "       width=\"24px\">\n",
              "    <path d=\"M0 0h24v24H0V0z\" fill=\"none\"/>\n",
              "    <path d=\"M18.56 5.44l.94 2.06.94-2.06 2.06-.94-2.06-.94-.94-2.06-.94 2.06-2.06.94zm-11 1L8.5 8.5l.94-2.06 2.06-.94-2.06-.94L8.5 2.5l-.94 2.06-2.06.94zm10 10l.94 2.06.94-2.06 2.06-.94-2.06-.94-.94-2.06-.94 2.06-2.06.94z\"/><path d=\"M17.41 7.96l-1.37-1.37c-.4-.4-.92-.59-1.43-.59-.52 0-1.04.2-1.43.59L10.3 9.45l-7.72 7.72c-.78.78-.78 2.05 0 2.83L4 21.41c.39.39.9.59 1.41.59.51 0 1.02-.2 1.41-.59l7.78-7.78 2.81-2.81c.8-.78.8-2.07 0-2.86zM5.41 20L4 18.59l7.72-7.72 1.47 1.35L5.41 20z\"/>\n",
              "  </svg>\n",
              "      </button>\n",
              "      \n",
              "  <style>\n",
              "    .colab-df-container {\n",
              "      display:flex;\n",
              "      flex-wrap:wrap;\n",
              "      gap: 12px;\n",
              "    }\n",
              "\n",
              "    .colab-df-convert {\n",
              "      background-color: #E8F0FE;\n",
              "      border: none;\n",
              "      border-radius: 50%;\n",
              "      cursor: pointer;\n",
              "      display: none;\n",
              "      fill: #1967D2;\n",
              "      height: 32px;\n",
              "      padding: 0 0 0 0;\n",
              "      width: 32px;\n",
              "    }\n",
              "\n",
              "    .colab-df-convert:hover {\n",
              "      background-color: #E2EBFA;\n",
              "      box-shadow: 0px 1px 2px rgba(60, 64, 67, 0.3), 0px 1px 3px 1px rgba(60, 64, 67, 0.15);\n",
              "      fill: #174EA6;\n",
              "    }\n",
              "\n",
              "    [theme=dark] .colab-df-convert {\n",
              "      background-color: #3B4455;\n",
              "      fill: #D2E3FC;\n",
              "    }\n",
              "\n",
              "    [theme=dark] .colab-df-convert:hover {\n",
              "      background-color: #434B5C;\n",
              "      box-shadow: 0px 1px 3px 1px rgba(0, 0, 0, 0.15);\n",
              "      filter: drop-shadow(0px 1px 2px rgba(0, 0, 0, 0.3));\n",
              "      fill: #FFFFFF;\n",
              "    }\n",
              "  </style>\n",
              "\n",
              "      <script>\n",
              "        const buttonEl =\n",
              "          document.querySelector('#df-9387b323-f2b0-4aab-910f-50e82928bc19 button.colab-df-convert');\n",
              "        buttonEl.style.display =\n",
              "          google.colab.kernel.accessAllowed ? 'block' : 'none';\n",
              "\n",
              "        async function convertToInteractive(key) {\n",
              "          const element = document.querySelector('#df-9387b323-f2b0-4aab-910f-50e82928bc19');\n",
              "          const dataTable =\n",
              "            await google.colab.kernel.invokeFunction('convertToInteractive',\n",
              "                                                     [key], {});\n",
              "          if (!dataTable) return;\n",
              "\n",
              "          const docLinkHtml = 'Like what you see? Visit the ' +\n",
              "            '<a target=\"_blank\" href=https://colab.research.google.com/notebooks/data_table.ipynb>data table notebook</a>'\n",
              "            + ' to learn more about interactive tables.';\n",
              "          element.innerHTML = '';\n",
              "          dataTable['output_type'] = 'display_data';\n",
              "          await google.colab.output.renderOutput(dataTable, element);\n",
              "          const docLink = document.createElement('div');\n",
              "          docLink.innerHTML = docLinkHtml;\n",
              "          element.appendChild(docLink);\n",
              "        }\n",
              "      </script>\n",
              "    </div>\n",
              "  </div>\n",
              "  "
            ]
          },
          "metadata": {},
          "execution_count": 3
        }
      ],
      "source": [
        "df = df[['tanggal', 'categori']]\n",
        "df.head()"
      ]
    },
    {
      "cell_type": "code",
      "execution_count": 4,
      "metadata": {
        "colab": {
          "base_uri": "https://localhost:8080/",
          "height": 206
        },
        "id": "hfx2_m5Slehy",
        "outputId": "93c8200f-c249-4c43-b536-64e8abb0a38a"
      },
      "outputs": [
        {
          "output_type": "execute_result",
          "data": {
            "text/plain": [
              "         tanggal  categori\n",
              "4378  2021-12-27       3.0\n",
              "4379  2021-12-28       1.0\n",
              "4380  2021-12-29       1.0\n",
              "4381  2021-12-30       1.0\n",
              "4382  2021-12-31       1.0"
            ],
            "text/html": [
              "\n",
              "  <div id=\"df-3abfc674-fbf2-4bcd-a014-5cb71cec6dd5\">\n",
              "    <div class=\"colab-df-container\">\n",
              "      <div>\n",
              "<style scoped>\n",
              "    .dataframe tbody tr th:only-of-type {\n",
              "        vertical-align: middle;\n",
              "    }\n",
              "\n",
              "    .dataframe tbody tr th {\n",
              "        vertical-align: top;\n",
              "    }\n",
              "\n",
              "    .dataframe thead th {\n",
              "        text-align: right;\n",
              "    }\n",
              "</style>\n",
              "<table border=\"1\" class=\"dataframe\">\n",
              "  <thead>\n",
              "    <tr style=\"text-align: right;\">\n",
              "      <th></th>\n",
              "      <th>tanggal</th>\n",
              "      <th>categori</th>\n",
              "    </tr>\n",
              "  </thead>\n",
              "  <tbody>\n",
              "    <tr>\n",
              "      <th>4378</th>\n",
              "      <td>2021-12-27</td>\n",
              "      <td>3.0</td>\n",
              "    </tr>\n",
              "    <tr>\n",
              "      <th>4379</th>\n",
              "      <td>2021-12-28</td>\n",
              "      <td>1.0</td>\n",
              "    </tr>\n",
              "    <tr>\n",
              "      <th>4380</th>\n",
              "      <td>2021-12-29</td>\n",
              "      <td>1.0</td>\n",
              "    </tr>\n",
              "    <tr>\n",
              "      <th>4381</th>\n",
              "      <td>2021-12-30</td>\n",
              "      <td>1.0</td>\n",
              "    </tr>\n",
              "    <tr>\n",
              "      <th>4382</th>\n",
              "      <td>2021-12-31</td>\n",
              "      <td>1.0</td>\n",
              "    </tr>\n",
              "  </tbody>\n",
              "</table>\n",
              "</div>\n",
              "      <button class=\"colab-df-convert\" onclick=\"convertToInteractive('df-3abfc674-fbf2-4bcd-a014-5cb71cec6dd5')\"\n",
              "              title=\"Convert this dataframe to an interactive table.\"\n",
              "              style=\"display:none;\">\n",
              "        \n",
              "  <svg xmlns=\"http://www.w3.org/2000/svg\" height=\"24px\"viewBox=\"0 0 24 24\"\n",
              "       width=\"24px\">\n",
              "    <path d=\"M0 0h24v24H0V0z\" fill=\"none\"/>\n",
              "    <path d=\"M18.56 5.44l.94 2.06.94-2.06 2.06-.94-2.06-.94-.94-2.06-.94 2.06-2.06.94zm-11 1L8.5 8.5l.94-2.06 2.06-.94-2.06-.94L8.5 2.5l-.94 2.06-2.06.94zm10 10l.94 2.06.94-2.06 2.06-.94-2.06-.94-.94-2.06-.94 2.06-2.06.94z\"/><path d=\"M17.41 7.96l-1.37-1.37c-.4-.4-.92-.59-1.43-.59-.52 0-1.04.2-1.43.59L10.3 9.45l-7.72 7.72c-.78.78-.78 2.05 0 2.83L4 21.41c.39.39.9.59 1.41.59.51 0 1.02-.2 1.41-.59l7.78-7.78 2.81-2.81c.8-.78.8-2.07 0-2.86zM5.41 20L4 18.59l7.72-7.72 1.47 1.35L5.41 20z\"/>\n",
              "  </svg>\n",
              "      </button>\n",
              "      \n",
              "  <style>\n",
              "    .colab-df-container {\n",
              "      display:flex;\n",
              "      flex-wrap:wrap;\n",
              "      gap: 12px;\n",
              "    }\n",
              "\n",
              "    .colab-df-convert {\n",
              "      background-color: #E8F0FE;\n",
              "      border: none;\n",
              "      border-radius: 50%;\n",
              "      cursor: pointer;\n",
              "      display: none;\n",
              "      fill: #1967D2;\n",
              "      height: 32px;\n",
              "      padding: 0 0 0 0;\n",
              "      width: 32px;\n",
              "    }\n",
              "\n",
              "    .colab-df-convert:hover {\n",
              "      background-color: #E2EBFA;\n",
              "      box-shadow: 0px 1px 2px rgba(60, 64, 67, 0.3), 0px 1px 3px 1px rgba(60, 64, 67, 0.15);\n",
              "      fill: #174EA6;\n",
              "    }\n",
              "\n",
              "    [theme=dark] .colab-df-convert {\n",
              "      background-color: #3B4455;\n",
              "      fill: #D2E3FC;\n",
              "    }\n",
              "\n",
              "    [theme=dark] .colab-df-convert:hover {\n",
              "      background-color: #434B5C;\n",
              "      box-shadow: 0px 1px 3px 1px rgba(0, 0, 0, 0.15);\n",
              "      filter: drop-shadow(0px 1px 2px rgba(0, 0, 0, 0.3));\n",
              "      fill: #FFFFFF;\n",
              "    }\n",
              "  </style>\n",
              "\n",
              "      <script>\n",
              "        const buttonEl =\n",
              "          document.querySelector('#df-3abfc674-fbf2-4bcd-a014-5cb71cec6dd5 button.colab-df-convert');\n",
              "        buttonEl.style.display =\n",
              "          google.colab.kernel.accessAllowed ? 'block' : 'none';\n",
              "\n",
              "        async function convertToInteractive(key) {\n",
              "          const element = document.querySelector('#df-3abfc674-fbf2-4bcd-a014-5cb71cec6dd5');\n",
              "          const dataTable =\n",
              "            await google.colab.kernel.invokeFunction('convertToInteractive',\n",
              "                                                     [key], {});\n",
              "          if (!dataTable) return;\n",
              "\n",
              "          const docLinkHtml = 'Like what you see? Visit the ' +\n",
              "            '<a target=\"_blank\" href=https://colab.research.google.com/notebooks/data_table.ipynb>data table notebook</a>'\n",
              "            + ' to learn more about interactive tables.';\n",
              "          element.innerHTML = '';\n",
              "          dataTable['output_type'] = 'display_data';\n",
              "          await google.colab.output.renderOutput(dataTable, element);\n",
              "          const docLink = document.createElement('div');\n",
              "          docLink.innerHTML = docLinkHtml;\n",
              "          element.appendChild(docLink);\n",
              "        }\n",
              "      </script>\n",
              "    </div>\n",
              "  </div>\n",
              "  "
            ]
          },
          "metadata": {},
          "execution_count": 4
        }
      ],
      "source": [
        "df.tail()"
      ]
    },
    {
      "cell_type": "code",
      "execution_count": 5,
      "metadata": {
        "colab": {
          "base_uri": "https://localhost:8080/"
        },
        "id": "6rkP3E5Gleh1",
        "outputId": "0f916d53-4c7f-4702-bc31-60488a5f0db3"
      },
      "outputs": [
        {
          "output_type": "execute_result",
          "data": {
            "text/plain": [
              "tanggal      object\n",
              "categori    float64\n",
              "dtype: object"
            ]
          },
          "metadata": {},
          "execution_count": 5
        }
      ],
      "source": [
        "df.dtypes"
      ]
    },
    {
      "cell_type": "code",
      "source": [
        "df = df.dropna()\n",
        "df.head()"
      ],
      "metadata": {
        "colab": {
          "base_uri": "https://localhost:8080/",
          "height": 206
        },
        "id": "XhfZPxHVReLq",
        "outputId": "42179c4e-0432-4bdd-e40f-950344d1128b"
      },
      "execution_count": 6,
      "outputs": [
        {
          "output_type": "execute_result",
          "data": {
            "text/plain": [
              "        tanggal  categori\n",
              "310  2010-11-07       1.0\n",
              "311  2010-11-08       1.0\n",
              "312  2010-11-09       1.0\n",
              "313  2010-11-10       4.0\n",
              "314  2010-11-11       3.0"
            ],
            "text/html": [
              "\n",
              "  <div id=\"df-9d6c4e14-9b43-4e29-9d3e-00acaf0c6e31\">\n",
              "    <div class=\"colab-df-container\">\n",
              "      <div>\n",
              "<style scoped>\n",
              "    .dataframe tbody tr th:only-of-type {\n",
              "        vertical-align: middle;\n",
              "    }\n",
              "\n",
              "    .dataframe tbody tr th {\n",
              "        vertical-align: top;\n",
              "    }\n",
              "\n",
              "    .dataframe thead th {\n",
              "        text-align: right;\n",
              "    }\n",
              "</style>\n",
              "<table border=\"1\" class=\"dataframe\">\n",
              "  <thead>\n",
              "    <tr style=\"text-align: right;\">\n",
              "      <th></th>\n",
              "      <th>tanggal</th>\n",
              "      <th>categori</th>\n",
              "    </tr>\n",
              "  </thead>\n",
              "  <tbody>\n",
              "    <tr>\n",
              "      <th>310</th>\n",
              "      <td>2010-11-07</td>\n",
              "      <td>1.0</td>\n",
              "    </tr>\n",
              "    <tr>\n",
              "      <th>311</th>\n",
              "      <td>2010-11-08</td>\n",
              "      <td>1.0</td>\n",
              "    </tr>\n",
              "    <tr>\n",
              "      <th>312</th>\n",
              "      <td>2010-11-09</td>\n",
              "      <td>1.0</td>\n",
              "    </tr>\n",
              "    <tr>\n",
              "      <th>313</th>\n",
              "      <td>2010-11-10</td>\n",
              "      <td>4.0</td>\n",
              "    </tr>\n",
              "    <tr>\n",
              "      <th>314</th>\n",
              "      <td>2010-11-11</td>\n",
              "      <td>3.0</td>\n",
              "    </tr>\n",
              "  </tbody>\n",
              "</table>\n",
              "</div>\n",
              "      <button class=\"colab-df-convert\" onclick=\"convertToInteractive('df-9d6c4e14-9b43-4e29-9d3e-00acaf0c6e31')\"\n",
              "              title=\"Convert this dataframe to an interactive table.\"\n",
              "              style=\"display:none;\">\n",
              "        \n",
              "  <svg xmlns=\"http://www.w3.org/2000/svg\" height=\"24px\"viewBox=\"0 0 24 24\"\n",
              "       width=\"24px\">\n",
              "    <path d=\"M0 0h24v24H0V0z\" fill=\"none\"/>\n",
              "    <path d=\"M18.56 5.44l.94 2.06.94-2.06 2.06-.94-2.06-.94-.94-2.06-.94 2.06-2.06.94zm-11 1L8.5 8.5l.94-2.06 2.06-.94-2.06-.94L8.5 2.5l-.94 2.06-2.06.94zm10 10l.94 2.06.94-2.06 2.06-.94-2.06-.94-.94-2.06-.94 2.06-2.06.94z\"/><path d=\"M17.41 7.96l-1.37-1.37c-.4-.4-.92-.59-1.43-.59-.52 0-1.04.2-1.43.59L10.3 9.45l-7.72 7.72c-.78.78-.78 2.05 0 2.83L4 21.41c.39.39.9.59 1.41.59.51 0 1.02-.2 1.41-.59l7.78-7.78 2.81-2.81c.8-.78.8-2.07 0-2.86zM5.41 20L4 18.59l7.72-7.72 1.47 1.35L5.41 20z\"/>\n",
              "  </svg>\n",
              "      </button>\n",
              "      \n",
              "  <style>\n",
              "    .colab-df-container {\n",
              "      display:flex;\n",
              "      flex-wrap:wrap;\n",
              "      gap: 12px;\n",
              "    }\n",
              "\n",
              "    .colab-df-convert {\n",
              "      background-color: #E8F0FE;\n",
              "      border: none;\n",
              "      border-radius: 50%;\n",
              "      cursor: pointer;\n",
              "      display: none;\n",
              "      fill: #1967D2;\n",
              "      height: 32px;\n",
              "      padding: 0 0 0 0;\n",
              "      width: 32px;\n",
              "    }\n",
              "\n",
              "    .colab-df-convert:hover {\n",
              "      background-color: #E2EBFA;\n",
              "      box-shadow: 0px 1px 2px rgba(60, 64, 67, 0.3), 0px 1px 3px 1px rgba(60, 64, 67, 0.15);\n",
              "      fill: #174EA6;\n",
              "    }\n",
              "\n",
              "    [theme=dark] .colab-df-convert {\n",
              "      background-color: #3B4455;\n",
              "      fill: #D2E3FC;\n",
              "    }\n",
              "\n",
              "    [theme=dark] .colab-df-convert:hover {\n",
              "      background-color: #434B5C;\n",
              "      box-shadow: 0px 1px 3px 1px rgba(0, 0, 0, 0.15);\n",
              "      filter: drop-shadow(0px 1px 2px rgba(0, 0, 0, 0.3));\n",
              "      fill: #FFFFFF;\n",
              "    }\n",
              "  </style>\n",
              "\n",
              "      <script>\n",
              "        const buttonEl =\n",
              "          document.querySelector('#df-9d6c4e14-9b43-4e29-9d3e-00acaf0c6e31 button.colab-df-convert');\n",
              "        buttonEl.style.display =\n",
              "          google.colab.kernel.accessAllowed ? 'block' : 'none';\n",
              "\n",
              "        async function convertToInteractive(key) {\n",
              "          const element = document.querySelector('#df-9d6c4e14-9b43-4e29-9d3e-00acaf0c6e31');\n",
              "          const dataTable =\n",
              "            await google.colab.kernel.invokeFunction('convertToInteractive',\n",
              "                                                     [key], {});\n",
              "          if (!dataTable) return;\n",
              "\n",
              "          const docLinkHtml = 'Like what you see? Visit the ' +\n",
              "            '<a target=\"_blank\" href=https://colab.research.google.com/notebooks/data_table.ipynb>data table notebook</a>'\n",
              "            + ' to learn more about interactive tables.';\n",
              "          element.innerHTML = '';\n",
              "          dataTable['output_type'] = 'display_data';\n",
              "          await google.colab.output.renderOutput(dataTable, element);\n",
              "          const docLink = document.createElement('div');\n",
              "          docLink.innerHTML = docLinkHtml;\n",
              "          element.appendChild(docLink);\n",
              "        }\n",
              "      </script>\n",
              "    </div>\n",
              "  </div>\n",
              "  "
            ]
          },
          "metadata": {},
          "execution_count": 6
        }
      ]
    },
    {
      "cell_type": "code",
      "source": [
        "df.shape"
      ],
      "metadata": {
        "colab": {
          "base_uri": "https://localhost:8080/"
        },
        "id": "ad5ne8mjRmCZ",
        "outputId": "5c397cf9-cf61-4bc5-b768-aff72e84d46d"
      },
      "execution_count": 7,
      "outputs": [
        {
          "output_type": "execute_result",
          "data": {
            "text/plain": [
              "(3980, 2)"
            ]
          },
          "metadata": {},
          "execution_count": 7
        }
      ]
    },
    {
      "cell_type": "code",
      "execution_count": 8,
      "metadata": {
        "colab": {
          "base_uri": "https://localhost:8080/",
          "height": 424
        },
        "id": "piTjCiM2leh3",
        "outputId": "a34fef11-5be7-4205-ca4c-351d7d4ec0cc"
      },
      "outputs": [
        {
          "output_type": "execute_result",
          "data": {
            "text/plain": [
              "         tanggal  categori\n",
              "310   2010-11-07       1.0\n",
              "311   2010-11-08       1.0\n",
              "312   2010-11-09       1.0\n",
              "313   2010-11-10       4.0\n",
              "314   2010-11-11       3.0\n",
              "...          ...       ...\n",
              "4378  2021-12-27       3.0\n",
              "4379  2021-12-28       1.0\n",
              "4380  2021-12-29       1.0\n",
              "4381  2021-12-30       1.0\n",
              "4382  2021-12-31       1.0\n",
              "\n",
              "[3980 rows x 2 columns]"
            ],
            "text/html": [
              "\n",
              "  <div id=\"df-b2e73849-7f2b-4f4b-b5f0-b90741584dae\">\n",
              "    <div class=\"colab-df-container\">\n",
              "      <div>\n",
              "<style scoped>\n",
              "    .dataframe tbody tr th:only-of-type {\n",
              "        vertical-align: middle;\n",
              "    }\n",
              "\n",
              "    .dataframe tbody tr th {\n",
              "        vertical-align: top;\n",
              "    }\n",
              "\n",
              "    .dataframe thead th {\n",
              "        text-align: right;\n",
              "    }\n",
              "</style>\n",
              "<table border=\"1\" class=\"dataframe\">\n",
              "  <thead>\n",
              "    <tr style=\"text-align: right;\">\n",
              "      <th></th>\n",
              "      <th>tanggal</th>\n",
              "      <th>categori</th>\n",
              "    </tr>\n",
              "  </thead>\n",
              "  <tbody>\n",
              "    <tr>\n",
              "      <th>310</th>\n",
              "      <td>2010-11-07</td>\n",
              "      <td>1.0</td>\n",
              "    </tr>\n",
              "    <tr>\n",
              "      <th>311</th>\n",
              "      <td>2010-11-08</td>\n",
              "      <td>1.0</td>\n",
              "    </tr>\n",
              "    <tr>\n",
              "      <th>312</th>\n",
              "      <td>2010-11-09</td>\n",
              "      <td>1.0</td>\n",
              "    </tr>\n",
              "    <tr>\n",
              "      <th>313</th>\n",
              "      <td>2010-11-10</td>\n",
              "      <td>4.0</td>\n",
              "    </tr>\n",
              "    <tr>\n",
              "      <th>314</th>\n",
              "      <td>2010-11-11</td>\n",
              "      <td>3.0</td>\n",
              "    </tr>\n",
              "    <tr>\n",
              "      <th>...</th>\n",
              "      <td>...</td>\n",
              "      <td>...</td>\n",
              "    </tr>\n",
              "    <tr>\n",
              "      <th>4378</th>\n",
              "      <td>2021-12-27</td>\n",
              "      <td>3.0</td>\n",
              "    </tr>\n",
              "    <tr>\n",
              "      <th>4379</th>\n",
              "      <td>2021-12-28</td>\n",
              "      <td>1.0</td>\n",
              "    </tr>\n",
              "    <tr>\n",
              "      <th>4380</th>\n",
              "      <td>2021-12-29</td>\n",
              "      <td>1.0</td>\n",
              "    </tr>\n",
              "    <tr>\n",
              "      <th>4381</th>\n",
              "      <td>2021-12-30</td>\n",
              "      <td>1.0</td>\n",
              "    </tr>\n",
              "    <tr>\n",
              "      <th>4382</th>\n",
              "      <td>2021-12-31</td>\n",
              "      <td>1.0</td>\n",
              "    </tr>\n",
              "  </tbody>\n",
              "</table>\n",
              "<p>3980 rows × 2 columns</p>\n",
              "</div>\n",
              "      <button class=\"colab-df-convert\" onclick=\"convertToInteractive('df-b2e73849-7f2b-4f4b-b5f0-b90741584dae')\"\n",
              "              title=\"Convert this dataframe to an interactive table.\"\n",
              "              style=\"display:none;\">\n",
              "        \n",
              "  <svg xmlns=\"http://www.w3.org/2000/svg\" height=\"24px\"viewBox=\"0 0 24 24\"\n",
              "       width=\"24px\">\n",
              "    <path d=\"M0 0h24v24H0V0z\" fill=\"none\"/>\n",
              "    <path d=\"M18.56 5.44l.94 2.06.94-2.06 2.06-.94-2.06-.94-.94-2.06-.94 2.06-2.06.94zm-11 1L8.5 8.5l.94-2.06 2.06-.94-2.06-.94L8.5 2.5l-.94 2.06-2.06.94zm10 10l.94 2.06.94-2.06 2.06-.94-2.06-.94-.94-2.06-.94 2.06-2.06.94z\"/><path d=\"M17.41 7.96l-1.37-1.37c-.4-.4-.92-.59-1.43-.59-.52 0-1.04.2-1.43.59L10.3 9.45l-7.72 7.72c-.78.78-.78 2.05 0 2.83L4 21.41c.39.39.9.59 1.41.59.51 0 1.02-.2 1.41-.59l7.78-7.78 2.81-2.81c.8-.78.8-2.07 0-2.86zM5.41 20L4 18.59l7.72-7.72 1.47 1.35L5.41 20z\"/>\n",
              "  </svg>\n",
              "      </button>\n",
              "      \n",
              "  <style>\n",
              "    .colab-df-container {\n",
              "      display:flex;\n",
              "      flex-wrap:wrap;\n",
              "      gap: 12px;\n",
              "    }\n",
              "\n",
              "    .colab-df-convert {\n",
              "      background-color: #E8F0FE;\n",
              "      border: none;\n",
              "      border-radius: 50%;\n",
              "      cursor: pointer;\n",
              "      display: none;\n",
              "      fill: #1967D2;\n",
              "      height: 32px;\n",
              "      padding: 0 0 0 0;\n",
              "      width: 32px;\n",
              "    }\n",
              "\n",
              "    .colab-df-convert:hover {\n",
              "      background-color: #E2EBFA;\n",
              "      box-shadow: 0px 1px 2px rgba(60, 64, 67, 0.3), 0px 1px 3px 1px rgba(60, 64, 67, 0.15);\n",
              "      fill: #174EA6;\n",
              "    }\n",
              "\n",
              "    [theme=dark] .colab-df-convert {\n",
              "      background-color: #3B4455;\n",
              "      fill: #D2E3FC;\n",
              "    }\n",
              "\n",
              "    [theme=dark] .colab-df-convert:hover {\n",
              "      background-color: #434B5C;\n",
              "      box-shadow: 0px 1px 3px 1px rgba(0, 0, 0, 0.15);\n",
              "      filter: drop-shadow(0px 1px 2px rgba(0, 0, 0, 0.3));\n",
              "      fill: #FFFFFF;\n",
              "    }\n",
              "  </style>\n",
              "\n",
              "      <script>\n",
              "        const buttonEl =\n",
              "          document.querySelector('#df-b2e73849-7f2b-4f4b-b5f0-b90741584dae button.colab-df-convert');\n",
              "        buttonEl.style.display =\n",
              "          google.colab.kernel.accessAllowed ? 'block' : 'none';\n",
              "\n",
              "        async function convertToInteractive(key) {\n",
              "          const element = document.querySelector('#df-b2e73849-7f2b-4f4b-b5f0-b90741584dae');\n",
              "          const dataTable =\n",
              "            await google.colab.kernel.invokeFunction('convertToInteractive',\n",
              "                                                     [key], {});\n",
              "          if (!dataTable) return;\n",
              "\n",
              "          const docLinkHtml = 'Like what you see? Visit the ' +\n",
              "            '<a target=\"_blank\" href=https://colab.research.google.com/notebooks/data_table.ipynb>data table notebook</a>'\n",
              "            + ' to learn more about interactive tables.';\n",
              "          element.innerHTML = '';\n",
              "          dataTable['output_type'] = 'display_data';\n",
              "          await google.colab.output.renderOutput(dataTable, element);\n",
              "          const docLink = document.createElement('div');\n",
              "          docLink.innerHTML = docLinkHtml;\n",
              "          element.appendChild(docLink);\n",
              "        }\n",
              "      </script>\n",
              "    </div>\n",
              "  </div>\n",
              "  "
            ]
          },
          "metadata": {},
          "execution_count": 8
        }
      ],
      "source": [
        "df.replace({'SEDANG':2, 'BAIK':1, 'TIDAK SEHAT':3, 'SANGAT TIDAK SEHAT':4,'BERBAHAYA':5}, inplace=True)\n",
        "df.astype({\"categori\":float})\n",
        "df"
      ]
    },
    {
      "cell_type": "code",
      "source": [
        "df.dtypes"
      ],
      "metadata": {
        "colab": {
          "base_uri": "https://localhost:8080/"
        },
        "id": "5sJW8SedHZKd",
        "outputId": "837bd803-02d4-4092-b3a6-35e1e23b4982"
      },
      "execution_count": 9,
      "outputs": [
        {
          "output_type": "execute_result",
          "data": {
            "text/plain": [
              "tanggal      object\n",
              "categori    float64\n",
              "dtype: object"
            ]
          },
          "metadata": {},
          "execution_count": 9
        }
      ]
    },
    {
      "cell_type": "code",
      "execution_count": 10,
      "metadata": {
        "colab": {
          "base_uri": "https://localhost:8080/"
        },
        "id": "u_TQWYReleh4",
        "outputId": "a799f723-eefa-4826-ce84-9689ae77897f"
      },
      "outputs": [
        {
          "output_type": "execute_result",
          "data": {
            "text/plain": [
              "tanggal     datetime64[ns]\n",
              "categori           float64\n",
              "dtype: object"
            ]
          },
          "metadata": {},
          "execution_count": 10
        }
      ],
      "source": [
        "df = df.astype({\"categori\": float})\n",
        "df[\"tanggal\"] = pd.to_datetime(df.tanggal, format=\"%Y-%m-%d\")\n",
        "\n",
        "df.dtypes"
      ]
    },
    {
      "cell_type": "code",
      "execution_count": 11,
      "metadata": {
        "id": "6Vhbw90dleh5"
      },
      "outputs": [],
      "source": [
        "df.index = df['tanggal']"
      ]
    },
    {
      "cell_type": "code",
      "execution_count": 12,
      "metadata": {
        "colab": {
          "base_uri": "https://localhost:8080/",
          "height": 455
        },
        "id": "9LB-R6gIleh7",
        "outputId": "afd834f9-4a86-4f7e-d4af-b9ec48531104"
      },
      "outputs": [
        {
          "output_type": "execute_result",
          "data": {
            "text/plain": [
              "              tanggal  categori\n",
              "tanggal                        \n",
              "2010-11-07 2010-11-07       1.0\n",
              "2010-11-08 2010-11-08       1.0\n",
              "2010-11-09 2010-11-09       1.0\n",
              "2010-11-10 2010-11-10       4.0\n",
              "2010-11-11 2010-11-11       3.0\n",
              "...               ...       ...\n",
              "2021-12-27 2021-12-27       3.0\n",
              "2021-12-28 2021-12-28       1.0\n",
              "2021-12-29 2021-12-29       1.0\n",
              "2021-12-30 2021-12-30       1.0\n",
              "2021-12-31 2021-12-31       1.0\n",
              "\n",
              "[3980 rows x 2 columns]"
            ],
            "text/html": [
              "\n",
              "  <div id=\"df-46529a3a-db49-44bf-8312-aea9a9b4cc64\">\n",
              "    <div class=\"colab-df-container\">\n",
              "      <div>\n",
              "<style scoped>\n",
              "    .dataframe tbody tr th:only-of-type {\n",
              "        vertical-align: middle;\n",
              "    }\n",
              "\n",
              "    .dataframe tbody tr th {\n",
              "        vertical-align: top;\n",
              "    }\n",
              "\n",
              "    .dataframe thead th {\n",
              "        text-align: right;\n",
              "    }\n",
              "</style>\n",
              "<table border=\"1\" class=\"dataframe\">\n",
              "  <thead>\n",
              "    <tr style=\"text-align: right;\">\n",
              "      <th></th>\n",
              "      <th>tanggal</th>\n",
              "      <th>categori</th>\n",
              "    </tr>\n",
              "    <tr>\n",
              "      <th>tanggal</th>\n",
              "      <th></th>\n",
              "      <th></th>\n",
              "    </tr>\n",
              "  </thead>\n",
              "  <tbody>\n",
              "    <tr>\n",
              "      <th>2010-11-07</th>\n",
              "      <td>2010-11-07</td>\n",
              "      <td>1.0</td>\n",
              "    </tr>\n",
              "    <tr>\n",
              "      <th>2010-11-08</th>\n",
              "      <td>2010-11-08</td>\n",
              "      <td>1.0</td>\n",
              "    </tr>\n",
              "    <tr>\n",
              "      <th>2010-11-09</th>\n",
              "      <td>2010-11-09</td>\n",
              "      <td>1.0</td>\n",
              "    </tr>\n",
              "    <tr>\n",
              "      <th>2010-11-10</th>\n",
              "      <td>2010-11-10</td>\n",
              "      <td>4.0</td>\n",
              "    </tr>\n",
              "    <tr>\n",
              "      <th>2010-11-11</th>\n",
              "      <td>2010-11-11</td>\n",
              "      <td>3.0</td>\n",
              "    </tr>\n",
              "    <tr>\n",
              "      <th>...</th>\n",
              "      <td>...</td>\n",
              "      <td>...</td>\n",
              "    </tr>\n",
              "    <tr>\n",
              "      <th>2021-12-27</th>\n",
              "      <td>2021-12-27</td>\n",
              "      <td>3.0</td>\n",
              "    </tr>\n",
              "    <tr>\n",
              "      <th>2021-12-28</th>\n",
              "      <td>2021-12-28</td>\n",
              "      <td>1.0</td>\n",
              "    </tr>\n",
              "    <tr>\n",
              "      <th>2021-12-29</th>\n",
              "      <td>2021-12-29</td>\n",
              "      <td>1.0</td>\n",
              "    </tr>\n",
              "    <tr>\n",
              "      <th>2021-12-30</th>\n",
              "      <td>2021-12-30</td>\n",
              "      <td>1.0</td>\n",
              "    </tr>\n",
              "    <tr>\n",
              "      <th>2021-12-31</th>\n",
              "      <td>2021-12-31</td>\n",
              "      <td>1.0</td>\n",
              "    </tr>\n",
              "  </tbody>\n",
              "</table>\n",
              "<p>3980 rows × 2 columns</p>\n",
              "</div>\n",
              "      <button class=\"colab-df-convert\" onclick=\"convertToInteractive('df-46529a3a-db49-44bf-8312-aea9a9b4cc64')\"\n",
              "              title=\"Convert this dataframe to an interactive table.\"\n",
              "              style=\"display:none;\">\n",
              "        \n",
              "  <svg xmlns=\"http://www.w3.org/2000/svg\" height=\"24px\"viewBox=\"0 0 24 24\"\n",
              "       width=\"24px\">\n",
              "    <path d=\"M0 0h24v24H0V0z\" fill=\"none\"/>\n",
              "    <path d=\"M18.56 5.44l.94 2.06.94-2.06 2.06-.94-2.06-.94-.94-2.06-.94 2.06-2.06.94zm-11 1L8.5 8.5l.94-2.06 2.06-.94-2.06-.94L8.5 2.5l-.94 2.06-2.06.94zm10 10l.94 2.06.94-2.06 2.06-.94-2.06-.94-.94-2.06-.94 2.06-2.06.94z\"/><path d=\"M17.41 7.96l-1.37-1.37c-.4-.4-.92-.59-1.43-.59-.52 0-1.04.2-1.43.59L10.3 9.45l-7.72 7.72c-.78.78-.78 2.05 0 2.83L4 21.41c.39.39.9.59 1.41.59.51 0 1.02-.2 1.41-.59l7.78-7.78 2.81-2.81c.8-.78.8-2.07 0-2.86zM5.41 20L4 18.59l7.72-7.72 1.47 1.35L5.41 20z\"/>\n",
              "  </svg>\n",
              "      </button>\n",
              "      \n",
              "  <style>\n",
              "    .colab-df-container {\n",
              "      display:flex;\n",
              "      flex-wrap:wrap;\n",
              "      gap: 12px;\n",
              "    }\n",
              "\n",
              "    .colab-df-convert {\n",
              "      background-color: #E8F0FE;\n",
              "      border: none;\n",
              "      border-radius: 50%;\n",
              "      cursor: pointer;\n",
              "      display: none;\n",
              "      fill: #1967D2;\n",
              "      height: 32px;\n",
              "      padding: 0 0 0 0;\n",
              "      width: 32px;\n",
              "    }\n",
              "\n",
              "    .colab-df-convert:hover {\n",
              "      background-color: #E2EBFA;\n",
              "      box-shadow: 0px 1px 2px rgba(60, 64, 67, 0.3), 0px 1px 3px 1px rgba(60, 64, 67, 0.15);\n",
              "      fill: #174EA6;\n",
              "    }\n",
              "\n",
              "    [theme=dark] .colab-df-convert {\n",
              "      background-color: #3B4455;\n",
              "      fill: #D2E3FC;\n",
              "    }\n",
              "\n",
              "    [theme=dark] .colab-df-convert:hover {\n",
              "      background-color: #434B5C;\n",
              "      box-shadow: 0px 1px 3px 1px rgba(0, 0, 0, 0.15);\n",
              "      filter: drop-shadow(0px 1px 2px rgba(0, 0, 0, 0.3));\n",
              "      fill: #FFFFFF;\n",
              "    }\n",
              "  </style>\n",
              "\n",
              "      <script>\n",
              "        const buttonEl =\n",
              "          document.querySelector('#df-46529a3a-db49-44bf-8312-aea9a9b4cc64 button.colab-df-convert');\n",
              "        buttonEl.style.display =\n",
              "          google.colab.kernel.accessAllowed ? 'block' : 'none';\n",
              "\n",
              "        async function convertToInteractive(key) {\n",
              "          const element = document.querySelector('#df-46529a3a-db49-44bf-8312-aea9a9b4cc64');\n",
              "          const dataTable =\n",
              "            await google.colab.kernel.invokeFunction('convertToInteractive',\n",
              "                                                     [key], {});\n",
              "          if (!dataTable) return;\n",
              "\n",
              "          const docLinkHtml = 'Like what you see? Visit the ' +\n",
              "            '<a target=\"_blank\" href=https://colab.research.google.com/notebooks/data_table.ipynb>data table notebook</a>'\n",
              "            + ' to learn more about interactive tables.';\n",
              "          element.innerHTML = '';\n",
              "          dataTable['output_type'] = 'display_data';\n",
              "          await google.colab.output.renderOutput(dataTable, element);\n",
              "          const docLink = document.createElement('div');\n",
              "          docLink.innerHTML = docLinkHtml;\n",
              "          element.appendChild(docLink);\n",
              "        }\n",
              "      </script>\n",
              "    </div>\n",
              "  </div>\n",
              "  "
            ]
          },
          "metadata": {},
          "execution_count": 12
        }
      ],
      "source": [
        "df"
      ]
    },
    {
      "cell_type": "code",
      "source": [
        "df.describe()"
      ],
      "metadata": {
        "colab": {
          "base_uri": "https://localhost:8080/",
          "height": 300
        },
        "id": "jGKbuD_hH0x2",
        "outputId": "ddafc885-9f0b-4043-fb66-8b4a93f207ac"
      },
      "execution_count": 13,
      "outputs": [
        {
          "output_type": "execute_result",
          "data": {
            "text/plain": [
              "          categori\n",
              "count  3980.000000\n",
              "mean      1.531658\n",
              "std       0.766707\n",
              "min       1.000000\n",
              "25%       1.000000\n",
              "50%       1.000000\n",
              "75%       2.000000\n",
              "max       4.000000"
            ],
            "text/html": [
              "\n",
              "  <div id=\"df-ac1058f6-6a73-4480-b8bf-94e2445bd256\">\n",
              "    <div class=\"colab-df-container\">\n",
              "      <div>\n",
              "<style scoped>\n",
              "    .dataframe tbody tr th:only-of-type {\n",
              "        vertical-align: middle;\n",
              "    }\n",
              "\n",
              "    .dataframe tbody tr th {\n",
              "        vertical-align: top;\n",
              "    }\n",
              "\n",
              "    .dataframe thead th {\n",
              "        text-align: right;\n",
              "    }\n",
              "</style>\n",
              "<table border=\"1\" class=\"dataframe\">\n",
              "  <thead>\n",
              "    <tr style=\"text-align: right;\">\n",
              "      <th></th>\n",
              "      <th>categori</th>\n",
              "    </tr>\n",
              "  </thead>\n",
              "  <tbody>\n",
              "    <tr>\n",
              "      <th>count</th>\n",
              "      <td>3980.000000</td>\n",
              "    </tr>\n",
              "    <tr>\n",
              "      <th>mean</th>\n",
              "      <td>1.531658</td>\n",
              "    </tr>\n",
              "    <tr>\n",
              "      <th>std</th>\n",
              "      <td>0.766707</td>\n",
              "    </tr>\n",
              "    <tr>\n",
              "      <th>min</th>\n",
              "      <td>1.000000</td>\n",
              "    </tr>\n",
              "    <tr>\n",
              "      <th>25%</th>\n",
              "      <td>1.000000</td>\n",
              "    </tr>\n",
              "    <tr>\n",
              "      <th>50%</th>\n",
              "      <td>1.000000</td>\n",
              "    </tr>\n",
              "    <tr>\n",
              "      <th>75%</th>\n",
              "      <td>2.000000</td>\n",
              "    </tr>\n",
              "    <tr>\n",
              "      <th>max</th>\n",
              "      <td>4.000000</td>\n",
              "    </tr>\n",
              "  </tbody>\n",
              "</table>\n",
              "</div>\n",
              "      <button class=\"colab-df-convert\" onclick=\"convertToInteractive('df-ac1058f6-6a73-4480-b8bf-94e2445bd256')\"\n",
              "              title=\"Convert this dataframe to an interactive table.\"\n",
              "              style=\"display:none;\">\n",
              "        \n",
              "  <svg xmlns=\"http://www.w3.org/2000/svg\" height=\"24px\"viewBox=\"0 0 24 24\"\n",
              "       width=\"24px\">\n",
              "    <path d=\"M0 0h24v24H0V0z\" fill=\"none\"/>\n",
              "    <path d=\"M18.56 5.44l.94 2.06.94-2.06 2.06-.94-2.06-.94-.94-2.06-.94 2.06-2.06.94zm-11 1L8.5 8.5l.94-2.06 2.06-.94-2.06-.94L8.5 2.5l-.94 2.06-2.06.94zm10 10l.94 2.06.94-2.06 2.06-.94-2.06-.94-.94-2.06-.94 2.06-2.06.94z\"/><path d=\"M17.41 7.96l-1.37-1.37c-.4-.4-.92-.59-1.43-.59-.52 0-1.04.2-1.43.59L10.3 9.45l-7.72 7.72c-.78.78-.78 2.05 0 2.83L4 21.41c.39.39.9.59 1.41.59.51 0 1.02-.2 1.41-.59l7.78-7.78 2.81-2.81c.8-.78.8-2.07 0-2.86zM5.41 20L4 18.59l7.72-7.72 1.47 1.35L5.41 20z\"/>\n",
              "  </svg>\n",
              "      </button>\n",
              "      \n",
              "  <style>\n",
              "    .colab-df-container {\n",
              "      display:flex;\n",
              "      flex-wrap:wrap;\n",
              "      gap: 12px;\n",
              "    }\n",
              "\n",
              "    .colab-df-convert {\n",
              "      background-color: #E8F0FE;\n",
              "      border: none;\n",
              "      border-radius: 50%;\n",
              "      cursor: pointer;\n",
              "      display: none;\n",
              "      fill: #1967D2;\n",
              "      height: 32px;\n",
              "      padding: 0 0 0 0;\n",
              "      width: 32px;\n",
              "    }\n",
              "\n",
              "    .colab-df-convert:hover {\n",
              "      background-color: #E2EBFA;\n",
              "      box-shadow: 0px 1px 2px rgba(60, 64, 67, 0.3), 0px 1px 3px 1px rgba(60, 64, 67, 0.15);\n",
              "      fill: #174EA6;\n",
              "    }\n",
              "\n",
              "    [theme=dark] .colab-df-convert {\n",
              "      background-color: #3B4455;\n",
              "      fill: #D2E3FC;\n",
              "    }\n",
              "\n",
              "    [theme=dark] .colab-df-convert:hover {\n",
              "      background-color: #434B5C;\n",
              "      box-shadow: 0px 1px 3px 1px rgba(0, 0, 0, 0.15);\n",
              "      filter: drop-shadow(0px 1px 2px rgba(0, 0, 0, 0.3));\n",
              "      fill: #FFFFFF;\n",
              "    }\n",
              "  </style>\n",
              "\n",
              "      <script>\n",
              "        const buttonEl =\n",
              "          document.querySelector('#df-ac1058f6-6a73-4480-b8bf-94e2445bd256 button.colab-df-convert');\n",
              "        buttonEl.style.display =\n",
              "          google.colab.kernel.accessAllowed ? 'block' : 'none';\n",
              "\n",
              "        async function convertToInteractive(key) {\n",
              "          const element = document.querySelector('#df-ac1058f6-6a73-4480-b8bf-94e2445bd256');\n",
              "          const dataTable =\n",
              "            await google.colab.kernel.invokeFunction('convertToInteractive',\n",
              "                                                     [key], {});\n",
              "          if (!dataTable) return;\n",
              "\n",
              "          const docLinkHtml = 'Like what you see? Visit the ' +\n",
              "            '<a target=\"_blank\" href=https://colab.research.google.com/notebooks/data_table.ipynb>data table notebook</a>'\n",
              "            + ' to learn more about interactive tables.';\n",
              "          element.innerHTML = '';\n",
              "          dataTable['output_type'] = 'display_data';\n",
              "          await google.colab.output.renderOutput(dataTable, element);\n",
              "          const docLink = document.createElement('div');\n",
              "          docLink.innerHTML = docLinkHtml;\n",
              "          element.appendChild(docLink);\n",
              "        }\n",
              "      </script>\n",
              "    </div>\n",
              "  </div>\n",
              "  "
            ]
          },
          "metadata": {},
          "execution_count": 13
        }
      ]
    },
    {
      "cell_type": "code",
      "source": [
        "plt.figure(figsize = (10, 5))\n",
        "sns.boxplot(df['categori']) \n",
        "plt.annotate('Outlier', (df['categori'].describe()['max'],0.1), xytext = (df['categori'].describe()['max'],0.3), \n",
        "             arrowprops = dict(facecolor = 'blue'), fontsize = 13 ) \n",
        "\n",
        "IQR = df['categori'].describe()['75%'] - df['categori'].describe()['25%']"
      ],
      "metadata": {
        "colab": {
          "base_uri": "https://localhost:8080/",
          "height": 389
        },
        "id": "Or6CjyMdH00r",
        "outputId": "84ea7e89-d7d0-48a0-a79f-d06c3eba1e3e"
      },
      "execution_count": 14,
      "outputs": [
        {
          "output_type": "stream",
          "name": "stderr",
          "text": [
            "/usr/local/lib/python3.7/dist-packages/seaborn/_decorators.py:43: FutureWarning: Pass the following variable as a keyword arg: x. From version 0.12, the only valid positional argument will be `data`, and passing other arguments without an explicit keyword will result in an error or misinterpretation.\n",
            "  FutureWarning\n"
          ]
        },
        {
          "output_type": "display_data",
          "data": {
            "text/plain": [
              "<Figure size 720x360 with 1 Axes>"
            ],
            "image/png": "[encoded data removed]"
          },
          "metadata": {
            "needs_background": "light"
          }
        }
      ]
    },
    {
      "cell_type": "code",
      "source": [
        "def detect_outliers(df,x): \n",
        "    Q1 = df[x].describe()['25%'] \n",
        "    Q3 = df[x].describe()['75%'] \n",
        "    IQR = Q3-Q1 \n",
        "    return df[(df[x] < Q1-1.5*IQR) | (df[x] > Q3+1.5*IQR)]"
      ],
      "metadata": {
        "id": "RfTio4zOIFHF"
      },
      "execution_count": 15,
      "outputs": []
    },
    {
      "cell_type": "code",
      "source": [
        "detect_outliers(df, x ='categori')"
      ],
      "metadata": {
        "colab": {
          "base_uri": "https://localhost:8080/",
          "height": 363
        },
        "id": "tBP2NYQcIIXd",
        "outputId": "d536760f-47b9-49b5-9504-af0f95fe3656"
      },
      "execution_count": 16,
      "outputs": [
        {
          "output_type": "execute_result",
          "data": {
            "text/plain": [
              "              tanggal  categori\n",
              "tanggal                        \n",
              "2010-11-10 2010-11-10       4.0\n",
              "2010-11-18 2010-11-18       4.0\n",
              "2010-11-22 2010-11-22       4.0\n",
              "2010-12-24 2010-12-24       4.0\n",
              "2011-10-11 2011-10-11       4.0\n",
              "2011-10-12 2011-10-12       4.0\n",
              "2012-10-19 2012-10-19       4.0\n",
              "2012-10-20 2012-10-20       4.0\n",
              "2012-12-11 2012-12-11       4.0"
            ],
            "text/html": [
              "\n",
              "  <div id=\"df-9638a614-3192-4dde-986b-6dcce8e63052\">\n",
              "    <div class=\"colab-df-container\">\n",
              "      <div>\n",
              "<style scoped>\n",
              "    .dataframe tbody tr th:only-of-type {\n",
              "        vertical-align: middle;\n",
              "    }\n",
              "\n",
              "    .dataframe tbody tr th {\n",
              "        vertical-align: top;\n",
              "    }\n",
              "\n",
              "    .dataframe thead th {\n",
              "        text-align: right;\n",
              "    }\n",
              "</style>\n",
              "<table border=\"1\" class=\"dataframe\">\n",
              "  <thead>\n",
              "    <tr style=\"text-align: right;\">\n",
              "      <th></th>\n",
              "      <th>tanggal</th>\n",
              "      <th>categori</th>\n",
              "    </tr>\n",
              "    <tr>\n",
              "      <th>tanggal</th>\n",
              "      <th></th>\n",
              "      <th></th>\n",
              "    </tr>\n",
              "  </thead>\n",
              "  <tbody>\n",
              "    <tr>\n",
              "      <th>2010-11-10</th>\n",
              "      <td>2010-11-10</td>\n",
              "      <td>4.0</td>\n",
              "    </tr>\n",
              "    <tr>\n",
              "      <th>2010-11-18</th>\n",
              "      <td>2010-11-18</td>\n",
              "      <td>4.0</td>\n",
              "    </tr>\n",
              "    <tr>\n",
              "      <th>2010-11-22</th>\n",
              "      <td>2010-11-22</td>\n",
              "      <td>4.0</td>\n",
              "    </tr>\n",
              "    <tr>\n",
              "      <th>2010-12-24</th>\n",
              "      <td>2010-12-24</td>\n",
              "      <td>4.0</td>\n",
              "    </tr>\n",
              "    <tr>\n",
              "      <th>2011-10-11</th>\n",
              "      <td>2011-10-11</td>\n",
              "      <td>4.0</td>\n",
              "    </tr>\n",
              "    <tr>\n",
              "      <th>2011-10-12</th>\n",
              "      <td>2011-10-12</td>\n",
              "      <td>4.0</td>\n",
              "    </tr>\n",
              "    <tr>\n",
              "      <th>2012-10-19</th>\n",
              "      <td>2012-10-19</td>\n",
              "      <td>4.0</td>\n",
              "    </tr>\n",
              "    <tr>\n",
              "      <th>2012-10-20</th>\n",
              "      <td>2012-10-20</td>\n",
              "      <td>4.0</td>\n",
              "    </tr>\n",
              "    <tr>\n",
              "      <th>2012-12-11</th>\n",
              "      <td>2012-12-11</td>\n",
              "      <td>4.0</td>\n",
              "    </tr>\n",
              "  </tbody>\n",
              "</table>\n",
              "</div>\n",
              "      <button class=\"colab-df-convert\" onclick=\"convertToInteractive('df-9638a614-3192-4dde-986b-6dcce8e63052')\"\n",
              "              title=\"Convert this dataframe to an interactive table.\"\n",
              "              style=\"display:none;\">\n",
              "        \n",
              "  <svg xmlns=\"http://www.w3.org/2000/svg\" height=\"24px\"viewBox=\"0 0 24 24\"\n",
              "       width=\"24px\">\n",
              "    <path d=\"M0 0h24v24H0V0z\" fill=\"none\"/>\n",
              "    <path d=\"M18.56 5.44l.94 2.06.94-2.06 2.06-.94-2.06-.94-.94-2.06-.94 2.06-2.06.94zm-11 1L8.5 8.5l.94-2.06 2.06-.94-2.06-.94L8.5 2.5l-.94 2.06-2.06.94zm10 10l.94 2.06.94-2.06 2.06-.94-2.06-.94-.94-2.06-.94 2.06-2.06.94z\"/><path d=\"M17.41 7.96l-1.37-1.37c-.4-.4-.92-.59-1.43-.59-.52 0-1.04.2-1.43.59L10.3 9.45l-7.72 7.72c-.78.78-.78 2.05 0 2.83L4 21.41c.39.39.9.59 1.41.59.51 0 1.02-.2 1.41-.59l7.78-7.78 2.81-2.81c.8-.78.8-2.07 0-2.86zM5.41 20L4 18.59l7.72-7.72 1.47 1.35L5.41 20z\"/>\n",
              "  </svg>\n",
              "      </button>\n",
              "      \n",
              "  <style>\n",
              "    .colab-df-container {\n",
              "      display:flex;\n",
              "      flex-wrap:wrap;\n",
              "      gap: 12px;\n",
              "    }\n",
              "\n",
              "    .colab-df-convert {\n",
              "      background-color: #E8F0FE;\n",
              "      border: none;\n",
              "      border-radius: 50%;\n",
              "      cursor: pointer;\n",
              "      display: none;\n",
              "      fill: #1967D2;\n",
              "      height: 32px;\n",
              "      padding: 0 0 0 0;\n",
              "      width: 32px;\n",
              "    }\n",
              "\n",
              "    .colab-df-convert:hover {\n",
              "      background-color: #E2EBFA;\n",
              "      box-shadow: 0px 1px 2px rgba(60, 64, 67, 0.3), 0px 1px 3px 1px rgba(60, 64, 67, 0.15);\n",
              "      fill: #174EA6;\n",
              "    }\n",
              "\n",
              "    [theme=dark] .colab-df-convert {\n",
              "      background-color: #3B4455;\n",
              "      fill: #D2E3FC;\n",
              "    }\n",
              "\n",
              "    [theme=dark] .colab-df-convert:hover {\n",
              "      background-color: #434B5C;\n",
              "      box-shadow: 0px 1px 3px 1px rgba(0, 0, 0, 0.15);\n",
              "      filter: drop-shadow(0px 1px 2px rgba(0, 0, 0, 0.3));\n",
              "      fill: #FFFFFF;\n",
              "    }\n",
              "  </style>\n",
              "\n",
              "      <script>\n",
              "        const buttonEl =\n",
              "          document.querySelector('#df-9638a614-3192-4dde-986b-6dcce8e63052 button.colab-df-convert');\n",
              "        buttonEl.style.display =\n",
              "          google.colab.kernel.accessAllowed ? 'block' : 'none';\n",
              "\n",
              "        async function convertToInteractive(key) {\n",
              "          const element = document.querySelector('#df-9638a614-3192-4dde-986b-6dcce8e63052');\n",
              "          const dataTable =\n",
              "            await google.colab.kernel.invokeFunction('convertToInteractive',\n",
              "                                                     [key], {});\n",
              "          if (!dataTable) return;\n",
              "\n",
              "          const docLinkHtml = 'Like what you see? Visit the ' +\n",
              "            '<a target=\"_blank\" href=https://colab.research.google.com/notebooks/data_table.ipynb>data table notebook</a>'\n",
              "            + ' to learn more about interactive tables.';\n",
              "          element.innerHTML = '';\n",
              "          dataTable['output_type'] = 'display_data';\n",
              "          await google.colab.output.renderOutput(dataTable, element);\n",
              "          const docLink = document.createElement('div');\n",
              "          docLink.innerHTML = docLinkHtml;\n",
              "          element.appendChild(docLink);\n",
              "        }\n",
              "      </script>\n",
              "    </div>\n",
              "  </div>\n",
              "  "
            ]
          },
          "metadata": {},
          "execution_count": 16
        }
      ]
    },
    {
      "cell_type": "code",
      "source": [
        "df = df.drop((df[df['categori']>3.5]).index, axis=0)"
      ],
      "metadata": {
        "id": "enCFKWllIRXi"
      },
      "execution_count": 17,
      "outputs": []
    },
    {
      "cell_type": "code",
      "source": [
        "detect_outliers(df, x ='categori')"
      ],
      "metadata": {
        "colab": {
          "base_uri": "https://localhost:8080/",
          "height": 81
        },
        "id": "IQ6AAqE_IZdp",
        "outputId": "c3aed54c-0484-4065-cb51-25ae1c51234c"
      },
      "execution_count": 18,
      "outputs": [
        {
          "output_type": "execute_result",
          "data": {
            "text/plain": [
              "Empty DataFrame\n",
              "Columns: [tanggal, categori]\n",
              "Index: []"
            ],
            "text/html": [
              "\n",
              "  <div id=\"df-eba2c8b4-35bd-4ba7-a1a5-321e028761f8\">\n",
              "    <div class=\"colab-df-container\">\n",
              "      <div>\n",
              "<style scoped>\n",
              "    .dataframe tbody tr th:only-of-type {\n",
              "        vertical-align: middle;\n",
              "    }\n",
              "\n",
              "    .dataframe tbody tr th {\n",
              "        vertical-align: top;\n",
              "    }\n",
              "\n",
              "    .dataframe thead th {\n",
              "        text-align: right;\n",
              "    }\n",
              "</style>\n",
              "<table border=\"1\" class=\"dataframe\">\n",
              "  <thead>\n",
              "    <tr style=\"text-align: right;\">\n",
              "      <th></th>\n",
              "      <th>tanggal</th>\n",
              "      <th>categori</th>\n",
              "    </tr>\n",
              "    <tr>\n",
              "      <th>tanggal</th>\n",
              "      <th></th>\n",
              "      <th></th>\n",
              "    </tr>\n",
              "  </thead>\n",
              "  <tbody>\n",
              "  </tbody>\n",
              "</table>\n",
              "</div>\n",
              "      <button class=\"colab-df-convert\" onclick=\"convertToInteractive('df-eba2c8b4-35bd-4ba7-a1a5-321e028761f8')\"\n",
              "              title=\"Convert this dataframe to an interactive table.\"\n",
              "              style=\"display:none;\">\n",
              "        \n",
              "  <svg xmlns=\"http://www.w3.org/2000/svg\" height=\"24px\"viewBox=\"0 0 24 24\"\n",
              "       width=\"24px\">\n",
              "    <path d=\"M0 0h24v24H0V0z\" fill=\"none\"/>\n",
              "    <path d=\"M18.56 5.44l.94 2.06.94-2.06 2.06-.94-2.06-.94-.94-2.06-.94 2.06-2.06.94zm-11 1L8.5 8.5l.94-2.06 2.06-.94-2.06-.94L8.5 2.5l-.94 2.06-2.06.94zm10 10l.94 2.06.94-2.06 2.06-.94-2.06-.94-.94-2.06-.94 2.06-2.06.94z\"/><path d=\"M17.41 7.96l-1.37-1.37c-.4-.4-.92-.59-1.43-.59-.52 0-1.04.2-1.43.59L10.3 9.45l-7.72 7.72c-.78.78-.78 2.05 0 2.83L4 21.41c.39.39.9.59 1.41.59.51 0 1.02-.2 1.41-.59l7.78-7.78 2.81-2.81c.8-.78.8-2.07 0-2.86zM5.41 20L4 18.59l7.72-7.72 1.47 1.35L5.41 20z\"/>\n",
              "  </svg>\n",
              "      </button>\n",
              "      \n",
              "  <style>\n",
              "    .colab-df-container {\n",
              "      display:flex;\n",
              "      flex-wrap:wrap;\n",
              "      gap: 12px;\n",
              "    }\n",
              "\n",
              "    .colab-df-convert {\n",
              "      background-color: #E8F0FE;\n",
              "      border: none;\n",
              "      border-radius: 50%;\n",
              "      cursor: pointer;\n",
              "      display: none;\n",
              "      fill: #1967D2;\n",
              "      height: 32px;\n",
              "      padding: 0 0 0 0;\n",
              "      width: 32px;\n",
              "    }\n",
              "\n",
              "    .colab-df-convert:hover {\n",
              "      background-color: #E2EBFA;\n",
              "      box-shadow: 0px 1px 2px rgba(60, 64, 67, 0.3), 0px 1px 3px 1px rgba(60, 64, 67, 0.15);\n",
              "      fill: #174EA6;\n",
              "    }\n",
              "\n",
              "    [theme=dark] .colab-df-convert {\n",
              "      background-color: #3B4455;\n",
              "      fill: #D2E3FC;\n",
              "    }\n",
              "\n",
              "    [theme=dark] .colab-df-convert:hover {\n",
              "      background-color: #434B5C;\n",
              "      box-shadow: 0px 1px 3px 1px rgba(0, 0, 0, 0.15);\n",
              "      filter: drop-shadow(0px 1px 2px rgba(0, 0, 0, 0.3));\n",
              "      fill: #FFFFFF;\n",
              "    }\n",
              "  </style>\n",
              "\n",
              "      <script>\n",
              "        const buttonEl =\n",
              "          document.querySelector('#df-eba2c8b4-35bd-4ba7-a1a5-321e028761f8 button.colab-df-convert');\n",
              "        buttonEl.style.display =\n",
              "          google.colab.kernel.accessAllowed ? 'block' : 'none';\n",
              "\n",
              "        async function convertToInteractive(key) {\n",
              "          const element = document.querySelector('#df-eba2c8b4-35bd-4ba7-a1a5-321e028761f8');\n",
              "          const dataTable =\n",
              "            await google.colab.kernel.invokeFunction('convertToInteractive',\n",
              "                                                     [key], {});\n",
              "          if (!dataTable) return;\n",
              "\n",
              "          const docLinkHtml = 'Like what you see? Visit the ' +\n",
              "            '<a target=\"_blank\" href=https://colab.research.google.com/notebooks/data_table.ipynb>data table notebook</a>'\n",
              "            + ' to learn more about interactive tables.';\n",
              "          element.innerHTML = '';\n",
              "          dataTable['output_type'] = 'display_data';\n",
              "          await google.colab.output.renderOutput(dataTable, element);\n",
              "          const docLink = document.createElement('div');\n",
              "          docLink.innerHTML = docLinkHtml;\n",
              "          element.appendChild(docLink);\n",
              "        }\n",
              "      </script>\n",
              "    </div>\n",
              "  </div>\n",
              "  "
            ]
          },
          "metadata": {},
          "execution_count": 18
        }
      ]
    },
    {
      "cell_type": "code",
      "source": [
        "plt.figure(figsize = (10, 5)) \n",
        "sns.boxplot(df['categori']) \n",
        "plt.show()"
      ],
      "metadata": {
        "colab": {
          "base_uri": "https://localhost:8080/",
          "height": 389
        },
        "id": "EtwcXdbwIhMf",
        "outputId": "3a18b55a-6f1a-427f-b8c1-8c71c9714095"
      },
      "execution_count": 19,
      "outputs": [
        {
          "output_type": "stream",
          "name": "stderr",
          "text": [
            "/usr/local/lib/python3.7/dist-packages/seaborn/_decorators.py:43: FutureWarning: Pass the following variable as a keyword arg: x. From version 0.12, the only valid positional argument will be `data`, and passing other arguments without an explicit keyword will result in an error or misinterpretation.\n",
            "  FutureWarning\n"
          ]
        },
        {
          "output_type": "display_data",
          "data": {
            "text/plain": [
              "<Figure size 720x360 with 1 Axes>"
            ],
            "image/png": "[encoded data removed]"
          },
          "metadata": {
            "needs_background": "light"
          }
        }
      ]
    },
    {
      "cell_type": "code",
      "execution_count": 20,
      "metadata": {
        "colab": {
          "base_uri": "https://localhost:8080/",
          "height": 282
        },
        "id": "Yb0vXrDrleh-",
        "outputId": "2fd323d1-f14c-4424-80c8-bbf418fe0f58"
      },
      "outputs": [
        {
          "output_type": "execute_result",
          "data": {
            "text/plain": [
              "[<matplotlib.lines.Line2D at 0x7f07c295b850>]"
            ]
          },
          "metadata": {},
          "execution_count": 20
        },
        {
          "output_type": "display_data",
          "data": {
            "text/plain": [
              "<Figure size 432x288 with 1 Axes>"
            ],
            "image/png": "[encoded data removed]"
          },
          "metadata": {
            "needs_background": "light"
          }
        }
      ],
      "source": [
        "plt.plot(df[\"categori\"],label='Kategori Polusi PerHari')"
      ]
    },
    {
      "cell_type": "code",
      "execution_count": 21,
      "metadata": {
        "id": "SVgNRgB0leh-"
      },
      "outputs": [],
      "source": [
        "df_cat = df[['categori']]"
      ]
    },
    {
      "cell_type": "code",
      "execution_count": 22,
      "metadata": {
        "colab": {
          "base_uri": "https://localhost:8080/",
          "height": 282
        },
        "id": "kEWmWtgJleiA",
        "outputId": "2ccb7e94-57b7-41d8-d80a-8c144def1dd9"
      },
      "outputs": [
        {
          "output_type": "execute_result",
          "data": {
            "text/plain": [
              "[<matplotlib.lines.Line2D at 0x7f07c296e790>]"
            ]
          },
          "metadata": {},
          "execution_count": 22
        },
        {
          "output_type": "display_data",
          "data": {
            "text/plain": [
              "<Figure size 432x288 with 1 Axes>"
            ],
            "image/png": "[encoded data removed]"
          },
          "metadata": {
            "needs_background": "light"
          }
        }
      ],
      "source": [
        "df_cat_val = df_cat.values\n",
        "plt.plot(df_cat_val)"
      ]
    },
    {
      "cell_type": "code",
      "execution_count": 23,
      "metadata": {
        "id": "oU_NNWhcleiB"
      },
      "outputs": [],
      "source": [
        "#Using MinMaxScaler for normalizing data between 0 & 1\n",
        "normalizer = MinMaxScaler(feature_range=(0,1))\n",
        "df_scaled = normalizer.fit_transform(np.array(df_cat_val).reshape(-1,1))"
      ]
    },
    {
      "cell_type": "code",
      "execution_count": 24,
      "metadata": {
        "colab": {
          "base_uri": "https://localhost:8080/"
        },
        "id": "mzirhHeyleiB",
        "outputId": "d4e53d44-1f7f-440b-beea-55ffc01f00fb"
      },
      "outputs": [
        {
          "output_type": "execute_result",
          "data": {
            "text/plain": [
              "(3971, 3971)"
            ]
          },
          "metadata": {},
          "execution_count": 24
        }
      ],
      "source": [
        "len(df_scaled), len(df_cat_val)"
      ]
    },
    {
      "cell_type": "code",
      "execution_count": 25,
      "metadata": {
        "id": "BOB_aqU6leiB"
      },
      "outputs": [],
      "source": [
        "#Defining test and train data sizes\n",
        "train_size = int(len(df_scaled)*0.80)\n",
        "test_size = len(df_scaled) - train_size"
      ]
    },
    {
      "cell_type": "code",
      "execution_count": 26,
      "metadata": {
        "colab": {
          "base_uri": "https://localhost:8080/"
        },
        "id": "XGpq31WnleiC",
        "outputId": "0b198b44-f05d-4853-ffa6-69489c077adf"
      },
      "outputs": [
        {
          "output_type": "execute_result",
          "data": {
            "text/plain": [
              "(3176, 795)"
            ]
          },
          "metadata": {},
          "execution_count": 26
        }
      ],
      "source": [
        "train_size,test_size"
      ]
    },
    {
      "cell_type": "code",
      "execution_count": 27,
      "metadata": {
        "id": "tn_FROfgleiD"
      },
      "outputs": [],
      "source": [
        "#Splitting data between train and test\n",
        "df_train, df_test = df_scaled[0:train_size,:], df_scaled[train_size:len(df_scaled),:1]"
      ]
    },
    {
      "cell_type": "code",
      "execution_count": 28,
      "metadata": {
        "colab": {
          "base_uri": "https://localhost:8080/"
        },
        "id": "MhIX0xCJleiE",
        "outputId": "09093b02-8f00-495e-e414-2e988b679a46"
      },
      "outputs": [
        {
          "output_type": "execute_result",
          "data": {
            "text/plain": [
              "(3176, 795)"
            ]
          },
          "metadata": {},
          "execution_count": 28
        }
      ],
      "source": [
        "len(df_train),len(df_test)"
      ]
    },
    {
      "cell_type": "code",
      "execution_count": 29,
      "metadata": {
        "id": "ZVqzYHZbleiF"
      },
      "outputs": [],
      "source": [
        "#creating dataset in time series for LSTM model \n",
        "def new_ds(dataset,step):\n",
        "    Xtrain, Ytrain = [], []\n",
        "    for i in range(len(dataset)-step-1):\n",
        "        a = dataset[i:(i+step), 0]\n",
        "        Xtrain.append(a)\n",
        "        Ytrain.append(dataset[i + step, 0])\n",
        "    return np.array(Xtrain), np.array(Ytrain)"
      ]
    },
    {
      "cell_type": "code",
      "execution_count": 30,
      "metadata": {
        "id": "3mTBAdGoleiG"
      },
      "outputs": [],
      "source": [
        "time_stamp = 100\n",
        "X_train, y_train = new_ds(df_train,time_stamp)\n",
        "X_test, y_test = new_ds(df_test,time_stamp)"
      ]
    },
    {
      "cell_type": "code",
      "execution_count": 31,
      "metadata": {
        "colab": {
          "base_uri": "https://localhost:8080/"
        },
        "id": "jQ8WOL5zleiH",
        "outputId": "e4992c24-d509-4703-c6d4-f10038a4b23e"
      },
      "outputs": [
        {
          "output_type": "execute_result",
          "data": {
            "text/plain": [
              "((3075, 100), (3075,))"
            ]
          },
          "metadata": {},
          "execution_count": 31
        }
      ],
      "source": [
        "X_train.shape,y_train.shape"
      ]
    },
    {
      "cell_type": "code",
      "execution_count": 32,
      "metadata": {
        "colab": {
          "base_uri": "https://localhost:8080/"
        },
        "id": "NrPnTREqleiH",
        "outputId": "9a2b35e1-a9b8-4dd5-aae6-dde3d19055c7"
      },
      "outputs": [
        {
          "output_type": "execute_result",
          "data": {
            "text/plain": [
              "((694, 100), (694,))"
            ]
          },
          "metadata": {},
          "execution_count": 32
        }
      ],
      "source": [
        "X_test.shape, y_test.shape"
      ]
    },
    {
      "cell_type": "code",
      "execution_count": 33,
      "metadata": {
        "id": "CSFrURJCleiI"
      },
      "outputs": [],
      "source": [
        "#Reshaping data to fit into LSTM model\n",
        "X_train = X_train.reshape(X_train.shape[0],X_train.shape[1] , 1)\n",
        "X_test = X_test.reshape(X_test.shape[0],X_test.shape[1] , 1)"
      ]
    },
    {
      "cell_type": "code",
      "source": [
        "# create and fit the LSTM network\n",
        "model = tf.keras.Sequential()\n",
        "model.add(tf.keras.layers.LSTM(50, return_sequences = True, input_shape = (X_train.shape[1], 1)))\n",
        "model.add(tf.keras.layers.Dropout(0.2)) \n",
        "model.add(tf.keras.layers.LSTM(50, return_sequences = True))\n",
        "model.add(tf.keras.layers.Dropout(0.2)) \n",
        "model.add(tf.keras.layers.LSTM(50))\n",
        "model.add(tf.keras.layers.Dense(1, activation='linear'))\n",
        "\n",
        "model.summary()"
      ],
      "metadata": {
        "colab": {
          "base_uri": "https://localhost:8080/"
        },
        "id": "Iodk3jE0bead",
        "outputId": "65bac6c7-0bd8-4ffb-a609-b4e92d842d3a"
      },
      "execution_count": 34,
      "outputs": [
        {
          "output_type": "stream",
          "name": "stdout",
          "text": [
            "Model: \"sequential\"\n",
            "_________________________________________________________________\n",
            " Layer (type)                Output Shape              Param #   \n",
            "=================================================================\n",
            " lstm (LSTM)                 (None, 100, 50)           10400     \n",
            "                                                                 \n",
            " dropout (Dropout)           (None, 100, 50)           0         \n",
            "                                                                 \n",
            " lstm_1 (LSTM)               (None, 100, 50)           20200     \n",
            "                                                                 \n",
            " dropout_1 (Dropout)         (None, 100, 50)           0         \n",
            "                                                                 \n",
            " lstm_2 (LSTM)               (None, 50)                20200     \n",
            "                                                                 \n",
            " dense (Dense)               (None, 1)                 51        \n",
            "                                                                 \n",
            "=================================================================\n",
            "Total params: 50,851\n",
            "Trainable params: 50,851\n",
            "Non-trainable params: 0\n",
            "_________________________________________________________________\n"
          ]
        }
      ]
    },
    {
      "cell_type": "code",
      "execution_count": 35,
      "metadata": {
        "colab": {
          "base_uri": "https://localhost:8080/"
        },
        "id": "my62TeR1leiJ",
        "outputId": "a8183053-f2d1-47b8-9947-c6389b14d29f"
      },
      "outputs": [
        {
          "output_type": "stream",
          "name": "stdout",
          "text": [
            "Epoch 1/150\n",
            "34/34 [==============================] - 14s 244ms/step - loss: 0.1376 - val_loss: 0.1813\n",
            "Epoch 2/150\n",
            "34/34 [==============================] - 7s 200ms/step - loss: 0.1319 - val_loss: 0.1789\n",
            "Epoch 3/150\n",
            "34/34 [==============================] - 7s 198ms/step - loss: 0.1320 - val_loss: 0.1781\n",
            "Epoch 4/150\n",
            "34/34 [==============================] - 7s 202ms/step - loss: 0.1323 - val_loss: 0.1784\n",
            "Epoch 5/150\n",
            "34/34 [==============================] - 7s 204ms/step - loss: 0.1318 - val_loss: 0.1771\n",
            "Epoch 6/150\n",
            "34/34 [==============================] - 7s 201ms/step - loss: 0.1309 - val_loss: 0.1780\n",
            "Epoch 7/150\n",
            "34/34 [==============================] - 7s 201ms/step - loss: 0.1302 - val_loss: 0.1785\n",
            "Epoch 8/150\n",
            "34/34 [==============================] - 7s 203ms/step - loss: 0.1310 - val_loss: 0.1771\n",
            "Epoch 9/150\n",
            "34/34 [==============================] - 7s 202ms/step - loss: 0.1302 - val_loss: 0.1766\n",
            "Epoch 10/150\n",
            "34/34 [==============================] - 7s 202ms/step - loss: 0.1313 - val_loss: 0.1764\n",
            "Epoch 11/150\n",
            "34/34 [==============================] - 7s 201ms/step - loss: 0.1312 - val_loss: 0.1790\n",
            "Epoch 12/150\n",
            "34/34 [==============================] - 8s 235ms/step - loss: 0.1308 - val_loss: 0.1773\n",
            "Epoch 13/150\n",
            "34/34 [==============================] - 7s 201ms/step - loss: 0.1305 - val_loss: 0.1769\n",
            "Epoch 14/150\n",
            "34/34 [==============================] - 7s 220ms/step - loss: 0.1301 - val_loss: 0.1768\n",
            "Epoch 15/150\n",
            "34/34 [==============================] - 8s 233ms/step - loss: 0.1304 - val_loss: 0.1766\n",
            "Epoch 16/150\n",
            "34/34 [==============================] - 7s 203ms/step - loss: 0.1301 - val_loss: 0.1772\n",
            "Epoch 17/150\n",
            "34/34 [==============================] - 7s 204ms/step - loss: 0.1294 - val_loss: 0.1770\n",
            "Epoch 18/150\n",
            "34/34 [==============================] - 7s 202ms/step - loss: 0.1288 - val_loss: 0.1772\n",
            "Epoch 19/150\n",
            "34/34 [==============================] - 7s 202ms/step - loss: 0.1294 - val_loss: 0.1764\n",
            "Epoch 20/150\n",
            "34/34 [==============================] - 7s 201ms/step - loss: 0.1283 - val_loss: 0.1778\n",
            "Epoch 21/150\n",
            "34/34 [==============================] - 7s 201ms/step - loss: 0.1278 - val_loss: 0.1763\n",
            "Epoch 22/150\n",
            "34/34 [==============================] - 7s 201ms/step - loss: 0.1276 - val_loss: 0.1756\n",
            "Epoch 23/150\n",
            "34/34 [==============================] - 7s 203ms/step - loss: 0.1269 - val_loss: 0.1744\n",
            "Epoch 24/150\n",
            "34/34 [==============================] - 7s 202ms/step - loss: 0.1265 - val_loss: 0.1742\n",
            "Epoch 25/150\n",
            "34/34 [==============================] - 7s 203ms/step - loss: 0.1278 - val_loss: 0.1740\n",
            "Epoch 26/150\n",
            "34/34 [==============================] - 7s 201ms/step - loss: 0.1266 - val_loss: 0.1743\n",
            "Epoch 27/150\n",
            "34/34 [==============================] - 7s 199ms/step - loss: 0.1252 - val_loss: 0.1742\n",
            "Epoch 28/150\n",
            "34/34 [==============================] - 7s 201ms/step - loss: 0.1269 - val_loss: 0.1742\n",
            "Epoch 29/150\n",
            "34/34 [==============================] - 7s 201ms/step - loss: 0.1260 - val_loss: 0.1734\n",
            "Epoch 30/150\n",
            "34/34 [==============================] - 7s 202ms/step - loss: 0.1253 - val_loss: 0.1735\n",
            "Epoch 31/150\n",
            "34/34 [==============================] - 7s 201ms/step - loss: 0.1251 - val_loss: 0.1748\n",
            "Epoch 32/150\n",
            "34/34 [==============================] - 7s 202ms/step - loss: 0.1252 - val_loss: 0.1746\n",
            "Epoch 33/150\n",
            "34/34 [==============================] - 7s 201ms/step - loss: 0.1259 - val_loss: 0.1738\n",
            "Epoch 34/150\n",
            "34/34 [==============================] - 8s 232ms/step - loss: 0.1253 - val_loss: 0.1733\n",
            "Epoch 35/150\n",
            "34/34 [==============================] - 7s 200ms/step - loss: 0.1251 - val_loss: 0.1740\n",
            "Epoch 36/150\n",
            "34/34 [==============================] - 7s 203ms/step - loss: 0.1258 - val_loss: 0.1750\n",
            "Epoch 37/150\n",
            "34/34 [==============================] - 7s 203ms/step - loss: 0.1257 - val_loss: 0.1742\n",
            "Epoch 38/150\n",
            "34/34 [==============================] - 7s 200ms/step - loss: 0.1246 - val_loss: 0.1740\n",
            "Epoch 39/150\n",
            "34/34 [==============================] - 7s 203ms/step - loss: 0.1244 - val_loss: 0.1752\n",
            "Epoch 40/150\n",
            "34/34 [==============================] - 7s 200ms/step - loss: 0.1255 - val_loss: 0.1741\n",
            "Epoch 41/150\n",
            "34/34 [==============================] - 7s 201ms/step - loss: 0.1254 - val_loss: 0.1740\n",
            "Epoch 42/150\n",
            "34/34 [==============================] - 7s 200ms/step - loss: 0.1261 - val_loss: 0.1751\n",
            "Epoch 43/150\n",
            "34/34 [==============================] - 7s 201ms/step - loss: 0.1251 - val_loss: 0.1737\n",
            "Epoch 44/150\n",
            "34/34 [==============================] - 7s 201ms/step - loss: 0.1246 - val_loss: 0.1763\n",
            "Epoch 45/150\n",
            "34/34 [==============================] - 7s 201ms/step - loss: 0.1253 - val_loss: 0.1746\n",
            "Epoch 46/150\n",
            "34/34 [==============================] - 7s 203ms/step - loss: 0.1251 - val_loss: 0.1740\n",
            "Epoch 47/150\n",
            "34/34 [==============================] - 7s 203ms/step - loss: 0.1238 - val_loss: 0.1760\n",
            "Epoch 48/150\n",
            "34/34 [==============================] - 7s 201ms/step - loss: 0.1242 - val_loss: 0.1752\n",
            "Epoch 49/150\n",
            "34/34 [==============================] - 7s 200ms/step - loss: 0.1237 - val_loss: 0.1791\n",
            "Epoch 50/150\n",
            "34/34 [==============================] - 7s 202ms/step - loss: 0.1244 - val_loss: 0.1743\n",
            "Epoch 51/150\n",
            "34/34 [==============================] - 7s 202ms/step - loss: 0.1253 - val_loss: 0.1737\n",
            "Epoch 52/150\n",
            "34/34 [==============================] - 7s 202ms/step - loss: 0.1242 - val_loss: 0.1763\n",
            "Epoch 53/150\n",
            "34/34 [==============================] - 7s 202ms/step - loss: 0.1257 - val_loss: 0.1750\n",
            "Epoch 54/150\n",
            "34/34 [==============================] - 7s 202ms/step - loss: 0.1243 - val_loss: 0.1756\n",
            "Epoch 55/150\n",
            "34/34 [==============================] - 7s 203ms/step - loss: 0.1246 - val_loss: 0.1746\n",
            "Epoch 56/150\n",
            "34/34 [==============================] - 7s 202ms/step - loss: 0.1244 - val_loss: 0.1746\n",
            "Epoch 57/150\n",
            "34/34 [==============================] - 7s 202ms/step - loss: 0.1235 - val_loss: 0.1757\n",
            "Epoch 58/150\n",
            "34/34 [==============================] - 7s 203ms/step - loss: 0.1240 - val_loss: 0.1769\n",
            "Epoch 59/150\n",
            "34/34 [==============================] - 7s 204ms/step - loss: 0.1240 - val_loss: 0.1745\n",
            "Epoch 60/150\n",
            "34/34 [==============================] - 7s 202ms/step - loss: 0.1228 - val_loss: 0.1803\n",
            "Epoch 61/150\n",
            "34/34 [==============================] - 7s 201ms/step - loss: 0.1237 - val_loss: 0.1785\n",
            "Epoch 62/150\n",
            "34/34 [==============================] - 7s 204ms/step - loss: 0.1241 - val_loss: 0.1766\n",
            "Epoch 63/150\n",
            "34/34 [==============================] - 7s 204ms/step - loss: 0.1237 - val_loss: 0.1769\n",
            "Epoch 64/150\n",
            "34/34 [==============================] - 7s 205ms/step - loss: 0.1227 - val_loss: 0.1768\n",
            "Epoch 65/150\n",
            "34/34 [==============================] - 7s 205ms/step - loss: 0.1231 - val_loss: 0.1770\n",
            "Epoch 66/150\n",
            "34/34 [==============================] - 7s 201ms/step - loss: 0.1224 - val_loss: 0.1774\n",
            "Epoch 67/150\n",
            "34/34 [==============================] - 7s 204ms/step - loss: 0.1234 - val_loss: 0.1772\n",
            "Epoch 68/150\n",
            "34/34 [==============================] - 7s 205ms/step - loss: 0.1231 - val_loss: 0.1815\n",
            "Epoch 69/150\n",
            "34/34 [==============================] - 7s 203ms/step - loss: 0.1223 - val_loss: 0.1776\n",
            "Epoch 70/150\n",
            "34/34 [==============================] - 7s 202ms/step - loss: 0.1224 - val_loss: 0.1810\n",
            "Epoch 71/150\n",
            "34/34 [==============================] - 7s 202ms/step - loss: 0.1220 - val_loss: 0.1804\n",
            "Epoch 72/150\n",
            "34/34 [==============================] - 7s 200ms/step - loss: 0.1221 - val_loss: 0.1766\n",
            "Epoch 73/150\n",
            "34/34 [==============================] - 7s 202ms/step - loss: 0.1210 - val_loss: 0.1859\n",
            "Epoch 74/150\n",
            "34/34 [==============================] - 7s 201ms/step - loss: 0.1217 - val_loss: 0.1828\n",
            "Epoch 75/150\n",
            "34/34 [==============================] - 7s 202ms/step - loss: 0.1229 - val_loss: 0.1751\n",
            "Epoch 76/150\n",
            "34/34 [==============================] - 7s 201ms/step - loss: 0.1224 - val_loss: 0.1762\n",
            "Epoch 77/150\n",
            "34/34 [==============================] - 7s 201ms/step - loss: 0.1207 - val_loss: 0.1807\n",
            "Epoch 78/150\n",
            "34/34 [==============================] - 7s 201ms/step - loss: 0.1216 - val_loss: 0.1829\n",
            "Epoch 79/150\n",
            "34/34 [==============================] - 7s 201ms/step - loss: 0.1204 - val_loss: 0.1797\n",
            "Epoch 80/150\n",
            "34/34 [==============================] - 7s 200ms/step - loss: 0.1202 - val_loss: 0.1820\n",
            "Epoch 81/150\n",
            "34/34 [==============================] - 7s 201ms/step - loss: 0.1189 - val_loss: 0.1853\n",
            "Epoch 82/150\n",
            "34/34 [==============================] - 8s 232ms/step - loss: 0.1199 - val_loss: 0.1839\n",
            "Epoch 83/150\n",
            "34/34 [==============================] - 7s 202ms/step - loss: 0.1192 - val_loss: 0.1842\n",
            "Epoch 84/150\n",
            "34/34 [==============================] - 7s 202ms/step - loss: 0.1189 - val_loss: 0.1868\n",
            "Epoch 85/150\n",
            "34/34 [==============================] - 7s 203ms/step - loss: 0.1183 - val_loss: 0.1882\n",
            "Epoch 86/150\n",
            "34/34 [==============================] - 7s 201ms/step - loss: 0.1190 - val_loss: 0.1864\n",
            "Epoch 87/150\n",
            "34/34 [==============================] - 7s 202ms/step - loss: 0.1202 - val_loss: 0.1837\n",
            "Epoch 88/150\n",
            "34/34 [==============================] - 7s 201ms/step - loss: 0.1163 - val_loss: 0.1880\n",
            "Epoch 89/150\n",
            "34/34 [==============================] - 7s 199ms/step - loss: 0.1188 - val_loss: 0.1865\n",
            "Epoch 90/150\n",
            "34/34 [==============================] - 7s 201ms/step - loss: 0.1175 - val_loss: 0.1849\n",
            "Epoch 91/150\n",
            "34/34 [==============================] - 7s 202ms/step - loss: 0.1163 - val_loss: 0.1925\n",
            "Epoch 92/150\n",
            "34/34 [==============================] - 7s 201ms/step - loss: 0.1181 - val_loss: 0.1852\n",
            "Epoch 93/150\n",
            "34/34 [==============================] - 7s 201ms/step - loss: 0.1162 - val_loss: 0.1880\n",
            "Epoch 94/150\n",
            "34/34 [==============================] - 7s 201ms/step - loss: 0.1153 - val_loss: 0.1884\n",
            "Epoch 95/150\n",
            "34/34 [==============================] - 7s 200ms/step - loss: 0.1144 - val_loss: 0.1943\n",
            "Epoch 96/150\n",
            "34/34 [==============================] - 7s 202ms/step - loss: 0.1160 - val_loss: 0.1870\n",
            "Epoch 97/150\n",
            "34/34 [==============================] - 7s 202ms/step - loss: 0.1153 - val_loss: 0.1962\n",
            "Epoch 98/150\n",
            "34/34 [==============================] - 7s 202ms/step - loss: 0.1149 - val_loss: 0.1930\n",
            "Epoch 99/150\n",
            "34/34 [==============================] - 7s 204ms/step - loss: 0.1144 - val_loss: 0.1925\n",
            "Epoch 100/150\n",
            "34/34 [==============================] - 7s 206ms/step - loss: 0.1126 - val_loss: 0.1989\n",
            "Epoch 101/150\n",
            "34/34 [==============================] - 7s 206ms/step - loss: 0.1130 - val_loss: 0.2019\n",
            "Epoch 102/150\n",
            "34/34 [==============================] - 7s 204ms/step - loss: 0.1108 - val_loss: 0.1967\n",
            "Epoch 103/150\n",
            "34/34 [==============================] - 7s 206ms/step - loss: 0.1124 - val_loss: 0.1998\n",
            "Epoch 104/150\n",
            "34/34 [==============================] - 7s 204ms/step - loss: 0.1105 - val_loss: 0.1984\n",
            "Epoch 105/150\n",
            "34/34 [==============================] - 7s 204ms/step - loss: 0.1109 - val_loss: 0.2023\n",
            "Epoch 106/150\n",
            "34/34 [==============================] - 7s 204ms/step - loss: 0.1099 - val_loss: 0.1976\n",
            "Epoch 107/150\n",
            "34/34 [==============================] - 7s 202ms/step - loss: 0.1092 - val_loss: 0.2006\n",
            "Epoch 108/150\n",
            "34/34 [==============================] - 7s 204ms/step - loss: 0.1118 - val_loss: 0.1907\n",
            "Epoch 109/150\n",
            "34/34 [==============================] - 7s 202ms/step - loss: 0.1111 - val_loss: 0.1944\n",
            "Epoch 110/150\n",
            "34/34 [==============================] - 7s 201ms/step - loss: 0.1101 - val_loss: 0.1999\n",
            "Epoch 111/150\n",
            "34/34 [==============================] - 7s 204ms/step - loss: 0.1066 - val_loss: 0.2010\n",
            "Epoch 112/150\n",
            "34/34 [==============================] - 7s 203ms/step - loss: 0.1074 - val_loss: 0.2055\n",
            "Epoch 113/150\n",
            "34/34 [==============================] - 7s 200ms/step - loss: 0.1076 - val_loss: 0.2010\n",
            "Epoch 114/150\n",
            "34/34 [==============================] - 7s 202ms/step - loss: 0.1081 - val_loss: 0.2025\n",
            "Epoch 115/150\n",
            "34/34 [==============================] - 7s 203ms/step - loss: 0.1051 - val_loss: 0.1999\n",
            "Epoch 116/150\n",
            "34/34 [==============================] - 7s 203ms/step - loss: 0.1060 - val_loss: 0.2033\n",
            "Epoch 117/150\n",
            "34/34 [==============================] - 7s 204ms/step - loss: 0.1034 - val_loss: 0.2143\n",
            "Epoch 118/150\n",
            "34/34 [==============================] - 7s 202ms/step - loss: 0.1046 - val_loss: 0.2148\n",
            "Epoch 119/150\n",
            "34/34 [==============================] - 7s 203ms/step - loss: 0.1026 - val_loss: 0.2083\n",
            "Epoch 120/150\n",
            "34/34 [==============================] - 7s 205ms/step - loss: 0.1035 - val_loss: 0.2131\n",
            "Epoch 121/150\n",
            "34/34 [==============================] - 7s 203ms/step - loss: 0.1016 - val_loss: 0.2146\n",
            "Epoch 122/150\n",
            "34/34 [==============================] - 7s 203ms/step - loss: 0.0997 - val_loss: 0.2163\n",
            "Epoch 123/150\n",
            "34/34 [==============================] - 7s 204ms/step - loss: 0.1013 - val_loss: 0.2069\n",
            "Epoch 124/150\n",
            "34/34 [==============================] - 7s 203ms/step - loss: 0.1005 - val_loss: 0.2141\n",
            "Epoch 125/150\n",
            "34/34 [==============================] - 7s 204ms/step - loss: 0.0997 - val_loss: 0.2164\n",
            "Epoch 126/150\n",
            "34/34 [==============================] - 7s 204ms/step - loss: 0.1010 - val_loss: 0.2182\n",
            "Epoch 127/150\n",
            "34/34 [==============================] - 7s 209ms/step - loss: 0.0982 - val_loss: 0.2079\n",
            "Epoch 128/150\n",
            "34/34 [==============================] - 8s 232ms/step - loss: 0.0985 - val_loss: 0.2127\n",
            "Epoch 129/150\n",
            "34/34 [==============================] - 7s 205ms/step - loss: 0.0977 - val_loss: 0.2168\n",
            "Epoch 130/150\n",
            "34/34 [==============================] - 7s 202ms/step - loss: 0.0964 - val_loss: 0.2181\n",
            "Epoch 131/150\n",
            "34/34 [==============================] - 7s 204ms/step - loss: 0.0958 - val_loss: 0.2214\n",
            "Epoch 132/150\n",
            "34/34 [==============================] - 7s 204ms/step - loss: 0.0940 - val_loss: 0.2120\n",
            "Epoch 133/150\n",
            "34/34 [==============================] - 7s 205ms/step - loss: 0.0924 - val_loss: 0.2211\n",
            "Epoch 134/150\n",
            "34/34 [==============================] - 7s 206ms/step - loss: 0.0900 - val_loss: 0.2341\n",
            "Epoch 135/150\n",
            "34/34 [==============================] - 7s 205ms/step - loss: 0.0901 - val_loss: 0.2300\n",
            "Epoch 136/150\n",
            "34/34 [==============================] - 7s 204ms/step - loss: 0.0899 - val_loss: 0.2271\n",
            "Epoch 137/150\n",
            "34/34 [==============================] - 7s 203ms/step - loss: 0.0900 - val_loss: 0.2274\n",
            "Epoch 138/150\n",
            "34/34 [==============================] - 7s 204ms/step - loss: 0.0876 - val_loss: 0.2272\n",
            "Epoch 139/150\n",
            "34/34 [==============================] - 7s 202ms/step - loss: 0.0870 - val_loss: 0.2372\n",
            "Epoch 140/150\n",
            "34/34 [==============================] - 7s 205ms/step - loss: 0.0865 - val_loss: 0.2412\n",
            "Epoch 141/150\n",
            "34/34 [==============================] - 7s 202ms/step - loss: 0.0881 - val_loss: 0.2367\n",
            "Epoch 142/150\n",
            "34/34 [==============================] - 7s 201ms/step - loss: 0.0866 - val_loss: 0.2330\n",
            "Epoch 143/150\n",
            "34/34 [==============================] - 7s 203ms/step - loss: 0.0855 - val_loss: 0.2428\n",
            "Epoch 144/150\n",
            "34/34 [==============================] - 7s 204ms/step - loss: 0.0830 - val_loss: 0.2412\n",
            "Epoch 145/150\n",
            "34/34 [==============================] - 7s 203ms/step - loss: 0.0845 - val_loss: 0.2478\n",
            "Epoch 146/150\n",
            "34/34 [==============================] - 7s 204ms/step - loss: 0.0831 - val_loss: 0.2362\n",
            "Epoch 147/150\n",
            "34/34 [==============================] - 7s 203ms/step - loss: 0.0799 - val_loss: 0.2453\n",
            "Epoch 148/150\n",
            "34/34 [==============================] - 7s 204ms/step - loss: 0.0783 - val_loss: 0.2589\n",
            "Epoch 149/150\n",
            "34/34 [==============================] - 12s 347ms/step - loss: 0.0765 - val_loss: 0.2524\n",
            "Epoch 150/150\n",
            "34/34 [==============================] - 11s 319ms/step - loss: 0.0777 - val_loss: 0.2645\n"
          ]
        }
      ],
      "source": [
        "#Training model with adam optimizer and mean squared error loss function\n",
        "optimizer = tf.keras.optimizers.Adam(learning_rate=0.001)\n",
        "model.compile(loss='mse',optimizer=optimizer)\n",
        "history = model.fit(\n",
        "    X_train,y_train,\n",
        "    validation_data=(X_test,y_test),\n",
        "    epochs=150,\n",
        "    batch_size=64,\n",
        "    validation_split=0.3,\n",
        "    verbose=1,\n",
        "    )"
      ]
    },
    {
      "cell_type": "code",
      "source": [
        "# Convert the model.\n",
        "import pathlib\n",
        "\n",
        "export_dir = 'saved_model/1'\n",
        "tf.saved_model.save(model, export_dir)\n",
        "\n",
        "converter = tf.lite.TFLiteConverter.from_saved_model(export_dir)\n",
        "\n",
        "converter.target_spec.supported_ops = [\n",
        "  tf.lite.OpsSet.TFLITE_BUILTINS, # enable TensorFlow Lite ops.\n",
        "  tf.lite.OpsSet.SELECT_TF_OPS # enable TensorFlow ops.\n",
        "]\n",
        "tflite_model = converter.convert()"
      ],
      "metadata": {
        "colab": {
          "base_uri": "https://localhost:8080/"
        },
        "id": "DKzXf35xHiIF",
        "outputId": "e444834f-bb96-4392-c7db-8f4742689a6d"
      },
      "execution_count": 36,
      "outputs": [
        {
          "output_type": "stream",
          "name": "stderr",
          "text": [
            "WARNING:absl:Found untraced functions such as lstm_cell_layer_call_fn, lstm_cell_layer_call_and_return_conditional_losses, lstm_cell_1_layer_call_fn, lstm_cell_1_layer_call_and_return_conditional_losses, lstm_cell_2_layer_call_fn while saving (showing 5 of 6). These functions will not be directly callable after loading.\n"
          ]
        },
        {
          "output_type": "stream",
          "name": "stdout",
          "text": [
            "INFO:tensorflow:Assets written to: saved_model/1/assets\n"
          ]
        },
        {
          "output_type": "stream",
          "name": "stderr",
          "text": [
            "INFO:tensorflow:Assets written to: saved_model/1/assets\n",
            "WARNING:absl:Buffer deduplication procedure will be skipped when flatbuffer library is not properly loaded\n"
          ]
        }
      ]
    },
    {
      "cell_type": "code",
      "source": [
        "tflite_model_file = pathlib.Path('model.tflite')\n",
        "tflite_model_file.write_bytes(tflite_model)"
      ],
      "metadata": {
        "colab": {
          "base_uri": "https://localhost:8080/"
        },
        "id": "MBlOhhvjHk5I",
        "outputId": "bb568fe9-43c9-458f-d9a7-b28b1f2fcd40"
      },
      "execution_count": 37,
      "outputs": [
        {
          "output_type": "execute_result",
          "data": {
            "text/plain": [
              "227864"
            ]
          },
          "metadata": {},
          "execution_count": 37
        }
      ]
    },
    {
      "cell_type": "code",
      "source": [
        "# Load TFLite model and allocate tensors.\n",
        "interpreter = tf.lite.Interpreter(model_content=tflite_model)\n",
        "interpreter.allocate_tensors()\n",
        "\n",
        "# Get input and output tensors.\n",
        "input_details = interpreter.get_input_details()\n",
        "output_details = interpreter.get_output_details()"
      ],
      "metadata": {
        "id": "GN5U2knvHntr"
      },
      "execution_count": 38,
      "outputs": []
    },
    {
      "cell_type": "code",
      "execution_count": 39,
      "metadata": {
        "colab": {
          "base_uri": "https://localhost:8080/",
          "height": 284
        },
        "id": "qMmkh35hleiK",
        "outputId": "6e24a463-1b1c-44cb-941f-2abf74503672"
      },
      "outputs": [
        {
          "output_type": "execute_result",
          "data": {
            "text/plain": [
              "[<matplotlib.lines.Line2D at 0x7f07b97a7150>]"
            ]
          },
          "metadata": {},
          "execution_count": 39
        },
        {
          "output_type": "display_data",
          "data": {
            "text/plain": [
              "<Figure size 432x288 with 1 Axes>"
            ],
            "image/png": "[encoded data removed]"
          },
          "metadata": {
            "needs_background": "light"
          }
        }
      ],
      "source": [
        "#PLotting loss, it shows that loss has decreased significantly and model trained well\n",
        "loss = model.history.history['loss']\n",
        "plt.plot(loss)"
      ]
    },
    {
      "cell_type": "code",
      "execution_count": 40,
      "metadata": {
        "id": "CVbk-AcOleiK"
      },
      "outputs": [],
      "source": [
        "#Predicitng on train and test data\n",
        "train_predict = model.predict(X_train)\n",
        "test_predict = model.predict(X_test)"
      ]
    },
    {
      "cell_type": "code",
      "execution_count": 41,
      "metadata": {
        "id": "X5knBt-bleiL"
      },
      "outputs": [],
      "source": [
        "#Inverse transform to get actual value\n",
        "train_predict = normalizer.inverse_transform(train_predict)\n",
        "test_predict = normalizer.inverse_transform(test_predict)"
      ]
    },
    {
      "cell_type": "code",
      "execution_count": 42,
      "metadata": {
        "colab": {
          "base_uri": "https://localhost:8080/",
          "height": 282
        },
        "id": "3pkeowaRleiL",
        "outputId": "0e29c0f8-35af-473b-fc6b-7407e4a4817e"
      },
      "outputs": [
        {
          "output_type": "execute_result",
          "data": {
            "text/plain": [
              "[<matplotlib.lines.Line2D at 0x7f07b8785b10>]"
            ]
          },
          "metadata": {},
          "execution_count": 42
        },
        {
          "output_type": "display_data",
          "data": {
            "text/plain": [
              "<Figure size 432x288 with 1 Axes>"
            ],
            "image/png": "[encoded data removed]"
          },
          "metadata": {
            "needs_background": "light"
          }
        }
      ],
      "source": [
        "#Comparing using visuals\n",
        "plt.plot(normalizer.inverse_transform(df_scaled))\n",
        "plt.plot(train_predict) #Orange Training\n",
        "plt.plot(test_predict) #Green Testing"
      ]
    },
    {
      "cell_type": "code",
      "execution_count": 43,
      "metadata": {
        "id": "aVuUNeOKleiL",
        "colab": {
          "base_uri": "https://localhost:8080/"
        },
        "outputId": "4d89b845-749b-4ec5-ed48-eb513f9e2435"
      },
      "outputs": [
        {
          "output_type": "execute_result",
          "data": {
            "text/plain": [
              "numpy.ndarray"
            ]
          },
          "metadata": {},
          "execution_count": 43
        }
      ],
      "source": [
        "type(train_predict)"
      ]
    },
    {
      "cell_type": "code",
      "execution_count": 44,
      "metadata": {
        "id": "7fxYv4vhleiL"
      },
      "outputs": [],
      "source": [
        "test = np.vstack((train_predict,test_predict))"
      ]
    },
    {
      "cell_type": "code",
      "execution_count": 45,
      "metadata": {
        "id": "yPX8nlf7leiL",
        "colab": {
          "base_uri": "https://localhost:8080/",
          "height": 282
        },
        "outputId": "d221eda2-b665-4ab5-8226-4bdbda4aee08"
      },
      "outputs": [
        {
          "output_type": "execute_result",
          "data": {
            "text/plain": [
              "[<matplotlib.lines.Line2D at 0x7f07ba29aa50>]"
            ]
          },
          "metadata": {},
          "execution_count": 45
        },
        {
          "output_type": "display_data",
          "data": {
            "text/plain": [
              "<Figure size 432x288 with 1 Axes>"
            ],
            "image/png": "[encoded data removed]"
          },
          "metadata": {
            "needs_background": "light"
          }
        }
      ],
      "source": [
        "#Combining the predited data to create uniform data visualization\n",
        "plt.plot(normalizer.inverse_transform(df_scaled))\n",
        "plt.plot(test)"
      ]
    },
    {
      "cell_type": "code",
      "execution_count": 46,
      "metadata": {
        "id": "HVAgcrdzleiM",
        "colab": {
          "base_uri": "https://localhost:8080/"
        },
        "outputId": "3336d936-f0ef-4854-faaf-a4bcba6c1f6c"
      },
      "outputs": [
        {
          "output_type": "execute_result",
          "data": {
            "text/plain": [
              "795"
            ]
          },
          "metadata": {},
          "execution_count": 46
        }
      ],
      "source": [
        "len(df_test)"
      ]
    },
    {
      "cell_type": "code",
      "execution_count": 47,
      "metadata": {
        "id": "lBjcWihnleiN",
        "colab": {
          "base_uri": "https://localhost:8080/"
        },
        "outputId": "b9c1d93c-ee7d-4cd3-aa64-988dbd78bae5"
      },
      "outputs": [
        {
          "output_type": "execute_result",
          "data": {
            "text/plain": [
              "(1, 100)"
            ]
          },
          "metadata": {},
          "execution_count": 47
        }
      ],
      "source": [
        "#Getting the last 100 days records\n",
        "fut_inp = df_test[len(df_test)-100:]\n",
        "fut_inp = fut_inp.reshape(1,-1)\n",
        "\n",
        "fut_inp.shape"
      ]
    },
    {
      "cell_type": "code",
      "execution_count": 48,
      "metadata": {
        "id": "GCSPTQfvleiN"
      },
      "outputs": [],
      "source": [
        "#Creating list of the last 100 data\n",
        "tmp_inp = list(fut_inp)\n",
        "tmp_inp = tmp_inp[0].tolist()"
      ]
    },
    {
      "cell_type": "code",
      "execution_count": 49,
      "metadata": {
        "id": "qkBwY0RFleiP",
        "colab": {
          "base_uri": "https://localhost:8080/"
        },
        "outputId": "2b588d46-724c-4268-d956-5bc0018ea339"
      },
      "outputs": [
        {
          "output_type": "stream",
          "name": "stdout",
          "text": [
            "Difference is 159 days\n"
          ]
        }
      ],
      "source": [
        "from datetime import datetime\n",
        "\n",
        "# Predicting from last date of dataset untill today\n",
        "date_dataset = '2021/12/31'\n",
        "date_today = '2022/06/08'\n",
        "\n",
        "# convert string to date object\n",
        "d1 = datetime.strptime(date_dataset, \"%Y/%m/%d\")\n",
        "d2 = datetime.strptime(date_today, \"%Y/%m/%d\")\n",
        "\n",
        "# difference between dates in timedelta\n",
        "delta = d2 - d1\n",
        "delta = int(delta.days)\n",
        "print(f'Difference is {delta} days')"
      ]
    },
    {
      "cell_type": "code",
      "execution_count": 50,
      "metadata": {
        "id": "Ptv9yATHleiP",
        "colab": {
          "base_uri": "https://localhost:8080/"
        },
        "outputId": "d7f5b7bb-d050-404e-a056-2e475a0ed968"
      },
      "outputs": [
        {
          "output_type": "stream",
          "name": "stdout",
          "text": [
            "[[-0.02522159367799759], [-0.02184411883354187], [-0.025062762200832367], [-0.03926675766706467], [-0.061850085854530334], [-0.08351324498653412], [-0.09274522960186005], [-0.08068771660327911], [-0.05149155110120773], [-0.010781943798065186], [0.031180959194898605], [0.06584537029266357], [0.09247088432312012], [0.12009581923484802], [0.1592801809310913], [0.21001723408699036], [0.26227664947509766], [0.3025646507740021], [0.3168850839138031], [0.2896422743797302], [0.25066980719566345], [0.21962307393550873], [0.1898878812789917], [0.14898812770843506], [0.15633416175842285], [0.18576180934906006], [0.22758014500141144], [0.2828327417373657], [0.331163227558136], [0.3483063876628876], [0.3482411801815033], [0.3649173080921173], [0.37515223026275635], [0.35593292117118835], [0.3682705760002136], [0.39778584241867065], [0.4119637906551361], [0.4519335627555847], [0.5285847187042236], [0.5694471597671509], [0.5069203972816467], [0.4374135434627533], [0.42508846521377563], [0.39019301533699036], [0.3385874032974243], [0.304174542427063], [0.2694718837738037], [0.2417042851448059], [0.22530807554721832], [0.218999445438385], [0.22294405102729797], [0.2335236817598343], [0.24665269255638123], [0.2589227557182312], [0.26718953251838684], [0.26854270696640015], [0.26103389263153076], [0.24592165648937225], [0.23033060133457184], [0.22753429412841797], [0.252668559551239], [0.3144039511680603], [0.40887030959129333], [0.5238578915596008], [0.6319718956947327], [0.6967294812202454], [0.7004720568656921], [0.6721508502960205], [0.6385867595672607], [0.6096770763397217], [0.612766444683075], [0.6089850068092346], [0.5759376287460327], [0.5307384729385376], [0.4914565980434418], [0.46443822979927063], [0.45074209570884705], [0.44775712490081787], [0.45979589223861694], [0.48274165391921997], [0.49677395820617676], [0.46032285690307617], [0.3801938593387604], [0.31841713190078735], [0.2794848680496216], [0.25599750876426697], [0.28098899126052856], [0.35570457577705383], [0.4606737494468689], [0.5419456958770752], [0.5575933456420898], [0.5362565517425537], [0.5452547073364258], [0.5887898206710815], [0.5977917313575745], [0.5733880400657654], [0.5619868040084839], [0.5791539549827576], [0.5967848896980286], [0.5942868590354919], [0.5745362639427185], [0.5513597726821899], [0.5339847803115845], [0.5260616540908813], [0.5249453783035278], [0.5231763124465942], [0.5080874562263489], [0.47885021567344666], [0.4475986063480377], [0.4288662075996399], [0.41502436995506287], [0.387433797121048], [0.3421454131603241], [0.30015861988067627], [0.2817293703556061], [0.28916430473327637], [0.3093077540397644], [0.3281519412994385], [0.3394872844219208], [0.34487053751945496], [0.3474361300468445], [0.34740087389945984], [0.3445912003517151], [0.3416452407836914], [0.34313639998435974], [0.35280436277389526], [0.3699079751968384], [0.3877504765987396], [0.3985331952571869], [0.4013916552066803], [0.4030302166938782], [0.4104185998439789], [0.42485690116882324], [0.44260889291763306], [0.4589790403842926], [0.47103822231292725], [0.47800901532173157], [0.4804858863353729], [0.4793151915073395], [0.47535061836242676], [0.4702165126800537], [0.4649035334587097], [0.4593777358531952], [0.4535539746284485], [0.44721755385398865], [0.44033369421958923], [0.43298274278640747], [0.4252145290374756], [0.4169293940067291], [0.4079042375087738], [0.3978899121284485], [0.38677334785461426], [0.37466636300086975], [0.361899197101593], [0.34890031814575195], [0.3360706865787506], [0.32375025749206543], [0.312295138835907], [0.3021586537361145]]\n"
          ]
        }
      ],
      "source": [
        "#Predicting next 30 days price suing the current data\n",
        "#It will predict in sliding window manner (algorithm) with stride 1\n",
        "lst_output=[]\n",
        "i=0\n",
        "while(i<delta):\n",
        "    \n",
        "    if(len(tmp_inp)>100):\n",
        "        fut_inp = np.array(tmp_inp[1:])\n",
        "        fut_inp=fut_inp.reshape(1,-1)\n",
        "        fut_inp = fut_inp.reshape((1, time_stamp, 1))\n",
        "        yhat = model.predict(fut_inp, verbose=0)\n",
        "        tmp_inp.extend(yhat[0].tolist())\n",
        "        tmp_inp = tmp_inp[1:]\n",
        "        lst_output.extend(yhat.tolist())\n",
        "        i=i+1\n",
        "    else:\n",
        "        fut_inp = fut_inp.reshape((1, time_stamp,1))\n",
        "        yhat = model.predict(fut_inp, verbose=0)\n",
        "        tmp_inp.extend(yhat[0].tolist())\n",
        "        lst_output.extend(yhat.tolist())\n",
        "        i=i+1\n",
        "    \n",
        "\n",
        "print(lst_output)"
      ]
    },
    {
      "cell_type": "code",
      "execution_count": 51,
      "metadata": {
        "id": "NwvxsuEzleiP",
        "colab": {
          "base_uri": "https://localhost:8080/"
        },
        "outputId": "19c2279e-e828-4063-e992-cdb00694825e"
      },
      "outputs": [
        {
          "output_type": "stream",
          "name": "stdout",
          "text": [
            "Polusi = Baik ke Sedang\n"
          ]
        }
      ],
      "source": [
        "hasil = normalizer.inverse_transform(lst_output)\n",
        "hasil = np.array(hasil)\n",
        "hasil = hasil[-1]\n",
        "hasil_float = hasil.astype(np.float32)\n",
        "polusi = int(hasil_float)\n",
        "\n",
        "# df.replace({'SEDANG':2, 'BAIK':1, 'TIDAK SEHAT':3, 'SANGAT TIDAK SEHAT':4,'BERBAHAYA':5}, inplace=True)\n",
        "\n",
        "if polusi >= 1 and polusi < 2:\n",
        "    print(\"Polusi = Baik ke Sedang\")\n",
        "elif polusi >= 2 and polusi < 3:\n",
        "    print(\"Polusi = Sedang ke Tidak Sehat, Pakailah Maskerr !! \")\n",
        "elif polusi >= 3 and polusi < 4:\n",
        "    print(\"Polusi = Tidak Sehat, Pakailah Maskerr !!\")\n",
        "elif polusi >= 4 and polusi < 5:\n",
        "    print(\"Polusi = Sangat Tidak Sehat, Pakailah Maskerr !!\")\n",
        "elif polusi >= 5:\n",
        "    print(\"Polusi = Berbahaya, Pakailah Maskerr !!\")\n"
      ]
    },
    {
      "cell_type": "code",
      "execution_count": 52,
      "metadata": {
        "id": "rCkR645AleiQ",
        "colab": {
          "base_uri": "https://localhost:8080/"
        },
        "outputId": "8ed53a0a-2b97-4e00-c256-6960b71d5623"
      },
      "outputs": [
        {
          "output_type": "execute_result",
          "data": {
            "text/plain": [
              "3971"
            ]
          },
          "metadata": {},
          "execution_count": 52
        }
      ],
      "source": [
        "len(df_scaled)"
      ]
    },
    {
      "cell_type": "code",
      "execution_count": 53,
      "metadata": {
        "id": "493ZUJlGleiQ"
      },
      "outputs": [],
      "source": [
        "#Creating a dummy plane to plot graph one after another\n",
        "plot_new=np.arange(1,time_stamp+1)\n",
        "plot_pred=np.arange(time_stamp+1,time_stamp+1+delta)"
      ]
    },
    {
      "cell_type": "code",
      "execution_count": 54,
      "metadata": {
        "id": "LhzbG6bqleiQ",
        "colab": {
          "base_uri": "https://localhost:8080/",
          "height": 282
        },
        "outputId": "873bc2b7-89bc-46b4-bb68-d6e185bf224c"
      },
      "outputs": [
        {
          "output_type": "execute_result",
          "data": {
            "text/plain": [
              "[<matplotlib.lines.Line2D at 0x7f07ba3cca50>]"
            ]
          },
          "metadata": {},
          "execution_count": 54
        },
        {
          "output_type": "display_data",
          "data": {
            "text/plain": [
              "<Figure size 432x288 with 1 Axes>"
            ],
            "image/png": "[encoded data removed]"
          },
          "metadata": {
            "needs_background": "light"
          }
        }
      ],
      "source": [
        "plt.plot(plot_new, normalizer.inverse_transform(df_scaled[len(df_scaled)-time_stamp:]))\n",
        "plt.plot(plot_pred, normalizer.inverse_transform(lst_output))"
      ]
    },
    {
      "cell_type": "code",
      "execution_count": 55,
      "metadata": {
        "id": "o8KUfceIleiR"
      },
      "outputs": [],
      "source": [
        "df_new = df_scaled.tolist()"
      ]
    },
    {
      "cell_type": "code",
      "execution_count": 56,
      "metadata": {
        "id": "v3gBMKdUleiS",
        "colab": {
          "base_uri": "https://localhost:8080/"
        },
        "outputId": "388089a0-d8cc-43ac-fe3e-fc94fa027994"
      },
      "outputs": [
        {
          "output_type": "execute_result",
          "data": {
            "text/plain": [
              "3971"
            ]
          },
          "metadata": {},
          "execution_count": 56
        }
      ],
      "source": [
        "len(df_new)"
      ]
    },
    {
      "cell_type": "code",
      "execution_count": 57,
      "metadata": {
        "id": "DGM27914leiS",
        "colab": {
          "base_uri": "https://localhost:8080/",
          "height": 282
        },
        "outputId": "f311a8fb-e6d0-47cf-c6c3-1a85a54efbc1"
      },
      "outputs": [
        {
          "output_type": "execute_result",
          "data": {
            "text/plain": [
              "[<matplotlib.lines.Line2D at 0x7f07b9570050>]"
            ]
          },
          "metadata": {},
          "execution_count": 57
        },
        {
          "output_type": "display_data",
          "data": {
            "text/plain": [
              "<Figure size 432x288 with 1 Axes>"
            ],
            "image/png": "[encoded data removed]"
          },
          "metadata": {
            "needs_background": "light"
          }
        }
      ],
      "source": [
        "#Entends helps us to fill the missing value with approx value\n",
        "df_new.extend(lst_output)\n",
        "plt.plot(df_new[1200:])"
      ]
    },
    {
      "cell_type": "code",
      "execution_count": 58,
      "metadata": {
        "id": "4MMr7Vx4leiS"
      },
      "outputs": [],
      "source": [
        "#Creating final data for plotting\n",
        "final_graph = normalizer.inverse_transform(df_new).tolist()"
      ]
    },
    {
      "cell_type": "code",
      "execution_count": 59,
      "metadata": {
        "id": "uSRhAsFzleiT",
        "colab": {
          "base_uri": "https://localhost:8080/",
          "height": 330
        },
        "outputId": "0ff2da8b-9003-4e14-a58a-d1f6638cec80"
      },
      "outputs": [
        {
          "output_type": "stream",
          "name": "stderr",
          "text": [
            "WARNING:matplotlib.legend:No handles with labels found to put in legend.\n"
          ]
        },
        {
          "output_type": "execute_result",
          "data": {
            "text/plain": [
              "<matplotlib.legend.Legend at 0x7f07ba011a10>"
            ]
          },
          "metadata": {},
          "execution_count": 59
        },
        {
          "output_type": "display_data",
          "data": {
            "text/plain": [
              "<Figure size 432x288 with 1 Axes>"
            ],
            "image/png": "[encoded data removed]"
          },
          "metadata": {
            "needs_background": "light"
          }
        }
      ],
      "source": [
        "#Plotting final results with predicted value till today\n",
        "plt.plot(final_graph,)\n",
        "plt.ylabel(\"Categori\")\n",
        "plt.xlabel(\"Tanggal\")\n",
        "plt.title(\"Prediction of untill today\")\n",
        "plt.legend()"
      ]
    }
  ],
  "metadata": {
    "interpreter": {
      "hash": "8d3239b25ededd7d9b1a1fa3bd2e049ae98e52b15a9d9529dc2638ca6ba1baef"
    },
    "kernelspec": {
      "display_name": "Python 3.8.8 ('base')",
      "language": "python",
      "name": "python3"
    },
    "language_info": {
      "codemirror_mode": {
        "name": "ipython",
        "version": 3
      },
      "file_extension": ".py",
      "mimetype": "text/x-python",
      "name": "python",
      "nbconvert_exporter": "python",
      "pygments_lexer": "ipython3",
      "version": "3.9.12"
    },
    "orig_nbformat": 4,
    "colab": {
      "name": "modeling LSTM, non knn data, act linear.ipynb",
      "provenance": [],
      "collapsed_sections": []
    }
  },
  "nbformat": 4,
  "nbformat_minor": 0
}